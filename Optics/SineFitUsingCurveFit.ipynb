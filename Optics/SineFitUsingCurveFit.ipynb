{
  "nbformat": 4,
  "nbformat_minor": 0,
  "metadata": {
    "colab": {
      "private_outputs": true,
      "provenance": [],
      "authorship_tag": "ABX9TyMsP3bHi8qQItJuN95HXMJ2",
      "include_colab_link": true
    },
    "kernelspec": {
      "name": "python3",
      "display_name": "Python 3"
    },
    "language_info": {
      "name": "python"
    }
  },
  "cells": [
    {
      "cell_type": "markdown",
      "metadata": {
        "id": "view-in-github",
        "colab_type": "text"
      },
      "source": [
        "<a href=\"https://colab.research.google.com/github/veillette/jupyterNotebooks/blob/main/Optics/SineFitUsingCurveFit.ipynb\" target=\"_parent\"><img src=\"https://colab.research.google.com/assets/colab-badge.svg\" alt=\"Open In Colab\"/></a>"
      ]
    },
    {
      "cell_type": "markdown",
      "source": [
        "This notebook will demonstrate how to use the scipy.optimize.curve_fit function to fit a sine curve to data.\n",
        "\n",
        "The scipy.optimize.curve_fit function is a powerful tool for fitting curves to data. It can be used to fit a wide variety of curves, including sine curves.\n",
        "\n",
        "The scipy.optimize.curve_fit function takes three arguments:\n",
        "\n",
        "- f: The function that you want to fit to the data.\n",
        "- xdata: The x-values of the data.\n",
        "- ydata: The y-values of the data.\n",
        "\n",
        "The f argument can be any callable function that takes a single argument and returns a single value. The xdata and ydata arguments must be arrays of the same length.\n",
        "\n",
        "The scipy.optimize.curve_fit function returns two values:\n",
        "\n",
        "- popt: The optimal parameters for the curve.\n",
        "- pcov: The covariance matrix of the parameters.\n",
        "\n",
        "The popt array contains the values of the parameters that best fit the data. The pcov matrix contains the covariance of the parameters. The covariance matrix can be used to determine the uncertainty of the parameters.\n",
        "\n",
        "Once you have the optimal parameters, you can use them to plot the fitted curve."
      ],
      "metadata": {
        "id": "XxG5kydxCShu"
      }
    },
    {
      "cell_type": "code",
      "execution_count": null,
      "metadata": {
        "id": "BIYC62OwNEu2"
      },
      "outputs": [],
      "source": [
        "# Import libraries\n",
        "import numpy as np\n",
        "import matplotlib.pyplot as plt\n",
        "from scipy.optimize import curve_fit"
      ]
    },
    {
      "cell_type": "markdown",
      "source": [
        "Create some data for the x and y arrays"
      ],
      "metadata": {
        "id": "R9m1WqmxC7N_"
      }
    },
    {
      "cell_type": "code",
      "source": [
        "x = np.array([0,1,2,3,4,5,6,7,8])"
      ],
      "metadata": {
        "id": "G8S9qHg9NL6E"
      },
      "execution_count": null,
      "outputs": []
    },
    {
      "cell_type": "code",
      "source": [
        "y = np.array([0.4,1.9,1.5,0.2,-1.6,-1.8,-0.4,1.4,1.9])"
      ],
      "metadata": {
        "id": "FqAjisxQNpdx"
      },
      "execution_count": null,
      "outputs": []
    },
    {
      "cell_type": "markdown",
      "source": [
        "Check that the data fields have the same length. Noticed the double equality sign, which indicates that this is a conditional. It will return true or false."
      ],
      "metadata": {
        "id": "GoafjEUjDDDg"
      }
    },
    {
      "cell_type": "code",
      "source": [
        "# Sanity Check\n",
        "len(x)==len(y)"
      ],
      "metadata": {
        "id": "au4ClQhGNzt_"
      },
      "execution_count": null,
      "outputs": []
    },
    {
      "cell_type": "markdown",
      "source": [
        "For your information, a sanity check is a quick and simple check that is performed to ensure that something is working as expected. Sanity checks are used to help identify problems early in the development process, which can save time and effort in the long run."
      ],
      "metadata": {
        "id": "TGsYakEQExTm"
      }
    },
    {
      "cell_type": "markdown",
      "source": [
        "Plot the data to see that it looks like a sinusoidal function."
      ],
      "metadata": {
        "id": "Yfe4LLCaDXhW"
      }
    },
    {
      "cell_type": "code",
      "source": [
        "plt.plot(x,y,'r+')\n",
        "plt.show()"
      ],
      "metadata": {
        "id": "MWE5YqXMDWZu"
      },
      "execution_count": null,
      "outputs": []
    },
    {
      "cell_type": "markdown",
      "source": [
        "In order to carry out our fit, we need to define a callable function that takes a single argument and returns a single value. This is our fit function. For our purposes, let's pick\n",
        "\n",
        "$$y(x) = A \\sin ( k x) $$\n",
        "\n",
        "where $A$, and $k$ are our fitting parameters."
      ],
      "metadata": {
        "id": "Au-FyKEODRxk"
      }
    },
    {
      "cell_type": "code",
      "source": [
        "# Let's define a fitting function, with a name, ay myFit\n",
        "# Note that it is crucial that the first argument of the claasble function be your independent variable, in our case x.\n",
        "# The other argument of the function must be your fitting parameters, in our case A and k.\n",
        "# CurveFit will return the optimized values in the order of the fitting function, so A first and k second for our case.\n",
        "\n",
        "def myFit(x, A, k):\n",
        "  return A* np.sin( k*x )"
      ],
      "metadata": {
        "id": "FrR6ASrxN33X"
      },
      "execution_count": null,
      "outputs": []
    },
    {
      "cell_type": "markdown",
      "source": [
        "Looking at our graph above, we can already guess that $A$ should be approximately 2 and $k$ should be about 1 (since the function has a period of $2\\pi$"
      ],
      "metadata": {
        "id": "JvhfN2GeIGN0"
      }
    },
    {
      "cell_type": "markdown",
      "source": [
        "A pretty common mistake is to define a fitting function that does not evaluate to a number\n",
        "Let's assignig random values to x, A and k, and see that myFit outputs a number as expected."
      ],
      "metadata": {
        "id": "nzIobt3yIdz8"
      }
    },
    {
      "cell_type": "code",
      "source": [
        "# Sanity check\n",
        "myFit(3,1.1,0.3)"
      ],
      "metadata": {
        "id": "MJIfjNvwOIiK"
      },
      "execution_count": null,
      "outputs": []
    },
    {
      "cell_type": "markdown",
      "source": [
        "Now we are ready to perform the fit.\n",
        "\n",
        "The purpose of curve fitting is to find the parameters of a function that best fit a set of data points. The scipy.optimize.curve_fit function takes three parameters.\n",
        "\n",
        "the first parameter is the function that defines the model or curve you want to fit to your data. The curve_fit function will try to adjust the parameters of this function to minimize the difference between the predicted values of the function and the actual data points.\n",
        "\n",
        "The second and third parameters are arrays or lists containing the independent and dependent variables respectively. In other words, x represents the input data, while y represents the corresponding output data that you want to fit the curve to.\n",
        "\n",
        "The scipy.optimize.curve_fit function returns two values:\n",
        "\n",
        "- The optimal parameters for the curve.\n",
        "- The covariance matrix of the parameters.\n",
        "\n",
        "You can name these two values anything, you want but I like to use explicit names."
      ],
      "metadata": {
        "id": "xGIB1X7-IofV"
      }
    },
    {
      "cell_type": "code",
      "source": [
        "optimalParameters, covarianceMatrix = curve_fit(myFit, x, y)"
      ],
      "metadata": {
        "id": "YbDSo5wXOLrx"
      },
      "execution_count": null,
      "outputs": []
    },
    {
      "cell_type": "markdown",
      "source": [
        "In case the fit fails or error out, the initial guess parameters are suggested values that are close to the actual parameters of the function you're trying to fit. These guesses give the optimization algorithm a good starting point to converge to the optimal solution.\n",
        "For our case, good initial guess parameters would be A=2 and k=1.\n",
        "\n",
        "The p0 parameter is an optional argument for the curve_fit function.\n",
        "It takes an array of initial guess parameters. So, we will create an array ``guess=[2,1]``\n",
        "containing the initial guesses for A and k.\n",
        "\n",
        "We then need to apply p0 in curve_fit:\n",
        "```\n",
        "optimalParameters, covarianceMatrix = curve_fit(myFit, x, y, po=guess)\n",
        "```\n",
        "By providing the initial guess parameters, you're guiding the curve fitting process, potentially helping it converge to a better solution."
      ],
      "metadata": {
        "id": "0dx2tbWiFRfN"
      }
    },
    {
      "cell_type": "code",
      "source": [
        "print(optimalParameters)"
      ],
      "metadata": {
        "id": "V4EbIr2EQJdm"
      },
      "execution_count": null,
      "outputs": []
    },
    {
      "cell_type": "markdown",
      "source": [
        "One better way to access the values is to *destructure* the data. This is a useful trick to know."
      ],
      "metadata": {
        "id": "ksiCHLcdJfIE"
      }
    },
    {
      "cell_type": "code",
      "source": [
        "ABest, kBest = optimalParameters\n",
        "print( 'After, the fit we find that the optimal values for A and k are the following:')\n",
        "print( 'A is ', ABest)\n",
        "print( 'k is ', kBest)"
      ],
      "metadata": {
        "id": "TOnQsdlUJ49E"
      },
      "execution_count": null,
      "outputs": []
    },
    {
      "cell_type": "markdown",
      "source": [
        "Here is a better way to present the data, which is useful to know. The f formatting option can be used to limit the number of significant figures or decimal places for any numeric type."
      ],
      "metadata": {
        "id": "G1279GrbJx5e"
      }
    },
    {
      "cell_type": "code",
      "source": [
        "print(f'A is equal to {ABest:.2f}, whereas k is equal to {kBest:.2f}')"
      ],
      "metadata": {
        "id": "nYHLzAmUOdH9"
      },
      "execution_count": null,
      "outputs": []
    },
    {
      "cell_type": "markdown",
      "source": [
        "One neat aspect of curve_fit and that it yields the undertainties of the best fit parameters.\n",
        "\n",
        "I will not go into the details, so you can blindly follow the method below."
      ],
      "metadata": {
        "id": "cOY-0-nWMwkH"
      }
    },
    {
      "cell_type": "code",
      "source": [
        "# Calculate the standard deviation of the parameters\n",
        "std_dev = np.sqrt(np.diag(covarianceMatrix))\n",
        "print(\"Show the standard deviation (A.K.A. error) of the two fitting parameters, A and k\")\n",
        "print(std_dev)"
      ],
      "metadata": {
        "id": "0feCwTewNUeP"
      },
      "execution_count": null,
      "outputs": []
    },
    {
      "cell_type": "code",
      "source": [
        "A_std_dev, k_std_dev = std_dev\n",
        "\n",
        "print(f'A is equal to {ABest:.2f} +/- {A_std_dev:.2f} whereas k is equal to {kBest:.2f} +/- {k_std_dev:.2f}')"
      ],
      "metadata": {
        "id": "faJI2jBuNiBD"
      },
      "execution_count": null,
      "outputs": []
    },
    {
      "cell_type": "markdown",
      "source": [
        "In theory, we are done, but it is neat to show the graph of the data with the best fit line.\n",
        "\n",
        "Let's create a best fit line with that, with a 100 points ranging from xmin =0 to xmax =9."
      ],
      "metadata": {
        "id": "2w5fQmE0LTjp"
      }
    },
    {
      "cell_type": "code",
      "source": [
        "xLine = np.linspace(0,9,100)\n",
        "#print(xLine)\n",
        "\n",
        "# now we need the y values, with the optimal A and k parameters.\n",
        "# We use the broadcasting properties for the x values, which will return an array of y values.\n",
        "yLine= myFit(xLine,ABest,kBest)\n",
        "#print(yLine)"
      ],
      "metadata": {
        "id": "fSOLPuJUOzqV"
      },
      "execution_count": null,
      "outputs": []
    },
    {
      "cell_type": "code",
      "source": [],
      "metadata": {
        "id": "XSZY9CcCL6OA"
      },
      "execution_count": null,
      "outputs": []
    },
    {
      "cell_type": "markdown",
      "source": [
        "Let's show the two plots on the same graph."
      ],
      "metadata": {
        "id": "lfz6eLMDL6po"
      }
    },
    {
      "cell_type": "code",
      "source": [
        "plt.plot(x,y,'r+')\n",
        "plt.plot(xLine,yLine)\n",
        "plt.show()"
      ],
      "metadata": {
        "id": "0rTQtZPfOffg"
      },
      "execution_count": null,
      "outputs": []
    },
    {
      "cell_type": "markdown",
      "source": [
        "At this point, you shoul be able to create your own fit function and use it for your own purposes. You can always refer to this notebook for your own needs.\n"
      ],
      "metadata": {
        "id": "5wVvOSdfMIhl"
      }
    },
    {
      "cell_type": "code",
      "source": [],
      "metadata": {
        "id": "0Ue8Gf9CMajY"
      },
      "execution_count": null,
      "outputs": []
    }
  ]
}