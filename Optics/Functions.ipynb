{
  "nbformat": 4,
  "nbformat_minor": 0,
  "metadata": {
    "colab": {
      "name": "04 Functions.ipynb",
      "provenance": [],
      "include_colab_link": true
    },
    "kernelspec": {
      "name": "python3",
      "display_name": "Python 3",
      "language": "python"
    }
  },
  "cells": [
    {
      "cell_type": "markdown",
      "metadata": {
        "id": "view-in-github",
        "colab_type": "text"
      },
      "source": [
        "<a href=\"https://colab.research.google.com/github/veillette/jupyterNotebooks/blob/main/Optics/Functions.ipynb\" target=\"_parent\"><img src=\"https://colab.research.google.com/assets/colab-badge.svg\" alt=\"Open In Colab\"/></a>"
      ]
    },
    {
      "metadata": {
        "id": "jYL74HZRQYNr"
      },
      "cell_type": "markdown",
      "source": [
        "# Introduction\n",
        "\n",
        "Functions are one of the most important concepts in computing.  Similar to mathematical functions, they take input data and return an output(s). Functions are ideal for repetitive tasks that perform a particular operation\n",
        "on different input data and return a result. A simple function might take the coordinates of the vertices of a triangle and return the area. Any non-trivial program will use functions, and in many cases will have many functions.\n",
        "\n",
        "\n",
        "## Objectives\n",
        "\n",
        "- Introduce construction and use of user functions\n",
        "- Returning from functions\n",
        "- Default arguments\n",
        "- Recursion"
      ]
    },
    {
      "metadata": {
        "id": "JC-w23GBQYNt"
      },
      "cell_type": "markdown",
      "source": [
        "# What is a function?\n",
        "\n",
        "Below is a Python function that takes two arguments (`a` and `b`), and returns `a + b + 1`:"
      ]
    },
    {
      "metadata": {
        "trusted": true,
        "id": "_Kkf6IPwQYNv",
        "outputId": "1ccb5cf5-c349-43ef-ff79-5548012c16f2"
      },
      "cell_type": "code",
      "source": [
        "def sum_and_increment(a, b):\n",
        "    \"\"\"\"Return the sum of a and b, plus 1\"\"\"\n",
        "    return a + b + 1\n",
        "\n",
        "# Call the function\n",
        "m = sum_and_increment(3, 4)\n",
        "print(m)  # Expect 8\n",
        "\n",
        "# Call the function\n",
        "m = 10\n",
        "n = sum_and_increment(m, m)\n",
        "print(n)  # Expect 21"
      ],
      "execution_count": null,
      "outputs": [
        {
          "output_type": "stream",
          "text": [
            "8\n",
            "21\n"
          ],
          "name": "stdout"
        }
      ]
    },
    {
      "metadata": {
        "id": "IdOGPl9MQYN1"
      },
      "cell_type": "markdown",
      "source": [
        "Using the above example as a model, we can examine the anatomy of a Python function.\n",
        "\n",
        "- A function is declared using `def`, followed by the function name, `sum_and_increment`, followed by the list\n",
        "  of arguments to be passed to the function between brackets, `(a, b)`, and ended with a colon:\n",
        "  ```python\n",
        "  def sum_and_increment(a, b):\n",
        "  ```\n",
        "\n",
        "- Next comes the body of the function. The first part of the body is indented four spaces.\n",
        "  Everything that makes\n",
        "  up  the body of the function is indented at least four spaces relative to `def`.\n",
        "  In Python, the first part of the body is an optional documentation string that describes in words what the   \n",
        "  function does\n",
        "  ```python  \n",
        "      \"Return the sum of a and b, plus 1\"\n",
        "  ```\n",
        "\n",
        "- It is good practice to include a 'docstring'.  What comes after the documentation string\n",
        "  is the code that the function executes. At the end of a function is usually a `return` statement; this defines   what\n",
        "  result the function should return:\n",
        "  ```python\n",
        "      return a + b + 1\n",
        "  ```\n",
        "Anything indented to the same level (or less) as `def` falls outside of the function body.\n",
        "\n",
        "Most functions will take arguments and return something, but this is not strictly required.\n",
        "Below is an example of a function that does not take any arguments or return any variables."
      ]
    },
    {
      "metadata": {
        "trusted": true,
        "id": "w7u8Wu_ZQYN2",
        "outputId": "e077bdc9-e2b3-4c20-eba3-fe60f76c7275"
      },
      "cell_type": "code",
      "source": [
        "def print_message():\n",
        "    print(\"The function 'print_message' has been called.\")\n",
        "\n",
        "print_message()"
      ],
      "execution_count": null,
      "outputs": [
        {
          "output_type": "stream",
          "text": [
            "The function 'print_message' has been called.\n"
          ],
          "name": "stdout"
        }
      ]
    },
    {
      "metadata": {
        "id": "rkyzYGswQYN7"
      },
      "cell_type": "markdown",
      "source": [
        "# Purpose\n",
        "\n",
        "Functions allow computer code to be re-used multiple times with different input data. It is good to re-use code as much as possible because we then focus testing and debugging efforts, and maybe also optimisations, on small pieces of code that are then re-used. The more code that is written, the less frequently sections of code are used, and as a consequence the greater the likelihood of errors.\n",
        "\n",
        "Functions can also enhance the readability of a program, and make it easier to collaborate with others. Functions allow us to focus on *what* a program does at a high level\n",
        "rather than the details of *how* it does it. Low-level implementation details are *encapsulated* in functions. To understand at a high level what a program does, we usually just need to know what data is passed into a function and what the function returns. It is not necessary to know the precise details of how a function is implemented to grasp the structure of a program and how it works. For example, we might need to know that a function computes and returns $\\sin(x)$; we don't usually need to know *how* it computes sine.\n",
        "\n",
        "Below is a simple example of a function calculating the frequency of a wave give its waavelength."
      ]
    },
    {
      "metadata": {
        "trusted": true,
        "id": "nX2DEmx9QYN7",
        "outputId": "8f4bd1b0-ab6d-445e-d26e-b1825b8ebe58",
        "colab": {
          "base_uri": "https://localhost:8080/"
        }
      },
      "cell_type": "code",
      "source": [
        "def frequency(wavelength):\n",
        "    \"Return a value that depends on the input value\"\n",
        "\n",
        "    #speed of light in m/s\n",
        "    c=3e8\n",
        "    frequency= c/wavelength\n",
        "\n",
        "    return frequency\n",
        "\n",
        "\n",
        "print(\"Case A: green\")\n",
        "\n",
        "f=frequency(5.5e-7)\n",
        "\n",
        "print(f)\n",
        "\n",
        "# print in scientific notation\n",
        "print(\"{:e}\".format(f) )"
      ],
      "execution_count": 7,
      "outputs": [
        {
          "output_type": "stream",
          "name": "stdout",
          "text": [
            "Case A: green\n",
            "545454545454545.44\n",
            "5.454545e+14\n"
          ]
        }
      ]
    },
    {
      "metadata": {
        "id": "W5A0JlAJQYOA"
      },
      "cell_type": "markdown",
      "source": []
    },
    {
      "metadata": {
        "id": "LaC3CrXeQYOB"
      },
      "cell_type": "markdown",
      "source": [
        "# Function arguments\n",
        "\n",
        "The order in which function arguments are listed in the function declaration is in general the order in which arguments should be passed to a function.\n",
        "\n",
        "For the function `sum_and_increment` that was declared above, we could switch the order of the arguments and the result would not change because we are simply summing the input arguments. But, if we were to subtract one argument from the other, the result would depend on the input order:"
      ]
    },
    {
      "metadata": {
        "trusted": true,
        "id": "dRlmkTE0QYOC",
        "outputId": "e09e7c6d-a89b-42d4-f3f9-bbb574794d30"
      },
      "cell_type": "code",
      "source": [
        "def subtract_and_increment(a, b):\n",
        "    \"Return a minus b, plus 1\"\n",
        "    return a - b + 1\n",
        "\n",
        "alpha, beta = 3, 5  # This is short hand notation for alpha = 3\n",
        "                    #                                 beta = 5\n",
        "\n",
        "# Call the function and print the return value\n",
        "print(subtract_and_increment(alpha, beta))  # Expect -1\n",
        "print(subtract_and_increment(beta, alpha))  # Expect 3"
      ],
      "execution_count": null,
      "outputs": [
        {
          "output_type": "stream",
          "text": [
            "-1\n",
            "3\n"
          ],
          "name": "stdout"
        }
      ]
    },
    {
      "metadata": {
        "id": "-yM4bXc5QYOG"
      },
      "cell_type": "markdown",
      "source": [
        "For more complicated functions we might have numerous arguments. Consequently, it becomes easier to get the wrong order by accident when calling the function (which results in a bug). In Python, we can reduce the likelihood of an error by using *named* arguments, in which case order will not matter, e.g.:"
      ]
    },
    {
      "metadata": {
        "trusted": true,
        "id": "twD7BbUoQYOH",
        "outputId": "1b94ebe2-9023-4f09-f449-f6d9d242c858"
      },
      "cell_type": "code",
      "source": [
        "print(subtract_and_increment(a=alpha, b=beta))  # Expect -1\n",
        "print(subtract_and_increment(b=beta, a=alpha))  # Expect -1"
      ],
      "execution_count": null,
      "outputs": [
        {
          "output_type": "stream",
          "text": [
            "-1\n",
            "-1\n"
          ],
          "name": "stdout"
        }
      ]
    },
    {
      "metadata": {
        "id": "U6gjCQxzQYOL"
      },
      "cell_type": "markdown",
      "source": [
        "Using named arguments can often enhance program readability and reduce errors."
      ]
    },
    {
      "metadata": {
        "id": "0XHuZQdDQYOM"
      },
      "cell_type": "markdown",
      "source": [
        "## What can be passed as a function argument?\n",
        "\n",
        "Many object types can be passed as arguments to functions, including other functions. Below\n",
        "is a function, `is_positive`, that checks if the value of a function $f$ evaluated at $x$ is positive:"
      ]
    },
    {
      "metadata": {
        "trusted": true,
        "id": "7NKxu9EVQYON",
        "outputId": "bb68fb2d-d831-4550-f575-dfa064a71ff9"
      },
      "cell_type": "code",
      "source": [
        "def f0(x):\n",
        "    \"Compute x^2 - 1\"\n",
        "    return x*x - 1\n",
        "\n",
        "\n",
        "def f1(x):\n",
        "    \"Compute -x^2 + 2x + 1\"\n",
        "    return -x*x + 2*x + 1\n",
        "\n",
        "\n",
        "def is_positive(f, x):\n",
        "    \"Check if the function value f(x) is positive\"\n",
        "\n",
        "    # Evaluate the function passed into the function for the value of x\n",
        "    # passed into the function\n",
        "    if f(x) > 0:\n",
        "        return True\n",
        "    else:\n",
        "        return False\n",
        "\n",
        "\n",
        "# Value of x for which we want to test a function sign\n",
        "x = 4.5\n",
        "\n",
        "# Test function f0\n",
        "print(is_positive(f0, x))\n",
        "\n",
        "# Test function f1\n",
        "print(is_positive(f1, x))"
      ],
      "execution_count": null,
      "outputs": [
        {
          "output_type": "stream",
          "text": [
            "True\n",
            "False\n"
          ],
          "name": "stdout"
        }
      ]
    },
    {
      "metadata": {
        "id": "EC95zJhHQYOS"
      },
      "cell_type": "markdown",
      "source": [
        "## Default arguments\n",
        "\n",
        "It can sometimes be helpful for functions to have 'default' argument values which can be overridden. In some cases it just saves the programmer effort - they can write less code. In other cases it can allow us to use a function for a wider range of problems. For example, we could use the same function for vectors of length 2 and 3 if the default value for the third component is zero.\n",
        "\n",
        "As an example we consider the position $r$ of a particle with initial position $r_{0}$ and initial velocity $v_{0}$, and subject to an acceleration $a$. The position $r$ is given by:  \n",
        "\n",
        "$$\n",
        "r = r_0 + v_0 t + \\frac{1}{2} a t^{2}\n",
        "$$\n",
        "\n",
        "Say for a particular application the acceleration is almost always due to gravity ($g$), and $g = 9.8$ m s$^{-2}$ is sufficiently accurate in most cases. Moreover, the initial velocity is usually zero. We might therefore implement a function as:"
      ]
    },
    {
      "metadata": {
        "trusted": true,
        "id": "ALuYnN8sQYOS",
        "outputId": "4f1ccd96-8d38-41a9-94aa-415cd1b5a96b"
      },
      "cell_type": "code",
      "source": [
        "def position(t, r0, v0=0.0, a=-9.8):\n",
        "    \"Compute position of an accelerating particle.\"\n",
        "    return r0 + v0*t + 0.5*a*t*t\n",
        "\n",
        "# Position after 0.2 s (t) when dropped from a height of 1 m (r0)\n",
        "# with v0=0.0 and a=-9.8\n",
        "p = position(0.2, 1.0)\n",
        "print(p)"
      ],
      "execution_count": null,
      "outputs": [
        {
          "output_type": "stream",
          "text": [
            "0.8039999999999999\n"
          ],
          "name": "stdout"
        }
      ]
    },
    {
      "metadata": {
        "id": "kM2vMYc9QYOX"
      },
      "cell_type": "markdown",
      "source": [
        "At the equator, the acceleration due to gravity is slightly less, and for a case where this difference is important we can call the function with the acceleration due to gravity at the equator:"
      ]
    },
    {
      "metadata": {
        "trusted": true,
        "id": "n8eaVGyZQYOY",
        "outputId": "3d1df08b-e623-43d3-f552-8721af9d8a68"
      },
      "cell_type": "code",
      "source": [
        "# Position after 0.2 s (t) when dropped from a height of  1 m (r0)\n",
        "p = position(0.2, 1, 0.0, -9.78)\n",
        "print(p)"
      ],
      "execution_count": null,
      "outputs": [
        {
          "output_type": "stream",
          "text": [
            "0.8044\n"
          ],
          "name": "stdout"
        }
      ]
    },
    {
      "metadata": {
        "id": "8MNysnV7QYOb"
      },
      "cell_type": "markdown",
      "source": [
        "Note that we have also passed the initial velocity - otherwise the program might assume that our acceleration was in fact the velocity. We can use the default velocity and specify the acceleration by using named arguments:"
      ]
    },
    {
      "metadata": {
        "trusted": true,
        "id": "WdviM_bPQYOc",
        "outputId": "df0d7bab-20bd-4e57-d62e-f89fe51e768b"
      },
      "cell_type": "code",
      "source": [
        "# Position after 0.2 s (t) when dropped from a height of  1 m (r0)\n",
        "p = position(0.2, 1, a=-9.78)\n",
        "print(p)"
      ],
      "execution_count": null,
      "outputs": [
        {
          "output_type": "stream",
          "text": [
            "0.8044\n"
          ],
          "name": "stdout"
        }
      ]
    },
    {
      "metadata": {
        "id": "OuZwedXQQYOf"
      },
      "cell_type": "markdown",
      "source": [
        "# Return arguments\n",
        "\n",
        "Most functions, but not all, return data. Above are examples that return a single value (object), and one case where there is no return value. Python functions can have more than one return value. For example, we could have a function that takes three values and returns the maximum, the minimum and the mean, e.g."
      ]
    },
    {
      "metadata": {
        "trusted": true,
        "id": "knH3rhxSQYOg",
        "outputId": "75150c0a-f47c-4177-fe32-b839825ab548"
      },
      "cell_type": "code",
      "source": [
        "def compute_max_min_mean(x0, x1, x2):\n",
        "    \"Return maximum, minimum and mean values\"\n",
        "\n",
        "    x_min = x0\n",
        "    if x1 < x_min:\n",
        "        x_min = x1\n",
        "    if x2 < x_min:\n",
        "        x_min = x2\n",
        "\n",
        "    x_max = x0\n",
        "    if x1 > x_max:\n",
        "        x_max = x1\n",
        "    if x2 > x_max:\n",
        "        x_max = x2\n",
        "\n",
        "    x_mean = (x0 + x1 + x2)/3\n",
        "\n",
        "    return x_min, x_max, x_mean\n",
        "\n",
        "\n",
        "xmin, xmax, xmean = compute_max_min_mean(0.5, 0.1, -20)\n",
        "print(xmin, xmax, xmean)"
      ],
      "execution_count": null,
      "outputs": [
        {
          "output_type": "stream",
          "text": [
            "-20 0.5 -6.466666666666666\n"
          ],
          "name": "stdout"
        }
      ]
    },
    {
      "metadata": {
        "id": "YA5R9fu4QYOk"
      },
      "cell_type": "markdown",
      "source": [
        "This function works, but we will see better ways to implement the functionality using lists or tuples\n",
        "in a later notebook."
      ]
    },
    {
      "metadata": {
        "id": "vG-dKfSHQYOl"
      },
      "cell_type": "markdown",
      "source": [
        "# Scope\n",
        "\n",
        "Functions have local scope, which means that variables that are declared inside a function are not visible outside the function. This is a very good thing - it means that we do not have to worry about variables declared inside a function unexpectedly affecting other parts of a program. Here is a simple example:"
      ]
    },
    {
      "metadata": {
        "trusted": true,
        "id": "74Zd7RNOQYOm",
        "outputId": "98e788ed-3d0f-4846-d8a3-1dcc79e71aeb"
      },
      "cell_type": "code",
      "source": [
        "# Assign 10.0 to the varibale a\n",
        "a = 10.0\n",
        "\n",
        "# A simple function that creates a variable 'a' and returns the value\n",
        "def dummy():\n",
        "    c = 5\n",
        "    a = \"A simple function\"\n",
        "    return a\n",
        "\n",
        "# Call the function\n",
        "b = dummy()\n",
        "\n",
        "# Check that the function declaration of 'a' has not affected\n",
        "# the variable 'a' outside of the function\n",
        "print(a)\n",
        "\n",
        "# This would throw an error - the variable c is not visible outside of the function\n",
        "# print(c)"
      ],
      "execution_count": null,
      "outputs": [
        {
          "output_type": "stream",
          "text": [
            "10.0\n"
          ],
          "name": "stdout"
        }
      ]
    },
    {
      "metadata": {
        "id": "GMuwL5VIQYOq"
      },
      "cell_type": "markdown",
      "source": [
        "The variable `a` that is declared outside of the function is unaffected by what is done inside the function.\n",
        "Similarly, the variable `c` in the function is not 'visible' outside of the function.\n",
        "\n",
        "There is more to scoping rules that we can skip over for now."
      ]
    },
    {
      "metadata": {
        "id": "kWgfUd5qQYO-"
      },
      "cell_type": "markdown",
      "source": []
    }
  ]
}