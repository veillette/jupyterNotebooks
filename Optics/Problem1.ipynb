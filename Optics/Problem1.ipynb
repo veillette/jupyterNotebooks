{
  "nbformat": 4,
  "nbformat_minor": 0,
  "metadata": {
    "colab": {
      "private_outputs": true,
      "provenance": [],
      "authorship_tag": "ABX9TyMiWHNw4Pu0gG810sykkEs1",
      "include_colab_link": true
    },
    "kernelspec": {
      "name": "python3",
      "display_name": "Python 3"
    },
    "language_info": {
      "name": "python"
    }
  },
  "cells": [
    {
      "cell_type": "markdown",
      "metadata": {
        "id": "view-in-github",
        "colab_type": "text"
      },
      "source": [
        "<a href=\"https://colab.research.google.com/github/veillette/jupyterNotebooks/blob/main/Optics/Problem1.ipynb\" target=\"_parent\"><img src=\"https://colab.research.google.com/assets/colab-badge.svg\" alt=\"Open In Colab\"/></a>"
      ]
    },
    {
      "cell_type": "markdown",
      "source": [
        "The intensity of solar radiation is measured in watts per square meter $(W/m^2$). The average intensity of solar radiation reaching the top of the Earth's atmosphere is around 1360 $W/m^2$. This value is known as the Solar Constant.\n",
        "\n",
        "(A) Assuming that the majority of the light is in the visible spectrum, estimate the number of photons received over an area of 1 mter square in one second.\n",
        "\n",
        "(B) Calculate the number of photons received through your pupil per unit time."
      ],
      "metadata": {
        "id": "QmVIZ4cCFLbf"
      }
    },
    {
      "cell_type": "code",
      "source": [],
      "metadata": {
        "id": "Cl9Osl0IFnja"
      },
      "execution_count": null,
      "outputs": []
    }
  ]
}