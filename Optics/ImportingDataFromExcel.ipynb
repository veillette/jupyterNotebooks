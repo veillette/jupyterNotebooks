{
  "nbformat": 4,
  "nbformat_minor": 0,
  "metadata": {
    "colab": {
      "private_outputs": true,
      "provenance": [],
      "authorship_tag": "ABX9TyNG/RzY5RNPVTn/yma4ZEg4",
      "include_colab_link": true
    },
    "kernelspec": {
      "name": "python3",
      "display_name": "Python 3"
    },
    "language_info": {
      "name": "python"
    }
  },
  "cells": [
    {
      "cell_type": "markdown",
      "metadata": {
        "id": "view-in-github",
        "colab_type": "text"
      },
      "source": [
        "<a href=\"https://colab.research.google.com/github/veillette/jupyterNotebooks/blob/main/Optics/ImportingDataFromExcel.ipynb\" target=\"_parent\"><img src=\"https://colab.research.google.com/assets/colab-badge.svg\" alt=\"Open In Colab\"/></a>"
      ]
    },
    {
      "cell_type": "markdown",
      "source": [
        "## Example of how to import excel data in Jupyter"
      ],
      "metadata": {
        "id": "Kwu-fw9itafI"
      }
    },
    {
      "cell_type": "code",
      "execution_count": null,
      "metadata": {
        "id": "qRvP8ZTXmvZo"
      },
      "outputs": [],
      "source": [
        "import pandas as pd\n",
        "import numpy as np"
      ]
    },
    {
      "cell_type": "markdown",
      "source": [
        "Use the pd.read_excel() function to read the Excel file:"
      ],
      "metadata": {
        "id": "647S4dG9m9T5"
      }
    },
    {
      "cell_type": "code",
      "source": [
        "# The path and filename of the excel spreadsheet\n",
        "excel_full_path = '/content/sampleData.xlsx'\n",
        "\n",
        "df = pd.read_excel(excel_full_path)\n"
      ],
      "metadata": {
        "id": "EuOCbJcnm6Vv"
      },
      "execution_count": null,
      "outputs": []
    },
    {
      "cell_type": "code",
      "source": [
        "df.iloc[:,:]"
      ],
      "metadata": {
        "id": "a2gIc08FnC24"
      },
      "execution_count": null,
      "outputs": []
    },
    {
      "cell_type": "code",
      "source": [
        "## convert to some simple arrays\n",
        "\n",
        "unpackedArray = df.values\n",
        "print(unpackedArray)"
      ],
      "metadata": {
        "id": "exjBrIkCsUAy"
      },
      "execution_count": null,
      "outputs": []
    },
    {
      "cell_type": "markdown",
      "source": [
        "Access the x and y columns from the DataFrame:"
      ],
      "metadata": {
        "id": "VwjbGKpmnDsg"
      }
    },
    {
      "cell_type": "code",
      "source": [
        "X = unpackedArray[:,0]\n",
        "Y = unpackedArray[:,1]"
      ],
      "metadata": {
        "id": "JCdh-JMhnJzL"
      },
      "execution_count": null,
      "outputs": []
    },
    {
      "cell_type": "code",
      "source": [
        "import matplotlib.pyplot as plt\n",
        "\n",
        "plt.plot(X,Y, 'o',label='raw data')\n",
        "plt.title(r'$My special plot$')\n",
        "\n",
        "# You can add text anywhere on the plot\n",
        "plt.text(2,3,r'$\\sqrt{3}$')\n",
        "# Add x and y axes labels\n",
        "plt.xlabel('time (s)')\n",
        "plt.ylabel('velocity (m/s)')\n",
        "\n",
        "# Show the plot\n",
        "plt.show()"
      ],
      "metadata": {
        "id": "Mb0SKwGErShx"
      },
      "execution_count": null,
      "outputs": []
    },
    {
      "cell_type": "code",
      "source": [],
      "metadata": {
        "id": "-hoNk_JcraLM"
      },
      "execution_count": null,
      "outputs": []
    }
  ]
}