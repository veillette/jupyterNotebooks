{
  "nbformat": 4,
  "nbformat_minor": 0,
  "metadata": {
    "colab": {
      "provenance": [],
      "authorship_tag": "ABX9TyOl6T2ghLeKQe0+M4P+6DPl",
      "include_colab_link": true
    },
    "kernelspec": {
      "name": "python3",
      "display_name": "Python 3"
    },
    "language_info": {
      "name": "python"
    }
  },
  "cells": [
    {
      "cell_type": "markdown",
      "metadata": {
        "id": "view-in-github",
        "colab_type": "text"
      },
      "source": [
        "<a href=\"https://colab.research.google.com/github/veillette/jupyterNotebooks/blob/main/Optics/JonesVectors.ipynb\" target=\"_parent\"><img src=\"https://colab.research.google.com/assets/colab-badge.svg\" alt=\"Open In Colab\"/></a>"
      ]
    },
    {
      "cell_type": "markdown",
      "source": [
        "\n",
        "## Polarization and Jones Vectors\n",
        "\n",
        "This notebook defines Jones vectors for different polarization states of electromagnetic waves and provides functions to create Jones vectors for arbitrary polarization states and decompose Jones vectors into linear and circular polarization components."
      ],
      "metadata": {
        "id": "dKdWICNUrzR2"
      }
    },
    {
      "cell_type": "code",
      "source": [
        "import numpy as np\n",
        "\n",
        "# Define the Jones vector for a horizontally polarized wave\n",
        "horizontal_jones_vector = np.array([1, 0], dtype=complex)\n",
        "\n",
        "# Define the Jones vector for a vertically polarized wave\n",
        "vertical_jones_vector = np.array([0, 1], dtype=complex)\n",
        "\n",
        "# Define the Jones vector for a right-circularly polarized wave\n",
        "right_circular_jones_vector = (1 / np.sqrt(2)) * np.array([1, 1j], dtype=complex)\n",
        "\n",
        "# Define the Jones vector for a left-circularly polarized wave\n",
        "left_circular_jones_vector = (1 / np.sqrt(2)) * np.array([1, -1j], dtype=complex)"
      ],
      "metadata": {
        "id": "xrZvQ6fTsnih"
      },
      "execution_count": 5,
      "outputs": []
    },
    {
      "cell_type": "code",
      "execution_count": 3,
      "metadata": {
        "colab": {
          "base_uri": "https://localhost:8080/"
        },
        "id": "dW63CYWAqF-n",
        "outputId": "3f7268b9-4bff-4154-8267-ccac926b2c87"
      },
      "outputs": [
        {
          "output_type": "stream",
          "name": "stdout",
          "text": [
            "Horizontal polarization Jones vector:\n",
            "[1.+0.j 0.+0.j]\n",
            "Linear polarization component:\n",
            "(0.5+0j)\n",
            "Circular polarization component:\n",
            "0.5j\n"
          ]
        }
      ],
      "source": [
        "# Define a function to create a Jones vector for an arbitrary polarization state\n",
        "def create_jones_vector(angle, ellipticity):\n",
        "  \"\"\"\n",
        "  Creates a Jones vector for an arbitrary polarization state.\n",
        "\n",
        "  Args:\n",
        "    angle: The angle of the polarization ellipse in radians.\n",
        "    ellipticity: The ellipticity of the polarization ellipse.\n",
        "\n",
        "  Returns:\n",
        "    A numpy array representing the Jones vector.\n",
        "  \"\"\"\n",
        "  cos_angle = np.cos(angle)\n",
        "  sin_angle = np.sin(angle)\n",
        "  cosh_ellipticity = np.cosh(ellipticity)\n",
        "  sinh_ellipticity = np.sinh(ellipticity)\n",
        "  return np.array([\n",
        "      cos_angle * cosh_ellipticity + sin_angle * sinh_ellipticity * 1j,\n",
        "      -sin_angle * cosh_ellipticity + cos_angle * sinh_ellipticity * 1j\n",
        "  ], dtype=complex)\n",
        "\n"
      ]
    },
    {
      "cell_type": "code",
      "source": [
        "\n",
        "# Define a function to decompose a Jones vector into linear and circular polarization\n",
        "def decompose_jones_vector(jones_vector):\n",
        "  \"\"\"\n",
        "  Decomposes a Jones vector into linear and circular polarization.\n",
        "\n",
        "  Args:\n",
        "    jones_vector: A numpy array representing the Jones vector.\n",
        "\n",
        "  Returns:\n",
        "    A tuple containing the following:\n",
        "      - The Jones vector for the linear polarization component.\n",
        "      - The Jones vector for the circular polarization component.\n",
        "  \"\"\"\n",
        "  linear_component = (1 / 2) * (jones_vector[0] + jones_vector[1])\n",
        "  circular_component = (1 / 2) * (jones_vector[0] - jones_vector[1]) * 1j\n",
        "  return linear_component, circular_component\n"
      ],
      "metadata": {
        "id": "Gx23ZfCOsvao"
      },
      "execution_count": 7,
      "outputs": []
    },
    {
      "cell_type": "code",
      "source": [
        "# Example usage:\n",
        "# Create a Jones vector for a horizontally polarized wave\n",
        "jones_vector = create_jones_vector(0, 0)\n",
        "\n",
        "# Decompose the Jones vector into linear and circular polarization\n",
        "linear_component, circular_component = decompose_jones_vector(jones_vector)\n",
        "\n",
        "# Print the results\n",
        "print(\"Horizontal polarization Jones vector:\")\n",
        "print(jones_vector)\n",
        "print(\"Linear polarization component:\")\n",
        "print(linear_component)\n",
        "print(\"Circular polarization component:\")\n",
        "print(circular_component)\n"
      ],
      "metadata": {
        "colab": {
          "base_uri": "https://localhost:8080/"
        },
        "id": "szLhJhBassHI",
        "outputId": "c38452c6-d863-4ea4-a585-2037c7e985eb"
      },
      "execution_count": 6,
      "outputs": [
        {
          "output_type": "stream",
          "name": "stdout",
          "text": [
            "Horizontal polarization Jones vector:\n",
            "[1.+0.j 0.+0.j]\n",
            "Linear polarization component:\n",
            "(0.5+0j)\n",
            "Circular polarization component:\n",
            "0.5j\n"
          ]
        }
      ]
    },
    {
      "cell_type": "code",
      "source": [],
      "metadata": {
        "id": "TnVBLLOKsmx1"
      },
      "execution_count": null,
      "outputs": []
    },
    {
      "cell_type": "code",
      "source": [],
      "metadata": {
        "id": "SxxEbvA0rw9d"
      },
      "execution_count": null,
      "outputs": []
    },
    {
      "cell_type": "markdown",
      "source": [],
      "metadata": {
        "id": "_d9HZ4JNrxfK"
      }
    },
    {
      "cell_type": "code",
      "source": [
        "a\n",
        "\n"
      ],
      "metadata": {
        "colab": {
          "base_uri": "https://localhost:8080/",
          "height": 216
        },
        "id": "8fKsNqbYrCFK",
        "outputId": "3c28d4f6-8f40-4fd9-e42e-e77d3b274a3d"
      },
      "execution_count": 4,
      "outputs": [
        {
          "output_type": "error",
          "ename": "NameError",
          "evalue": "name 'a' is not defined",
          "traceback": [
            "\u001b[0;31m---------------------------------------------------------------------------\u001b[0m",
            "\u001b[0;31mNameError\u001b[0m                                 Traceback (most recent call last)",
            "\u001b[0;32m<ipython-input-4-e7770cdd3665>\u001b[0m in \u001b[0;36m<cell line: 1>\u001b[0;34m()\u001b[0m\n\u001b[0;32m----> 1\u001b[0;31m \u001b[0ma\u001b[0m\u001b[0;34m\u001b[0m\u001b[0;34m\u001b[0m\u001b[0m\n\u001b[0m\u001b[1;32m      2\u001b[0m \u001b[0;34m\u001b[0m\u001b[0m\n\u001b[1;32m      3\u001b[0m \u001b[0;34m\u001b[0m\u001b[0m\n\u001b[1;32m      4\u001b[0m \u001b[0;34m\u001b[0m\u001b[0m\n\u001b[1;32m      5\u001b[0m \u001b[0md\u001b[0m\u001b[0;34m\u001b[0m\u001b[0;34m\u001b[0m\u001b[0m\n",
            "\u001b[0;31mNameError\u001b[0m: name 'a' is not defined"
          ]
        }
      ]
    },
    {
      "cell_type": "code",
      "source": [
        "\n",
        "a\n",
        "\n"
      ],
      "metadata": {
        "id": "4kokRwwYsfne"
      },
      "execution_count": null,
      "outputs": []
    },
    {
      "cell_type": "code",
      "source": [
        "\n",
        "d"
      ],
      "metadata": {
        "id": "Q3PCu8DssgsC"
      },
      "execution_count": null,
      "outputs": []
    }
  ]
}