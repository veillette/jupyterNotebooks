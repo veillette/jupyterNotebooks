{
  "nbformat": 4,
  "nbformat_minor": 0,
  "metadata": {
    "colab": {
      "provenance": [],
      "authorship_tag": "ABX9TyNsXCB71B90+EzLT8Tklobf",
      "include_colab_link": true
    },
    "kernelspec": {
      "name": "python3",
      "display_name": "Python 3"
    },
    "language_info": {
      "name": "python"
    }
  },
  "cells": [
    {
      "cell_type": "markdown",
      "metadata": {
        "id": "view-in-github",
        "colab_type": "text"
      },
      "source": [
        "<a href=\"https://colab.research.google.com/github/veillette/jupyterNotebooks/blob/main/Optics/JonesVectors.ipynb\" target=\"_parent\"><img src=\"https://colab.research.google.com/assets/colab-badge.svg\" alt=\"Open In Colab\"/></a>"
      ]
    },
    {
      "cell_type": "markdown",
      "source": [
        "\n",
        "## Polarization and Jones Vectors\n",
        "\n",
        "This notebook defines Jones vectors for different polarization states of electromagnetic waves and provides functions to create Jones vectors for arbitrary polarization states and decompose Jones vectors into linear and circular polarization components."
      ],
      "metadata": {
        "id": "dKdWICNUrzR2"
      }
    },
    {
      "cell_type": "markdown",
      "source": [
        "Let's define some Jones Vectors"
      ],
      "metadata": {
        "id": "ccMQEGuduUWF"
      }
    },
    {
      "cell_type": "code",
      "source": [
        "import numpy as np\n",
        "\n",
        "# Define the Jones vector for a horizontally polarized wave\n",
        "horizontal_jones_vector = np.array([1, 0], dtype=complex)\n",
        "\n",
        "# Define the Jones vector for a vertically polarized wave\n",
        "vertical_jones_vector = np.array([0, 1], dtype=complex)\n",
        "\n",
        "# Define the Jones vector for a right-circularly polarized wave\n",
        "right_circular_jones_vector = (1 / np.sqrt(2)) * np.array([1, 1j], dtype=complex)\n",
        "\n",
        "# Define the Jones vector for a left-circularly polarized wave\n",
        "left_circular_jones_vector = (1 / np.sqrt(2)) * np.array([1, -1j], dtype=complex)"
      ],
      "metadata": {
        "id": "xrZvQ6fTsnih"
      },
      "execution_count": 8,
      "outputs": []
    },
    {
      "cell_type": "markdown",
      "source": [
        "The following function generates a Jones vector representing an arbitrary polarization state.\n",
        "The function `create_jones_vector` takes two parameters:\n",
        "- `angle`: The angle of the polarization ellipse in radians.\n",
        "- `ellipticity`: The ellipticity of the polarization ellipse.\n",
        "\n",
        "It returns a numpy array representing the Jones vector, which consists of two complex numbers."
      ],
      "metadata": {
        "id": "WmVYgp_3uv43"
      }
    },
    {
      "cell_type": "code",
      "execution_count": 9,
      "metadata": {
        "id": "dW63CYWAqF-n"
      },
      "outputs": [],
      "source": [
        "# Define a function to create a Jones vector for an arbitrary polarization state\n",
        "def create_jones_vector(angle, ellipticity):\n",
        "  \"\"\"\n",
        "  Creates a Jones vector for an arbitrary polarization state.\n",
        "\n",
        "  Args:\n",
        "    angle: The angle of the polarization ellipse in radians.\n",
        "    ellipticity: The ellipticity of the polarization ellipse.\n",
        "\n",
        "  Returns:\n",
        "    A numpy array representing the Jones vector.\n",
        "  \"\"\"\n",
        "  cos_angle = np.cos(angle)\n",
        "  sin_angle = np.sin(angle)\n",
        "  cosh_ellipticity = np.cosh(ellipticity)\n",
        "  sinh_ellipticity = np.sinh(ellipticity)\n",
        "  return np.array([\n",
        "      cos_angle * cosh_ellipticity + sin_angle * sinh_ellipticity * 1j,\n",
        "      -sin_angle * cosh_ellipticity + cos_angle * sinh_ellipticity * 1j\n",
        "  ], dtype=complex)\n",
        "\n"
      ]
    },
    {
      "cell_type": "markdown",
      "source": [
        "Now we define a function that will decompose a Jones vector into its linear and circular component"
      ],
      "metadata": {
        "id": "n4dkvV2VubIi"
      }
    },
    {
      "cell_type": "code",
      "source": [
        "\n",
        "# Define a function to decompose a Jones vector into linear and circular polarization\n",
        "def decompose_jones_vector(jones_vector):\n",
        "  \"\"\"\n",
        "  Decomposes a Jones vector into linear and circular polarization.\n",
        "\n",
        "  Args:\n",
        "    jones_vector: A numpy array representing the Jones vector.\n",
        "\n",
        "  Returns:\n",
        "    A tuple containing the following:\n",
        "      - The Jones vector for the linear polarization component.\n",
        "      - The Jones vector for the circular polarization component.\n",
        "  \"\"\"\n",
        "  linear_component = (1 / 2) * (jones_vector[0] + jones_vector[1])\n",
        "  circular_component = (1 / 2) * (jones_vector[0] - jones_vector[1]) * 1j\n",
        "  return linear_component, circular_component\n"
      ],
      "metadata": {
        "id": "Gx23ZfCOsvao"
      },
      "execution_count": 10,
      "outputs": []
    },
    {
      "cell_type": "markdown",
      "source": [
        "Let's test our function"
      ],
      "metadata": {
        "id": "e2Ylac4iurAa"
      }
    },
    {
      "cell_type": "code",
      "source": [
        "# Example usage:\n",
        "# Create a Jones vector for a horizontally polarized wave\n",
        "jones_vector = create_jones_vector(0, 0)\n",
        "\n",
        "# Decompose the Jones vector into linear and circular polarization\n",
        "linear_component, circular_component = decompose_jones_vector(jones_vector)\n",
        "\n",
        "# Print the results\n",
        "print(\"Horizontal polarization Jones vector:\")\n",
        "print(jones_vector)\n",
        "print(\"Linear polarization component:\")\n",
        "print(linear_component)\n",
        "print(\"Circular polarization component:\")\n",
        "print(circular_component)\n"
      ],
      "metadata": {
        "colab": {
          "base_uri": "https://localhost:8080/"
        },
        "id": "szLhJhBassHI",
        "outputId": "3a2b33f7-a884-4f37-9cfd-b58e3a83daf3"
      },
      "execution_count": 11,
      "outputs": [
        {
          "output_type": "stream",
          "name": "stdout",
          "text": [
            "Horizontal polarization Jones vector:\n",
            "[1.+0.j 0.+0.j]\n",
            "Linear polarization component:\n",
            "(0.5+0j)\n",
            "Circular polarization component:\n",
            "0.5j\n"
          ]
        }
      ]
    }
  ]
}