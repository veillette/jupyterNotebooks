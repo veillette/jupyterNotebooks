{
  "nbformat": 4,
  "nbformat_minor": 0,
  "metadata": {
    "colab": {
      "provenance": [],
      "authorship_tag": "ABX9TyPlf8tu2i6KHvjAWw+fvmYr",
      "include_colab_link": true
    },
    "kernelspec": {
      "name": "python3",
      "display_name": "Python 3"
    },
    "language_info": {
      "name": "python"
    }
  },
  "cells": [
    {
      "cell_type": "markdown",
      "metadata": {
        "id": "view-in-github",
        "colab_type": "text"
      },
      "source": [
        "<a href=\"https://colab.research.google.com/github/veillette/jupyterNotebooks/blob/main/Optics/ComplexNumbers.ipynb\" target=\"_parent\"><img src=\"https://colab.research.google.com/assets/colab-badge.svg\" alt=\"Open In Colab\"/></a>"
      ]
    },
    {
      "cell_type": "markdown",
      "source": [
        "\n",
        "\n",
        "# Introduction to Complex Numbers\n",
        "\n",
        "## What are Complex Numbers?\n",
        "\n",
        "Complex numbers are numbers that extend the real number system. They are in the form $a + bi$, where $a$ and $b$ are real numbers, and $i$ is the imaginary unit defined as the square root of -1.\n",
        "\n",
        "In Python, you can represent complex numbers using $j$ instead of $i$. For example, $3 + 4i$ would be written as $3 + 4j$.\n",
        "\n",
        "Let's explore some basic operations and properties of complex numbers.\n",
        "\n",
        "## Basic Operations\n",
        "\n",
        "### Addition\n",
        "\n",
        "The addition of two complex numbers $z_1 = a + bi$ and $z_2 = c + di$ is performed by adding their real parts and their imaginary parts separately.\n",
        "\n",
        "$$\n",
        "z_1 + z_2 = (a + c) + (b + d)i\n",
        "$$\n",
        "\n",
        "### Subtraction\n",
        "\n",
        "The subtraction of two complex numbers $z_1$ and $z_2$ is similar to addition. We simply subtract the real parts and imaginary parts separately.\n",
        "\n",
        "$$\n",
        "z_1 - z_2 = (a - c) + (b - d)i\n",
        "$$\n",
        "\n",
        "### Multiplication\n",
        "\n",
        "The multiplication of two complex numbers $z1$ and $z2$ follows the distributive property and is computed as follows:\n",
        "\n",
        "$$\n",
        "z_1 * z_2 = (a + bi) * (c + di) = (ac - bd) + (ad + bc)i\n",
        "$$\n",
        "\n",
        "### Division\n",
        "\n",
        "To divide one complex number by another, we use the concept of the complex conjugate. The division of $z_1$ by $z_2$ is given by:\n",
        "\n",
        "$$\n",
        "\\frac{z_1}{ z_2} = \\frac{(a + bi)}{ (c + di) } = \\frac{ ((a + bi) * (c - di)) } {(c^2 + d^2)}\n",
        "$$\n",
        "\n",
        "## Example\n",
        "\n",
        "Let's illustrate these operations with an example:\n"
      ],
      "metadata": {
        "id": "AtAaAXnM2prS"
      }
    },
    {
      "cell_type": "code",
      "source": [
        "# Define two complex numbers\n",
        "z1 = 3 + 4j\n",
        "z2 = 2 - 5j\n",
        "\n",
        "# Addition\n",
        "addition_result = z1 + z2\n",
        "print(\"Addition result:\", addition_result)\n",
        "\n",
        "# Subtraction\n",
        "subtraction_result = z1 - z2\n",
        "print(\"Subtraction result:\", subtraction_result)\n",
        "\n",
        "# Multiplication\n",
        "multiplication_result = z1 * z2\n",
        "print(\"Multiplication result:\", multiplication_result)\n",
        "\n",
        "# Division\n",
        "division_result = z1 / z2\n",
        "print(\"Division result:\", division_result)\n"
      ],
      "metadata": {
        "colab": {
          "base_uri": "https://localhost:8080/"
        },
        "id": "MyGCwtCm2tdD",
        "outputId": "ce932741-7eec-4c9f-8519-e24034ebb1a0"
      },
      "execution_count": null,
      "outputs": [
        {
          "output_type": "stream",
          "name": "stdout",
          "text": [
            "Addition result: (5-1j)\n",
            "Subtraction result: (1+9j)\n",
            "Multiplication result: (26-7j)\n",
            "Division result: (-0.48275862068965514+0.793103448275862j)\n"
          ]
        }
      ]
    },
    {
      "cell_type": "markdown",
      "source": [
        "## Common Mistake\n",
        "\n",
        "Note that to write $j$ in python, one needs to write $1j$"
      ],
      "metadata": {
        "id": "JblkI-BV_h0X"
      }
    },
    {
      "cell_type": "code",
      "source": [
        "# Define a complex number: 3 + i\n",
        "z3 = 3 + 1j\n",
        "\n",
        "# Define the same complex number:  3 + i\n",
        "# WILL NOT WORK as the name 'j' is not defined\n",
        "z4 = 3 + j"
      ],
      "metadata": {
        "id": "8HGBWP0G3ByH",
        "colab": {
          "base_uri": "https://localhost:8080/",
          "height": 182
        },
        "outputId": "20fbb031-84c2-43a0-f3e1-f8717fdf025b"
      },
      "execution_count": 13,
      "outputs": [
        {
          "output_type": "error",
          "ename": "NameError",
          "evalue": "name 'j' is not defined",
          "traceback": [
            "\u001b[0;31m---------------------------------------------------------------------------\u001b[0m",
            "\u001b[0;31mNameError\u001b[0m                                 Traceback (most recent call last)",
            "\u001b[0;32m<ipython-input-13-597a71b28ecc>\u001b[0m in \u001b[0;36m<cell line: 6>\u001b[0;34m()\u001b[0m\n\u001b[1;32m      4\u001b[0m \u001b[0;31m# Define the same complex number:  3 + i\u001b[0m\u001b[0;34m\u001b[0m\u001b[0;34m\u001b[0m\u001b[0m\n\u001b[1;32m      5\u001b[0m \u001b[0;31m# WILL NOT WORK as the name 'j' is not defined\u001b[0m\u001b[0;34m\u001b[0m\u001b[0;34m\u001b[0m\u001b[0m\n\u001b[0;32m----> 6\u001b[0;31m \u001b[0mz4\u001b[0m \u001b[0;34m=\u001b[0m \u001b[0;36m3\u001b[0m \u001b[0;34m+\u001b[0m \u001b[0mj\u001b[0m\u001b[0;34m\u001b[0m\u001b[0;34m\u001b[0m\u001b[0m\n\u001b[0m",
            "\u001b[0;31mNameError\u001b[0m: name 'j' is not defined"
          ]
        }
      ]
    },
    {
      "cell_type": "markdown",
      "source": [
        "### Complex Conjugate\n",
        "\n",
        "The concept of complex conjugation is fundamental in complex analysis.\n",
        "\n",
        "Given a complex number $ z = a + bi $, where $ a $ and $ b $ are real numbers and $ i $ is the imaginary unit (i.e., $ i^2 = -1 $), the **complex conjugate** of $ z $, denoted as $ \\bar{z} $ or sometimes $ z^* $, is formed by changing the sign of the imaginary part. In other words:\n",
        "\n",
        "$$ \\bar{z} = a - bi $$\n",
        "\n",
        "### Properties\n",
        "\n",
        "1. The conjugate of a real number is the number itself: $ \\overline{a} = a $.\n",
        "\n",
        "2. The conjugate of a sum is the sum of the conjugates: $ \\overline{z_1 + z_2} = \\overline{z_1} + \\overline{z_2} $.\n",
        "\n",
        "3. The conjugate of a product is the product of the conjugates: $ \\overline{z_1 \\cdot z_2} = \\overline{z_1} \\cdot \\overline{z_2} $.\n",
        "\n",
        "4. The conjugate of a conjugate is the original number: $ \\overline{\\overline{z}} = z $.\n",
        "\n",
        "### Significance\n",
        "\n",
        "1. **Real and Imaginary Parts Separation**: The complex conjugate helps separate the real and imaginary parts of a complex number, which is useful in various mathematical operations.\n",
        "\n",
        "2. **Absolute Value (Modulus)**: The modulus (absolute value) of a complex number is calculated by taking the square root of the sum of the squares of its real and imaginary parts. The modulus of a complex number $ z $ is denoted as $ |z| $, and it's defined as $ |z| = \\sqrt{a^2 + b^2} $. The modulus is also equal to the square root of the product of a complex number and its conjugate: $ |z| = \\sqrt{z \\cdot \\overline{z}} $.\n",
        "\n",
        "3. **Division**: When dividing one complex number by another, the conjugate is often used in the denominator to rationalize the expression.\n",
        "\n",
        "4. **Orthogonality and Inner Products**: In the context of vectors, the complex conjugate plays a role in defining the inner product, which in turn is crucial in defining concepts like orthogonality and projection.\n",
        "\n",
        "### Example\n",
        "\n",
        "Consider the complex number $ z = 3 + 4i $. Its conjugate is\n",
        "$ \\bar{z} = 3 - 4i $. This means the real part of $ z $ remains unchanged, while the sign of the imaginary part is reversed.\n",
        "\n"
      ],
      "metadata": {
        "id": "VJxZUJgu4RGk"
      }
    },
    {
      "cell_type": "markdown",
      "source": [
        "### Python Implementation\n",
        "\n",
        "In Python, you can compute the complex conjugate using the `conjugate()` method of complex numbers, or simply by negating the imaginary part. For example:\n"
      ],
      "metadata": {
        "id": "TKbQuLfy45YX"
      }
    },
    {
      "cell_type": "code",
      "source": [
        "z = 3 + 4j\n",
        "conjugate_z = z.conjugate()\n",
        "print(\"Complex Conjugate of z:\", conjugate_z)  # Output: (3-4j)"
      ],
      "metadata": {
        "colab": {
          "base_uri": "https://localhost:8080/"
        },
        "id": "PIGifYlg4rek",
        "outputId": "4b318b10-8746-441a-d70c-e2ac90314a39"
      },
      "execution_count": null,
      "outputs": [
        {
          "output_type": "stream",
          "name": "stdout",
          "text": [
            "Complex Conjugate of z: (3-4j)\n"
          ]
        }
      ]
    },
    {
      "cell_type": "markdown",
      "source": [
        "### Or manually:"
      ],
      "metadata": {
        "id": "9C23bKyq4y9q"
      }
    },
    {
      "cell_type": "code",
      "source": [
        "z = 3 + 4j\n",
        "conjugate_z = z.real - z.imag * 1j\n",
        "print(\"Complex Conjugate of z:\", conjugate_z)  # Output: (3-4j)"
      ],
      "metadata": {
        "colab": {
          "base_uri": "https://localhost:8080/"
        },
        "id": "huqBKnKy4wFt",
        "outputId": "a4e13558-dc28-4bd8-98bf-805e671db38e"
      },
      "execution_count": null,
      "outputs": [
        {
          "output_type": "stream",
          "name": "stdout",
          "text": [
            "Complex Conjugate of z: (3-4j)\n"
          ]
        }
      ]
    },
    {
      "cell_type": "markdown",
      "source": [
        "\n",
        "## Euler's Formula\n",
        "\n",
        "Euler's formula establishes a fundamental relationship between the exponential function, trigonometric functions, and complex numbers. It is given by:\n",
        "\n",
        "$$e^{i θ} = \\cos(θ) + i  \\sin(θ) $$\n",
        "\n",
        "where:\n",
        "- `e` is the base of the natural logarithm (approximately 2.71828).\n",
        "- `i` is the imaginary unit.\n",
        "- `θ` is the angle in radians.\n",
        "\n",
        "Euler's formula is a special case of the Taylor series expansion of the exponential function `e^x`, where `x` is replaced by `i * θ`.\n",
        "\n",
        "Euler's formula is particularly useful for expressing complex numbers in polar form."
      ],
      "metadata": {
        "id": "_Q3AunJY3gS4"
      }
    },
    {
      "cell_type": "code",
      "source": [
        "\n"
      ],
      "metadata": {
        "colab": {
          "base_uri": "https://localhost:8080/"
        },
        "id": "owF0LpEs4eqj",
        "outputId": "367a1183-b005-4ac9-db9f-d43cfbf7a5e8"
      },
      "execution_count": null,
      "outputs": [
        {
          "output_type": "stream",
          "name": "stdout",
          "text": [
            "Complex Conjugate of z: (3-4j)\n",
            "Complex Conjugate of z: (3-4j)\n"
          ]
        }
      ]
    },
    {
      "cell_type": "markdown",
      "source": [
        "## Example\n",
        "\n",
        "Let's illustrate Euler's formula with an example:"
      ],
      "metadata": {
        "id": "CcxDQMBX4Duj"
      }
    },
    {
      "cell_type": "code",
      "source": [
        "import numpy as np\n",
        "\n",
        "# Define an angle in radians\n",
        "theta = np.pi / 4  # 45 degrees\n",
        "\n",
        "# Calculate e^(i * theta)\n",
        "euler_result = np.exp(1j * theta)\n",
        "\n",
        "# Calculate the corresponding cosine and sine\n",
        "cos_theta = np.cos(theta)\n",
        "sin_theta = np.sin(theta)\n",
        "\n",
        "print(\"Euler's formula result:\", euler_result)\n",
        "print(\"Cosine of theta:\", cos_theta)\n",
        "print(\"Sine of theta:\", sin_theta)"
      ],
      "metadata": {
        "colab": {
          "base_uri": "https://localhost:8080/"
        },
        "id": "8_h7RPCW3g_j",
        "outputId": "0cd0192c-e038-46ea-8b2a-8487a7e7cd2d"
      },
      "execution_count": 7,
      "outputs": [
        {
          "output_type": "stream",
          "name": "stdout",
          "text": [
            "Euler's formula result: (0.7071067811865476+0.7071067811865475j)\n",
            "Cosine of theta: 0.7071067811865476\n",
            "Sine of theta: 0.7071067811865475\n"
          ]
        }
      ]
    },
    {
      "cell_type": "code",
      "source": [],
      "metadata": {
        "id": "JlN9I_iP3yz4"
      },
      "execution_count": null,
      "outputs": []
    }
  ]
}