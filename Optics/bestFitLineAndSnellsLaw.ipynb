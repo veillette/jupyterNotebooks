{
  "nbformat": 4,
  "nbformat_minor": 0,
  "metadata": {
    "colab": {
      "private_outputs": true,
      "provenance": [],
      "authorship_tag": "ABX9TyPFPFkNYTuPSKsoHBxmeK6Y",
      "include_colab_link": true
    },
    "kernelspec": {
      "name": "python3",
      "display_name": "Python 3"
    },
    "language_info": {
      "name": "python"
    }
  },
  "cells": [
    {
      "cell_type": "markdown",
      "metadata": {
        "id": "view-in-github",
        "colab_type": "text"
      },
      "source": [
        "<a href=\"https://colab.research.google.com/github/veillette/jupyterNotebooks/blob/main/Optics/bestFitLineAndSnellsLaw.ipynb\" target=\"_parent\"><img src=\"https://colab.research.google.com/assets/colab-badge.svg\" alt=\"Open In Colab\"/></a>"
      ]
    },
    {
      "cell_type": "code",
      "source": [
        "# import numpy as np\n",
        "import numpy as np\n",
        "\n",
        "# Import non-linear least squares to fit a function, f, to data.\n",
        "from scipy.optimize import curve_fit\n",
        "\n",
        "# Library to plot data\n",
        "import matplotlib.pyplot as plt"
      ],
      "metadata": {
        "id": "qDOO9CN7618I"
      },
      "execution_count": null,
      "outputs": []
    },
    {
      "cell_type": "code",
      "source": [
        "def fitRelation( x, n):\n",
        "    return n * x"
      ],
      "metadata": {
        "id": "UodopB-L7nJo"
      },
      "execution_count": null,
      "outputs": []
    },
    {
      "cell_type": "code",
      "source": [
        "# Generate some data points\n",
        "angles_of_incidence = np.linspace(0, np.pi/2, 100)\n",
        "sines_of_incidence = np.sin(angles_of_incidence)\n",
        "sines_of_refraction = 1.2 * sines_of_incidence"
      ],
      "metadata": {
        "id": "-cRcm88m76nD"
      },
      "execution_count": null,
      "outputs": []
    },
    {
      "cell_type": "code",
      "source": [
        "# Sample data\n",
        "angles_of_incidence = np.array([0,10,20,30,40,50])\n",
        "angles_of_refraction = np.array([0,13,25,35,45,58])\n",
        "sines_of_incidence = np.sin(angles_of_incidence*np.pi/180)\n",
        "sines_of_refraction = np.sin(angles_of_refraction*np.pi/180)\n"
      ],
      "metadata": {
        "id": "y49NpzPM62qf"
      },
      "execution_count": null,
      "outputs": []
    },
    {
      "cell_type": "code",
      "source": [
        "# Perform the weighted least squares fit\n",
        "params, covariance = curve_fit(fitRelation, sines_of_incidence, sines_of_refraction)\n",
        "\n",
        "# Extract the optimized parameters\n",
        "n_opt = params\n",
        "\n",
        "# Calculate the standard deviation of the parameters\n",
        "n_opt_std_dev = np.sqrt(np.diag(covariance))"
      ],
      "metadata": {
        "id": "jdvdHl0d8P1U"
      },
      "execution_count": null,
      "outputs": []
    },
    {
      "cell_type": "code",
      "source": [
        "# Display the optimized parameters and their standard deviations\n",
        "print(\"Optimized parameters:\")\n",
        "print(f\"n = {n_opt} ± {n_opt_std_dev}\")\n"
      ],
      "metadata": {
        "id": "6pHQpD0Y8Sjw"
      },
      "execution_count": null,
      "outputs": []
    },
    {
      "cell_type": "markdown",
      "source": [],
      "metadata": {
        "id": "iHbmZbpV6dpv"
      }
    },
    {
      "cell_type": "code",
      "source": [
        "# Plot the data\n",
        "plt.plot(sines_of_incidence, sines_of_refraction, 'o')\n",
        "\n",
        "# the best fit line\n",
        "angles_of_incidence = np.linspace(0, 80, 100)\n",
        "x = np.sin(angles_of_incidence*np.pi/180)\n",
        "y = fitRelation(x, n_opt)\n",
        "plt.plot(x, y)\n",
        "\n",
        "# Label the axes and show the plot\n",
        "plt.xlabel('Sine of Incidence Angle')\n",
        "plt.ylabel('Sine of Refracted Angle')\n",
        "plt.title('Best Fit Line for Snell\\'s Law')\n",
        "plt.show()"
      ],
      "metadata": {
        "id": "1Ga7-uJ67Ctg"
      },
      "execution_count": null,
      "outputs": []
    }
  ]
}