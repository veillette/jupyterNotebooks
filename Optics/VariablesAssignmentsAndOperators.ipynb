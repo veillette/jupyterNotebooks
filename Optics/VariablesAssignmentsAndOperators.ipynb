{
  "cells": [
    {
      "cell_type": "markdown",
      "metadata": {
        "id": "view-in-github",
        "colab_type": "text"
      },
      "source": [
        "<a href=\"https://colab.research.google.com/github/veillette/jupyterNotebooks/blob/main/Optics/VariablesAssignmentsAndOperators.ipynb\" target=\"_parent\"><img src=\"https://colab.research.google.com/assets/colab-badge.svg\" alt=\"Open In Colab\"/></a>"
      ]
    },
    {
      "metadata": {
        "id": "Ny9M1yB9u_im"
      },
      "cell_type": "markdown",
      "source": [
        "# Introduction\n",
        "\n",
        "We begin with assignment to variables and familiar mathematical operations.\n",
        "\n",
        "\n",
        "## Objectives\n",
        "\n",
        "- Introduce expressions and basic operators\n",
        "- Introduce operator precedence\n",
        "- Understand variables and assignment"
      ]
    },
    {
      "metadata": {
        "id": "KhpbkbvLu_io"
      },
      "cell_type": "markdown",
      "source": [
        "# Evaluating expressions: simple operators\n",
        "\n",
        "We can use Python like a calculator. Consider the simple expression $3 + 8$. We can evaluate and print this by:"
      ]
    },
    {
      "metadata": {
        "trusted": true,
        "id": "OppJ10QAu_ip",
        "outputId": "daa7ab72-2a4a-4369-8940-0c8cad9f6839"
      },
      "cell_type": "code",
      "source": [
        "3 + 8"
      ],
      "execution_count": null,
      "outputs": [
        {
          "output_type": "execute_result",
          "execution_count": 1,
          "data": {
            "text/plain": "11"
          },
          "metadata": {}
        }
      ]
    },
    {
      "metadata": {
        "id": "-6S3X1DVu_iq"
      },
      "cell_type": "markdown",
      "source": [
        "Another simple calculation is the gravitational potential $V$ of a body of mass $m$ (point mass) at a distance $r$ from a body of mass $M$, which is given by\n",
        "\n",
        "$$\n",
        "V = \\frac{G M m}{r}\n",
        "$$\n",
        "\n",
        "where $G$ is the *gravitational constant*. A good approximation is $G = 6.674 \\times 10^{-11}$ N m$^{2}$ kg$^{-2}$.\n",
        "\n",
        "For the case $M = 1.65 \\times 10^{12}$ kg, $m = 6.1 \\times 10^2$ kg and $r = 7.0 \\times 10^3$ m, we can compute the  gravitational potential $V$:"
      ]
    },
    {
      "metadata": {
        "trusted": true,
        "id": "KEpEjs69u_iq",
        "outputId": "f1a2bd75-a729-4667-c63f-02feac6f9ff5"
      },
      "cell_type": "code",
      "source": [
        "6.674e-11*1.65e12*6.1e2/7.0e3"
      ],
      "execution_count": null,
      "outputs": [
        {
          "output_type": "execute_result",
          "execution_count": 2,
          "data": {
            "text/plain": "9.59625857142857"
          },
          "metadata": {}
        }
      ]
    },
    {
      "metadata": {
        "id": "Fto3wj7ju_ir"
      },
      "cell_type": "markdown",
      "source": [
        "We have used 'scientific notation' to input the values. For example, the number $8 \\times 10^{-2}$ can be input as `0.08` or `8e-2`. We can easily verify that the two are the same via subtraction:"
      ]
    },
    {
      "metadata": {
        "trusted": true,
        "id": "Pe3SFMbmu_ir",
        "outputId": "a911547f-f37d-46a8-ff9d-ab38fba34ea8"
      },
      "cell_type": "code",
      "source": [
        "0.08 - 8e-2"
      ],
      "execution_count": null,
      "outputs": [
        {
          "output_type": "execute_result",
          "execution_count": 3,
          "data": {
            "text/plain": "0.0"
          },
          "metadata": {}
        }
      ]
    },
    {
      "metadata": {
        "id": "Xo981h1fu_ir"
      },
      "cell_type": "markdown",
      "source": [
        "A common operation is raising a number to a power. To compute $3^4$:"
      ]
    },
    {
      "metadata": {
        "trusted": true,
        "id": "xwGDhck0u_ir",
        "outputId": "e18ef6d9-226e-4862-e519-b9df94d231ca"
      },
      "cell_type": "code",
      "source": [
        "3**4"
      ],
      "execution_count": null,
      "outputs": [
        {
          "output_type": "execute_result",
          "execution_count": 4,
          "data": {
            "text/plain": "81"
          },
          "metadata": {}
        }
      ]
    },
    {
      "metadata": {
        "id": "Nw5Ns88nu_is"
      },
      "cell_type": "markdown",
      "source": [
        "The remainder is computed using the modulus operator '`%`':"
      ]
    },
    {
      "metadata": {
        "trusted": true,
        "id": "o9dPChyJu_is",
        "outputId": "bfe70b50-0038-4c40-a5c7-37bc57724632"
      },
      "cell_type": "code",
      "source": [
        "11 % 3"
      ],
      "execution_count": null,
      "outputs": [
        {
          "output_type": "execute_result",
          "execution_count": 5,
          "data": {
            "text/plain": "2"
          },
          "metadata": {}
        }
      ]
    },
    {
      "metadata": {
        "id": "g5jHCEDJu_is"
      },
      "cell_type": "markdown",
      "source": [
        "To get the quotient we use 'floor division', which uses the symbol '`//`':"
      ]
    },
    {
      "metadata": {
        "trusted": true,
        "id": "AEiUZrodu_is",
        "outputId": "435f2d44-8326-45a4-d6ba-298b5b56130e"
      },
      "cell_type": "code",
      "source": [
        "11 // 3"
      ],
      "execution_count": null,
      "outputs": [
        {
          "output_type": "execute_result",
          "execution_count": 6,
          "data": {
            "text/plain": "3"
          },
          "metadata": {}
        }
      ]
    },
    {
      "metadata": {
        "id": "JuSG3rRxu_is"
      },
      "cell_type": "markdown",
      "source": [
        "# Operator precedence\n",
        "\n",
        "Operator precedence refers to the order in which operations are performed, e.g. multiplication before addition.\n",
        "In the preceding examples, there was no ambiguity as to the order of the operations. However, there are common cases where order does matter, and there are two points to consider:\n",
        "\n",
        "- The expression should be evaluated correctly; and\n",
        "- The expression should be simple enough for someone else reading the code to understand what operation is being\n",
        "  performed.\n",
        "\n",
        "It is possible to write code that is correct, but which might be very difficult for someone else (or you) to check.\n",
        "\n",
        "Most programming languages, including Python, follow the usual mathematical rules for precedence. We explore this through some examples."
      ]
    },
    {
      "metadata": {
        "id": "khLWXicHu_is"
      },
      "cell_type": "markdown",
      "source": [
        "Consider the expression $4 \\cdot (7 - 2) = 20$. If we are careless,"
      ]
    },
    {
      "metadata": {
        "trusted": true,
        "id": "kMtM8w8yu_is",
        "outputId": "cd1a2d03-1833-4219-9d22-f429829d7d5d"
      },
      "cell_type": "code",
      "source": [
        "4*7 - 2"
      ],
      "execution_count": null,
      "outputs": [
        {
          "output_type": "execute_result",
          "execution_count": 7,
          "data": {
            "text/plain": "26"
          },
          "metadata": {}
        }
      ]
    },
    {
      "metadata": {
        "id": "S3nDxqw2u_is"
      },
      "cell_type": "markdown",
      "source": [
        "In the above, `4*7` is evaluated first, then `2` is subtracted because multiplication (`*`) comes before subtraction (`-`) in terms of precedence. We can control the order of the operation using brackets, just as we would on paper:"
      ]
    },
    {
      "metadata": {
        "trusted": true,
        "id": "iLFG_OfZu_it",
        "outputId": "044383a1-41ea-4f6b-d0de-51c5ecc7219b"
      },
      "cell_type": "code",
      "source": [
        "4*(7 - 2)"
      ],
      "execution_count": null,
      "outputs": [
        {
          "output_type": "execute_result",
          "execution_count": 8,
          "data": {
            "text/plain": "20"
          },
          "metadata": {}
        }
      ]
    },
    {
      "metadata": {
        "id": "lZSO7sO6u_it"
      },
      "cell_type": "markdown",
      "source": [
        "A common example where readability is a concern is\n",
        "\n",
        "$$\n",
        "\\frac{10}{2 \\times 50} = 0.1\n",
        "$$\n",
        "\n",
        "The code"
      ]
    },
    {
      "metadata": {
        "trusted": true,
        "id": "nbhxuEEcu_it",
        "outputId": "b0fc0cb5-9aab-440e-abf2-794669071f72"
      },
      "cell_type": "code",
      "source": [
        "10/2*50"
      ],
      "execution_count": null,
      "outputs": [
        {
          "output_type": "execute_result",
          "execution_count": 9,
          "data": {
            "text/plain": "250.0"
          },
          "metadata": {}
        }
      ]
    },
    {
      "metadata": {
        "id": "H06AucWzu_it"
      },
      "cell_type": "markdown",
      "source": [
        "is incorrect. The multiplication and division have the same precedence, so the expression is evaluated 'left-to-right'. The correct result is computed from"
      ]
    },
    {
      "metadata": {
        "trusted": true,
        "id": "Go_aFlUMu_it",
        "outputId": "e3b56e01-dbfa-4256-b251-f71fb05c57fc"
      },
      "cell_type": "code",
      "source": [
        "10/2/50"
      ],
      "execution_count": null,
      "outputs": [
        {
          "output_type": "execute_result",
          "execution_count": 10,
          "data": {
            "text/plain": "0.1"
          },
          "metadata": {}
        }
      ]
    },
    {
      "metadata": {
        "id": "SOPGHZocu_it"
      },
      "cell_type": "markdown",
      "source": [
        "but this is hard to read and could easily lead to errors in a program. I would recommend using brackets to make the order clear:"
      ]
    },
    {
      "metadata": {
        "trusted": true,
        "id": "5gDlvcjzu_it",
        "outputId": "d5aa0da5-8f1c-48d6-9183-fd0c5a5ac0cf"
      },
      "cell_type": "code",
      "source": [
        "10/(2*50)"
      ],
      "execution_count": null,
      "outputs": [
        {
          "output_type": "execute_result",
          "execution_count": 11,
          "data": {
            "text/plain": "0.1"
          },
          "metadata": {}
        }
      ]
    },
    {
      "metadata": {
        "id": "Q7H5k6PFu_it"
      },
      "cell_type": "markdown",
      "source": [
        "Here is an example that computes $2^{3} \\cdot 4 = 32$ which is technically correct but not ideal in terms of readability:"
      ]
    },
    {
      "metadata": {
        "trusted": true,
        "id": "kV2FENT5u_it",
        "outputId": "3bac6e58-00f8-4f30-a79f-fcceeb15c7fa"
      },
      "cell_type": "code",
      "source": [
        "2**3*4"
      ],
      "execution_count": null,
      "outputs": [
        {
          "output_type": "execute_result",
          "execution_count": 12,
          "data": {
            "text/plain": "32"
          },
          "metadata": {}
        }
      ]
    },
    {
      "metadata": {
        "id": "G6WiJfRiu_it"
      },
      "cell_type": "markdown",
      "source": [
        "Better would be:"
      ]
    },
    {
      "metadata": {
        "trusted": true,
        "id": "qBohvSHgu_iu",
        "outputId": "53c2aa81-44c9-4f06-eb07-c5a87ff1e73c"
      },
      "cell_type": "code",
      "source": [
        "(2**3)*4"
      ],
      "execution_count": null,
      "outputs": [
        {
          "output_type": "execute_result",
          "execution_count": 13,
          "data": {
            "text/plain": "32"
          },
          "metadata": {}
        }
      ]
    },
    {
      "metadata": {
        "id": "5Tip4dAvu_iu"
      },
      "cell_type": "markdown",
      "source": [
        "# Variables and assignment\n",
        "\n",
        "The above code snippets were helpful for doing some arithmetic, but we could easily do the same with a pocket calculator. Also, the snippets are not very helpful if we want to change the value of one of the numbers in an expression, and not very helpful if we wanted to use the value of the expression in a subsequent computation. To improve things, we need *assignment*.\n",
        "\n",
        "When we compute something, we usually want to store the result so that we can use it in subsequent computations. *Variables* are what we use to store something, e.g.:"
      ]
    },
    {
      "metadata": {
        "trusted": true,
        "id": "lCsiDnf9u_iu",
        "outputId": "64c24d11-514f-4980-a44a-3c1d665e154b"
      },
      "cell_type": "code",
      "source": [
        "c = 10\n",
        "print(c)"
      ],
      "execution_count": null,
      "outputs": [
        {
          "output_type": "stream",
          "text": "10\n",
          "name": "stdout"
        }
      ]
    },
    {
      "metadata": {
        "id": "pyXQTTOtu_iu"
      },
      "cell_type": "markdown",
      "source": [
        "Above, the variable `c` is used to 'hold' the value `10`. The function `print` is used to print the value of a variable to the output (more on functions later).\n",
        "\n",
        "Say we want to compute $c = a + b$, where $a = 2$ and $b = 11$:"
      ]
    },
    {
      "metadata": {
        "trusted": true,
        "id": "qFvrvuZmu_iu",
        "outputId": "c210177f-a462-46ed-f81e-9bbd51c053f5"
      },
      "cell_type": "code",
      "source": [
        "a = 2\n",
        "b = 11\n",
        "c = a + b\n",
        "print(c)"
      ],
      "execution_count": null,
      "outputs": [
        {
          "output_type": "stream",
          "text": "13\n",
          "name": "stdout"
        }
      ]
    },
    {
      "metadata": {
        "id": "1W04ZJ0lu_iu"
      },
      "cell_type": "markdown",
      "source": [
        "What is happening above is that the expression on the right-hand side of the assignment operator '`=`' is evaluated and then stored as the variable on the left-hand side. You can think of the variable as a 'handle' for a value.\n",
        "If we want to change the value of $a$ to $4$ and recompute the sum, we would just replace `a = 2` with `a = 4` and execute the code (try this yourself by running this notebook interactively).\n",
        "\n",
        "The above looks much like standard algebra. There are however some subtle differences. Take for example:"
      ]
    },
    {
      "metadata": {
        "trusted": true,
        "id": "C46uGRDiu_iu",
        "outputId": "4a2870af-8466-4318-91c7-79ac88091f77"
      },
      "cell_type": "code",
      "source": [
        "a = 2\n",
        "b = 11\n",
        "a = a + b\n",
        "print(a)"
      ],
      "execution_count": null,
      "outputs": [
        {
          "output_type": "stream",
          "text": "13\n",
          "name": "stdout"
        }
      ]
    },
    {
      "metadata": {
        "id": "QgKot54Ou_iu"
      },
      "cell_type": "markdown",
      "source": [
        "This is not a valid algebraic statement since '`a`' appears on both sides of '`=`', but it is a very common statement in a computer program. What happens is that the expression on the right-hand side is evaluated (the values assigned to `a` and `b` are summed), and the result is assigned to the left-hand side (to the variable `a`). There is a mathematical notation for this type of assignment:\n",
        "\n",
        "$$\n",
        "a \\leftarrow a +b\n",
        "$$\n",
        "\n",
        "which says 'sum $a$ and $b$, and copy the result to $a$'. You will see this notation in some books, especially when looking at *algorithms*."
      ]
    },
    {
      "metadata": {
        "id": "KHRxaYyuu_iv"
      },
      "cell_type": "markdown",
      "source": [
        "## Shortcuts\n",
        "\n",
        "Adding or subtracting variables is such a common operation that most languages provides shortcuts. For addition:"
      ]
    },
    {
      "metadata": {
        "trusted": true,
        "id": "9kPZF5Ugu_iv",
        "outputId": "8f88196a-7144-44db-fef7-24071b5e0fb7"
      },
      "cell_type": "code",
      "source": [
        "# Long-hand addition\n",
        "a = 1\n",
        "a = a + 4\n",
        "print(a)\n",
        "\n",
        "# Short-hand addition\n",
        "a = 1\n",
        "a += 4\n",
        "print(a)"
      ],
      "execution_count": null,
      "outputs": [
        {
          "output_type": "stream",
          "text": "5\n5\n",
          "name": "stdout"
        }
      ]
    },
    {
      "metadata": {
        "id": "gBdfPgieu_iv"
      },
      "cell_type": "markdown",
      "source": [
        "> In Python, any text following the hash (`#`) symbol is a 'comment'. Comments are not executed by the program;\n",
        "> they help us document and explain what our programs do. Use lots of comments in your programs.\n",
        "\n",
        "For subtraction:"
      ]
    },
    {
      "metadata": {
        "trusted": true,
        "id": "wA09_lS-u_iv",
        "outputId": "71e82be4-8737-40f4-c76e-2ea78b5fa622"
      },
      "cell_type": "code",
      "source": [
        "# Long-hand subtraction\n",
        "a = 1\n",
        "b = 4\n",
        "a = a - b\n",
        "print(a)\n",
        "\n",
        "# Short-hand subtraction\n",
        "a = 1\n",
        "b = 4\n",
        "a -= b\n",
        "print(a)"
      ],
      "execution_count": null,
      "outputs": [
        {
          "output_type": "stream",
          "text": "-3\n-3\n",
          "name": "stdout"
        }
      ]
    },
    {
      "metadata": {
        "id": "kofeaaPpu_i1"
      },
      "cell_type": "markdown",
      "source": [
        "Analogous assignment operators exist for multiplication and division:"
      ]
    },
    {
      "metadata": {
        "trusted": true,
        "id": "bwAKhzDGu_i2",
        "outputId": "e033cdc8-cfb6-4e1f-cee8-3df1a2f054e5"
      },
      "cell_type": "code",
      "source": [
        "# Long-hand multiplication\n",
        "a = 10\n",
        "c = 2\n",
        "a = c*a\n",
        "print(a)\n",
        "\n",
        "# Short-hand multiplication\n",
        "a = 10\n",
        "c = 2\n",
        "a *= c\n",
        "print(a)\n",
        "\n",
        "# Long-hand division\n",
        "a = 1\n",
        "a = a/4\n",
        "print(a)\n",
        "\n",
        "# Short-hand division\n",
        "a = 1\n",
        "a /= 4\n",
        "print(a)"
      ],
      "execution_count": null,
      "outputs": [
        {
          "output_type": "stream",
          "text": "20\n20\n0.25\n0.25\n",
          "name": "stdout"
        }
      ]
    },
    {
      "metadata": {
        "id": "E-JosCYau_i2"
      },
      "cell_type": "markdown",
      "source": [
        "## Naming variables\n",
        "\n",
        "It is good practice to use meaningful variable names in a computer program. Say you used  '`x`' for time, and '`t`' for position, you or someone else will almost certainly make errors at some point.\n",
        "If you do not use well considered variable names:\n",
        "\n",
        "1. You're much more likely to make errors.\n",
        "1. When you come back to your program after some time, you will have trouble recalling and understanding\n",
        "   what the program does.\n",
        "1. It will be difficult for others to understand your program - serious programming is almost always a team effort.\n",
        "\n",
        "Languages have rules for what charcters can be used in variable names. As a rough guide, in Python variable names can use letters and digits, but cannot start with a digit.\n",
        "\n",
        "Sometimes for readability it is useful to have variable names that are made up of two words. A convention is\n",
        "to separate the words in the variable name using an underscore '`_`'. For example, a good variable name for storing the number of days would be\n",
        "```python\n",
        "num_days = 10\n",
        "```\n",
        "Python is a case-sensitive language, e.g. the variables '`A`' and '`a`' are different. Some languages, such as\n",
        "Fortran, are case-insensitive.\n",
        "\n",
        "Languages have reserved keywords that cannot be used as variable names as they are used for other purposes. The reserved keywords in Python are:"
      ]
    },
    {
      "metadata": {
        "trusted": true,
        "id": "rHVH12sYu_i2",
        "outputId": "e267c097-440c-4613-faf2-e516142224c1"
      },
      "cell_type": "code",
      "source": [
        "import keyword\n",
        "print(keyword.kwlist)"
      ],
      "execution_count": null,
      "outputs": [
        {
          "output_type": "stream",
          "text": "['False', 'None', 'True', 'and', 'as', 'assert', 'break', 'class', 'continue', 'def', 'del', 'elif', 'else', 'except', 'finally', 'for', 'from', 'global', 'if', 'import', 'in', 'is', 'lambda', 'nonlocal', 'not', 'or', 'pass', 'raise', 'return', 'try', 'while', 'with', 'yield']\n",
          "name": "stdout"
        }
      ]
    },
    {
      "metadata": {
        "id": "k_f1D3Yiu_i2"
      },
      "cell_type": "markdown",
      "source": [
        "If you try to assign something to a reserved keyword, you will get an error.\n",
        "\n",
        "Python 3 supports Unicode, which allows you to use a very wide range of symbols, including Greek characters:"
      ]
    },
    {
      "metadata": {
        "trusted": true,
        "id": "Qs-qdCE2u_i2",
        "outputId": "c53c8aba-f11f-4e42-a935-f08498ce5bf8"
      },
      "cell_type": "code",
      "source": [
        "θ = 10\n",
        "α = 12\n",
        "β = θ + α\n",
        "print(β)\n",
        "\n"
      ],
      "execution_count": null,
      "outputs": [
        {
          "output_type": "stream",
          "text": "22\n",
          "name": "stdout"
        }
      ]
    },
    {
      "metadata": {
        "id": "c8aUqKowu_i2"
      },
      "cell_type": "markdown",
      "source": [
        "Greek symbols and other symbols can be input in a Jupyter notebook by typing the LaTeX command for the symbol and then pressing the `tab` key, e.g. '`\\theta`' followed by pressing the `tab` key. (this doesn't work in Colab but it works in many other installations)\n"
      ]
    },
    {
      "metadata": {
        "id": "dkGwDztwu_i3"
      },
      "cell_type": "markdown",
      "source": [
        "\n"
      ]
    }
  ],
  "metadata": {
    "kernelspec": {
      "name": "python3",
      "display_name": "Python 3",
      "language": "python"
    },
    "language_info": {
      "mimetype": "text/x-python",
      "nbconvert_exporter": "python",
      "name": "python",
      "file_extension": ".py",
      "version": "3.5.4",
      "pygments_lexer": "ipython3",
      "codemirror_mode": {
        "version": 3,
        "name": "ipython"
      }
    },
    "colab": {
      "provenance": [],
      "include_colab_link": true
    }
  },
  "nbformat": 4,
  "nbformat_minor": 0
}