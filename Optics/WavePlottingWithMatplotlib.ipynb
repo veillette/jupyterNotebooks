{
  "nbformat": 4,
  "nbformat_minor": 0,
  "metadata": {
    "colab": {
      "private_outputs": true,
      "provenance": [],
      "authorship_tag": "ABX9TyMDIYVbomVYEkEfx+UKZvtf",
      "include_colab_link": true
    },
    "kernelspec": {
      "name": "python3",
      "display_name": "Python 3"
    },
    "language_info": {
      "name": "python"
    }
  },
  "cells": [
    {
      "cell_type": "markdown",
      "metadata": {
        "id": "view-in-github",
        "colab_type": "text"
      },
      "source": [
        "<a href=\"https://colab.research.google.com/github/veillette/jupyterNotebooks/blob/main/Optics/WavePlottingWithMatplotlib.ipynb\" target=\"_parent\"><img src=\"https://colab.research.google.com/assets/colab-badge.svg\" alt=\"Open In Colab\"/></a>"
      ]
    },
    {
      "cell_type": "code",
      "execution_count": null,
      "metadata": {
        "id": "e-Z-D7-OiFaO"
      },
      "outputs": [],
      "source": [
        "import numpy as np\n",
        "import matplotlib.pyplot as plt"
      ]
    },
    {
      "cell_type": "code",
      "source": [
        "# Create a numpy array of x-values\n",
        "x = np.linspace(0, 2*np.pi, 100)\n",
        "\n",
        "def wave(t, wavelength=2*np.pi, amplitude=1, speed=1, phase=0):\n",
        "  k= 2*np.pi/wavelength\n",
        "  ω = speed/k\n",
        "  y = amplitude*np.sin( k* x - ω*t + phase)\n",
        "  # Calculate the sine of each x-value\n",
        "  return y"
      ],
      "metadata": {
        "id": "1ENUQvQ4insi"
      },
      "execution_count": null,
      "outputs": []
    },
    {
      "cell_type": "code",
      "source": [
        "# Plot the sine functions\n",
        "plt.plot(x, wave(0))\n",
        "plt.plot(x, wave(1),'b')\n",
        "plt.plot(x, wave(2),'r')\n",
        "plt.plot(x, wave(3),'y+')\n",
        "plt.plot(x, wave(4))\n",
        "plt.plot(x, wave(5), color='green', marker='o', linestyle='dashed',\n",
        "     linewidth=2, markersize=1)\n",
        "plt.xlabel('x')\n",
        "plt.ylabel('y')\n",
        "plt.title('Sine Function')\n",
        "plt.show()"
      ],
      "metadata": {
        "id": "Sl8auPuUiPEi"
      },
      "execution_count": null,
      "outputs": []
    },
    {
      "cell_type": "code",
      "source": [],
      "metadata": {
        "id": "kpJx00FNiPFY"
      },
      "execution_count": null,
      "outputs": []
    }
  ]
}