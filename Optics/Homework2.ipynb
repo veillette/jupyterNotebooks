{
  "nbformat": 4,
  "nbformat_minor": 0,
  "metadata": {
    "colab": {
      "private_outputs": true,
      "provenance": [],
      "authorship_tag": "ABX9TyOLkGGU3/BhSEa5XqEO1DHk",
      "include_colab_link": true
    },
    "kernelspec": {
      "name": "python3",
      "display_name": "Python 3"
    },
    "language_info": {
      "name": "python"
    }
  },
  "cells": [
    {
      "cell_type": "markdown",
      "metadata": {
        "id": "view-in-github",
        "colab_type": "text"
      },
      "source": [
        "<a href=\"https://colab.research.google.com/github/veillette/jupyterNotebooks/blob/main/Optics/Homework2.ipynb\" target=\"_parent\"><img src=\"https://colab.research.google.com/assets/colab-badge.svg\" alt=\"Open In Colab\"/></a>"
      ]
    },
    {
      "cell_type": "markdown",
      "source": [
        "# Homework on Lenses and Mirror"
      ],
      "metadata": {
        "id": "G2XggDYrVD1R"
      }
    },
    {
      "cell_type": "markdown",
      "source": [
        "\n",
        "### *Problem 1:*  \n",
        "\n",
        "Electric room heaters use a concave mirror to reflect infrared (IR) radiation from hot coils. Note that IR radiation follows the same law of reflection as visible light. Given that the mirror has a radius of curvature of 50.0 cm and produces an image of the coils 3.00 m away from the mirror, where are the coils? Calculate the intensity of IR radiation in W/m<sup>2</sup> projected by the concave mirror on a person 3.00 m away. Assume that the heating element radiates 1500 W and has an area of 100 cm<sup>2</sup>, and that half of the radiated power is reflected and focused by the mirror."
      ],
      "metadata": {
        "id": "BTqlvrBaVJCz"
      }
    },
    {
      "cell_type": "code",
      "source": [],
      "metadata": {
        "id": "okFeEo0gVVZA"
      },
      "execution_count": null,
      "outputs": []
    },
    {
      "cell_type": "markdown",
      "source": [
        "### *Problem 2:*  \n",
        "\n",
        "A person holds an object that is 1.30 cm tall at a distance of 2.90 cm from their cornea, and the measured height of the reflected image is 0.137 cm.\n",
        " - (a) Determine the magnification.\n",
        " - (b) Identify the location of the image.\n",
        " - (c) Calculate the radius of curvature of the convex mirror created by the cornea.\n",
        "\n",
        " Note: This method, utilizing a keratometer or curve measurer, is commonly employed by optometrists to assess corneal curvature for contact lens fitting."
      ],
      "metadata": {
        "id": "7YgrY9xxV9CM"
      }
    },
    {
      "cell_type": "code",
      "source": [],
      "metadata": {
        "id": "AU7EevUaW0VY"
      },
      "execution_count": null,
      "outputs": []
    },
    {
      "cell_type": "markdown",
      "source": [
        "### *Problem 3*\n",
        "\n",
        "On a jupyter Notebook, one can write markdown notes. Markdown is a large specification, and we shall not go into the details of it. However, you should know that it is possible to write Latex equation using Markdown.\n",
        "For instance, one can easily write\n",
        "$$ \\vec{F} = m\\vec{a} $$\n",
        "or\n",
        "$$\\oint \\vec{E} \\times d \\vec{s} = 0 $$\n",
        "\n",
        "Latex is the Lingua Franca for scientists, so it is worth learning it.\n",
        "You can find a cheat sheet to type latex math. Here is one of them: https://www.cmor-faculty.rice.edu/~heinken/latex/symbols.pdf\n",
        "\n",
        "For this problem, you are merely asked to type the Maxwell's Equations using latex, as well as the equation for the optical Length (Following Fermat's Principle)."
      ],
      "metadata": {
        "id": "OAJBNUfdYtyY"
      }
    },
    {
      "cell_type": "markdown",
      "source": [
        "\n"
      ],
      "metadata": {
        "id": "klXFWjI2bom8"
      }
    }
  ]
}
