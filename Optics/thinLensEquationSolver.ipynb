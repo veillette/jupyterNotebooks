{
  "nbformat": 4,
  "nbformat_minor": 0,
  "metadata": {
    "colab": {
      "private_outputs": true,
      "provenance": [],
      "cell_execution_strategy": "setup",
      "authorship_tag": "ABX9TyNbz+zZO9z0lliMqLjy1zHa",
      "include_colab_link": true
    },
    "kernelspec": {
      "name": "python3",
      "display_name": "Python 3"
    },
    "language_info": {
      "name": "python"
    }
  },
  "cells": [
    {
      "cell_type": "markdown",
      "metadata": {
        "id": "view-in-github",
        "colab_type": "text"
      },
      "source": [
        "<a href=\"https://colab.research.google.com/github/veillette/jupyterNotebooks/blob/main/Optics/thinLensEquationSolver.ipynb\" target=\"_parent\"><img src=\"https://colab.research.google.com/assets/colab-badge.svg\" alt=\"Open In Colab\"/></a>"
      ]
    },
    {
      "cell_type": "markdown",
      "source": [
        "# Geometric Optics with Thin Lens Equations\n",
        "\n",
        "In this notebook, we'll delve into the principles behind their behavior using the thin lens equations. These equations provide a fundamental understanding of how light rays interact with lenses and mirrors, enabling us to calculate crucial parameters such as focal length, object distance, image distance, and magnification.\n",
        "\n",
        "## Overview\n",
        "\n",
        "Geometric optics deals with the propagation of light and its interaction with optical elements such as lenses and mirrors. The thin lens equations are essential tools in understanding and analyzing the behavior of lenses. These equations relate the focal length (f), object distance (d_o), and image distance (d_i) for a lens. Additionally, we'll explore the concept of\n",
        "lateral magnification, which describes how much larger or smaller an image appears relative to the object.\n",
        "\n",
        "## Functions Included\n",
        "\n",
        "In this notebook, we've provided Python functions to help you perform calculations related to thin lens equations and magnification:\n",
        "\n",
        "1. **Thin Lens Equation Solver**: This function allows you to solve for the focal length (f), object distance (d_o), or image distance (d_i) given the other two parameters using the thin lens equation.\n",
        "   \n",
        "2. **Magnification Calculator**: Use this function to calculate the magnification of a lens based on the object distance (d_o) and the image distance (d_i).\n",
        "\n",
        "## How to Use\n",
        "\n",
        "To use the provided functions, simply call them with the required parameters. You can input known values such as focal length, object distance, or image distance, and the functions will compute the desired output. Feel free to experiment with different values to gain insights into the behavior of lenses and the resulting images they produce.\n"
      ],
      "metadata": {
        "id": "zVMJphFygK5N"
      }
    },
    {
      "cell_type": "code",
      "source": [
        "from IPython.display import IFrame\n",
        "\n",
        "# Replace the URL with the URL of the PhET simulation you want to embed\n",
        "url = \"https://phet.colorado.edu/sims/html/geometric-optics/latest/geometric-optics_all.html\"\n",
        "\n",
        "# Adjust width and height as needed\n",
        "IFrame(url, width=800, height=600)\n"
      ],
      "metadata": {
        "id": "Xw36F94rj7eE"
      },
      "execution_count": null,
      "outputs": []
    },
    {
      "cell_type": "code",
      "source": [],
      "metadata": {
        "id": "KbXNswDLmZ2O"
      },
      "execution_count": null,
      "outputs": []
    },
    {
      "cell_type": "code",
      "execution_count": null,
      "metadata": {
        "id": "wTf7aab2ccoU"
      },
      "outputs": [],
      "source": [
        "def thin_lens_equation(f=None, d_o=None, d_i=None):\n",
        "    \"\"\"\n",
        "    Thin Lens Equation Solver\n",
        "\n",
        "    Args:\n",
        "    - f (float): focal length (positive for converging lens, negative for diverging lens)\n",
        "    - d_o (float): object distance (distance from the object to the lens)\n",
        "    - d_i (float): image distance (distance from the lens to the image)\n",
        "\n",
        "    Returns:\n",
        "    - float: the solved value (f, d_o, or d_i)\n",
        "    \"\"\"\n",
        "\n",
        "    if sum(val is not None for val in [f, d_o, d_i]) != 2:\n",
        "        raise ValueError(\"Exactly two out of three parameters (f, d_o, d_i) must be provided.\")\n",
        "\n",
        "    if f is None:\n",
        "        # Solve for focal length\n",
        "        return 1 / ((1 / d_o) + (1 / d_i))\n",
        "    elif d_o is None:\n",
        "        # Solve for object distance\n",
        "        return 1 / ((1 / f) - (1 / d_i))\n",
        "    elif d_i is None:\n",
        "        # Solve for image distance\n",
        "        return 1 / ((1 / f) - (1 / d_o))"
      ]
    },
    {
      "cell_type": "code",
      "source": [
        "def magnification(f=None, d_o=None, d_i=None):\n",
        "    \"\"\"\n",
        "    Magnification Calculator\n",
        "\n",
        "    Args:\n",
        "    - f (float): focal length (positive for converging lens, negative for diverging lens)\n",
        "    - d_o (float): object distance (distance from the object to the lens)\n",
        "    - d_i (float): image distance (distance from the lens to the image)\n",
        "\n",
        "    Returns:\n",
        "    - float: magnification\n",
        "    \"\"\"\n",
        "    if sum(val is not None for val in [f, d_o, d_i]) != 2:\n",
        "        raise ValueError(\"Exactly two out of three parameters (f, d_o, d_i) must be provided.\")\n",
        "\n",
        "    if d_o is None:\n",
        "        # Solve for object distance\n",
        "        d_o = thin_lens_equation(f=f, d_i=d_i)\n",
        "    elif d_i is None:\n",
        "        # Solve for image distance\n",
        "        d_i = thin_lens_equation(f=f, d_o=d_o)\n",
        "\n",
        "    if d_o == 0:\n",
        "        raise ValueError(\"Object distance (d_o) cannot be zero.\")\n",
        "\n",
        "    return -d_i / d_o"
      ],
      "metadata": {
        "id": "D2FC5g4lcj0G"
      },
      "execution_count": null,
      "outputs": []
    },
    {
      "cell_type": "code",
      "source": [
        "# Example usage:\n",
        "# Solve for focal length and magnification given object and image distances\n",
        "focal_length = thin_lens_equation(d_o=10, d_i=20)\n",
        "mag = magnification(d_o=10, d_i=20)\n",
        "\n",
        "print(\"Focal length:\", focal_length, \"Magnification: \", mag)\n",
        "\n",
        "# Solve for object distance and magnifictaion given focal length and image distance\n",
        "object_distance = thin_lens_equation(f=-5, d_i=20)\n",
        "mag = magnification(f=-5, d_i=20)\n",
        "print(\"Object distance:\", object_distance, \" Magnification: \", mag)\n",
        "\n",
        "# Solve for image distance given focal length and object distance\n",
        "image_distance = thin_lens_equation(f=5, d_o=10)\n",
        "mag = magnification(f=5, d_o=20)\n",
        "print(\"Image distance:\", image_distance, \"Magnification: \", mag)"
      ],
      "metadata": {
        "id": "I-fJdEsfdnz1"
      },
      "execution_count": null,
      "outputs": []
    },
    {
      "cell_type": "code",
      "source": [],
      "metadata": {
        "id": "NjIhVgF5fVei"
      },
      "execution_count": null,
      "outputs": []
    },
    {
      "cell_type": "code",
      "source": [],
      "metadata": {
        "id": "wT2jlx8Ml1AC"
      },
      "execution_count": null,
      "outputs": []
    }
  ]
}