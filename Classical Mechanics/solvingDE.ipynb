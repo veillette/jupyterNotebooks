{
  "nbformat_minor": 0,
  "cells": [
    {
      "cell_type": "markdown",
      "metadata": {
        "id": "view-in-github",
        "colab_type": "text"
      },
      "source": [
        "<a href=\"https://colab.research.google.com/github/veillette/jupyterNotebooks/blob/main/Classical%20Mechanics/solvingDE.ipynb\" target=\"_parent\"><img src=\"https://colab.research.google.com/assets/colab-badge.svg\" alt=\"Open In Colab\"/></a>"
      ]
    },
    {
      "source": [
        "- - - -\n",
        "# Quadratic Drag With Horizontal and Vertical Motion\n",
        "\n",
        "## source code - https://github.com/veillette/jupyterNotebooks/blob/main/Classical%20Mechanics/solvingDE.ipynb\n",
        "\n",
        "- - - -\n",
        "\n",
        "Martin Veillette @ Berea College\n",
        "\n",
        "- - - -"
      ],
      "cell_type": "markdown",
      "metadata": {
        "id": "5ka1_kWFWgV3"
      }
    },
    {
      "source": [
        "## Solving a first order differential equation numerically"
      ],
      "cell_type": "markdown",
      "metadata": {
        "id": "FzZdeaZfWgV5"
      }
    },
    {
      "source": [
        "Consider a baseball thrown with velocity 30 m/s (about 70 mi/h) at 50° above the\n",
        "horizontal from a high cliff. Find its trajectory for the first eight seconds of flight and compare\n",
        "with the corresponding trajectory in a vacuum. If the same baseball was thrown with the same\n",
        "initial velocity on horizontal ground how far would it travel before landing? That is, what is its\n",
        "horizontal range?\n",
        "\n",
        "\n",
        "We would like to solve the differential equations:\n",
        "$$m \\frac{d v_x}{dt} = - c \\left(\\sqrt{ v_x^2 + v_y^2}\\right) v_x ,$$\n",
        "$$m \\frac{d v_y}{dt} = - m g - c \\left(\\sqrt{ v_x^2 + v_y^2}\\right) v_y$$"
      ],
      "cell_type": "markdown",
      "metadata": {
        "id": "zT_DHj5oWgV5"
      }
    },
    {
      "execution_count": null,
      "cell_type": "code",
      "source": [
        "%reset"
      ],
      "outputs": [],
      "metadata": {
        "id": "85spP1sLWgV5"
      }
    },
    {
      "execution_count": 1,
      "cell_type": "code",
      "source": [
        "# Importing necessary libraries for numerical calculations and plotting:\n",
        "import numpy as np  # Imports the numpy library for numerical computations, aliased as 'np'\n",
        "from numpy import cos, sin, sqrt, arange, pi  # Imports specific math functions from numpy for direct use\n",
        "\n",
        "# Imports matplotlib for creating visualizations, aliased as 'mpl'\n",
        "import matplotlib as mpl\n",
        "# Imports the pyplot module from matplotlib for plotting, aliased as 'plt'\n",
        "import matplotlib.pyplot as plt\n",
        "# Enables inline plotting in Jupyter notebooks, displaying plots directly in the output\n",
        "%matplotlib inline\n",
        "\n",
        "# Configuring default settings for matplotlib plots:\n",
        "mpl.rcParams['figure.figsize'] = (14,10)  # Sets the default figure size to 14x10 inches\n",
        "mpl.rcParams['font.size'] = 14  # Sets the default font size to 14 points\n",
        "mpl.rcParams['legend.fontsize'] = 14  # Sets the legend font size to 14 points\n",
        "\n",
        "# This line is commented out and won't be executed:\n",
        "#get_ipython().magic('matplotlib inline') # inline plotting (redundant, already enabled above)"
      ],
      "outputs": [],
      "metadata": {
        "collapsed": true,
        "id": "EZ0sthpqWgV6"
      }
    },
    {
      "cell_type": "code",
      "source": [],
      "metadata": {
        "id": "WJaeHrzbZar3"
      },
      "execution_count": null,
      "outputs": []
    },
    {
      "cell_type": "markdown",
      "source": [
        "## Equations of Motion with Quadratic Drag\n",
        "### Acceleration\n",
        "The acceleration of the baseball is influenced by both gravity and air resistance (quadratic drag). The equations for horizontal ($a_x$) and vertical ($a_y$) acceleration are:\n",
        "\n",
        "$$ a_x = - (c/m) * \\sqrt{v_x^2 + v_y^2} * v_x $$\n",
        "$$ a_y = -g - (c/m) * \\sqrt{v_x^2 + v_y^2} * v_y $$\n",
        "\n",
        "### Position\n",
        "\n",
        "Over a small time interval, the acceleration is constant, therefore we can use the familiar constant acceleration equation to update the position over a small time interval:\n",
        "$$ x_{new} = x_{old} + v_{x, old} * dt + (1/2) * a_x * dt^2 $$\n",
        "$$ y_{new} = y_{old} + v_{y, old} * dt + (1/2) * a_y * dt^2 $$\n",
        "\n",
        "### Velocity\n",
        "\n",
        "The velocity of the baseball is updated using the following equations:\n",
        "\n",
        "$$v_{x,new} = v_{x,old} + a_x * dt$$\n",
        "$$v_{y,new} = v_{y,old} + a_y * dt$$\n",
        "\n",
        "\n",
        "----\n",
        "\n",
        "This is the Euler method (specifically the explicit Euler method or forward Euler method) for numerically solving ordinary differential equations.\n",
        "The algorithm you've described uses the fundamental Euler method approach of:\n",
        "\n",
        "- Computing the current acceleration based on current position and velocity.\n",
        "\n",
        "- Using that acceleration (assumed constant over the small time step) to update both position and velocity\n",
        "\n"
      ],
      "metadata": {
        "id": "CKQKQJ-XZbZ_"
      }
    },
    {
      "execution_count": null,
      "cell_type": "code",
      "source": [
        "# parameters\n",
        "dt = 0.01  # Time step for the simulation (0.01 seconds)\n",
        "tmax = 3.0  # Total simulation time (3 seconds)\n",
        "g = 9.8  # Acceleration due to gravity (m/s^2)\n",
        "m = 0.150  # Mass of the baseball (kg)\n",
        "c = 0.02;  # Drag coefficient\n",
        "\n",
        "# numpy.arange creates an array of evenly spaced values within a given interval.\n",
        "# Here, it creates an array of time values from 0 to tmax, with a step of dt.\n",
        "timeRange = arange(0, tmax, dt);\n",
        "\n",
        "# initial conditions\n",
        "initialAngle = 50 * pi/180;  # Initial angle in radians (converted from 50 degrees)\n",
        "speed = 30.0  # Initial speed of the baseball (m/s)\n",
        "vx = speed * cos (initialAngle)  # Initial horizontal velocity (m/s)\n",
        "vy = speed * sin (initialAngle)  # Initial vertical velocity (m/s)\n",
        "x = 0  # Initial horizontal position (m)\n",
        "y = 0  # Initial vertical position (m)\n",
        "\n",
        "# storing arrays - These empty lists will store the calculated values over time.\n",
        "vxs = []  # Horizontal velocities\n",
        "vys = []  # Vertical velocities\n",
        "xs = []  # Horizontal positions\n",
        "ys = []  # Vertical positions\n",
        "\n",
        "# loop over time - This loop iterates through each time step in the timeRange array.\n",
        "for t in timeRange:\n",
        "    # Calculate acceleration components due to drag and gravity:\n",
        "    ax = - c/m * sqrt( vx**2 +vy**2)*vx  # Horizontal acceleration\n",
        "    ay = - g -c/m * sqrt( vx**2 +vy**2)*vy  # Vertical acceleration\n",
        "\n",
        "    # Update position using the equations of motion:\n",
        "    x = x + vx * dt + 1/2 * ax * dt**2  # Update horizontal position\n",
        "    y = y + vy * dt + 1/2 * ay * dt**2  # Update vertical position\n",
        "\n",
        "    # Update velocity using acceleration:\n",
        "    vx = vx + ax * dt  # Update horizontal velocity\n",
        "    vy = vy + ay * dt  # Update vertical velocity\n",
        "\n",
        "    # storing results - Append the calculated values to the respective lists:\n",
        "    vxs.append(vx)\n",
        "    vys.append(vy)\n",
        "\n",
        "    xs.append(x)\n",
        "    ys.append(y)"
      ],
      "outputs": [],
      "metadata": {
        "collapsed": true,
        "id": "p3TJ-jHXWgV6"
      }
    },
    {
      "cell_type": "markdown",
      "source": [],
      "metadata": {
        "id": "-4deiI6ZGKlL"
      }
    },
    {
      "cell_type": "markdown",
      "source": [
        "Below is an example that removes the explicit for loop over time: The loop now iterates over array indices rather than time values. Values are stored directly in the pre-allocated arrays using indexing."
      ],
      "metadata": {
        "id": "5obYVV02GUqG"
      }
    },
    {
      "cell_type": "code",
      "source": [
        "# parameters\n",
        "dt = 0.01  # Time step for the simulation (0.01 seconds)\n",
        "tmax = 3.0  # Total simulation time (3 seconds)\n",
        "g = 9.8  # Acceleration due to gravity (m/s^2)\n",
        "m = 0.150  # Mass of the baseball (kg)\n",
        "c = 0.02  # Drag coefficient\n",
        "\n",
        "# Create time array\n",
        "timeRange = arange(0, tmax, dt)\n",
        "n_steps = len(timeRange)\n",
        "\n",
        "# initial conditions\n",
        "initialAngle = 50 * pi/180  # Initial angle in radians (converted from 50 degrees)\n",
        "speed = 30.0  # Initial speed of the baseball (m/s)\n",
        "\n",
        "# Initialize arrays to store all values\n",
        "vxs = np.zeros(n_steps)  # Horizontal velocities\n",
        "vys = np.zeros(n_steps)  # Vertical velocities\n",
        "xs = np.zeros(n_steps)   # Horizontal positions\n",
        "ys = np.zeros(n_steps)   # Vertical positions\n",
        "\n",
        "# Set initial conditions\n",
        "vxs[0] = speed * cos(initialAngle)  # Initial horizontal velocity (m/s)\n",
        "vys[0] = speed * sin(initialAngle)  # Initial vertical velocity (m/s)\n",
        "xs[0] = 0  # Initial horizontal position (m)\n",
        "ys[0] = 0  # Initial vertical position (m)\n",
        "\n",
        "# Vectorized computation using cumulative operations\n",
        "for i in range(1, n_steps):\n",
        "    # Calculate acceleration components using previous values\n",
        "    v_mag = sqrt(vxs[i-1]**2 + vys[i-1]**2)\n",
        "    ax = -c/m * v_mag * vxs[i-1]  # Horizontal acceleration\n",
        "    ay = -g - c/m * v_mag * vys[i-1]  # Vertical acceleration\n",
        "\n",
        "    # Update position and velocity\n",
        "    xs[i] = xs[i-1] + vxs[i-1] * dt + 0.5 * ax * dt**2\n",
        "    ys[i] = ys[i-1] + vys[i-1] * dt + 0.5 * ay * dt**2\n",
        "    vxs[i] = vxs[i-1] + ax * dt\n",
        "    vys[i] = vys[i-1] + ay * dt"
      ],
      "metadata": {
        "id": "nwBEKUBOGLHL"
      },
      "execution_count": 3,
      "outputs": []
    },
    {
      "cell_type": "markdown",
      "source": [
        "Lets represent the trajectory within a single plot with two lines: one representing the baseball's horizontal displacement over time and the other representing its vertical displacement over time. We will label the plot to clearly indicate the units of measurement for both axes."
      ],
      "metadata": {
        "id": "aMxDX3o6as8g"
      }
    },
    {
      "execution_count": null,
      "cell_type": "code",
      "source": [
        "# plot the solution\n",
        "plt.plot(timeRange, xs)\n",
        "plt.plot(timeRange, ys)\n",
        "plt.ylabel('displacement (m)')\n",
        "plt.xlabel('time (s)')"
      ],
      "outputs": [
        {
          "execution_count": 166,
          "output_type": "execute_result",
          "data": {
            "text/plain": "<matplotlib.text.Text at 0x1764622e7b8>"
          },
          "metadata": {}
        },
        {
          "output_type": "display_data",
          "data": {
            "image/png": "[encoded data removed]",
            "text/plain": "<matplotlib.figure.Figure at 0x17648767438>"
          },
          "metadata": {}
        }
      ],
      "metadata": {
        "id": "ZbWgShUaWgV7",
        "outputId": "49d73ec0-071b-4291-b149-2b87fe344f2b"
      }
    },
    {
      "execution_count": null,
      "cell_type": "code",
      "source": [
        "# trajectory\n",
        "plt.plot(xs,ys)\n",
        "plt.ylabel('y (m)')\n",
        "plt.xlabel('x (m)')"
      ],
      "outputs": [],
      "metadata": {
        "id": "DVtNe4OwWgV7"
      }
    },
    {
      "source": [
        "We clearly see that the range is approximatley 12 m. Can we be more precise?"
      ],
      "cell_type": "markdown",
      "metadata": {
        "id": "8TXPBHMTWgV7"
      }
    },
    {
      "execution_count": null,
      "cell_type": "code",
      "source": [
        "r= np.vstack([xs,ys])"
      ],
      "outputs": [],
      "metadata": {
        "collapsed": true,
        "id": "Cirrk0QLWgV7"
      }
    },
    {
      "execution_count": null,
      "cell_type": "code",
      "source": [
        "# maximum height\n",
        "maxHeight=np.max(ys)\n",
        "maxHeight"
      ],
      "outputs": [
        {
          "execution_count": 181,
          "output_type": "execute_result",
          "data": {
            "text/plain": "6.2999483126132372"
          },
          "metadata": {}
        }
      ],
      "metadata": {
        "id": "Fd5sTPdjWgV7",
        "outputId": "28298f48-feb5-41a4-cb18-6963c93882f1"
      }
    },
    {
      "execution_count": null,
      "cell_type": "code",
      "source": [
        "yIndex=ys.index(maxHeight)\n",
        "yIndex"
      ],
      "outputs": [
        {
          "execution_count": 182,
          "output_type": "execute_result",
          "data": {
            "text/plain": "88"
          },
          "metadata": {}
        }
      ],
      "metadata": {
        "id": "2iwQvbNlWgV7",
        "outputId": "b5d4d5d9-1d83-45fc-c3c7-8aa36650f116"
      }
    },
    {
      "execution_count": null,
      "cell_type": "code",
      "source": [
        "np.argmax(ys)"
      ],
      "outputs": [
        {
          "execution_count": 171,
          "output_type": "execute_result",
          "data": {
            "text/plain": "88"
          },
          "metadata": {}
        }
      ],
      "metadata": {
        "id": "khbuoEiHWgV7",
        "outputId": "1de83927-0cb2-403f-b9cb-be6cc82e215e"
      }
    },
    {
      "execution_count": null,
      "cell_type": "code",
      "source": [
        "# time at maximum height\n",
        "timeRange[yIndex]"
      ],
      "outputs": [
        {
          "execution_count": 183,
          "output_type": "execute_result",
          "data": {
            "text/plain": "0.88"
          },
          "metadata": {}
        }
      ],
      "metadata": {
        "id": "5-UPP1TOWgV7",
        "outputId": "47cee13d-8a5c-430d-c250-00faed2958e0"
      }
    },
    {
      "execution_count": null,
      "cell_type": "code",
      "source": [
        "# x position at maximum height\n",
        "xs[yIndex]"
      ],
      "outputs": [
        {
          "execution_count": 184,
          "output_type": "execute_result",
          "data": {
            "text/plain": "7.5595650150786637"
          },
          "metadata": {}
        }
      ],
      "metadata": {
        "id": "b90pmy0xWgV8",
        "outputId": "391c3296-de1c-4fa7-da59-d38387799abd"
      }
    },
    {
      "execution_count": null,
      "cell_type": "code",
      "source": [
        "# create numpy arrays\n",
        "x=np.array(xs)\n",
        "y=np.array(ys)"
      ],
      "outputs": [],
      "metadata": {
        "collapsed": true,
        "id": "cENZ-j80WgV8"
      }
    },
    {
      "execution_count": null,
      "cell_type": "code",
      "source": [
        "xIndex=np.min(np.where(y<0))"
      ],
      "outputs": [],
      "metadata": {
        "collapsed": true,
        "id": "DU-AyEOYWgV8"
      }
    },
    {
      "execution_count": null,
      "cell_type": "code",
      "source": [
        "timeOfFlight = timeRange[xIndex]\n",
        "timeOfFlight"
      ],
      "outputs": [
        {
          "execution_count": 179,
          "output_type": "execute_result",
          "data": {
            "text/plain": "2.2200000000000002"
          },
          "metadata": {}
        }
      ],
      "metadata": {
        "id": "tBI5XG5CWgV8",
        "outputId": "7275b718-3137-4990-dc54-cf313dc43913"
      }
    },
    {
      "execution_count": null,
      "cell_type": "code",
      "source": [
        "xRange = x[xIndex]\n",
        "xRange"
      ],
      "outputs": [
        {
          "execution_count": 177,
          "output_type": "execute_result",
          "data": {
            "text/plain": "11.774994708653642"
          },
          "metadata": {}
        }
      ],
      "metadata": {
        "id": "dRxvQwukWgV8",
        "outputId": "1855c566-d722-4517-8f8b-4202d702bbf8"
      }
    },
    {
      "execution_count": null,
      "cell_type": "code",
      "source": [
        "x[xIndex-1]"
      ],
      "outputs": [
        {
          "execution_count": 178,
          "output_type": "execute_result",
          "data": {
            "text/plain": "11.758427726611741"
          },
          "metadata": {}
        }
      ],
      "metadata": {
        "id": "3nuXIYFnWgV8",
        "outputId": "a14ddbe0-a192-4a02-8a19-33e18d53ac77"
      }
    }
  ],
  "nbformat": 4,
  "metadata": {
    "kernelspec": {
      "display_name": "Python 3",
      "name": "python3",
      "language": "python"
    },
    "language_info": {
      "mimetype": "text/x-python",
      "nbconvert_exporter": "python",
      "version": "3.5.1",
      "name": "python",
      "file_extension": ".py",
      "pygments_lexer": "ipython3",
      "codemirror_mode": {
        "version": 3,
        "name": "ipython"
      }
    },
    "anaconda-cloud": {},
    "colab": {
      "provenance": [],
      "include_colab_link": true
    }
  }
}