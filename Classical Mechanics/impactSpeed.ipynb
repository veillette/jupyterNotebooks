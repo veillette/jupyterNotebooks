{
 "cells": [
  {
   "cell_type": "markdown",
   "metadata": {},
   "source": [
    " # Routine to Find Impact Speed of Falling Object\n",
    " \n",
    " \n",
    " This notebook calculates the impact speed of vertically falling object.\n",
    " It assumes that the object is falling vertically, and is being dropped from rest.\n",
    " \n",
    " The equation of motion assumes that the object is subject to a linear drag force"
   ]
  },
  {
   "cell_type": "code",
   "execution_count": 1,
   "metadata": {},
   "outputs": [],
   "source": [
    "import numpy as np\n",
    "from scipy import optimize\n",
    "\n",
    "# to plot our result\n",
    "import matplotlib as mpl\n",
    "import matplotlib.pyplot as plt\n",
    "from matplotlib.legend_handler import HandlerLine2D\n",
    "\n",
    "mpl.rcParams['figure.figsize'] = (16,10)\n",
    "mpl.rcParams['font.size'] = 18\n",
    "mpl.rcParams['legend.fontsize'] = 14"
   ]
  },
  {
   "cell_type": "markdown",
   "metadata": {},
   "source": [
    "# Exercise:\n",
    "\n",
    "Evaluate the impact speed a polypropylene ball hitting the floor if dropped from rest at a height of 10m.\n",
    "The diameter of ball is d=0.001m\n"
   ]
  },
  {
   "cell_type": "markdown",
   "metadata": {},
   "source": [
    "### Equation of motion\n",
    "\n",
    "\n",
    "\n",
    "Assuming up direction is defined as positive, the equation of motion is\n",
    "\n",
    "\n",
    "$$m \\frac{d v_y}{dt}  =  - m g - b v_y $$\n",
    "\n",
    "We can solve this equation analytically, with the initial condition that the projectile is launched from rest at a height, $h$ at time $t=0$\n",
    "\n",
    "$$v_y(t) = v_{ter} \\left( 1 - e^{-\\frac{t}{\\tau}} \\right) $$ \n",
    "\n",
    "$$y(t) = h+ v_{ter}  \\tau \\left( 1 - e^{-\\frac{t}{\\tau}} \\right) - v_{ter} t$$\n",
    "\n",
    "where the terminal speed, $ v_{ter}= \\frac{mg}{b}$ and the characteristic time, $\\tau= \\frac{m}{b}$\n"
   ]
  },
  {
   "cell_type": "code",
   "execution_count": 2,
   "metadata": {},
   "outputs": [],
   "source": [
    "# input parameters \n",
    "ballDiameter =0.001 # in meter \n",
    "g= 9.8 # in m/s^2\n",
    "beta= 1.6*10**(-4) # in N*s/m^2 \n",
    "b= beta* ballDiameter; # drag coefficient\n",
    "density= 946 # in kg/m^3\n",
    "ballMass = density*np.pi*(ballDiameter**3)/6\n",
    "terminalSpeed= ballMass*g/b # in m/s\n",
    "characteristicTime= terminalSpeed/g; # in seconds\n",
    "fallHeight = 10; # in meters\n"
   ]
  },
  {
   "cell_type": "code",
   "execution_count": 3,
   "metadata": {},
   "outputs": [],
   "source": [
    "# define some functions for the vertical position abd the vertical velocity\n",
    "def verticalPosition(t, height):\n",
    "    y= height + terminalSpeed*characteristicTime*(1-np.exp(-t/characteristicTime)) - terminalSpeed*t\n",
    "    return y\n",
    "\n",
    "def verticalVelocity(t):\n",
    "    v= terminalSpeed*(1-np.exp(-t/characteristicTime)) \n",
    "    return v"
   ]
  },
  {
   "cell_type": "markdown",
   "metadata": {},
   "source": [
    "## Solve numerically for fall time\n",
    "\n",
    "\n",
    "The scipy library has a numerical solver called fsolve.\n",
    "Given a function $f(x)$ and an initial guess $x_0$ it will attempt to find the root \n",
    "$f(x)=0$. It returns the solution in an array"
   ]
  },
  {
   "cell_type": "code",
   "execution_count": 4,
   "metadata": {},
   "outputs": [
    {
     "name": "stdout",
     "output_type": "stream",
     "text": [
      "fallTime in seconds = 1.54742529227\n"
     ]
    }
   ],
   "source": [
    "# fsolve solve for the root of a function in our case (verticalPosition(t)=0)\n",
    "# use 1.4 seconds as an initial guess\n",
    "\n",
    "fallTime=optimize.fsolve(verticalPosition, 1.4, args=(fallHeight))\n",
    "\n",
    "print('fallTime in seconds =', fallTime[0])"
   ]
  },
  {
   "cell_type": "code",
   "execution_count": 5,
   "metadata": {},
   "outputs": [
    {
     "data": {
      "image/png": "[encoded data removed]",
      "text/plain": [
       "<matplotlib.figure.Figure at 0x7f01a285cb70>"
      ]
     },
     "metadata": {},
     "output_type": "display_data"
    }
   ],
   "source": [
    "# visual look\n",
    "t=np.linspace(0, 1.6, 1000);\n",
    "y=verticalPosition(t,fallHeight)\n",
    "plt.plot(t,y)\n",
    "\n",
    "\n",
    "plt.axhline(y=0, linewidth=4, color = 'k') #  ground\n",
    "\n",
    "plt.xlabel('time (s)')\n",
    "plt.ylabel('position (s)')\n",
    "plt.grid()\n",
    "plt.show()"
   ]
  },
  {
   "cell_type": "code",
   "execution_count": 6,
   "metadata": {},
   "outputs": [],
   "source": [
    "impactSpeed= np.abs(verticalVelocity(fallTime[0]))"
   ]
  },
  {
   "cell_type": "code",
   "execution_count": 7,
   "metadata": {},
   "outputs": [],
   "source": [
    "noDragImpactSpeed= np.sqrt(2*g*fallHeight)  # impact speed for object falling with no drag"
   ]
  },
  {
   "cell_type": "code",
   "execution_count": 8,
   "metadata": {},
   "outputs": [
    {
     "name": "stdout",
     "output_type": "stream",
     "text": [
      "impact Speed with drag= 11.9345618311 impact Speed with no drag= 14.0\n"
     ]
    }
   ],
   "source": [
    "print('impact Speed with drag=',impactSpeed, 'impact Speed with no drag=', noDragImpactSpeed)"
   ]
  },
  {
   "cell_type": "code",
   "execution_count": 9,
   "metadata": {},
   "outputs": [
    {
     "name": "stdout",
     "output_type": "stream",
     "text": [
      "Terminal Speed= 30.338622055104437 Characteristic Time= 3.095777760724942\n"
     ]
    }
   ],
   "source": [
    "print('Terminal Speed=', terminalSpeed, 'Characteristic Time=',characteristicTime)"
   ]
  },
  {
   "cell_type": "markdown",
   "metadata": {},
   "source": [
    "## Extra\n",
    "\n",
    "\n",
    "Let's use the power of the python to solve for the impact speed for a given height and plot the result to compare with the impact speed when no air resistance is present."
   ]
  },
  {
   "cell_type": "code",
   "execution_count": 10,
   "metadata": {},
   "outputs": [],
   "source": [
    "# impact speed as a function of height\n",
    "def impactSpeed(h):\n",
    "    \"\"\"\n",
    "    Returns the impact speed as a function of height\n",
    "    Assumes the object falls from rest \n",
    "    \"\"\"\n",
    "    timeGuess=np.sqrt(2*h/g)\n",
    "    fallTime=optimize.fsolve(verticalPosition, timeGuess, args=h) \n",
    "    speed= np.abs(verticalVelocity(fallTime[0]))\n",
    "    return speed"
   ]
  },
  {
   "cell_type": "code",
   "execution_count": 11,
   "metadata": {},
   "outputs": [
    {
     "data": {
      "image/png": "[encoded data removed]",
      "text/plain": [
       "<matplotlib.figure.Figure at 0x7f01a2919f60>"
      ]
     },
     "metadata": {},
     "output_type": "display_data"
    }
   ],
   "source": [
    "# impact speed for various height \n",
    "height=np.linspace(0, 300, 1000);\n",
    "speed= [impactSpeed(h) for h in height]\n",
    "noDragSpeed= np.sqrt(2*height*g)\n",
    "\n",
    "line1, = plt.plot(height,speed, label='With Air Resistance')\n",
    "line2, = plt.plot(height,noDragSpeed, label='No Air Resistance')\n",
    "plt.legend(handler_map={line1: HandlerLine2D()})\n",
    "plt.xlabel('height (m)')\n",
    "plt.ylabel('impact speed (m/s)')\n",
    "\n",
    "\n",
    "plt.grid()\n",
    "plt.show()"
   ]
  },
  {
   "cell_type": "code",
   "execution_count": null,
   "metadata": {},
   "outputs": [],
   "source": []
  },
  {
   "cell_type": "code",
   "execution_count": null,
   "metadata": {},
   "outputs": [],
   "source": []
  }
 ],
 "metadata": {
  "kernelspec": {
   "display_name": "Python 3",
   "language": "python",
   "name": "python3"
  },
  "language_info": {
   "codemirror_mode": {
    "name": "ipython",
    "version": 3
   },
   "file_extension": ".py",
   "mimetype": "text/x-python",
   "name": "python",
   "nbconvert_exporter": "python",
   "pygments_lexer": "ipython3",
   "version": "3.5.4"
  }
 },
 "nbformat": 4,
 "nbformat_minor": 2
}
