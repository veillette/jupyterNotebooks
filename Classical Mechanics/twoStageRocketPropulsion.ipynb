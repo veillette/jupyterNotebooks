{
 "cells": [
  {
   "cell_type": "code",
   "execution_count": 2,
   "metadata": {},
   "outputs": [
    {
     "name": "stderr",
     "output_type": "stream",
     "text": [
      "/home/nbuser/anaconda3_410/lib/python3.5/site-packages/matplotlib/font_manager.py:273: UserWarning: Matplotlib is building the font cache using fc-list. This may take a moment.\n",
      "  warnings.warn('Matplotlib is building the font cache using fc-list. This may take a moment.')\n",
      "/home/nbuser/anaconda3_410/lib/python3.5/site-packages/matplotlib/font_manager.py:273: UserWarning: Matplotlib is building the font cache using fc-list. This may take a moment.\n",
      "  warnings.warn('Matplotlib is building the font cache using fc-list. This may take a moment.')\n"
     ]
    }
   ],
   "source": [
    "import matplotlib.pyplot as plt # import the \"pyplot\" library as the \"plt\" handle\n",
    "import numpy as np # import the \"numpy\" library as the \"np\" handle, where lots of functions live"
   ]
  },
  {
   "cell_type": "code",
   "execution_count": 3,
   "metadata": {
    "collapsed": true
   },
   "outputs": [],
   "source": [
    "def g(y):\n",
    "    gSurface=9.8  # m/s^2\n",
    "    earthRadius= 6700000 # m\n",
    "    g= gSurface/(1+(y/earthRadius)**2)\n",
    "    return g;"
   ]
  },
  {
   "cell_type": "code",
   "execution_count": 4,
   "metadata": {
    "collapsed": true
   },
   "outputs": [],
   "source": [
    "def rho(y):\n",
    "     rhoSurface = 1.15 # kg/m^3\n",
    "     molecularMass = 28*1.16*10**(-27) # molecular mass of nitrogen (kg)\n",
    "     boltzmannConstant = 1.38*10**(-23) #  in J/K\n",
    "     temperature = 300 # in Kelvin\n",
    "     gravitationalPotentialEnergy= molecularMass*g(y)*y  # in J\n",
    "     thermalEnergy = boltzmannConstant* temperature; # in J\n",
    "     rho = rhoSurface*np.exp(- gravitationalPotentialEnergy/thermalEnergy)  # in kg/m^3\n",
    "     return rho"
   ]
  },
  {
   "cell_type": "code",
   "execution_count": 20,
   "metadata": {},
   "outputs": [
    {
     "name": "stdout",
     "output_type": "stream",
     "text": [
      "ejecting boosters\n"
     ]
    }
   ],
   "source": [
    "initialRocketMass =7.4*10**(5) # in kilograms\n",
    "thrustForce= 7.5*10**6 # in newtons\n",
    "exhaustPropellantSpeed = 2900 ## in meter per second\n",
    "propellantConsumptionRate= thrustForce/exhaustPropellantSpeed ## in kg/s\n",
    "\n",
    "crossSection= 5.0 # in meter square\n",
    "C=0.5 # dimensionless\n",
    "\n",
    "# rockets attributes\n",
    "y=0\n",
    "v=0\n",
    "a=0\n",
    "p=0\n",
    "m=initialRocketMass\n",
    "propellantFirstStageMass = 0.40*m\n",
    "boosterFirstStageMass = 0.05*m\n",
    "propellantSecondStageMass = 0.40*m\n",
    "\n",
    "# arrays\n",
    "ys=[]\n",
    "vs=[]\n",
    "ps=[]\n",
    "ms=[]\n",
    "\n",
    "dt=0.1\n",
    "timeRange = np.arange(0,780,dt);\n",
    "\n",
    "for t in timeRange:\n",
    "\n",
    "    if ( m>initialRocketMass-propellantFirstStageMass - boosterFirstStageMass- propellantSecondStageMass):\n",
    "        forceThrust= exhaustPropellantSpeed*propellantConsumptionRate\n",
    "        \n",
    "        m=m-propellantConsumptionRate*dt  # mass of rocket\n",
    "        \n",
    "        if ( (m<initialRocketMass-propellantFirstStageMass)  & (m>initialRocketMass-propellantFirstStageMass-boosterFirstStageMass)):\n",
    "            m=m-boosterFirstStageMass\n",
    "            print('ejecting boosters')\n",
    "    else:\n",
    "        forceThrust=0\n",
    "        \n",
    "    forceGravity= -m*g(y)\n",
    "    forceDrag= -1/2*C*rho(y)*crossSection*v**2;\n",
    "    \n",
    "    changeInMomentum= forceThrust + forceGravity + forceDrag;\n",
    "    a = changeInMomentum/m\n",
    "    \n",
    "    y= y + v*dt+ 1/2*a*dt**2\n",
    "    v= v + a*dt\n",
    "    \n",
    "    ##print( \"y=\",y,\" v=\",v,\" a=\",a, \" m=\",m, \" thrust=\",forceThrust, \"drag=\", forceDrag)    \n",
    "    ys.append(y)\n",
    "    vs.append(v)\n",
    "    ps.append(p)\n",
    "    ms.append(m)"
   ]
  },
  {
   "cell_type": "code",
   "execution_count": 30,
   "metadata": {},
   "outputs": [
    {
     "data": {
      "image/png": "[encoded data removed]",
      "text/plain": [
       "<matplotlib.figure.Figure at 0x7fd648ad9b70>"
      ]
     },
     "metadata": {},
     "output_type": "display_data"
    }
   ],
   "source": [
    "\n",
    "plt.plot(timeRange,ms)\n",
    "plt.ylabel( 'rocket mass (kg)')\n",
    "plt.xlabel( 'time (s)')\n",
    "plt.show()\n"
   ]
  },
  {
   "cell_type": "code",
   "execution_count": 31,
   "metadata": {},
   "outputs": [
    {
     "data": {
      "image/png": "[encoded data removed]",
      "text/plain": [
       "<matplotlib.figure.Figure at 0x7fd645298c88>"
      ]
     },
     "metadata": {},
     "output_type": "display_data"
    }
   ],
   "source": [
    "plt.plot(timeRange,ys)\n",
    "plt.ylabel( 'elevation (m)')\n",
    "plt.xlabel( 'time (s)')\n",
    "plt.show()"
   ]
  },
  {
   "cell_type": "code",
   "execution_count": 32,
   "metadata": {},
   "outputs": [
    {
     "name": "stdout",
     "output_type": "stream",
     "text": [
      "maximum height of the rocket 619.396309558 km\n"
     ]
    }
   ],
   "source": [
    "maximumHeight=np.max(ys)\n",
    "print( 'maximum height of the rocket', maximumHeight/1000 , 'km')"
   ]
  },
  {
   "cell_type": "code",
   "execution_count": null,
   "metadata": {
    "collapsed": true
   },
   "outputs": [],
   "source": []
  }
 ],
 "metadata": {
  "kernelspec": {
   "display_name": "Python 3",
   "language": "python",
   "name": "python3"
  },
  "language_info": {
   "codemirror_mode": {
    "name": "ipython",
    "version": 3
   },
   "file_extension": ".py",
   "mimetype": "text/x-python",
   "name": "python",
   "nbconvert_exporter": "python",
   "pygments_lexer": "ipython3",
   "version": "3.5.1"
  }
 },
 "nbformat": 4,
 "nbformat_minor": 2
}
