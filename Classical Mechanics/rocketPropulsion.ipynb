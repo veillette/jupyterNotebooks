{
  "cells": [
    {
      "cell_type": "markdown",
      "metadata": {
        "id": "view-in-github",
        "colab_type": "text"
      },
      "source": [
        "<a href=\"https://colab.research.google.com/github/veillette/jupyterNotebooks/blob/main/Classical%20Mechanics/rocketPropulsion.ipynb\" target=\"_parent\"><img src=\"https://colab.research.google.com/assets/colab-badge.svg\" alt=\"Open In Colab\"/></a>"
      ]
    },
    {
      "cell_type": "markdown",
      "source": [
        "# Rocket Trajectory Simulation\n",
        "\n",
        "This notebook simulates the trajectory of a rocket launched from the Earth's surface.\n",
        "It considers the effects of gravity, atmospheric drag, and thrust to calculate the\n",
        "rocket's altitude, velocity, and acceleration over time.\n",
        "\n",
        "The simulation is based on fundamental physics principles, including Newton's laws of\n",
        "motion and the barometric formula for atmospheric density. It provides a simplified but insightful model of rocket behavior during ascent.\n",
        "\n",
        "**Key features:**\n",
        "* Calculates the acceleration due to gravity as a function of altitude.\n",
        "* Estimates atmospheric density using the barometric formula.\n",
        "* Models the forces acting on the rocket (thrust, gravity, drag).\n",
        "* Numerically integrates the equations of motion to determine the rocket's trajectory.\n",
        "* Visualizes the results using plots of altitude vs. time.\n",
        "\n",
        "**Potential uses:**\n",
        "* Preliminary design and analysis of rocket trajectories.\n",
        "* Experimentation with different rocket parameters and launch conditions."
      ],
      "metadata": {
        "id": "mDpceVxcgQFC"
      }
    },
    {
      "cell_type": "code",
      "execution_count": 5,
      "metadata": {
        "collapsed": true,
        "id": "z5fxRubke7uO"
      },
      "outputs": [],
      "source": [
        "import matplotlib.pyplot as plt # import the \"pyplot\" library as the \"plt\" handle\n",
        "import numpy as np # import the \"numpy\" library as the \"np\" handle, where lots of functions live"
      ]
    },
    {
      "cell_type": "code",
      "source": [
        "%reset"
      ],
      "metadata": {
        "id": "fGCsnQV7gGdv",
        "outputId": "e1f3ca07-8acf-4ef5-d9ce-cd88541da4da",
        "colab": {
          "base_uri": "https://localhost:8080/"
        }
      },
      "execution_count": 6,
      "outputs": [
        {
          "output_type": "stream",
          "name": "stdout",
          "text": [
            "Once deleted, variables cannot be recovered. Proceed (y/[n])? \n",
            "Nothing done.\n"
          ]
        }
      ]
    },
    {
      "cell_type": "markdown",
      "source": [
        "Let's define a function, let's call it g, that takes an altitude y ( in meters) as input and returns the corresponding acceleration due to gravity g at that altitude in m/s^2"
      ],
      "metadata": {
        "id": "WEI4VeRefdIi"
      }
    },
    {
      "cell_type": "code",
      "execution_count": 18,
      "metadata": {
        "collapsed": true,
        "id": "H0qcCbFBe7uP"
      },
      "outputs": [],
      "source": [
        "def g(y):\n",
        "    gSurface=9.8  # m/s^2\n",
        "    earthRadius= 6700000 # m\n",
        "    g= gSurface/(1+(y/earthRadius)**2)\n",
        "    return g;"
      ]
    },
    {
      "cell_type": "code",
      "execution_count": 19,
      "metadata": {
        "collapsed": true,
        "id": "KiGENLlbe7uP"
      },
      "outputs": [],
      "source": [
        "def rho(y):\n",
        "    \"\"\"Calculates the atmospheric density at a given altitude.\n",
        "\n",
        "    This function estimates the atmospheric density (rho) at a specific altitude (y)\n",
        "    using the barometric formula, considering the decrease in density with\n",
        "    increasing altitude due to the reduction in gravitational potential energy.\n",
        "\n",
        "    Args:\n",
        "        y (float): The altitude above the Earth's surface in meters.\n",
        "\n",
        "    Returns:\n",
        "        float: The atmospheric density (rho) at the given altitude in kg/m^3.\n",
        "    \"\"\"\n",
        "    rhoSurface = 1.15 # kg/m^3\n",
        "    molecularMass = 28*1.16*10**(-27) # molecular mass of nitrogen (kg)\n",
        "    boltzmannConstant = 1.38*10**(-23) #  in J/K\n",
        "    temperature = 300 # in Kelvin\n",
        "    gravitationalPotentialEnergy= molecularMass*g(y)*y  # in J\n",
        "    thermalEnergy = boltzmannConstant* temperature; # in J\n",
        "    rho = rhoSurface*np.exp(- gravitationalPotentialEnergy/thermalEnergy)  # in kg/m^3\n",
        "    return rho"
      ]
    },
    {
      "cell_type": "code",
      "execution_count": 25,
      "metadata": {
        "id": "uyXklxrme7uP"
      },
      "outputs": [],
      "source": [
        "initialRocketMass =3.2*10**(4) # in kilograms\n",
        "exhaustPropellantSpeed = 1958 ## in meter per second\n",
        "propellantConsumptionRate= 578 ## in kg/s\n",
        "crossSection= 12.0 # in meter square\n",
        "C=0.5 # dimensionless\n",
        "\n",
        "# rockets attributes\n",
        "y=0\n",
        "v=0\n",
        "a=0\n",
        "p=0\n",
        "m=initialRocketMass\n",
        "mPropellant = 0.90*m\n",
        "\n",
        "# arrays\n",
        "ys=[]\n",
        "vs=[]\n",
        "ps=[]\n",
        "ms=[]\n",
        "\n",
        "dt=0.1 # in seconds\n",
        "timeRange = np.arange(0,80,dt);\n",
        "\n",
        "for t in timeRange:\n",
        "\n",
        "    if (mPropellant>0):\n",
        "        forceThrust= exhaustPropellantSpeed*propellantConsumptionRate\n",
        "        m=m-propellantConsumptionRate*dt  # mass of rocket\n",
        "        mPropellant=mPropellant-propellantConsumptionRate*dt; # mass of propellant\n",
        "    else:\n",
        "        forceThrust =0\n",
        "    forceGravity= -m*g(y)\n",
        "    forceDrag= -1/2*C*rho(y)*crossSection*v**2;\n",
        "\n",
        "    changeInMomentum= forceThrust + forceGravity + forceDrag;\n",
        "    a = changeInMomentum/m\n",
        "\n",
        "    y= y + v*dt+ 1/2*a*dt**2\n",
        "    v= v + a*dt\n",
        "\n",
        "    ## comment out to see all the variables\n",
        "    # print(f\"y={y:.2f} m, v={v:.2f} m/s, a={a:.2f} m/s^2, m={m:.2f} kg, thrust={forceThrust:.2f} N, drag={forceDrag:.2f} N\")\n",
        "    ys.append(y)\n",
        "    vs.append(v)\n",
        "    ps.append(p)\n",
        "    ms.append(m)"
      ]
    },
    {
      "cell_type": "code",
      "execution_count": 24,
      "metadata": {
        "id": "ueX5oQLke7uQ",
        "outputId": "c7ad049b-03cd-428a-acca-a06af51e33b5",
        "colab": {
          "base_uri": "https://localhost:8080/",
          "height": 430
        }
      },
      "outputs": [
        {
          "output_type": "display_data",
          "data": {
            "text/plain": [
              "<Figure size 640x480 with 1 Axes>"
            ],
            "image/png": "[encoded data removed]"
          },
          "metadata": {}
        }
      ],
      "source": [
        "plt.plot(timeRange,ys)\n",
        "plt.show()"
      ]
    },
    {
      "cell_type": "code",
      "source": [],
      "metadata": {
        "id": "Us2VHEbcgkvf"
      },
      "execution_count": null,
      "outputs": []
    }
  ],
  "metadata": {
    "kernelspec": {
      "display_name": "Python 3",
      "language": "python",
      "name": "python3"
    },
    "language_info": {
      "codemirror_mode": {
        "name": "ipython",
        "version": 3
      },
      "file_extension": ".py",
      "mimetype": "text/x-python",
      "name": "python",
      "nbconvert_exporter": "python",
      "pygments_lexer": "ipython3",
      "version": "3.5.4"
    },
    "colab": {
      "provenance": [],
      "include_colab_link": true
    }
  },
  "nbformat": 4,
  "nbformat_minor": 0
}