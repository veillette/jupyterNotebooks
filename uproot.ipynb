{
  "nbformat": 4,
  "nbformat_minor": 0,
  "metadata": {
    "colab": {
      "provenance": [],
      "authorship_tag": "ABX9TyPleMmH+3GyO85f/q0unlT6",
      "include_colab_link": true
    },
    "kernelspec": {
      "name": "python3",
      "display_name": "Python 3"
    },
    "language_info": {
      "name": "python"
    }
  },
  "cells": [
    {
      "cell_type": "markdown",
      "metadata": {
        "id": "view-in-github",
        "colab_type": "text"
      },
      "source": [
        "<a href=\"https://colab.research.google.com/github/veillette/jupyterNotebooks/blob/main/uproot.ipynb\" target=\"_parent\"><img src=\"https://colab.research.google.com/assets/colab-badge.svg\" alt=\"Open In Colab\"/></a>"
      ]
    },
    {
      "cell_type": "code",
      "source": [
        "!pip install uproot\n",
        "import uproot\n",
        "import matplotlib.pyplot as plt\n"
      ],
      "metadata": {
        "colab": {
          "base_uri": "https://localhost:8080/"
        },
        "id": "oWGFPCs-vZSX",
        "outputId": "29386dab-d4c4-46cd-e539-94ffe4551b77"
      },
      "execution_count": 39,
      "outputs": [
        {
          "output_type": "stream",
          "name": "stdout",
          "text": [
            "Requirement already satisfied: uproot in /usr/local/lib/python3.10/dist-packages (5.3.1)\n",
            "Requirement already satisfied: awkward>=2.4.6 in /usr/local/lib/python3.10/dist-packages (from uproot) (2.6.2)\n",
            "Requirement already satisfied: cramjam>=2.5.0 in /usr/local/lib/python3.10/dist-packages (from uproot) (2.8.2)\n",
            "Requirement already satisfied: fsspec in /usr/local/lib/python3.10/dist-packages (from uproot) (2023.6.0)\n",
            "Requirement already satisfied: numpy in /usr/local/lib/python3.10/dist-packages (from uproot) (1.25.2)\n",
            "Requirement already satisfied: packaging in /usr/local/lib/python3.10/dist-packages (from uproot) (23.2)\n",
            "Requirement already satisfied: typing-extensions>=4.1.0 in /usr/local/lib/python3.10/dist-packages (from uproot) (4.10.0)\n",
            "Requirement already satisfied: awkward-cpp==30 in /usr/local/lib/python3.10/dist-packages (from awkward>=2.4.6->uproot) (30)\n",
            "Requirement already satisfied: importlib-metadata>=4.13.0 in /usr/local/lib/python3.10/dist-packages (from awkward>=2.4.6->uproot) (7.0.1)\n",
            "Requirement already satisfied: zipp>=0.5 in /usr/local/lib/python3.10/dist-packages (from importlib-metadata>=4.13.0->awkward>=2.4.6->uproot) (3.17.0)\n"
          ]
        }
      ]
    },
    {
      "cell_type": "code",
      "source": [
        "# Open the ROOT file\n",
        "root_file = uproot.open(\"https://scikit-hep.org/uproot3/examples/nesteddirs.root\")\n",
        "print(root_file.classnames())"
      ],
      "metadata": {
        "colab": {
          "base_uri": "https://localhost:8080/"
        },
        "id": "DFR8lPS430Od",
        "outputId": "9614bdcf-86cb-423f-9ee8-055c8e284702"
      },
      "execution_count": 40,
      "outputs": [
        {
          "output_type": "stream",
          "name": "stdout",
          "text": [
            "{'one;1': 'TDirectory', 'one/two;1': 'TDirectory', 'one/two/tree;1': 'TTree', 'one/tree;1': 'TTree', 'three;1': 'TDirectory', 'three/tree;1': 'TTree'}\n"
          ]
        }
      ]
    },
    {
      "cell_type": "code",
      "source": [
        "ttree= root_file[\"one/tree\"]"
      ],
      "metadata": {
        "id": "n485pFJ96fvy"
      },
      "execution_count": 41,
      "outputs": []
    },
    {
      "cell_type": "code",
      "source": [
        "# Iterate over branch names\n",
        "for branch_name in ttree.branches:\n",
        "  print(f\"Branch name: {branch_name}\")"
      ],
      "metadata": {
        "colab": {
          "base_uri": "https://localhost:8080/"
        },
        "id": "KrBut9nG6cLe",
        "outputId": "e92fb9e0-c5e1-4b44-8ab8-0ef169058677"
      },
      "execution_count": 44,
      "outputs": [
        {
          "output_type": "stream",
          "name": "stdout",
          "text": [
            "Branch name: <TBranch 'one' at 0x7da3e2037970>\n",
            "Branch name: <TBranch 'two' at 0x7da3e2037670>\n",
            "Branch name: <TBranch 'three' at 0x7da3e20378b0>\n"
          ]
        }
      ]
    },
    {
      "cell_type": "code",
      "source": [
        "file = uproot.open(\"https://scikit-hep.org/uproot3/examples/hepdata-example.root\")"
      ],
      "metadata": {
        "id": "bDR0nMHF3V1M"
      },
      "execution_count": 45,
      "outputs": []
    },
    {
      "cell_type": "code",
      "source": [
        "file.classnames()"
      ],
      "metadata": {
        "colab": {
          "base_uri": "https://localhost:8080/"
        },
        "id": "-nGlQS9J7_ZF",
        "outputId": "e1884837-003a-462f-e123-33fdb2fd77db"
      },
      "execution_count": 46,
      "outputs": [
        {
          "output_type": "execute_result",
          "data": {
            "text/plain": [
              "{'hpx;1': 'TH1F',\n",
              " 'hpxpy;1': 'TH2F',\n",
              " 'hprof;1': 'TProfile',\n",
              " 'ntuple;1': 'TNtuple'}"
            ]
          },
          "metadata": {},
          "execution_count": 46
        }
      ]
    },
    {
      "cell_type": "code",
      "source": [
        "file[\"hpx\"].all_members"
      ],
      "metadata": {
        "colab": {
          "base_uri": "https://localhost:8080/"
        },
        "id": "pNXw2vPN8CB5",
        "outputId": "8b1a7601-d53d-4940-adf8-d9456cd849eb"
      },
      "execution_count": 47,
      "outputs": [
        {
          "output_type": "execute_result",
          "data": {
            "text/plain": [
              "{'@fUniqueID': 0,\n",
              " '@fBits': 50331656,\n",
              " 'fName': 'hpx',\n",
              " 'fTitle': 'This is the px distribution',\n",
              " 'fLineColor': 602,\n",
              " 'fLineStyle': 1,\n",
              " 'fLineWidth': 1,\n",
              " 'fFillColor': 0,\n",
              " 'fFillStyle': 1001,\n",
              " 'fMarkerColor': 1,\n",
              " 'fMarkerStyle': 1,\n",
              " 'fMarkerSize': 1.0,\n",
              " 'fNcells': 102,\n",
              " 'fXaxis': <TAxis (version 9) at 0x7da3e206c9d0>,\n",
              " 'fYaxis': <TAxis (version 9) at 0x7da3e206ce20>,\n",
              " 'fZaxis': <TAxis (version 9) at 0x7da3e206d150>,\n",
              " 'fBarOffset': 0,\n",
              " 'fBarWidth': 1000,\n",
              " 'fEntries': 75000.0,\n",
              " 'fTsumw': 74994.0,\n",
              " 'fTsumw2': 74994.0,\n",
              " 'fTsumwx': -97.16475860591163,\n",
              " 'fTsumwx2': 75251.86518025988,\n",
              " 'fMaximum': -1111.0,\n",
              " 'fMinimum': -1111.0,\n",
              " 'fNormFactor': 0.0,\n",
              " 'fContour': <TArrayD [] at 0x7da3e206d480>,\n",
              " 'fSumw2': <TArrayD [] at 0x7da3e206d4b0>,\n",
              " 'fOption': <TString '' at 0x7da3e20463b0>,\n",
              " 'fFunctions': <TList of 1 items at 0x7da3e206d5a0>,\n",
              " 'fBufferSize': 0,\n",
              " 'fBuffer': array([], dtype='>f8'),\n",
              " 'fBinStatErrOpt': 0,\n",
              " 'fN': 102}"
            ]
          },
          "metadata": {},
          "execution_count": 47
        }
      ]
    },
    {
      "cell_type": "code",
      "source": [
        "file[\"hpx\"].axis().edges()"
      ],
      "metadata": {
        "colab": {
          "base_uri": "https://localhost:8080/"
        },
        "id": "egQSXA0X8FbF",
        "outputId": "562ca12c-9ad4-494e-e84b-eda55933dc83"
      },
      "execution_count": 48,
      "outputs": [
        {
          "output_type": "execute_result",
          "data": {
            "text/plain": [
              "array([-4.  , -3.92, -3.84, -3.76, -3.68, -3.6 , -3.52, -3.44, -3.36,\n",
              "       -3.28, -3.2 , -3.12, -3.04, -2.96, -2.88, -2.8 , -2.72, -2.64,\n",
              "       -2.56, -2.48, -2.4 , -2.32, -2.24, -2.16, -2.08, -2.  , -1.92,\n",
              "       -1.84, -1.76, -1.68, -1.6 , -1.52, -1.44, -1.36, -1.28, -1.2 ,\n",
              "       -1.12, -1.04, -0.96, -0.88, -0.8 , -0.72, -0.64, -0.56, -0.48,\n",
              "       -0.4 , -0.32, -0.24, -0.16, -0.08,  0.  ,  0.08,  0.16,  0.24,\n",
              "        0.32,  0.4 ,  0.48,  0.56,  0.64,  0.72,  0.8 ,  0.88,  0.96,\n",
              "        1.04,  1.12,  1.2 ,  1.28,  1.36,  1.44,  1.52,  1.6 ,  1.68,\n",
              "        1.76,  1.84,  1.92,  2.  ,  2.08,  2.16,  2.24,  2.32,  2.4 ,\n",
              "        2.48,  2.56,  2.64,  2.72,  2.8 ,  2.88,  2.96,  3.04,  3.12,\n",
              "        3.2 ,  3.28,  3.36,  3.44,  3.52,  3.6 ,  3.68,  3.76,  3.84,\n",
              "        3.92,  4.  ])"
            ]
          },
          "metadata": {},
          "execution_count": 48
        }
      ]
    },
    {
      "cell_type": "code",
      "source": [],
      "metadata": {
        "id": "HaUnU3su8Imt"
      },
      "execution_count": null,
      "outputs": []
    }
  ]
}