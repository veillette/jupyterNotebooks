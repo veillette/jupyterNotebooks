{
 "cells": [
  {
   "cell_type": "markdown",
   "id": "d1b53590",
   "metadata": {},
   "source": [
    "# Least Squares Regression\n",
    "\n",
    "The least squares method is a mathematical technique for best line fitting. \n",
    "It minimizes the sum of the squared differences between the observed and predicted values of the dependent variable.\n",
    "\n",
    "Mathematically, the least square method aims to find the parameters $\\theta$ that minimize the sum of squared residuals (errors):\n",
    "\n",
    "$$ \\min_\\theta \\sum_{i=1}^{N} \\left( \\frac{ y_i - f(x_i,\\theta)}{\\sigma_i} \\right)^2 $$\n",
    "\n",
    "Here, $N$ is the number of data points, $(x_i,y_i \\pm \\sigma_i)$ are the  observed data points with their uncertainties, $f(x_i,\\theta)$ is the model function with parameters $\\theta$, and the objective is to find the best $\\theta$ that minimizes this sum of squared residuals."
   ]
  },
  {
   "cell_type": "code",
   "execution_count": 38,
   "id": "7fe8369f",
   "metadata": {
    "scrolled": true
   },
   "outputs": [
    {
     "data": {
      "text/html": [
       "\n",
       "<iframe src=\"https://phet.colorado.edu/sims/html/curve-fitting/latest/curve-fitting_all.html\"\n",
       "width=\"600\" height=\"400\" scrolling=\"no\" allowfullscreen></iframe>\n"
      ],
      "text/plain": [
       "<IPython.core.display.HTML object>"
      ]
     },
     "metadata": {},
     "output_type": "display_data"
    }
   ],
   "source": [
    "from IPython.display import HTML\n",
    "\n",
    "# URL of curve fitting simulation\n",
    "url =\"https://phet.colorado.edu/sims/html/curve-fitting/latest/curve-fitting_all.html\"\n",
    "\n",
    "phet_embed_code = f\"\"\"\n",
    "<iframe src=\"{url}\"\n",
    "width=\"600\" height=\"400\" scrolling=\"no\" allowfullscreen></iframe>\n",
    "\"\"\"\n",
    "\n",
    "# Display the PhET simulation\n",
    "display(HTML(phet_embed_code))"
   ]
  },
  {
   "cell_type": "code",
   "execution_count": 24,
   "id": "faccf422",
   "metadata": {},
   "outputs": [],
   "source": [
    "# import numpy as np\n",
    "import numpy as np\n",
    "\n",
    "# Import non-linear least squares to fit a function, f, to data.\n",
    "from scipy.optimize import curve_fit\n",
    "\n",
    "# Library to plot data\n",
    "import matplotlib.pyplot as plt"
   ]
  },
  {
   "cell_type": "code",
   "execution_count": 25,
   "id": "e5f6dd96",
   "metadata": {},
   "outputs": [],
   "source": [
    "# Define the exponentially decaying function tha will be used as a fit parameters\n",
    "def exp_decay(x, a, b, c):\n",
    "    return a * np.exp(-b * x) + c"
   ]
  },
  {
   "cell_type": "code",
   "execution_count": 31,
   "id": "283eb6e5",
   "metadata": {},
   "outputs": [],
   "source": [
    "# Sample data\n",
    "x = np.array([1, 2, 3, 4, 5])\n",
    "y = np.array([10, 7, 4, 2, 1])\n",
    "sigma = np.array([0.4, 0.5, 0.2, 0.3, 0.6])  # Specify the sigma values"
   ]
  },
  {
   "cell_type": "code",
   "execution_count": 32,
   "id": "e745e903",
   "metadata": {},
   "outputs": [
    {
     "data": {
      "image/png": "[encoded data removed]",
      "text/plain": [
       "<Figure size 640x480 with 1 Axes>"
      ]
     },
     "metadata": {},
     "output_type": "display_data"
    }
   ],
   "source": [
    "# Perform the weighted least squares fit\n",
    "params, covariance = curve_fit(exp_decay, x, y, sigma=sigma, absolute_sigma=True)\n",
    "\n",
    "# Extract the optimized parameters\n",
    "a_opt, b_opt, c_opt = params\n",
    "\n",
    "# Calculate the standard deviation of the parameters\n",
    "a_std_dev, b_std_dev, c_std_dev = np.sqrt(np.diag(covariance))\n",
    "\n",
    "# Plot the original data and the fitted curve\n",
    "plt.errorbar(x, y, yerr=sigma, fmt='o', label='Data with Error Bars')\n",
    "x_fit = np.linspace(0, max(x), 100)\n",
    "y_fit = exp_decay(x_fit, a_opt, b_opt, c_opt)\n",
    "plt.plot(x_fit, y_fit, 'r-', label='Fitted Curve')\n",
    "plt.xlabel('x')\n",
    "plt.ylabel('y')\n",
    "plt.legend()\n",
    "plt.show()"
   ]
  },
  {
   "cell_type": "code",
   "execution_count": 33,
   "id": "061a1ecf",
   "metadata": {},
   "outputs": [
    {
     "name": "stdout",
     "output_type": "stream",
     "text": [
      "Optimized parameters:\n",
      "a = 18.21149082811296 ± 1.9508266738023665\n",
      "b = 0.2970291170573071 ± 0.09402973793385196\n",
      "c = -3.4429753540819816 ± 2.7247546379935166\n"
     ]
    }
   ],
   "source": [
    "# Display the optimized parameters and their standard deviations\n",
    "print(\"Optimized parameters:\")\n",
    "print(f\"a = {a_opt} ± {a_std_dev}\")\n",
    "print(f\"b = {b_opt} ± {b_std_dev}\")\n",
    "print(f\"c = {c_opt} ± {c_std_dev}\")"
   ]
  },
  {
   "cell_type": "code",
   "execution_count": null,
   "id": "37468650",
   "metadata": {},
   "outputs": [],
   "source": []
  },
  {
   "cell_type": "code",
   "execution_count": null,
   "id": "b0a0ed03",
   "metadata": {},
   "outputs": [],
   "source": []
  }
 ],
 "metadata": {
  "kernelspec": {
   "display_name": "Python 3 (ipykernel)",
   "language": "python",
   "name": "python3"
  },
  "language_info": {
   "codemirror_mode": {
    "name": "ipython",
    "version": 3
   },
   "file_extension": ".py",
   "mimetype": "text/x-python",
   "name": "python",
   "nbconvert_exporter": "python",
   "pygments_lexer": "ipython3",
   "version": "3.11.4"
  }
 },
 "nbformat": 4,
 "nbformat_minor": 5
}
