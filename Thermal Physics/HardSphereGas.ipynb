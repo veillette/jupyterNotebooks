{
  "cells": [
    {
      "metadata": {
        "trusted": true
      },
      "cell_type": "code",
      "source": "!conda install -c vpython vpython -y\n#!pip3 install vpython --upgrade\n#!python -m vpython install",
      "execution_count": 1,
      "outputs": [
        {
          "output_type": "stream",
          "text": "Solving environment: done\n\n## Package Plan ##\n\n  environment location: /home/nbuser/anaconda3_501\n\n  added / updated specs: \n    - vpython\n\n\nThe following packages will be downloaded:\n\n    package                    |            build\n    ---------------------------|-----------------\n    ipython-7.2.0              |   py36h39e3cac_0         1.0 MB\n    bleach-3.0.2               |           py36_0         220 KB\n    ipykernel-4.10.0           |           py36_0         147 KB\n    numpy-base-1.15.4          |   py36h81de0dd_0         4.2 MB\n    txaio-2.9.0                |             py_0          19 KB  vpython\n    vpython-7.4.7              |           py36_0         3.6 MB  vpython\n    vpnotebook-0.1.3           |           py36_1          10 KB  vpython\n    numpy-1.15.4               |   py36h1d66e8a_0          35 KB\n    six-1.11.0                 |           py36_1          21 KB  vpython\n    readline-7.0               |       h7b6447c_5         392 KB\n    ujson-1.35                 |   py36h14c3975_0          26 KB\n    autobahn-18.3.1            |             py_0         161 KB  vpython\n    ------------------------------------------------------------\n                                           Total:         9.8 MB\n\nThe following NEW packages will be INSTALLED:\n\n    autobahn:   18.3.1-py_0            vpython\n    readline:   7.0-h7b6447c_5                \n    txaio:      2.9.0-py_0             vpython\n    ujson:      1.35-py36h14c3975_0           \n    vpnotebook: 0.1.3-py36_1           vpython\n    vpython:    7.4.7-py36_0           vpython\n\nThe following packages will be UPDATED:\n\n    bleach:     1.5.0-py36_0                   --> 3.0.2-py36_0                 \n    ipython:    7.1.1-py36h39e3cac_0           --> 7.2.0-py36h39e3cac_0         \n    numpy:      1.11.3-py36h1d66e8a_10         --> 1.15.4-py36h1d66e8a_0        \n    numpy-base: 1.11.3-py36h81de0dd_10         --> 1.15.4-py36h81de0dd_0        \n    six:        1.11.0-py36_1                  --> 1.11.0-py36_1         vpython\n\nThe following packages will be DOWNGRADED:\n\n    ipykernel:  5.1.0-py36h39e3cac_0           --> 4.10.0-py36_0                \n\n\nDownloading and Extracting Packages\nipython-7.2.0        | 1.0 MB    | ##################################### | 100% \nbleach-3.0.2         | 220 KB    | ##################################### | 100% \nipykernel-4.10.0     | 147 KB    | ##################################### | 100% \nnumpy-base-1.15.4    | 4.2 MB    | ##################################### | 100% \ntxaio-2.9.0          | 19 KB     | ##################################### | 100% \nvpython-7.4.7        | 3.6 MB    | ##################################### | 100% \nvpnotebook-0.1.3     | 10 KB     | ##################################### | 100% \nnumpy-1.15.4         | 35 KB     | ##################################### | 100% \nsix-1.11.0           | 21 KB     | ##################################### | 100% \nreadline-7.0         | 392 KB    | ##################################### | 100% \nujson-1.35           | 26 KB     | ##################################### | 100% \nautobahn-18.3.1      | 161 KB    | ##################################### | 100% \nPreparing transaction: done\nVerifying transaction: done\nExecuting transaction: done\n",
          "name": "stdout"
        }
      ]
    },
    {
      "metadata": {
        "trusted": false
      },
      "cell_type": "code",
      "source": "!conda update -n base conda -y",
      "execution_count": 7,
      "outputs": [
        {
          "name": "stdout",
          "output_type": "stream",
          "text": "Solving environment: done\n\n# All requested packages already installed.\n\n"
        }
      ]
    },
    {
      "metadata": {
        "trusted": false
      },
      "cell_type": "code",
      "source": "from vpython import *\nsphere()",
      "execution_count": 10,
      "outputs": []
    },
    {
      "metadata": {
        "trusted": false
      },
      "cell_type": "code",
      "source": "\n\n# Hard-sphere gas.\n\n# Bruce Sherwood\n\nwin = 400\n\nNatoms = 40  # change this to have more or fewer atoms\n\n# Typical values\nL = 1 # container is a cube L on a side\ngray = color.gray(0.7) # color of edges of container\nmass = 4E-3/6E23 # helium mass\nRatom = 0.01 # wildly exaggerated size of helium atom\nk = 1.4E-23 # Boltzmann constant\nT = 300 # around room temperature\ndt = 1E-5\n\nanimation = canvas( width=win, height=win, align='left')\n\nd = L/2+Ratom\nr = 0.005\nboxbottom = curve(color=gray, radius=r)\nboxbottom.append(pos=[vector(-d,-d,-d), vector(-d,-d,d), vector(d,-d,d), vector(d,-d,-d), vector(-d,-d,-d)])\nboxtop = curve(color=gray, radius=r)\nboxtop.append([vector(-d,d,-d), vector(-d,d,d), vector(d,d,d), vector(d,d,-d), vector(-d,d,-d)])\nvert1 = curve(color=gray, radius=r)\nvert2 = curve(color=gray, radius=r)\nvert3 = curve(color=gray, radius=r)\nvert4 = curve(color=gray, radius=r)\nvert1.append([vector(-d,-d,-d), vector(-d,d,-d)])\nvert2.append([vector(-d,-d,d), vector(-d,d,d)])\nvert3.append([vector(d,-d,d), vector(d,d,d)])\nvert4.append([vector(d,-d,-d), vector(d,d,-d)])\n\nAtoms = []\napos = []\np = []\npavg = sqrt(2*mass*1.5*k*T) # average kinetic energy p**2/(2mass) = (3/2)kT\nr = 0.005*L\n    \nfor i in range(Natoms):\n    x = L*random()-L/2\n    y = L*random()-L/2\n    z = L*random()-L/2\n    if i == 0:\n        Atoms.append(sphere(pos=vector(x,y,z), radius=Ratom, color=color.cyan,\n                            make_trail=True, retain=100, trail_radius=0.3*Ratom))\n    else: Atoms.append(sphere(pos=vector(x,y,z), radius=Ratom, color=gray))\n    apos.append(vector(x,y,z))\n    theta = pi*random()\n    phi = 2*pi*random()\n    px = pavg*sin(theta)*cos(phi)\n    py = pavg*sin(theta)*sin(phi)\n    pz = pavg*cos(theta)\n    p.append(vector(px,py,pz))\n\nanimation.title = 'A \"hard-sphere\" gas'\ns = '  Theoretical and averaged speed distributions (meters/sec).\\n'\ns += '  Initially all atoms have the same speed, but collisions\\n'\ns += '  change the speeds of the colliding atoms. One of the atoms is\\n'\ns += '  marked and leaves a trail so you can follow its path.'\nanimation.caption = s\nanimation.range = L\n\ndeltav = 100 # binning for v histogram\n\ndef barx(v):\n    return int(v/deltav) # index into bars array\n\nnhisto = int(4000/deltav)\nhisto = []\nfor i in range(nhisto): histo.append(0.0)\nhisto[barx(pavg/mass)] = Natoms\n\ngraph( width=500, height=300, xmax=3000, ymax=Natoms*deltav/1000, align='right' )\ntheory = gcurve( color=color.cyan )\ndv = 10\nfor v in range(0,3001+dv,dv):  # theoretical prediction\n    theory.plot( v, (deltav/dv)*Natoms*4*pi*((mass/(2*pi*k*T))**1.5) *exp(-0.5*mass*(v**2)/(k*T))*(v**2)*dv )\n\naccum = []\nfor i in range(int(3000/deltav)): accum.append([deltav*(i+.5),0])\nvdist = gvbars(color=color.red, delta=deltav )\n\ndef interchange(v1, v2):  # remove from v1 bar, add to v2 bar\n    barx1 = barx(v1)\n    barx2 = barx(v2)\n    if barx1 == barx2:  return \n    histo[barx1] -= 1\n    histo[barx2] += 1\n    \ndef checkCollisions(apos):\n    hitlist = []\n    Natoms = len(apos)\n    r2 = 2*Ratom\n    r2 *= r2\n    for i in range(Natoms):\n        ai = apos[i]\n        for j in range(i+1, Natoms) :\n            aj = apos[j]\n            dr = ai - aj\n            if mag2(dr) < r2: hitlist.append([i,j])\n    return hitlist\n\nnhisto = 0 # number of histogram snapshots to average\n\nwhile True:\n    rate(150)\n    # Accumulate and average histogram snapshots\n    for i in range(len(accum)): accum[i][1] = (nhisto*accum[i][1] + histo[i])/(nhisto+1)\n    if nhisto % 10 == 0:\n        vdist.data = accum\n    nhisto += 1\n\n    # Update all positions\n    for i in range(Natoms): Atoms[i].pos = apos[i] = apos[i] + (p[i]/mass)*dt\n    \n    # Check for collisions\n    hitlist = checkCollisions(apos)\n\n    # If any collisions took place, update momenta of the two atoms\n    for ij in hitlist:\n        i = ij[0]\n        j = ij[1]\n        ptot = p[i]+p[j]\n        vi = p[i]/mass\n        vj = p[j]/mass\n        vrel = vj-vi\n        a = vrel.mag2\n        if a == 0: continue;  # exactly same velocities\n        rrel = apos[i]-apos[j]\n        b = 2*rrel.dot(vrel)\n        c = rrel.mag2-4*Ratom*Ratom\n        d = b*b-4*a*c\n        if d < 0: continue  # something wrong; ignore this rare case\n        deltat = (-b+sqrt(d))/(2*a) # t-deltat is when they made contact\n        apos[i] = apos[i]-vi*deltat # back up to contact configuration\n        apos[j] = apos[j]-vj*deltat\n        mtot = 2*mass\n        pcmi = p[i]-ptot*mass/mtot # transform momenta to cm frame\n        pcmj = p[j]-ptot*mass/mtot\n        rrel = norm(rrel)\n        pcmi = pcmi-2*pcmi.dot(rrel)*rrel # bounce in cm frame\n        pcmj = pcmj-2*pcmj.dot(rrel)*rrel\n        p[i] = pcmi+ptot*mass/mtot # transform momenta back to lab frame\n        p[j] = pcmj+ptot*mass/mtot\n        apos[i] = apos[i]+(p[i]/mass)*deltat # move forward deltat in time\n        apos[j] = apos[j]+(p[j]/mass)*deltat\n        interchange(vi.mag, p[i].mag/mass)\n        interchange(vj.mag, p[j].mag/mass)\n    \n    for i in range(Natoms):\n        loc = apos[i]\n        if abs(loc.x) > L/2:\n            if loc.x < 0: p[i].x =  abs(p[i].x)\n            else: p[i].x =  -abs(p[i].x)\n        \n        if abs(loc.y) > L/2:\n            if loc.y < 0: p[i].y = abs(p[i].y)\n            else: p[i].y =  -abs(p[i].y)\n        \n        if abs(loc.z) > L/2:\n            if loc.z < 0: p[i].z =  abs(p[i].z)\n            else: p[i].z =  -abs(p[i].z)",
      "execution_count": null,
      "outputs": [
        {
          "data": {
            "text/html": "<div id=\"glowscript\" class=\"glowscript\"></div>",
            "text/plain": "<IPython.core.display.HTML object>"
          },
          "metadata": {},
          "output_type": "display_data"
        },
        {
          "data": {
            "application/javascript": "window.__context = { glowscript_container: $(\"#glowscript\").removeAttr(\"id\")}",
            "text/plain": "<IPython.core.display.Javascript object>"
          },
          "metadata": {},
          "output_type": "display_data"
        }
      ]
    },
    {
      "metadata": {
        "collapsed": true,
        "trusted": false
      },
      "cell_type": "code",
      "source": "!pip show vpython",
      "execution_count": null,
      "outputs": []
    },
    {
      "metadata": {
        "collapsed": true,
        "trusted": false
      },
      "cell_type": "code",
      "source": "",
      "execution_count": null,
      "outputs": []
    },
    {
      "metadata": {
        "collapsed": true,
        "trusted": false
      },
      "cell_type": "code",
      "source": "",
      "execution_count": null,
      "outputs": []
    },
    {
      "metadata": {
        "collapsed": true,
        "trusted": false
      },
      "cell_type": "code",
      "source": "",
      "execution_count": null,
      "outputs": []
    }
  ],
  "metadata": {
    "anaconda-cloud": {},
    "celltoolbar": "Slideshow",
    "kernelspec": {
      "name": "python36",
      "display_name": "Python 3.6",
      "language": "python"
    },
    "language_info": {
      "mimetype": "text/x-python",
      "nbconvert_exporter": "python",
      "name": "python",
      "pygments_lexer": "ipython3",
      "version": "3.6.6",
      "file_extension": ".py",
      "codemirror_mode": {
        "version": 3,
        "name": "ipython"
      }
    }
  },
  "nbformat": 4,
  "nbformat_minor": 1
}