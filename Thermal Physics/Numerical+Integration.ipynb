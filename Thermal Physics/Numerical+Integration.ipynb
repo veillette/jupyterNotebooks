{
 "cells": [
  {
   "cell_type": "markdown",
   "metadata": {},
   "source": [
    "- - - -\n",
    "#  Numerical IntegrationTutorial\n",
    "\n",
    "\n",
    "- - - -\n",
    "\n",
    "Martin Veillette @ Berea College\n",
    "\n",
    "- - - -\n"
   ]
  },
  {
   "attachments": {
    "image.png": {
     "image/png": "[encoded data removed]"
    }
   },
   "cell_type": "markdown",
   "metadata": {},
   "source": [
    "There are several methods to integrate numerically: they go by different name: \n",
    "\n",
    " - Trapezium rule\n",
    " - Mid-point rule\n",
    " - Simpson's rule\n",
    " - Romberg integration\n",
    " - Gauss quadrature \n",
    " \n",
    "All of these methods rely on breaking the interval of integration into many sub intervals.\n",
    "![image.png](attachment:image.png)\n",
    "\n",
    "\n",
    "This tutorial explains how we can leverage the power of a computer to determine the integral using the mid-point rule ( also known as the rectangle rule)"
   ]
  },
  {
   "cell_type": "markdown",
   "metadata": {},
   "source": [
    "## Python Initialization with module imports"
   ]
  },
  {
   "cell_type": "code",
   "execution_count": 1,
   "metadata": {
    "collapsed": true
   },
   "outputs": [],
   "source": [
    "# setup \n",
    "import numpy as np\n",
    "import sympy as sp\n",
    "sp.init_printing(use_latex='mathjax')\n",
    "\n",
    "import matplotlib.pyplot as plt\n",
    "plt.rcParams['figure.figsize'] = (12, 8)  # (width, height)\n",
    "plt.rcParams['font.size'] = 14\n",
    "plt.rcParams['legend.fontsize'] = 16\n",
    "from matplotlib import patches\n",
    "\n",
    "#get_ipython().magic('matplotlib')  # separate window\n",
    "get_ipython().magic('matplotlib inline') # inline plotting\n"
   ]
  },
  {
   "cell_type": "markdown",
   "metadata": {},
   "source": [
    "## Objective"
   ]
  },
  {
   "cell_type": "markdown",
   "metadata": {},
   "source": [
    "We would like to evaluate an integral of the form\n",
    "$$ \\int_a^b f(x) dx $$\n",
    "\n",
    "where $f(x)= x^2 \\exp \\left(-  \\left(\\frac{x}{c}\\right)^2 \\right)  $ \n",
    "\n",
    "For concreteness, let take $a=1, b=5, c= 3$"
   ]
  },
  {
   "cell_type": "code",
   "execution_count": 2,
   "metadata": {
    "collapsed": true
   },
   "outputs": [],
   "source": [
    "# define our function\n",
    "\n",
    "def f(x):\n",
    "    c = 3\n",
    "    y= x**2 * np.exp(-(x/c)**2)\n",
    "    return  y"
   ]
  },
  {
   "cell_type": "code",
   "execution_count": 3,
   "metadata": {},
   "outputs": [
    {
     "data": {
      "text/latex": [
       "$$1.34027230597$$"
      ],
      "text/plain": [
       "1.34027230597"
      ]
     },
     "execution_count": 3,
     "metadata": {},
     "output_type": "execute_result"
    }
   ],
   "source": [
    "# sanity check to see if our function returns a value\n",
    "f(5.2)"
   ]
  },
  {
   "cell_type": "markdown",
   "metadata": {},
   "source": [
    "\n",
    "## Plotting "
   ]
  },
  {
   "cell_type": "code",
   "execution_count": 4,
   "metadata": {
    "scrolled": true
   },
   "outputs": [
    {
     "data": {
      "image/png": "[encoded data removed]",
      "text/plain": [
       "<matplotlib.figure.Figure at 0x7fe5652137b8>"
      ]
     },
     "metadata": {},
     "output_type": "display_data"
    }
   ],
   "source": [
    "# let's plot the function to have an idea of the region of integration\n",
    "x = np.arange(0, 10, 0.1)\n",
    "y = f(x)\n",
    "plt.scatter(x,y);\n",
    "\n",
    "a=1;\n",
    "b=5;\n",
    "plt.axvline(x=a, color='k', linestyle='--')\n",
    "plt.axvline(x=b, color='k', linestyle='--')\n",
    "plt.xlabel('x')\n",
    "plt.ylabel('$f(x)$')\n",
    "plt.title('numerical integration example')\n",
    "plt.show()"
   ]
  },
  {
   "cell_type": "code",
   "execution_count": 5,
   "metadata": {
    "collapsed": true
   },
   "outputs": [],
   "source": [
    "def riemannPlot(f,a,b,spacing): \n",
    "    # plot method to illustrate what a riemann sum is\n",
    "    # takes a function as a parameter, a lower bound, a and an upper bound ,b, as well\n",
    "    # as the width of the intervals \n",
    "    \n",
    "    smoothh= (b-a)/1000.0\n",
    "    x = np.arange(a,b+smoothh,smoothh)\n",
    "    \n",
    "    plt.plot(x,f(x))\n",
    "    riemannx = np.arange(a,b, spacing)\n",
    "    riemanny = f(riemannx)\n",
    "    \n",
    "    plt.bar(riemannx,riemanny,width=spacing,alpha=0.3,facecolor='orange', edgecolor='r')\n",
    "    plt.xlabel('x')\n",
    "    plt.ylabel('f(x)')\n",
    "    plt.title('Riemann Sum for f(x)')\n",
    "    plt.xlim(-1+a,b+1)\n",
    "    plt.show()"
   ]
  },
  {
   "cell_type": "code",
   "execution_count": 6,
   "metadata": {},
   "outputs": [
    {
     "data": {
      "image/png": "[encoded data removed]",
      "text/plain": [
       "<matplotlib.figure.Figure at 0x7fe56456d400>"
      ]
     },
     "metadata": {},
     "output_type": "display_data"
    }
   ],
   "source": [
    "riemannPlot(f,a,b,0.5)"
   ]
  },
  {
   "cell_type": "code",
   "execution_count": 7,
   "metadata": {
    "collapsed": true
   },
   "outputs": [],
   "source": [
    "# we can divide the domain of integration in small intervals (separated by the quantity named spacing)\n",
    "\n",
    "spacing = 0.01;\n",
    "a=1;\n",
    "b=5;\n",
    "\n",
    "x = np.arange(a, b, spacing);\n",
    "y = f(x);\n"
   ]
  },
  {
   "cell_type": "code",
   "execution_count": 8,
   "metadata": {},
   "outputs": [
    {
     "data": {
      "text/plain": [
       "array([ 0.89483932,  0.91078922,  0.92682108,  0.94293288,  0.95912262,\n",
       "        0.97538826,  0.99172778,  1.00813913,  1.02462028,  1.04116917,\n",
       "        1.05778375,  1.07446196,  1.09120173,  1.108001  ,  1.12485768,\n",
       "        1.14176972,  1.15873501,  1.17575148,  1.19281703,  1.20992959,\n",
       "        1.22708706,  1.24428733,  1.26152832,  1.27880793,  1.29612405,\n",
       "        1.3134746 ,  1.33085746,  1.34827054,  1.36571174,  1.38317895,\n",
       "        1.40067008,  1.41818303,  1.4357157 ,  1.453266  ,  1.47083184,\n",
       "        1.48841111,  1.50600175,  1.52360164,  1.54120873,  1.55882092,\n",
       "        1.57643615,  1.59405233,  1.61166741,  1.62927931,  1.64688599,\n",
       "        1.66448539,  1.68207547,  1.69965417,  1.71721947,  1.73476934,\n",
       "        1.75230176,  1.76981471,  1.78730618,  1.80477417,  1.82221669,\n",
       "        1.83963175,  1.85701738,  1.87437161,  1.89169247,  1.90897802,\n",
       "        1.92622632,  1.94343543,  1.96060343,  1.97772841,  1.99480847,\n",
       "        2.01184171,  2.02882626,  2.04576024,  2.0626418 ,  2.07946908,\n",
       "        2.09624027,  2.11295352,  2.12960703,  2.146199  ,  2.16272765,\n",
       "        2.1791912 ,  2.19558789,  2.21191597,  2.22817371,  2.24435939,\n",
       "        2.2604713 ,  2.27650775,  2.29246706,  2.30834758,  2.32414764,\n",
       "        2.33986562,  2.3554999 ,  2.37104887,  2.38651094,  2.40188455,\n",
       "        2.41716813,  2.43236015,  2.44745907,  2.46246339,  2.47737162,\n",
       "        2.49218228,  2.50689391,  2.52150507,  2.53601434,  2.55042029,\n",
       "        2.56472155,  2.57891674,  2.59300451,  2.60698351,  2.62085242,\n",
       "        2.63460994,  2.64825479,  2.6617857 ,  2.67520142,  2.68850073,\n",
       "        2.7016824 ,  2.71474525,  2.7276881 ,  2.74050979,  2.7532092 ,\n",
       "        2.7657852 ,  2.77823669,  2.7905626 ,  2.80276186,  2.81483343,\n",
       "        2.82677629,  2.83858944,  2.8502719 ,  2.86182269,  2.87324088,\n",
       "        2.88452555,  2.89567578,  2.9066907 ,  2.91756944,  2.92831115,\n",
       "        2.93891501,  2.94938021,  2.95970596,  2.96989151,  2.9799361 ,\n",
       "        2.98983902,  2.99959954,  3.00921699,  3.01869071,  3.02802004,\n",
       "        3.03720436,  3.04624307,  3.05513557,  3.06388131,  3.07247974,\n",
       "        3.08093032,  3.08923257,  3.09738598,  3.1053901 ,  3.11324447,\n",
       "        3.12094868,  3.12850231,  3.13590498,  3.14315633,  3.15025599,\n",
       "        3.15720366,  3.16399902,  3.17064177,  3.17713167,  3.18346844,\n",
       "        3.18965187,  3.19568174,  3.20155787,  3.20728007,  3.2128482 ,\n",
       "        3.21826213,  3.22352173,  3.22862692,  3.23357761,  3.23837375,\n",
       "        3.2430153 ,  3.24750224,  3.25183456,  3.25601228,  3.26003543,\n",
       "        3.26390407,  3.26761826,  3.2711781 ,  3.27458369,  3.27783516,\n",
       "        3.28093264,  3.2838763 ,  3.2866663 ,  3.28930286,  3.29178617,\n",
       "        3.29411647,  3.29629399,  3.29831901,  3.3001918 ,  3.30191266,\n",
       "        3.30348189,  3.30489982,  3.30616681,  3.3072832 ,  3.30824938,\n",
       "        3.30906574,  3.30973268,  3.31025063,  3.31062002,  3.31084131,\n",
       "        3.31091497,  3.31084148,  3.31062133,  3.31025504,  3.30974314,\n",
       "        3.30908617,  3.30828468,  3.30733924,  3.30625044,  3.30501887,\n",
       "        3.30364513,  3.30212987,  3.3004737 ,  3.29867728,  3.29674128,\n",
       "        3.29466636,  3.29245321,  3.29010254,  3.28761505,  3.28499147,\n",
       "        3.28223254,  3.27933899,  3.27631159,  3.27315111,  3.26985833,\n",
       "        3.26643404,  3.26287904,  3.25919414,  3.25538018,  3.25143797,\n",
       "        3.24736837,  3.24317223,  3.23885041,  3.23440378,  3.22983323,\n",
       "        3.22513964,  3.22032391,  3.21538696,  3.2103297 ,  3.20515305,\n",
       "        3.19985795,  3.19444534,  3.18891618,  3.1832714 ,  3.17751199,\n",
       "        3.17163891,  3.16565315,  3.15955568,  3.1533475 ,  3.14702961,\n",
       "        3.14060302,  3.13406873,  3.12742777,  3.12068116,  3.11382992,\n",
       "        3.1068751 ,  3.09981773,  3.09265885,  3.08539953,  3.07804081,\n",
       "        3.07058375,  3.06302942,  3.05537889,  3.04763322,  3.0397935 ,\n",
       "        3.0318608 ,  3.02383621,  3.01572082,  3.00751571,  2.99922198,\n",
       "        2.99084073,  2.98237305,  2.97382004,  2.96518282,  2.95646248,\n",
       "        2.94766013,  2.93877689,  2.92981386,  2.92077216,  2.9116529 ,\n",
       "        2.9024572 ,  2.89318618,  2.88384095,  2.87442263,  2.86493234,\n",
       "        2.8553712 ,  2.84574033,  2.83604085,  2.82627389,  2.81644055,\n",
       "        2.80654196,  2.79657924,  2.78655351,  2.77646588,  2.76631747,\n",
       "        2.7561094 ,  2.74584278,  2.73551872,  2.72513834,  2.71470275,\n",
       "        2.70421305,  2.69367035,  2.68307575,  2.67243037,  2.66173528,\n",
       "        2.65099161,  2.64020043,  2.62936285,  2.61847995,  2.60755281,\n",
       "        2.59658253,  2.58557018,  2.57451684,  2.56342358,  2.55229148,\n",
       "        2.5411216 ,  2.529915  ,  2.51867274,  2.50739588,  2.49608546,\n",
       "        2.48474255,  2.47336816,  2.46196336,  2.45052916,  2.43906661,\n",
       "        2.42757671,  2.4160605 ,  2.40451898,  2.39295318,  2.38136408,\n",
       "        2.36975269,  2.35812001,  2.34646703,  2.33479472,  2.32310407,\n",
       "        2.31139604,  2.29967162,  2.28793174,  2.27617738,  2.26440948,\n",
       "        2.25262898,  2.24083683,  2.22903394,  2.21722125,  2.20539968,\n",
       "        2.19357013,  2.18173352,  2.16989074,  2.15804269,  2.14619025,\n",
       "        2.1343343 ,  2.12247571,  2.11061536,  2.09875409,  2.08689277,\n",
       "        2.07503223,  2.06317333,  2.05131688,  2.03946371,  2.02761464,\n",
       "        2.01577048,  2.00393204,  1.9921001 ,  1.98027546,  1.9684589 ,\n",
       "        1.9566512 ,  1.94485311,  1.9330654 ,  1.92128882,  1.90952411,\n",
       "        1.89777201,  1.88603325,  1.87430856,  1.86259863,  1.85090419,\n",
       "        1.83922593,  1.82756454,  1.8159207 ,  1.80429509,  1.79268837,\n",
       "        1.78110122,  1.76953427,  1.75798818,  1.74646359,  1.73496111,\n",
       "        1.72348137,  1.71202499,  1.70059257,  1.68918471,  1.67780201,\n",
       "        1.66644503,  1.65511436,  1.64381056,  1.6325342 ,  1.62128582,\n",
       "        1.61006597,  1.59887518,  1.58771398,  1.5765829 ,  1.56548244])"
      ]
     },
     "execution_count": 8,
     "metadata": {},
     "output_type": "execute_result"
    }
   ],
   "source": [
    "y"
   ]
  },
  {
   "cell_type": "code",
   "execution_count": 9,
   "metadata": {},
   "outputs": [
    {
     "name": "stdout",
     "output_type": "stream",
     "text": [
      "number of intervals 400\n",
      "result= 10.029399778\n"
     ]
    }
   ],
   "source": [
    "# summing all the y values and multiplying by the width of the interval will give us an ggood approximation to the integral\n",
    "integral = y.sum()*spacing\n",
    "print('number of intervals',len(x))\n",
    "print('result=', integral) "
   ]
  },
  {
   "cell_type": "markdown",
   "metadata": {},
   "source": [
    "A more sophisticated approach uses the trapezoid rule to determine the area under the curve"
   ]
  },
  {
   "cell_type": "code",
   "execution_count": 10,
   "metadata": {},
   "outputs": [
    {
     "data": {
      "text/latex": [
       "$$10.0170981692$$"
      ],
      "text/plain": [
       "10.0170981692"
      ]
     },
     "execution_count": 10,
     "metadata": {},
     "output_type": "execute_result"
    }
   ],
   "source": [
    "# Using the trapezoidal rule, we can numerically integrate the function more accurately\n",
    "np.trapz(y,x)"
   ]
  },
  {
   "cell_type": "markdown",
   "metadata": {
    "solution": "hidden",
    "solution_first": true
   },
   "source": [
    "Increasing the number of intervals makes the result more precise."
   ]
  }
 ],
 "metadata": {
  "anaconda-cloud": {},
  "kernelspec": {
   "display_name": "Python 3.6",
   "language": "python",
   "name": "python36"
  },
  "language_info": {
   "codemirror_mode": {
    "name": "ipython",
    "version": 3
   },
   "file_extension": ".py",
   "mimetype": "text/x-python",
   "name": "python",
   "nbconvert_exporter": "python",
   "pygments_lexer": "ipython3",
   "version": "3.6.0"
  },
  "varInspector": {
   "cols": {
    "lenName": 16,
    "lenType": 16,
    "lenVar": 40
   },
   "kernels_config": {
    "python": {
     "delete_cmd_postfix": "",
     "delete_cmd_prefix": "del ",
     "library": "var_list.py",
     "varRefreshCmd": "print(var_dic_list())"
    },
    "r": {
     "delete_cmd_postfix": ") ",
     "delete_cmd_prefix": "rm(",
     "library": "var_list.r",
     "varRefreshCmd": "cat(var_dic_list()) "
    }
   },
   "types_to_exclude": [
    "module",
    "function",
    "builtin_function_or_method",
    "instance",
    "_Feature"
   ],
   "window_display": false
  }
 },
 "nbformat": 4,
 "nbformat_minor": 1
}
