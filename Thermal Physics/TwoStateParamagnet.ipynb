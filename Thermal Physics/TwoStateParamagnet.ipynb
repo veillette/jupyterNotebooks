{
 "cells": [
  {
   "cell_type": "markdown",
   "metadata": {
    "slideshow": {
     "slide_type": "slide"
    }
   },
   "source": [
    "# Two State Paramagnet"
   ]
  },
  {
   "cell_type": "code",
   "execution_count": 1,
   "metadata": {
    "collapsed": true,
    "slideshow": {
     "slide_type": "subslide"
    }
   },
   "outputs": [],
   "source": [
    "import matplotlib.pyplot as plt # import the \"pyplot\" library as the \"plt\" handle\n",
    "from scipy.special import comb\n",
    "from scipy.special import perm\n",
    "import numpy as np # import the \"numpy\" library as the \"np\" handle, where lots of functions live\n",
    "#%matplotlib notebook"
   ]
  },
  {
   "cell_type": "code",
   "execution_count": 2,
   "metadata": {
    "slideshow": {
     "slide_type": "subslide"
    }
   },
   "outputs": [
    {
     "data": {
      "text/plain": [
       "3628800"
      ]
     },
     "execution_count": 2,
     "metadata": {},
     "output_type": "execute_result"
    }
   ],
   "source": [
    "# factorial of 10\n",
    "np.math.factorial(10)"
   ]
  },
  {
   "cell_type": "code",
   "execution_count": 3,
   "metadata": {
    "slideshow": {
     "slide_type": "subslide"
    }
   },
   "outputs": [
    {
     "data": {
      "text/plain": [
       "90.0"
      ]
     },
     "execution_count": 3,
     "metadata": {},
     "output_type": "execute_result"
    }
   ],
   "source": [
    "# the number of ways to pick two different cards from a pack of 10 (distintcs) cards.   \n",
    "perm(10,2)"
   ]
  },
  {
   "cell_type": "code",
   "execution_count": 4,
   "metadata": {
    "collapsed": true,
    "slideshow": {
     "slide_type": "subslide"
    }
   },
   "outputs": [],
   "source": [
    "# general formula for the multiplicity of a two state paramagnet with N spins and M spins up ( and therefore (N-M) spins down)\n",
    "def Omega(N,M):\n",
    "    return comb(N,M)"
   ]
  },
  {
   "cell_type": "code",
   "execution_count": 5,
   "metadata": {
    "collapsed": true,
    "slideshow": {
     "slide_type": "subslide"
    }
   },
   "outputs": [],
   "source": [
    "\n",
    "# Probability of getting q spins up given N spins.\n",
    "def probability(N,q):\n",
    "    return Omega(N,q)/(2**N)"
   ]
  },
  {
   "cell_type": "code",
   "execution_count": 6,
   "metadata": {
    "scrolled": true,
    "slideshow": {
     "slide_type": "subslide"
    }
   },
   "outputs": [
    {
     "data": {
      "image/png": "[encoded data removed]",
      "text/plain": [
       "<matplotlib.figure.Figure at 0x7f2580b3a5f8>"
      ]
     },
     "metadata": {},
     "output_type": "display_data"
    }
   ],
   "source": [
    "N=3\n",
    "qArray=np.arange(0,N+1) #there are N+1 macrostates\n",
    "res=probability(N,qArray)\n",
    "plt.bar(qArray,res,align='center')\n",
    "plt.grid()\n",
    "plt.xlabel('Number of Spins Up')\n",
    "plt.ylabel('Frequency')\n",
    "plt.savefig('twoStateParamagnet.png')\n",
    "plt.show()"
   ]
  },
  {
   "cell_type": "code",
   "execution_count": 21,
   "metadata": {
    "collapsed": true,
    "slideshow": {
     "slide_type": "slide"
    }
   },
   "outputs": [],
   "source": [
    "def barPlot(N):\n",
    "    # there are N+1 possible macrostates\n",
    "    macrostateArray = np.arange(0,N+1)\n",
    "    fig, ax=plt.subplots()\n",
    "    plt.bar(macrostateArray,probability(N,macrostateArray),color=np.random.rand(3,1),align='center')\n",
    "    plt.grid()\n",
    "    plt.title('Frequency Distribution of %s spins' %(n)  )\n",
    "    plt.xlabel('Number of Spins Up')\n",
    "    plt.ylabel('Frequency')\n",
    "    plt.savefig('twoStateParamagnet.png')\n",
    "    return fig"
   ]
  },
  {
   "cell_type": "code",
   "execution_count": 25,
   "metadata": {
    "scrolled": true,
    "slideshow": {
     "slide_type": "subslide"
    }
   },
   "outputs": [
    {
     "data": {
      "image/png": "[encoded data removed]",
      "text/plain": [
       "<matplotlib.figure.Figure at 0x7f2555066e10>"
      ]
     },
     "execution_count": 25,
     "metadata": {},
     "output_type": "execute_result"
    }
   ],
   "source": [
    "# histogram of frequency distributions as a function of the number of up spins\n",
    "n=4;\n",
    "barPlot(n)"
   ]
  },
  {
   "cell_type": "code",
   "execution_count": 37,
   "metadata": {
    "collapsed": true,
    "slideshow": {
     "slide_type": "slide"
    }
   },
   "outputs": [],
   "source": [
    "def renormalizedBarPlot(N):\n",
    "    \n",
    "    spinUpRange=np.arange(0,N,dtype=np.float64)\n",
    "    \n",
    "    # fraction of spins up (ranging from 0 to 1)\n",
    "    renormalizedRange=(spinUpRange)/N\n",
    "    \n",
    "    # probability density\n",
    "    probabilityDensity= N*probability(N,spinUpRange)\n",
    "    \n",
    "    # sanity check \n",
    "    # the integral of the probability density over the range should be 100% or 1\n",
    "    print('integral of probability density with',N, 'spins is',  np.trapz(probabilityDensity,renormalizedRange))\n",
    "    \n",
    "    #plot the frequency distribution of spins vs fraction of spins up \n",
    "    return plt.plot(renormalizedRange,probabilityDensity,color=np.random.rand(3,1))"
   ]
  },
  {
   "cell_type": "code",
   "execution_count": 38,
   "metadata": {
    "slideshow": {
     "slide_type": "subslide"
    }
   },
   "outputs": [
    {
     "name": "stdout",
     "output_type": "stream",
     "text": [
      "integral of probability density with 10 spins is 0.99365234375\n",
      "integral of probability density with 20 spins is 0.999989032745\n",
      "integral of probability density with 40 spins is 0.99999999998\n",
      "integral of probability density with 80 spins is 0.9999999999999996\n",
      "integral of probability density with 160 spins is 0.9999999999999999\n",
      "integral of probability density with 320 spins is 1.0000000000001332\n",
      "integral of probability density with 640 spins is 0.999999999999944\n"
     ]
    },
    {
     "data": {
      "image/png": "[encoded data removed]",
      "text/plain": [
       "<matplotlib.figure.Figure at 0x7f254fdbc320>"
      ]
     },
     "metadata": {},
     "output_type": "display_data"
    }
   ],
   "source": [
    "plt.close()\n",
    "renormalizedBarPlot(10)\n",
    "renormalizedBarPlot(20)\n",
    "renormalizedBarPlot(40)\n",
    "renormalizedBarPlot(80)\n",
    "renormalizedBarPlot(160)\n",
    "renormalizedBarPlot(320)\n",
    "renormalizedBarPlot(640)\n",
    "\n",
    "plt.grid()\n",
    "plt.title('Probability Density Distribution of spins' )\n",
    "plt.xlabel('Fraction of spins Up')\n",
    "plt.ylabel('Probability Density')\n",
    "plt.savefig('twoStateParamagnet.png')\n",
    "plt.show()"
   ]
  },
  {
   "cell_type": "markdown",
   "metadata": {},
   "source": [
    "## Average and Standard Deviation\n",
    "\n",
    "$$\\langle x \\rangle = \\sum_i x_i P_i $$\n",
    "\n",
    "$$ \\sigma_x  = \\sqrt{ \\sum_i (x_i-\\langle x \\rangle)^2 P_i} $$"
   ]
  },
  {
   "cell_type": "code",
   "execution_count": 1,
   "metadata": {},
   "outputs": [
    {
     "ename": "NameError",
     "evalue": "name 'np' is not defined",
     "output_type": "error",
     "traceback": [
      "\u001b[0;31m---------------------------------------------------------------------------\u001b[0m",
      "\u001b[0;31mNameError\u001b[0m                                 Traceback (most recent call last)",
      "\u001b[0;32m<ipython-input-1-71bc8d160675>\u001b[0m in \u001b[0;36m<module>\u001b[0;34m()\u001b[0m\n\u001b[1;32m      1\u001b[0m \u001b[0;31m# average of a distribution\u001b[0m\u001b[0;34m\u001b[0m\u001b[0;34m\u001b[0m\u001b[0m\n\u001b[1;32m      2\u001b[0m \u001b[0;34m\u001b[0m\u001b[0m\n\u001b[0;32m----> 3\u001b[0;31m \u001b[0mnp\u001b[0m\u001b[0;34m.\u001b[0m\u001b[0msum\u001b[0m\u001b[0;34m(\u001b[0m\u001b[0mnp\u001b[0m\u001b[0;34m.\u001b[0m\u001b[0marange\u001b[0m\u001b[0;34m(\u001b[0m\u001b[0;36m0\u001b[0m\u001b[0;34m,\u001b[0m\u001b[0;36m50\u001b[0m\u001b[0;34m)\u001b[0m\u001b[0;34m*\u001b[0m\u001b[0mprobability\u001b[0m\u001b[0;34m(\u001b[0m\u001b[0;36m50\u001b[0m\u001b[0;34m,\u001b[0m\u001b[0mnp\u001b[0m\u001b[0;34m.\u001b[0m\u001b[0marange\u001b[0m\u001b[0;34m(\u001b[0m\u001b[0;36m0\u001b[0m\u001b[0;34m,\u001b[0m\u001b[0;36m50\u001b[0m\u001b[0;34m)\u001b[0m\u001b[0;34m)\u001b[0m\u001b[0;34m)\u001b[0m\u001b[0;34m\u001b[0m\u001b[0m\n\u001b[0m\u001b[1;32m      4\u001b[0m \u001b[0;34m\u001b[0m\u001b[0m\n",
      "\u001b[0;31mNameError\u001b[0m: name 'np' is not defined"
     ]
    }
   ],
   "source": [
    "# average of a distribution\n",
    "\n",
    "np.sum(np.arange(0,50)*probability(50,np.arange(0,50)))\n",
    "\n"
   ]
  },
  {
   "cell_type": "code",
   "execution_count": null,
   "metadata": {
    "collapsed": true
   },
   "outputs": [],
   "source": []
  }
 ],
 "metadata": {
  "celltoolbar": "Slideshow",
  "kernelspec": {
   "display_name": "Python 3",
   "language": "python",
   "name": "python3"
  },
  "language_info": {
   "codemirror_mode": {
    "name": "ipython",
    "version": 3
   },
   "file_extension": ".py",
   "mimetype": "text/x-python",
   "name": "python",
   "nbconvert_exporter": "python",
   "pygments_lexer": "ipython3",
   "version": "3.5.1"
  }
 },
 "nbformat": 4,
 "nbformat_minor": 2
}
