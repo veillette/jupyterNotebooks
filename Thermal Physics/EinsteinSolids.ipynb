{
 "cells": [
  {
   "cell_type": "markdown",
   "metadata": {
    "slideshow": {
     "slide_type": "slide"
    }
   },
   "source": [
    "\n",
    "# Einstein Solids"
   ]
  },
  {
   "cell_type": "code",
   "execution_count": 39,
   "metadata": {
    "collapsed": true,
    "slideshow": {
     "slide_type": "slide"
    }
   },
   "outputs": [],
   "source": [
    "import matplotlib.pyplot as plt # import the \"pyplot\" library as the \"plt\" handle\n",
    "import scipy as sp\n",
    "from scipy.special import comb\n",
    "from scipy.special import perm\n",
    "import numpy as np # import the \"numpy\" library as the \"np\" handle, where lots of functions live\n",
    "#%matplotlib notebook"
   ]
  },
  {
   "cell_type": "code",
   "execution_count": 40,
   "metadata": {
    "slideshow": {
     "slide_type": "subslide"
    }
   },
   "outputs": [
    {
     "data": {
      "text/plain": [
       "3628800"
      ]
     },
     "execution_count": 40,
     "metadata": {},
     "output_type": "execute_result"
    }
   ],
   "source": [
    "# factorial of 10\n",
    "np.math.factorial(10)"
   ]
  },
  {
   "cell_type": "code",
   "execution_count": 41,
   "metadata": {
    "slideshow": {
     "slide_type": "subslide"
    }
   },
   "outputs": [
    {
     "data": {
      "text/plain": [
       "90.0"
      ]
     },
     "execution_count": 41,
     "metadata": {},
     "output_type": "execute_result"
    }
   ],
   "source": [
    "# the number of ways to pick two different cards from a pack of 10 (distintcs) cards.   \n",
    "perm(10,2)"
   ]
  },
  {
   "cell_type": "code",
   "execution_count": 42,
   "metadata": {
    "collapsed": true
   },
   "outputs": [],
   "source": [
    "# general formula for the multiplicity of an einstein solid with N oscillators and q units of energy\n",
    "def Omega(N,q):\n",
    "    return comb(q+N-1,q)"
   ]
  },
  {
   "cell_type": "markdown",
   "metadata": {
    "slideshow": {
     "slide_type": "slide"
    }
   },
   "source": [
    "## Stirling Approximation"
   ]
  },
  {
   "cell_type": "code",
   "execution_count": 43,
   "metadata": {
    "collapsed": true
   },
   "outputs": [],
   "source": [
    "def NFactorialStirling(N):\n",
    "    return N**N*np.exp(-N)*np.sqrt(2*np.pi*N)"
   ]
  },
  {
   "cell_type": "code",
   "execution_count": 44,
   "metadata": {
    "slideshow": {
     "slide_type": "slide"
    }
   },
   "outputs": [
    {
     "name": "stdout",
     "output_type": "stream",
     "text": [
      "[120, 720, 5040, 40320, 362880, 3628800, 39916800, 479001600, 6227020800, 87178291200, 1307674368000, 20922789888000, 355687428096000, 6402373705728000, 121645100408832000, 2432902008176640000, 51090942171709440000, 1124000727777607680000, 25852016738884976640000, 620448401733239439360000, 15511210043330985984000000, 403291461126605635584000000, 10888869450418352160768000000, 304888344611713860501504000000, 8841761993739701954543616000000, 265252859812191058636308480000000, 8222838654177922817725562880000000, 263130836933693530167218012160000000, 8683317618811886495518194401280000000, 295232799039604140847618609643520000000, 10333147966386144929666651337523200000000, 371993326789901217467999448150835200000000, 13763753091226345046315979581580902400000000, 523022617466601111760007224100074291200000000, 20397882081197443358640281739902897356800000000]\n",
      "[  1.18019168e+02   7.10078185e+02   4.98039583e+03   3.99023955e+04\n",
      "   3.59536873e+05   3.59869562e+06   3.96156251e+07   4.75687486e+08\n",
      "   6.18723948e+09   8.66610017e+10   1.30043072e+12   2.08141144e+13\n",
      "   3.53948329e+14   6.37280463e+15   1.21112787e+17   2.42278685e+18\n",
      "   5.08886173e+19   1.11975149e+21   2.57585254e+22   6.18297927e+23\n",
      "   1.54595948e+25   4.02000993e+26   1.08553152e+28   3.03982326e+29\n",
      "   8.81639211e+30   2.64517096e+32   8.20076470e+33   2.62446514e+35\n",
      "   8.66141838e+36   2.94510096e+38   1.03085752e+40   3.71133249e+41\n",
      "   1.37327893e+43   5.21876921e+44   2.03543443e+46]\n"
     ]
    }
   ],
   "source": [
    "N= np.arange(5,40,dtype=np.float64)\n",
    "\n",
    "nFactorialArray=[np.math.factorial(n) for n in N]\n",
    "print(nFactorialArray)\n",
    "\n",
    "nFactorialStirlingArray=NFactorialStirling(N)\n",
    "print(nFactorialStirlingArray)"
   ]
  },
  {
   "cell_type": "code",
   "execution_count": 45,
   "metadata": {
    "slideshow": {
     "slide_type": "slide"
    }
   },
   "outputs": [
    {
     "data": {
      "image/png": "[encoded data removed]",
      "text/plain": [
       "<matplotlib.figure.Figure at 0x7fdc84ca2b70>"
      ]
     },
     "metadata": {},
     "output_type": "display_data"
    }
   ],
   "source": [
    "# log y axis\n",
    "\n",
    "plt.semilogy(N,nFactorialStirlingArray)\n",
    "plt.semilogy(N,nFactorialArray)\n",
    "plt.grid()\n",
    "plt.show()"
   ]
  },
  {
   "cell_type": "code",
   "execution_count": 46,
   "metadata": {
    "collapsed": true,
    "slideshow": {
     "slide_type": "slide"
    }
   },
   "outputs": [],
   "source": [
    "def OmegaStirling(N, q):\n",
    "    '''\n",
    "    multiplicity of a einstein solid with N oscillators and q units of energy in the stirling approximation\n",
    "    valid when q is much larger than N\n",
    "    '''\n",
    "    return (np.exp(1)*q/N)**N\n"
   ]
  },
  {
   "cell_type": "markdown",
   "metadata": {
    "slideshow": {
     "slide_type": "slide"
    }
   },
   "source": [
    "### Comparison of Stirling approximation\n",
    "\n",
    "Comparison of stirling approximation with exact result\n"
   ]
  },
  {
   "cell_type": "code",
   "execution_count": 47,
   "metadata": {
    "collapsed": true,
    "slideshow": {
     "slide_type": "slide"
    }
   },
   "outputs": [],
   "source": [
    "N=50\n",
    "q=np.arange(60,200)"
   ]
  },
  {
   "cell_type": "code",
   "execution_count": 51,
   "metadata": {
    "slideshow": {
     "slide_type": "fragment"
    }
   },
   "outputs": [
    {
     "name": "stdout",
     "output_type": "stream",
     "text": [
      "[  2.85262867e+31   5.14408448e+31   9.20957060e+31   1.63725700e+32\n",
      "   2.89078188e+32   5.06998669e+32   8.83406771e+32   1.52948038e+33\n",
      "   2.63160595e+33   4.50042756e+33   7.65072686e+33   1.29308060e+34\n",
      "   2.17309378e+34   3.63174577e+34   6.03655040e+34   9.98042999e+34\n",
      "   1.64151809e+35   2.68612051e+35   4.37355519e+35   7.08626664e+35\n",
      "   1.14266050e+36   1.83389956e+36   2.92976637e+36   4.65938748e+36\n",
      "   7.37736352e+36   1.16301966e+37   1.82567040e+37   2.85392154e+37\n",
      "   4.44303694e+37   6.88920335e+37   1.06399918e+38   1.63692182e+38\n",
      "   2.50876062e+38   3.83058073e+38   5.82737281e+38   8.83307036e+38\n",
      "   1.33416167e+39   2.00811963e+39   3.01217944e+39   4.50305613e+39\n",
      "   6.70955364e+39   9.96468362e+39   1.47516395e+40   2.17694097e+40\n",
      "   3.20261508e+40   4.69716879e+40   6.86850153e+40   1.00138901e+41\n",
      "   1.45572291e+41   2.11013046e+41   3.05009766e+41   4.39653717e+41\n",
      "   6.32002218e+41   9.06056277e+41   1.29550152e+42   1.84749782e+42\n",
      "   2.62790638e+42   3.72848255e+42   5.27675073e+42   7.44953045e+42\n",
      "   1.04914220e+43   1.47400144e+43   2.06601842e+43   2.88906641e+43\n",
      "   4.03071361e+43   5.61075335e+43   7.79271299e+43   1.07993503e+44\n",
      "   1.49334766e+44   2.06058824e+44   2.83727150e+44   3.89854099e+44\n",
      "   5.34572666e+44   7.31520490e+44   9.99016789e+44   1.36162288e+45\n",
      "   1.85220760e+45   2.51467601e+45   3.40756822e+45   4.60879730e+45\n",
      "   6.22187635e+45   8.38408870e+45   1.12771897e+46   1.51414016e+46\n",
      "   2.02936841e+46   2.71515497e+46   3.62640562e+46   4.83520749e+46\n",
      "   6.43605321e+46   8.55260762e+46   1.13464594e+47   1.50284231e+47\n",
      "   1.98731121e+47   2.62377036e+47   3.45860638e+47   4.55197227e+47\n",
      "   5.98175844e+47   7.84867668e+47   1.02827599e+48   1.34516608e+48\n",
      "   1.75712319e+48   2.29189982e+48   2.98512878e+48   3.88249877e+48\n",
      "   5.04251365e+48   6.53998740e+48   8.47046561e+48   1.09558118e+49\n",
      "   1.41512569e+49   1.82542841e+49   2.35158130e+49   3.02542624e+49\n",
      "   3.88732092e+49   4.98835401e+49   6.39312037e+49   8.18319408e+49\n",
      "   1.04614697e+50   1.33575828e+50   1.70346702e+50   2.16977922e+50\n",
      "   2.76044134e+50   3.50774314e+50   4.45213552e+50   5.64423738e+50\n",
      "   7.14732234e+50   9.04039690e+50   1.14220068e+51   1.44149391e+51\n",
      "   1.81720243e+51   2.28832899e+51   2.87847699e+51   3.61693444e+51\n",
      "   4.54000624e+51   5.69265032e+51   7.13048468e+51   8.92224749e+51\n",
      "   1.11528094e+52   1.39268584e+52   1.73734042e+52   2.16512775e+52]\n"
     ]
    }
   ],
   "source": [
    "omegaArray=Omega(N,q)\n",
    "print(omegaArray)"
   ]
  },
  {
   "cell_type": "code",
   "execution_count": 50,
   "metadata": {
    "slideshow": {
     "slide_type": "fragment"
    }
   },
   "outputs": [
    {
     "name": "stdout",
     "output_type": "stream",
     "text": [
      "[  4.71830920e+25   1.07824047e+26   2.43113096e+26   5.41067379e+26\n",
      "   1.18911150e+27   2.58161640e+27   5.53886341e+27   1.17480020e+28\n",
      "   2.46416346e+28   5.11303088e+28   1.04984668e+29   2.13373909e+29\n",
      "   4.29386810e+29   8.55789363e+29   1.68970101e+30   3.30587972e+30\n",
      "   6.41067105e+30   1.23242397e+31   2.34938403e+31   4.44199886e+31\n",
      "   8.33150056e+31   1.55051090e+32   2.86362732e+32   5.24962761e+32\n",
      "   9.55406478e+32   1.72651424e+33   3.09846390e+33   5.52314582e+33\n",
      "   9.78041957e+33   1.72077549e+34   3.00849539e+34   5.22749342e+34\n",
      "   9.02849258e+34   1.55014137e+35   2.64616279e+35   4.49163175e+35\n",
      "   7.58203056e+35   1.27294779e+36   2.12582575e+36   3.53169840e+36\n",
      "   5.83745947e+36   9.60047161e+36   1.57120360e+37   2.55908737e+37\n",
      "   4.14849760e+37   6.69404815e+37   1.07526904e+38   1.71954190e+38\n",
      "   2.73786262e+38   4.34059010e+38   6.85264346e+38   1.07738970e+39\n",
      "   1.68703857e+39   2.63115270e+39   4.08758169e+39   6.32580640e+39\n",
      "   9.75266574e+39   1.49801777e+40   2.29257865e+40   3.49600422e+40\n",
      "   5.31234389e+40   8.04437660e+40   1.21399085e+41   1.82591035e+41\n",
      "   2.73721012e+41   4.09001150e+41   6.09187712e+41   9.04502822e+41\n",
      "   1.33882052e+42   1.97564720e+42   2.90664166e+42   4.26371985e+42\n",
      "   6.23620580e+42   9.09506750e+42   1.32270744e+43   1.91828134e+43\n",
      "   2.77440141e+43   4.00177103e+43   5.75676099e+43   8.25969272e+43\n",
      "   1.18202228e+44   1.68725029e+44   2.40237665e+44   3.41213143e+44\n",
      "   4.83446570e+44   6.83319776e+44   9.63533165e+44   1.35547220e+45\n",
      "   1.90243422e+45   2.66401888e+45   3.72208967e+45   5.18885151e+45\n",
      "   7.21777394e+45   1.00183320e+46   1.38758603e+46   1.91782417e+46\n",
      "   2.64517126e+46   3.64088112e+46   5.00124610e+46   6.85614659e+46\n",
      "   9.38043571e+46   1.28090724e+47   1.74572007e+47   2.37467455e+47\n",
      "   3.22415774e+47   4.36939280e+47   5.91055524e+47   7.98081853e+47\n",
      "   1.07569206e+48   1.44730182e+48   1.94388222e+48   2.60632997e+48\n",
      "   3.48856022e+48   4.66153592e+48   6.21850936e+48   8.28183002e+48\n",
      "   1.10117735e+49   1.46179744e+49   1.93742096e+49   2.56374855e+49\n",
      "   3.38726468e+49   4.46840595e+49   5.88563435e+49   7.74066665e+49\n",
      "   1.01651790e+50   1.33293907e+50   1.74530402e+50   2.28193992e+50\n",
      "   2.97931444e+50   3.88431183e+50   5.05712777e+50   6.57494676e+50\n",
      "   8.53660750e+50   1.10685143e+51   1.43321180e+51   1.85333722e+51\n",
      "   2.39346701e+51   3.08698974e+51   3.97633890e+51   5.11537762e+51]\n"
     ]
    }
   ],
   "source": [
    "omegaStirlingArray=OmegaStirling(N,q)\n",
    "print(omegaStirlingArray)"
   ]
  },
  {
   "cell_type": "code",
   "execution_count": 22,
   "metadata": {
    "slideshow": {
     "slide_type": "slide"
    }
   },
   "outputs": [
    {
     "data": {
      "image/png": "[encoded data removed]",
      "text/plain": [
       "<matplotlib.figure.Figure at 0x7fdc84f39cf8>"
      ]
     },
     "metadata": {},
     "output_type": "display_data"
    }
   ],
   "source": [
    "# log y axis\n",
    "\n",
    "plt.semilogy(q,omegaStirlingArray)\n",
    "plt.semilogy(q,omegaArray)\n",
    "plt.grid()\n",
    "plt.show()"
   ]
  },
  {
   "cell_type": "markdown",
   "metadata": {
    "collapsed": true,
    "slideshow": {
     "slide_type": "slide"
    }
   },
   "source": [
    "## Multiplicity of two Einsteins solids\n",
    "\n",
    "#### Solid A has 300 oscillators and B has 100 oscillators. \n",
    "#### The total unit of energy is 200"
   ]
  },
  {
   "cell_type": "code",
   "execution_count": 25,
   "metadata": {
    "collapsed": true,
    "slideshow": {
     "slide_type": "subslide"
    }
   },
   "outputs": [],
   "source": [
    "def conv(N, M, q, s):\n",
    "    '''\n",
    "    mutiplicity of two einstein solids with N and M oscillators,\n",
    "    the total energy of the two solids is q\n",
    "    energy associated with the N einstein solid is s\n",
    "    all parameters, N, M, q and s must be postivive integers\n",
    "    '''\n",
    "    return Omega(N,s)*Omega(M,q-s)"
   ]
  },
  {
   "cell_type": "code",
   "execution_count": 26,
   "metadata": {
    "slideshow": {
     "slide_type": "subslide"
    }
   },
   "outputs": [
    {
     "data": {
      "image/png": "[encoded data removed]",
      "text/plain": [
       "<matplotlib.figure.Figure at 0x7fdc84ccc2e8>"
      ]
     },
     "metadata": {},
     "output_type": "display_data"
    }
   ],
   "source": [
    "# calculate the multiplicity\n",
    "\n",
    "NA=300\n",
    "NB=100\n",
    "qTotal=200\n",
    "qA=np.arange(qTotal)  \n",
    "res=conv(NA,NB,qTotal,qA)\n",
    "\n",
    "plt.plot(res)\n",
    "plt.grid()\n",
    "plt.title('Multiplicity of two Einstein solids')\n",
    "plt.ylabel(r'multiplicity $\\Omega(q_A,q_B)$')\n",
    "plt.xlabel(r'$q_A$')\n",
    "plt.savefig('EinsteinSolids.png')\n",
    "plt.show()"
   ]
  },
  {
   "cell_type": "code",
   "execution_count": 36,
   "metadata": {},
   "outputs": [
    {
     "name": "stdout",
     "output_type": "stream",
     "text": [
      "Total number of states, Omega= 1.67067852215e+164\n"
     ]
    }
   ],
   "source": [
    "# total number of states, i.e sum of multiplicities \n",
    "omega = np.sum(res)\n",
    "\n",
    "print('Total number of states, Omega=', omega)"
   ]
  },
  {
   "cell_type": "code",
   "execution_count": 38,
   "metadata": {},
   "outputs": [
    {
     "name": "stdout",
     "output_type": "stream",
     "text": [
      "Probability that all the energy is in solid B, i.e. that solid A has zero units of energy is  8.29653223353e-84\n"
     ]
    }
   ],
   "source": [
    "# Probability that all the energy is in solid B, i.e. that solid A has zero units of energy\n",
    "\n",
    "prob= conv(NA, NB, qTotal, 0)/omega\n",
    "\n",
    "print('Probability that all the energy is in solid B, i.e. that solid A has zero units of energy is ', prob)"
   ]
  },
  {
   "cell_type": "code",
   "execution_count": null,
   "metadata": {
    "collapsed": true
   },
   "outputs": [],
   "source": []
  }
 ],
 "metadata": {
  "celltoolbar": "Slideshow",
  "kernelspec": {
   "display_name": "Python 3",
   "language": "python",
   "name": "python3"
  },
  "language_info": {
   "codemirror_mode": {
    "name": "ipython",
    "version": 3
   },
   "file_extension": ".py",
   "mimetype": "text/x-python",
   "name": "python",
   "nbconvert_exporter": "python",
   "pygments_lexer": "ipython3",
   "version": "3.5.4"
  }
 },
 "nbformat": 4,
 "nbformat_minor": 2
}
