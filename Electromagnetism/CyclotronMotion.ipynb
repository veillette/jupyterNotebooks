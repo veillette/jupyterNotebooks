{
  "nbformat": 4,
  "nbformat_minor": 0,
  "metadata": {
    "colab": {
      "name": "CyclotronMotion.ipynb",
      "private_outputs": true,
      "provenance": [],
      "collapsed_sections": [],
      "authorship_tag": "ABX9TyPJ4Sc/vEisP5Kyzm6LSzvn",
      "include_colab_link": true
    },
    "kernelspec": {
      "name": "python3",
      "display_name": "Python 3"
    },
    "language_info": {
      "name": "python"
    }
  },
  "cells": [
    {
      "cell_type": "markdown",
      "metadata": {
        "id": "view-in-github",
        "colab_type": "text"
      },
      "source": [
        "<a href=\"https://colab.research.google.com/github/veillette/jupyterNotebooks/blob/master/CyclotronMotion.ipynb\" target=\"_parent\"><img src=\"https://colab.research.google.com/assets/colab-badge.svg\" alt=\"Open In Colab\"/></a>"
      ]
    },
    {
      "cell_type": "code",
      "metadata": {
        "id": "G7MY8iq4G7PH"
      },
      "source": [
        "import numpy as np\n",
        "import matplotlib.pyplot as plt"
      ],
      "execution_count": null,
      "outputs": []
    },
    {
      "cell_type": "markdown",
      "metadata": {
        "id": "PrbFGTFOhB6P"
      },
      "source": [
        "# Example of a three dimensional line plot "
      ]
    },
    {
      "cell_type": "code",
      "metadata": {
        "id": "VIo9wAGjHBk4"
      },
      "source": [
        "ax = plt.axes(projection='3d')\n",
        "\n",
        "# Data for a three-dimensional line\n",
        "zline = np.linspace(0, 50, 1000)\n",
        "xline = np.sin(zline)\n",
        "yline = np.cos(zline)\n",
        "ax.plot3D(xline, yline, zline, 'gray')\n",
        "plt.show()"
      ],
      "execution_count": null,
      "outputs": []
    },
    {
      "cell_type": "markdown",
      "metadata": {
        "id": "ex8OqDg6hM64"
      },
      "source": [
        "# Example of a three dimensional scatter plot "
      ]
    },
    {
      "cell_type": "code",
      "metadata": {
        "id": "CQyoK7D5HEIr"
      },
      "source": [
        "# Data for three-dimensional scattered points\n",
        "ax = plt.axes(projection='3d')\n",
        "zdata = np.linspace(0, 50, 200)\n",
        "xdata = np.sin(zdata)\n",
        "ydata = np.cos(zdata)\n",
        "ax.scatter3D(xdata, ydata, zdata, c=zdata, cmap='Greens');\n",
        "plt.show()"
      ],
      "execution_count": null,
      "outputs": []
    },
    {
      "cell_type": "code",
      "metadata": {
        "id": "8KpuKJnaHIlz"
      },
      "source": [
        ""
      ],
      "execution_count": null,
      "outputs": []
    },
    {
      "cell_type": "markdown",
      "metadata": {
        "id": "SSjfn_yJHNFu"
      },
      "source": [
        "The magnetic force on a moving charged particle is given by:\n",
        "\n",
        "$$\\vec{F}_{mag}=q \\vec{v}\\times  \\vec{B}$$\n",
        "In python the function cross() in numpy allows you to calculate a vector cross product:"
      ]
    },
    {
      "cell_type": "code",
      "metadata": {
        "id": "Yl5HNL44HNm6"
      },
      "source": [
        "A = np.array([1, 2, 3])\n",
        "B = np.array([4, 5, 6])\n",
        "np.cross(A, A)"
      ],
      "execution_count": null,
      "outputs": []
    },
    {
      "cell_type": "markdown",
      "metadata": {
        "id": "Tb2t41JKHTk0"
      },
      "source": [
        "The charge and velocity of a moving particle, and the magnetic field in the region, have already been defined. Find the magnetic force on the charge"
      ]
    },
    {
      "cell_type": "code",
      "metadata": {
        "id": "Eo9wU-1dHYQI"
      },
      "source": [
        "q = -1.6e-19\n",
        "v = np.array([2e5, 0, -3e5])\n",
        "B = np.array([0, 0, 0.2])"
      ],
      "execution_count": null,
      "outputs": []
    },
    {
      "cell_type": "markdown",
      "metadata": {
        "id": "-O_5mM08Hhdm"
      },
      "source": [
        "Your answer should be [0,6.4e−15,0] N."
      ]
    },
    {
      "cell_type": "markdown",
      "metadata": {
        "id": "ErJ8Hp2ShiQP"
      },
      "source": [
        "Cyclotron Motion of Particle in a uniform Magnetic field"
      ]
    },
    {
      "cell_type": "code",
      "metadata": {
        "id": "tzhBHVFjHiXE"
      },
      "source": [
        "\n",
        "#initial conditions and constants\n",
        "\n",
        "charge = 1.6e-19\n",
        "mass = 1.7e-27\n",
        "B = np.array([0,0.5e-3,0])\n",
        "\n",
        "position = np.array([-0.3,0,0])\n",
        "velocity = np.array([0,0.01,4.5e-2])\n",
        "\n",
        "# arrays to store x, y and z position as a function of time\n",
        "xline=[]\n",
        "yline=[]\n",
        "zline=[]\n",
        "\n",
        "# define a discretize time array\n",
        "dt=0.0000001 # stepping time\n",
        "tmin = 0\n",
        "tmax = 0.001\n",
        "timeArray = np.arange(tmin, tmax, dt)\n",
        "\n",
        "for t in timeArray:\n",
        "    force = charge * np.cross(velocity,B)\n",
        "    acceleration = force/mass\n",
        "    velocity = velocity + acceleration*dt\n",
        "    position = position+ velocity*dt+1/2*acceleration*dt**2\n",
        "    \n",
        "    # append the current position to the x, y and z arrays\n",
        "    xline.append(position[0])\n",
        "    yline.append(position[1])\n",
        "    zline.append(position[2])\n",
        "    \n",
        "# Data for three-dimensional scattered points\n",
        "ax = plt.axes(projection='3d')\n",
        "ax.scatter3D(xline, yline, zline);\n",
        "plt.show()"
      ],
      "execution_count": null,
      "outputs": []
    },
    {
      "cell_type": "code",
      "metadata": {
        "id": "CSDLQUwtSGdK"
      },
      "source": [
        ""
      ],
      "execution_count": null,
      "outputs": []
    }
  ]
}