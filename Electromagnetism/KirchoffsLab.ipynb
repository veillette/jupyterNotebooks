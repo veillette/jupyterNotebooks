{
  "nbformat": 4,
  "nbformat_minor": 0,
  "metadata": {
    "orig_nbformat": 4,
    "language_info": {
      "codemirror_mode": {
        "name": "python",
        "version": 3
      },
      "file_extension": ".py",
      "mimetype": "text/x-python",
      "name": "python",
      "nbconvert_exporter": "python",
      "pygments_lexer": "ipython3",
      "version": "3.8"
    },
    "kernelspec": {
      "name": "python",
      "display_name": "Pyolite",
      "language": "python"
    },
    "colab": {
      "name": "KirchoffsLab.ipynb",
      "provenance": [],
      "include_colab_link": true
    }
  },
  "cells": [
    {
      "cell_type": "markdown",
      "metadata": {
        "id": "view-in-github",
        "colab_type": "text"
      },
      "source": [
        "<a href=\"https://colab.research.google.com/github/veillette/jupyterNotebooks/blob/master/KirchoffsLab.ipynb\" target=\"_parent\"><img src=\"https://colab.research.google.com/assets/colab-badge.svg\" alt=\"Open In Colab\"/></a>"
      ]
    },
    {
      "cell_type": "markdown",
      "metadata": {
        "id": "83eHHHA-nA0t"
      },
      "source": [
        "# Example of Equation Solver and Application to Circuit Analysis"
      ]
    },
    {
      "cell_type": "code",
      "metadata": {
        "trusted": true,
        "id": "O4fYVzaKnA0y"
      },
      "source": [
        "import numpy as np"
      ],
      "execution_count": null,
      "outputs": []
    },
    {
      "cell_type": "markdown",
      "metadata": {
        "id": "19PhNkfInA0z"
      },
      "source": [
        "Let's solve the system of equations \n",
        "$$4 x_0 + 2 x_1 = 6 $$\n",
        "and \n",
        "$$3 x_0 - 5 x_1 = 8 $$"
      ]
    },
    {
      "cell_type": "code",
      "metadata": {
        "trusted": true,
        "id": "987p78OwnA00",
        "outputId": "1764b258-be93-49fa-d79c-5115dfe3d8bd"
      },
      "source": [
        "matrix = np.array([[4, 2], [3, -5]])\n",
        "coeffs = np.array([6, 8])\n",
        "x = np.linalg.solve(matrix, coeffs)\n",
        "print(x)\n",
        "print( 'x_0 is ', x[0])\n",
        "print( 'x_1 is ', x[1])"
      ],
      "execution_count": null,
      "outputs": [
        {
          "name": "stdout",
          "text": "[ 1.76923077 -0.53846154]\nx_0 is  1.7692307692307692\nx_1 is  -0.5384615384615384\n",
          "output_type": "stream"
        }
      ]
    },
    {
      "cell_type": "markdown",
      "metadata": {
        "id": "BYkEXr1GnA01"
      },
      "source": [
        "We can check if the result is correct"
      ]
    },
    {
      "cell_type": "code",
      "metadata": {
        "trusted": true,
        "id": "o6LY12yRnA01",
        "outputId": "0cada2a1-61c1-44d0-9907-b5689e0187cf"
      },
      "source": [
        "np.allclose(np.dot(matrix, x), coeffs)"
      ],
      "execution_count": null,
      "outputs": [
        {
          "execution_count": 3,
          "output_type": "execute_result",
          "data": {
            "text/plain": "True"
          },
          "metadata": {}
        }
      ]
    },
    {
      "cell_type": "markdown",
      "metadata": {
        "id": "tllDI-A_nA02"
      },
      "source": [
        "##### Kirchhoff's voltage law (commonly abbreviated as KVL) states: The algebraic sum of all voltage differences around any closed loop is zero.\n",
        "\n",
        "##### Kirchhoffs Current Law or KCL, states that the “total current or charge entering a junction or node is exactly equal to the charge leaving the node as it has no other place to go except to leave, as no charge is lost within the node\n"
      ]
    },
    {
      "cell_type": "markdown",
      "metadata": {
        "id": "tirnNhzCnA03"
      },
      "source": [
        "![title](https://www.electronics-tutorials.ws/wp-content/uploads/2018/05/dccircuits-dcp8.gif)"
      ]
    },
    {
      "cell_type": "markdown",
      "metadata": {
        "id": "70eLb5MdnA03"
      },
      "source": [
        "The circuit has 3 branches, 2 nodes (A and B) and 2 independent loops.\n",
        "\n",
        "Using Kirchhoffs Current Law, KCL the equations are given as:\n",
        "\n",
        "At node A :   $ I_1 + I_2 = I_3$\n",
        "\n",
        "At node B :   $ I_3 = I_1 + I_2 $\n",
        "\n",
        "Using Kirchhoffs Voltage Law, KVL the equations are given as:\n",
        "\n",
        "Loop 1 is given as :  $  10 = R_1 I_1 + R_3 I_3 = 10I_1 + 40I_3 $\n",
        "\n",
        "Loop 2 is given as :  $  20 = R_2 I_2 + R_3 I_3 = 20I_2 + 40I_3 $\n",
        "\n",
        "Loop 3 is given as :  $  10 – 20 = 10I_1 – 20I_2 $\n"
      ]
    },
    {
      "cell_type": "markdown",
      "metadata": {
        "id": "WA0d3aPdnA05"
      },
      "source": [
        "To be explicit lets rewrite the equations in terms of the three currents\n",
        "\n",
        "Loop 1 is given as :  $  10I_1 + 0 I_2 + 40I_3 = 10 $\n",
        "\n",
        "Loop 2 is given as :  $  0 I_1 + 20I_2 + 40I_3 =20 $\n",
        "\n",
        "At node A :   $ I_1 + I_2 - I_3 = 0$"
      ]
    },
    {
      "cell_type": "markdown",
      "metadata": {
        "id": "Pav4o2BBnA05"
      },
      "source": [
        "Use Linear simultaneous equations as required to find the unknown currents."
      ]
    },
    {
      "cell_type": "code",
      "metadata": {
        "trusted": true,
        "id": "xvy43zTrnA05",
        "outputId": "1241924b-081e-4896-c140-b9ff96720f48"
      },
      "source": [
        "matrix = np.array([[10, 0 ,40], [0,20,40], [1,1,-1]])\n",
        "coeffs = np.array([10, 20, 0])\n",
        "x = np.linalg.solve(matrix, coeffs)\n",
        "print(x)"
      ],
      "execution_count": null,
      "outputs": [
        {
          "name": "stdout",
          "text": "[-0.14285714  0.42857143  0.28571429]\n",
          "output_type": "stream"
        }
      ]
    },
    {
      "cell_type": "markdown",
      "metadata": {
        "id": "BjF890d1nA06"
      },
      "source": [
        "The negative sign for $I_1$ means that the direction of current flow initially chosen was wrong, but nevertheless still valid. In fact, the 20v battery is charging the 10v battery."
      ]
    },
    {
      "cell_type": "code",
      "metadata": {
        "id": "7PqCqRuunA06"
      },
      "source": [
        ""
      ],
      "execution_count": null,
      "outputs": []
    }
  ]
}