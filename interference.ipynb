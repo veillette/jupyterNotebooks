{
  "nbformat": 4,
  "nbformat_minor": 0,
  "metadata": {
    "colab": {
      "name": "interference.ipynb",
      "provenance": [],
      "collapsed_sections": [],
      "authorship_tag": "ABX9TyMLfqmBsgYg9Wavld6bkTOs",
      "include_colab_link": true
    },
    "kernelspec": {
      "name": "python3",
      "display_name": "Python 3"
    }
  },
  "cells": [
    {
      "cell_type": "markdown",
      "metadata": {
        "id": "view-in-github",
        "colab_type": "text"
      },
      "source": [
        "<a href=\"https://colab.research.google.com/github/veillette/jupyterNotebooks/blob/master/interference.ipynb\" target=\"_parent\"><img src=\"https://colab.research.google.com/assets/colab-badge.svg\" alt=\"Open In Colab\"/></a>"
      ]
    },
    {
      "cell_type": "markdown",
      "metadata": {
        "id": "0oMP1COm3SZ4"
      },
      "source": [
        "# Interference with multiple sources\n"
      ]
    },
    {
      "cell_type": "code",
      "metadata": {
        "id": "5P0VTFM-3v0i"
      },
      "source": [
        "import numpy as np\n",
        "import matplotlib.pyplot as plt"
      ],
      "execution_count": 1,
      "outputs": []
    },
    {
      "cell_type": "markdown",
      "metadata": {
        "id": "O2mtbCoipDL9"
      },
      "source": [
        "#### Constants"
      ]
    },
    {
      "cell_type": "code",
      "metadata": {
        "id": "yZIANWeKPqSm"
      },
      "source": [
        "pi = np.pi  # value of π  (Alt 227) \n",
        "c = 3E8     # speed of light (m/s)\n",
        "λ = 5E-7    # wavelength (m)  (Alt 955) \n",
        "k = 2*pi/λ  # wavenumber in rad/m\n",
        "ω = k*c     # angular frequency  (Alt 969) \n"
      ],
      "execution_count": 2,
      "outputs": []
    },
    {
      "cell_type": "markdown",
      "metadata": {
        "id": "Uyc5g920pJiQ"
      },
      "source": [
        "#### Definition for electric wave sources "
      ]
    },
    {
      "cell_type": "code",
      "metadata": {
        "id": "rB7sNysGP-RQ"
      },
      "source": [
        "def source(yi,yf,t):\n",
        "  \"\"\"The electric field at point (x,yf) and time t from source at point (0,yi)\"\"\"\n",
        "  x=1 # position of the screen in meters\n",
        "  \n",
        "  # distance from source to screen \n",
        "  r = np.sqrt((yf-yi)**2+x**2)\n",
        "\n",
        "  # electric field at position (x,yf)\n",
        "  E=np.cos(k*r-ω*t)\n",
        "  return E"
      ],
      "execution_count": 3,
      "outputs": []
    },
    {
      "cell_type": "code",
      "metadata": {
        "id": "wtj2rSRFUhBK"
      },
      "source": [
        "def multipleSource(n,d,yf,t):\n",
        "  \"\"\"The total electric field at point (x,yf) and time t from n multiple sources located a distance \"d\" apart\"\"\"\n",
        "  \n",
        "  #The sources are equally located from -(n-1)*d/2 to (n-1)*d/2\n",
        "  # eg. for n=2    -d/2, and d/2\n",
        "  # eg. for n=3      -d, 0, d\n",
        "  # eg. for n=4    -3d/2,  -d/2, d/2, 3d/2, etc \n",
        "  sourceLocation = np.linspace(-(n-1)*d/2,(n-1)*d/2,n)\n",
        "\n",
        "  # sum all the e field contributions from the all the sources  \n",
        "  ETotal=np.sum(source(sourceLocation,yf,t))\n",
        "\n",
        "  return ETotal"
      ],
      "execution_count": 4,
      "outputs": []
    },
    {
      "cell_type": "code",
      "metadata": {
        "id": "33vBrCyzTPVl"
      },
      "source": [
        "def averageIntensity(n,d,yf):\n",
        "  \"\"\"The time average intensity at point (x,yf) from n multiple sources located a distance d apart \"\"\"\n",
        "  period = 2*pi/ω\n",
        "  arrayLength = 200\n",
        "  timeArray=np.linspace(0, period, arrayLength)\n",
        "  \n",
        "  intensityTimeArray=[]\n",
        "  for t in timeArray:\n",
        "    intensityTimeArray.append(multipleSource(n,d,yf,t)**2)\n",
        "\n",
        "  intensityTimeAverage=1/arrayLength*np.sum(intensityTimeArray)\n",
        "  return intensityTimeAverage"
      ],
      "execution_count": 15,
      "outputs": []
    },
    {
      "cell_type": "markdown",
      "metadata": {
        "id": "84RvINhcncQy"
      },
      "source": [
        "#### Plotting Intensity as a function of position  "
      ]
    },
    {
      "cell_type": "code",
      "metadata": {
        "id": "Um0pxPEfD9we"
      },
      "source": [
        "# find the intensity as a function of position on screen I(y) where y is a range \n",
        "def intensityArray(n,d,yRange):\n",
        "  # define initial array\n",
        "  intensityArray=[]\n",
        "  # run for all variables of yRange and find the intensity\n",
        "  for y in yRange:\n",
        "    intensityArray.append(averageIntensity(n,d,y))\n",
        "\n",
        "  return intensityArray\n"
      ],
      "execution_count": 30,
      "outputs": []
    },
    {
      "cell_type": "code",
      "metadata": {
        "id": "105uOjOWqjQA"
      },
      "source": [
        "#Define the yArray\n",
        "\n",
        "yEnd = 0.0015\n",
        "yLower= -yEnd\n",
        "yUpper= yEnd\n",
        "yArray= np.linspace(yLower, yUpper, 200)\n"
      ],
      "execution_count": 31,
      "outputs": []
    },
    {
      "cell_type": "code",
      "metadata": {
        "id": "b1z-NHR6TtQ2",
        "outputId": "418b9109-8693-4d57-cbfd-5f7ae3f5f509",
        "colab": {
          "base_uri": "https://localhost:8080/",
          "height": 295
        }
      },
      "source": [
        "d=0.001 # distance between adjacent slits in meters\n",
        "\n",
        "I1= intensityArray(2,d,yArray)\n",
        "I2= intensityArray(4,d,yArray)\n",
        "I3= intensityArray(6,d,yArray)\n",
        "\n",
        "plt.plot(yArray, I1)\n",
        "plt.plot(yArray, I2)\n",
        "plt.plot(yArray, I3)\n",
        "\n",
        "plt.title('Interference Pattern')\n",
        "plt.xlabel('Position (m)')\n",
        "plt.ylabel('Intensity')\n",
        "plt.grid(True, which='both')\n",
        "plt.axhline(y=0, color='r')\n",
        "plt.savefig(\"interferenceMultipleSlits.png\", dpi=300)\n",
        "\n",
        "# Display the plot\n",
        "plt.show()"
      ],
      "execution_count": 32,
      "outputs": [
        {
          "output_type": "display_data",
          "data": {
            "image/png": "[encoded data removed]",
            "text/plain": [
              "<Figure size 432x288 with 1 Axes>"
            ]
          },
          "metadata": {
            "tags": [],
            "needs_background": "light"
          }
        }
      ]
    },
    {
      "cell_type": "code",
      "metadata": {
        "id": "SARNC-yhH5vH",
        "outputId": "ec80428b-7b04-4c1d-f10e-f79f9bca0a34",
        "colab": {
          "base_uri": "https://localhost:8080/"
        }
      },
      "source": [
        "d=0.0001\n",
        "averageIntensity(3,d,0)/averageIntensity(2,d,0)"
      ],
      "execution_count": 38,
      "outputs": [
        {
          "output_type": "execute_result",
          "data": {
            "text/plain": [
              "2.2479930167680813"
            ]
          },
          "metadata": {
            "tags": []
          },
          "execution_count": 38
        }
      ]
    },
    {
      "cell_type": "code",
      "metadata": {
        "id": "tRC62VW0MbW4"
      },
      "source": [
        ""
      ],
      "execution_count": null,
      "outputs": []
    }
  ]
}