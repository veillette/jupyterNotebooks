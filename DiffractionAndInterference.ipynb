{
  "nbformat": 4,
  "nbformat_minor": 0,
  "metadata": {
    "colab": {
      "name": "DiffractionAndInterference.ipynb",
      "provenance": [],
      "collapsed_sections": [],
      "authorship_tag": "ABX9TyN2azWGcdJTdbCOO6gs1nQA",
      "include_colab_link": true
    },
    "kernelspec": {
      "name": "python3",
      "display_name": "Python 3"
    }
  },
  "cells": [
    {
      "cell_type": "markdown",
      "metadata": {
        "id": "view-in-github",
        "colab_type": "text"
      },
      "source": [
        "<a href=\"https://colab.research.google.com/github/veillette/jupyterNotebooks/blob/master/DiffractionAndInterference.ipynb\" target=\"_parent\"><img src=\"https://colab.research.google.com/assets/colab-badge.svg\" alt=\"Open In Colab\"/></a>"
      ]
    },
    {
      "cell_type": "code",
      "metadata": {
        "id": "5zPBSTbbcouA"
      },
      "source": [
        "import numpy as np\n",
        "from numpy import sin, cos, pi\n",
        "import matplotlib.pyplot as plt"
      ],
      "execution_count": 2,
      "outputs": []
    },
    {
      "cell_type": "code",
      "metadata": {
        "id": "VyrOCzbpdB4z"
      },
      "source": [
        "π=pi\n",
        "\n",
        "def β(λ,D,θ):\n",
        "  return (π/λ)*D*sin(θ)\n",
        "\n",
        "def α(λ,d,θ):\n",
        "  return (π/λ)*d*sin(θ) "
      ],
      "execution_count": 5,
      "outputs": []
    },
    {
      "cell_type": "code",
      "metadata": {
        "id": "7EbAbZF9dJ1b"
      },
      "source": [
        "def diffractionFactor(β):\n",
        "  return (sin(β)/β)**2"
      ],
      "execution_count": 13,
      "outputs": []
    },
    {
      "cell_type": "code",
      "metadata": {
        "id": "ZZ7Bwgp_vyo0"
      },
      "source": [
        "def interferenceFactor(α):\n",
        "  return (2*cos(α))**2"
      ],
      "execution_count": 14,
      "outputs": []
    },
    {
      "cell_type": "code",
      "metadata": {
        "id": "bqHybqlivsEW"
      },
      "source": [
        "def intensityPattern(θ,λ,d,D): \n",
        "    return diffractionFactor(β(λ,D,θ))*interferenceFactor(α(λ,d,θ))"
      ],
      "execution_count": 46,
      "outputs": []
    },
    {
      "cell_type": "code",
      "metadata": {
        "id": "b8QPCoFYx9WR"
      },
      "source": [
        "θ_b=0.002\n",
        "θ=np.linspace(-θ_b,θ_b,1000)  # range of angles in radians"
      ],
      "execution_count": 47,
      "outputs": []
    },
    {
      "cell_type": "code",
      "metadata": {
        "id": "1jfybjebyAdK",
        "outputId": "07b6df3c-3503-49c8-db0b-6cc8d88b6af2",
        "colab": {
          "base_uri": "https://localhost:8080/",
          "height": 269
        }
      },
      "source": [
        "λ=6.32E-7 ## wavelength in (m)\n",
        "d=0.005 ## distance between slits in (m)\n",
        "D=0.001 ## width of slits in (m)\n",
        "plt.plot(θ,intensityPattern(θ,λ,d,D))\n",
        "plt.ylim(0,4)\n",
        "plt.show()"
      ],
      "execution_count": 50,
      "outputs": [
        {
          "output_type": "display_data",
          "data": {
            "image/png": "[encoded data removed]",
            "text/plain": [
              "<Figure size 432x288 with 1 Axes>"
            ]
          },
          "metadata": {
            "tags": [],
            "needs_background": "light"
          }
        }
      ]
    },
    {
      "cell_type": "code",
      "metadata": {
        "id": "thxHvwmbyGCS"
      },
      "source": [
        ""
      ],
      "execution_count": 48,
      "outputs": []
    }
  ]
}