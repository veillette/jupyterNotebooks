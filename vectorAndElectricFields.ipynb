{
  "nbformat": 4,
  "nbformat_minor": 0,
  "metadata": {
    "anaconda-cloud": {},
    "kernelspec": {
      "display_name": "Python 3",
      "language": "python",
      "name": "python3"
    },
    "language_info": {
      "codemirror_mode": {
        "name": "ipython",
        "version": 3
      },
      "file_extension": ".py",
      "mimetype": "text/x-python",
      "name": "python",
      "nbconvert_exporter": "python",
      "pygments_lexer": "ipython3",
      "version": "3.6.0"
    },
    "colab": {
      "name": "vectorPHY.ipynb",
      "provenance": [],
      "include_colab_link": true
    }
  },
  "cells": [
    {
      "cell_type": "markdown",
      "metadata": {
        "id": "view-in-github",
        "colab_type": "text"
      },
      "source": [
        "<a href=\"https://colab.research.google.com/github/veillette/jupyterNotebooks/blob/master/vectorAndElectricFields.ipynb\" target=\"_parent\"><img src=\"https://colab.research.google.com/assets/colab-badge.svg\" alt=\"Open In Colab\"/></a>"
      ]
    },
    {
      "cell_type": "markdown",
      "metadata": {
        "id": "3B9oeN8wAnGj"
      },
      "source": [
        "- - - -\n",
        "# Vector Tutorial\n",
        "\n",
        "source code - https://github.com/veillette/tutorial/math.ipynb  \n",
        "\n",
        "- - - -\n",
        "\n",
        "Martin Veillette @ Berea College\n",
        "\n",
        "- - - -\n",
        "\n",
        "\n",
        "\n"
      ]
    },
    {
      "cell_type": "markdown",
      "metadata": {
        "id": "PFH3lEGaAnGk"
      },
      "source": [
        "## Python Initialization with module imports"
      ]
    },
    {
      "cell_type": "code",
      "metadata": {
        "collapsed": true,
        "id": "tDixPjg2AnGl"
      },
      "source": [
        "# setup \n",
        "import numpy as np\n",
        "import sympy as sp\n",
        "import scipy\n",
        "from scipy import linalg\n",
        "from pprint import pprint\n",
        "sp.init_printing(use_latex='mathjax')\n",
        "\n",
        "import matplotlib.pyplot as plt\n",
        "plt.rcParams['figure.figsize'] = (12, 8)  # (width, height)\n",
        "plt.rcParams['font.size'] = 14\n",
        "plt.rcParams['legend.fontsize'] = 16\n",
        "from matplotlib import patches\n",
        "\n",
        "#get_ipython().magic('matplotlib')  # seperate window\n",
        "get_ipython().magic('matplotlib inline') # inline plotting\n"
      ],
      "execution_count": null,
      "outputs": []
    },
    {
      "cell_type": "markdown",
      "metadata": {
        "id": "dqvOaGZzAnGl"
      },
      "source": [
        "## Math with Python  \n",
        "\n",
        "When using Python, variables and modules can be stored in the notebook. Use ```%reset``` to remove any modules and variables from the kernel \n",
        "\n",
        "The modules we will use the most widely for this class are ```numpy``` , ```scipy``` and ```matplotlib```\n",
        "\n",
        "To get started lets looks at numpy arrays, and then later we will use python powerful symbolic math package sympy for a different way to perform calculations\n",
        "\n",
        "\n",
        "## Linear Algebra with Python\n",
        "\n",
        "Python's numpy package allows python, a generic computing language to perform powerful mathematical calculations. This document is designed to be an intro to that syntax \n",
        "\n",
        "\n",
        "We can either use scipy, which includes numpy, \n",
        "http://docs.scipy.org/doc/\n",
        "\n",
        "or use numpy directly\n",
        "http://docs.scipy.org/doc/numpy/\n",
        "\n"
      ]
    },
    {
      "cell_type": "markdown",
      "metadata": {
        "id": "fcHERG2RAnGm"
      },
      "source": [
        "## Numpy arrays"
      ]
    },
    {
      "cell_type": "code",
      "metadata": {
        "colab": {
          "base_uri": "https://localhost:8080/"
        },
        "id": "PwsN8s9FAnGm",
        "outputId": "159c2c5d-a035-4251-df5a-40f71b7330b7"
      },
      "source": [
        "# we can create a vector using arrays\n",
        "x =   np.array([1,4,6])\n",
        "print('x = ',x)"
      ],
      "execution_count": null,
      "outputs": [
        {
          "output_type": "stream",
          "text": [
            "x =  [1 4 6]\n"
          ],
          "name": "stdout"
        }
      ]
    },
    {
      "cell_type": "code",
      "metadata": {
        "colab": {
          "base_uri": "https://localhost:8080/"
        },
        "id": "Cm_51XtgAnGm",
        "outputId": "6a37f13e-5d4b-405d-81c7-0307fea03773"
      },
      "source": [
        "x**2"
      ],
      "execution_count": null,
      "outputs": [
        {
          "output_type": "execute_result",
          "data": {
            "text/plain": [
              "array([ 1, 16, 36])"
            ]
          },
          "metadata": {},
          "execution_count": 9
        }
      ]
    },
    {
      "cell_type": "code",
      "metadata": {
        "colab": {
          "base_uri": "https://localhost:8080/"
        },
        "id": "HFEzBVSqAnGn",
        "outputId": "e0d28e88-1333-4a7b-9af9-d1c29740a238"
      },
      "source": [
        "# create a linear space from 0 to 9 divided in 10 units\n",
        "x = np.linspace(0,9,10)\n",
        "print('x = ',x, 'as a',x.dtype)"
      ],
      "execution_count": null,
      "outputs": [
        {
          "output_type": "stream",
          "text": [
            "x =  [0. 1. 2. 3. 4. 5. 6. 7. 8. 9.] as a float64\n"
          ],
          "name": "stdout"
        }
      ]
    },
    {
      "cell_type": "code",
      "metadata": {
        "colab": {
          "base_uri": "https://localhost:8080/"
        },
        "id": "JJMLsjI2AnGn",
        "outputId": "7bd483f6-7bdb-472a-a111-be7cdf4a688b"
      },
      "source": [
        "type(x)"
      ],
      "execution_count": null,
      "outputs": [
        {
          "output_type": "execute_result",
          "data": {
            "text/plain": [
              "numpy.ndarray"
            ]
          },
          "metadata": {},
          "execution_count": 11
        }
      ]
    },
    {
      "cell_type": "code",
      "metadata": {
        "colab": {
          "base_uri": "https://localhost:8080/"
        },
        "id": "6cvzmF5bAnGn",
        "outputId": "b4294be6-3a57-4f0d-aed0-52c067f1b727"
      },
      "source": [
        "# multiple array operations\n",
        "x*3"
      ],
      "execution_count": null,
      "outputs": [
        {
          "output_type": "execute_result",
          "data": {
            "text/plain": [
              "array([ 0.,  3.,  6.,  9., 12., 15., 18., 21., 24., 27.])"
            ]
          },
          "metadata": {},
          "execution_count": 12
        }
      ]
    },
    {
      "cell_type": "code",
      "metadata": {
        "colab": {
          "base_uri": "https://localhost:8080/"
        },
        "id": "9TekvK9HAnGo",
        "outputId": "277b3a22-5831-4170-e401-991031b207b8"
      },
      "source": [
        "# exponent array operations\n",
        "x**2"
      ],
      "execution_count": null,
      "outputs": [
        {
          "output_type": "execute_result",
          "data": {
            "text/plain": [
              "array([ 0.,  1.,  4.,  9., 16., 25., 36., 49., 64., 81.])"
            ]
          },
          "metadata": {},
          "execution_count": 13
        }
      ]
    },
    {
      "cell_type": "code",
      "metadata": {
        "colab": {
          "base_uri": "https://localhost:8080/"
        },
        "id": "YaST83EVAnGo",
        "outputId": "a7fd2fdc-19b4-462a-8256-ab703c29222b"
      },
      "source": [
        "# trig array operations\n",
        "np.sin(x)"
      ],
      "execution_count": null,
      "outputs": [
        {
          "output_type": "execute_result",
          "data": {
            "text/plain": [
              "array([ 0.        ,  0.84147098,  0.90929743,  0.14112001, -0.7568025 ,\n",
              "       -0.95892427, -0.2794155 ,  0.6569866 ,  0.98935825,  0.41211849])"
            ]
          },
          "metadata": {},
          "execution_count": 14
        }
      ]
    },
    {
      "cell_type": "code",
      "metadata": {
        "colab": {
          "base_uri": "https://localhost:8080/",
          "height": 37
        },
        "id": "wVOLp476AnGo",
        "outputId": "2ebb5a9c-7352-4b8b-cc95-f7122e7e08c1"
      },
      "source": [
        "x.sum()"
      ],
      "execution_count": null,
      "outputs": [
        {
          "output_type": "execute_result",
          "data": {
            "text/latex": "$\\displaystyle 45.0$",
            "text/plain": [
              "45.0"
            ]
          },
          "metadata": {},
          "execution_count": 15
        }
      ]
    },
    {
      "cell_type": "markdown",
      "metadata": {
        "id": "VcrvQ4DeAnGp"
      },
      "source": [
        "## Functions "
      ]
    },
    {
      "cell_type": "code",
      "metadata": {
        "collapsed": true,
        "id": "lEwH1306AnGp"
      },
      "source": [
        "# With numpy, we can create arrays of numbers as well as functions that accept arrays\n",
        "f = lambda x,y: np.sqrt(x**2+y**2)"
      ],
      "execution_count": null,
      "outputs": []
    },
    {
      "cell_type": "code",
      "metadata": {
        "colab": {
          "base_uri": "https://localhost:8080/",
          "height": 37
        },
        "id": "yqbacjAGAnGp",
        "outputId": "5a2cfd89-62f0-46bc-a1fb-3caa3edce74c"
      },
      "source": [
        "f(3,4)"
      ],
      "execution_count": null,
      "outputs": [
        {
          "output_type": "execute_result",
          "data": {
            "text/latex": "$\\displaystyle 5.0$",
            "text/plain": [
              "5.0"
            ]
          },
          "metadata": {},
          "execution_count": 17
        }
      ]
    },
    {
      "cell_type": "code",
      "metadata": {
        "colab": {
          "base_uri": "https://localhost:8080/"
        },
        "id": "qHl6aPqoAnGq",
        "outputId": "739789d8-b6fc-48f1-ad89-e8478f7e6025"
      },
      "source": [
        "a = 3.1\n",
        "b = np.arange(15,35, 0.75)\n",
        "f(a,b)"
      ],
      "execution_count": null,
      "outputs": [
        {
          "output_type": "execute_result",
          "data": {
            "text/plain": [
              "array([15.31698404, 16.05218054, 16.78868667, 17.52633732, 18.26499384,\n",
              "       19.00453893, 19.74487275, 20.48590979, 21.2275764 , 21.96980883,\n",
              "       22.7125516 , 23.45575622, 24.19938016, 24.9433859 , 25.68774027,\n",
              "       26.43241381, 27.1773803 , 27.92261628, 28.66810074, 29.41381478,\n",
              "       30.15974138, 30.90586514, 31.65217212, 32.39864966, 33.14528624,\n",
              "       33.89207134, 34.63899537])"
            ]
          },
          "metadata": {},
          "execution_count": 18
        }
      ]
    },
    {
      "cell_type": "code",
      "metadata": {
        "colab": {
          "base_uri": "https://localhost:8080/",
          "height": 295
        },
        "id": "GkJT7uraAnGq",
        "outputId": "f38d7371-513f-4fc2-c073-56f7771062e0"
      },
      "source": [
        "# We can also perform numerical differentiation and integration\n",
        "x = np.arange(-np.pi,np.pi, 0.01)\n",
        "y = np.sin(x)*np.exp(x)\n",
        "plt.plot(x,y);\n",
        "plt.xlabel('x')\n",
        "plt.ylabel('$f(x)$')\n",
        "plt.title('numerical integration example')\n",
        "plt.show()"
      ],
      "execution_count": null,
      "outputs": [
        {
          "output_type": "display_data",
          "data": {
            "image/png": "[encoded data removed]",
            "text/plain": [
              "<Figure size 432x288 with 1 Axes>"
            ]
          },
          "metadata": {
            "needs_background": "light"
          }
        }
      ]
    },
    {
      "cell_type": "code",
      "metadata": {
        "id": "MwtIgDhcAnGq",
        "outputId": "31d191cf-1783-4aa4-aed9-3536717f7580"
      },
      "source": [
        "# Using the trapezoidal rule, we can numerically integrate the function\n",
        "np.trapz(y,x)"
      ],
      "execution_count": null,
      "outputs": [
        {
          "data": {
            "text/latex": [
              "$$11.5485471009$$"
            ],
            "text/plain": [
              "11.5485471009"
            ]
          },
          "execution_count": 21,
          "metadata": {},
          "output_type": "execute_result"
        }
      ]
    },
    {
      "cell_type": "markdown",
      "metadata": {
        "id": "YY8bG3YBAnGq"
      },
      "source": [
        "# Symbolic Math with Sympy \n",
        "\n",
        "in ipython use ```help(integrate)``` or ```integrate?``` to check syntax or learn about the command. To clear the previous modules use ```%reset``` to clear variables and imports.  It is also very import to not import over other modules or difficult errors to troubleshoot may appear. This is especially important with numpy and sympy"
      ]
    },
    {
      "cell_type": "code",
      "metadata": {
        "id": "qXeWPxEYAnGr",
        "outputId": "54133c8b-09ae-48fb-9013-c1c2b0226842"
      },
      "source": [
        "%reset"
      ],
      "execution_count": null,
      "outputs": [
        {
          "name": "stdout",
          "output_type": "stream",
          "text": [
            "Once deleted, variables cannot be recovered. Proceed (y/[n])? y\n"
          ]
        }
      ]
    },
    {
      "cell_type": "markdown",
      "metadata": {
        "id": "XJWmvig5AnGr"
      },
      "source": [
        "Now we can initialize the console to have very nice looking mathematical expressions. If we dont do this, the text will be simple ascii characters"
      ]
    },
    {
      "cell_type": "code",
      "metadata": {
        "collapsed": true,
        "id": "CeagQ0m1AnGr"
      },
      "source": [
        "import sympy as sp\n",
        "import numpy as np"
      ],
      "execution_count": null,
      "outputs": []
    },
    {
      "cell_type": "code",
      "metadata": {
        "collapsed": true,
        "id": "0Kpu7DKQAnGr"
      },
      "source": [
        "sp.init_printing()"
      ],
      "execution_count": null,
      "outputs": []
    },
    {
      "cell_type": "code",
      "metadata": {
        "collapsed": true,
        "id": "pc8-KJ1HAnGr"
      },
      "source": [
        "x,y = sp.symbols('x y')"
      ],
      "execution_count": null,
      "outputs": []
    },
    {
      "cell_type": "markdown",
      "metadata": {
        "id": "h7O9_bdvAnGs"
      },
      "source": [
        "I really enjoy using sympy because I can type my equations in, evaluate them, and it shows them very nice, which is easier to read then lines of text. Simple expressions are easy to make"
      ]
    },
    {
      "cell_type": "code",
      "metadata": {
        "id": "TxTwVb2ZAnGs",
        "outputId": "81fb21ef-313d-4093-b6b4-b6a5fda1161a"
      },
      "source": [
        "y = (sp.pi + x)**2\n",
        "y"
      ],
      "execution_count": null,
      "outputs": [
        {
          "data": {
            "image/png": "[encoded data removed]",
            "text/latex": [
              "$$\\left(x + \\pi\\right)^{2}$$"
            ],
            "text/plain": [
              "       2\n",
              "(x + π) "
            ]
          },
          "execution_count": 28,
          "metadata": {},
          "output_type": "execute_result"
        }
      ]
    },
    {
      "cell_type": "code",
      "metadata": {
        "id": "Y5O-KnzjAnGs",
        "outputId": "b299b820-b3fa-4db6-c72e-ab7b15cf407a"
      },
      "source": [
        "y.subs(x,1.3)"
      ],
      "execution_count": null,
      "outputs": [
        {
          "data": {
            "image/png": "[encoded data removed]",
            "text/latex": [
              "$$\\left(1.3 + \\pi\\right)^{2}$$"
            ],
            "text/plain": [
              "         2\n",
              "(1.3 + π) "
            ]
          },
          "execution_count": 29,
          "metadata": {},
          "output_type": "execute_result"
        }
      ]
    },
    {
      "cell_type": "code",
      "metadata": {
        "id": "iKcMi_M4AnGs",
        "outputId": "1bb1ddc2-0fb7-4b7c-da9b-fa7a6cd7fa3b"
      },
      "source": [
        "# or to get a number\n",
        "sp.N(y.subs(x,1.3))"
      ],
      "execution_count": null,
      "outputs": [
        {
          "data": {
            "image/png": "[encoded data removed]",
            "text/latex": [
              "$$19.7277453004228$$"
            ],
            "text/plain": [
              "19.7277453004228"
            ]
          },
          "execution_count": 30,
          "metadata": {},
          "output_type": "execute_result"
        }
      ]
    },
    {
      "cell_type": "code",
      "metadata": {
        "id": "hBjAiI5OAnGs",
        "outputId": "ad223c44-a015-491c-de48-59f848c0ed55"
      },
      "source": [
        "# calculus is also easy\n",
        "sp.diff(y)\n"
      ],
      "execution_count": null,
      "outputs": [
        {
          "data": {
            "image/png": "[encoded data removed]",
            "text/latex": [
              "$$2 x + 2 \\pi$$"
            ],
            "text/plain": [
              "2⋅x + 2⋅π"
            ]
          },
          "execution_count": 31,
          "metadata": {},
          "output_type": "execute_result"
        }
      ]
    },
    {
      "cell_type": "code",
      "metadata": {
        "collapsed": true,
        "id": "XRKDaruAAnGt"
      },
      "source": [
        "f = sp.Function('f')(x)"
      ],
      "execution_count": null,
      "outputs": []
    },
    {
      "cell_type": "code",
      "metadata": {
        "id": "BY1BtzQbAnGt",
        "outputId": "4f976430-8084-4b21-f14f-110671a1eb5c"
      },
      "source": [
        "f = sp.sin(x)*sp.exp(-x)\n",
        "f"
      ],
      "execution_count": null,
      "outputs": [
        {
          "data": {
            "image/png": "[encoded data removed]",
            "text/latex": [
              "$$e^{- x} \\sin{\\left (x \\right )}$$"
            ],
            "text/plain": [
              " -x       \n",
              "ℯ  ⋅sin(x)"
            ]
          },
          "execution_count": 33,
          "metadata": {},
          "output_type": "execute_result"
        }
      ]
    },
    {
      "cell_type": "code",
      "metadata": {
        "id": "P0yK4o9tAnGt",
        "outputId": "56e6d343-04d5-49de-92a1-f5de06677e51"
      },
      "source": [
        "F = sp.integrate(f)\n",
        "F"
      ],
      "execution_count": null,
      "outputs": [
        {
          "data": {
            "image/png": "[encoded data removed]",
            "text/latex": [
              "$$- \\frac{e^{- x}}{2} \\sin{\\left (x \\right )} - \\frac{e^{- x}}{2} \\cos{\\left (x \\right )}$$"
            ],
            "text/plain": [
              "   -x           -x       \n",
              "  ℯ  ⋅sin(x)   ℯ  ⋅cos(x)\n",
              "- ────────── - ──────────\n",
              "      2            2     "
            ]
          },
          "execution_count": 36,
          "metadata": {},
          "output_type": "execute_result"
        }
      ]
    },
    {
      "cell_type": "code",
      "metadata": {
        "id": "XGoOW75gAnGu",
        "outputId": "814355fb-4520-4ed4-83c2-3c3bdcd738ec"
      },
      "source": [
        "F1 = sp.integrate(f,(x,-sp.pi,sp.pi ))\n",
        "# as shown numerically, we can symbolically evaluate the function \n",
        "#  and get the same result\n",
        "F1"
      ],
      "execution_count": null,
      "outputs": [
        {
          "data": {
            "image/png": "[encoded data removed]",
            "text/latex": [
              "$$- \\frac{e^{\\pi}}{2} + \\frac{1}{2 e^{\\pi}}$$"
            ],
            "text/plain": [
              "   π    -π\n",
              "  ℯ    ℯ  \n",
              "- ── + ───\n",
              "  2     2 "
            ]
          },
          "execution_count": 53,
          "metadata": {},
          "output_type": "execute_result"
        }
      ]
    },
    {
      "cell_type": "code",
      "metadata": {
        "id": "O6KSxc6gAnGu",
        "outputId": "99ad0287-a875-4776-de52-f96a2ac75e53"
      },
      "source": [
        "float(F1)"
      ],
      "execution_count": null,
      "outputs": [
        {
          "data": {
            "image/png": "[encoded data removed]",
            "text/latex": [
              "$$-11.548739357257748$$"
            ],
            "text/plain": [
              "-11.548739357257748"
            ]
          },
          "execution_count": 54,
          "metadata": {},
          "output_type": "execute_result"
        }
      ]
    },
    {
      "cell_type": "code",
      "metadata": {
        "id": "4C7N6jbPAnGu",
        "outputId": "0d346b77-b44a-4765-ec59-57482b7d3b9d"
      },
      "source": [
        "sp.plot(f,(x,-sp.pi,sp.pi));"
      ],
      "execution_count": null,
      "outputs": [
        {
          "data": {
            "image/png": "[encoded data removed]",
            "text/plain": [
              "<matplotlib.figure.Figure at 0x19476e76d68>"
            ]
          },
          "metadata": {},
          "output_type": "display_data"
        }
      ]
    },
    {
      "cell_type": "code",
      "metadata": {
        "id": "ZthNSEnUAnGv",
        "outputId": "4eb576e3-7eb9-4b8d-e50b-bea2b186f290"
      },
      "source": [
        "sp.plot(F,(x,-sp.pi,sp.pi));"
      ],
      "execution_count": null,
      "outputs": [
        {
          "data": {
            "image/png": "[encoded data removed]",
            "text/plain": [
              "<matplotlib.figure.Figure at 0x1947819c780>"
            ]
          },
          "metadata": {},
          "output_type": "display_data"
        }
      ]
    },
    {
      "cell_type": "code",
      "metadata": {
        "collapsed": true,
        "id": "Wj66GUmuAnGv"
      },
      "source": [
        "# Other various math tasks can be much easier when using sympy"
      ],
      "execution_count": null,
      "outputs": []
    },
    {
      "cell_type": "code",
      "metadata": {
        "collapsed": true,
        "id": "KfEPFBTSAnGw"
      },
      "source": [
        "n = sp.symbols('n')"
      ],
      "execution_count": null,
      "outputs": []
    },
    {
      "cell_type": "code",
      "metadata": {
        "id": "mxeRR16zAnGw",
        "outputId": "f2af14f4-01a6-41ed-e7a8-716566b0ee69"
      },
      "source": [
        "sum_fcn = sp.Sum(1/n**2, (n,1,10))\n",
        "sum_fcn"
      ],
      "execution_count": null,
      "outputs": [
        {
          "data": {
            "image/png": "[encoded data removed]",
            "text/latex": [
              "$$\\sum_{n=1}^{10} \\frac{1}{n^{2}}$$"
            ],
            "text/plain": [
              "  10    \n",
              " ____   \n",
              " ╲      \n",
              "  ╲   1 \n",
              "   ╲  ──\n",
              "   ╱   2\n",
              "  ╱   n \n",
              " ╱      \n",
              " ‾‾‾‾   \n",
              "n = 1   "
            ]
          },
          "execution_count": 39,
          "metadata": {},
          "output_type": "execute_result"
        }
      ]
    },
    {
      "cell_type": "code",
      "metadata": {
        "id": "McYxYyfTAnGw",
        "outputId": "b48da028-9970-42d0-953e-f1a4aec656ff"
      },
      "source": [
        "# to evaluate the summation simply add the evalf method\n",
        "sum_fcn.evalf()"
      ],
      "execution_count": null,
      "outputs": [
        {
          "data": {
            "image/png": "[encoded data removed]",
            "text/latex": [
              "$$1.54976773116654$$"
            ],
            "text/plain": [
              "1.54976773116654"
            ]
          },
          "execution_count": 40,
          "metadata": {},
          "output_type": "execute_result"
        }
      ]
    },
    {
      "cell_type": "markdown",
      "metadata": {
        "id": "qzrvV8IHAnGw"
      },
      "source": [
        "## Symbolic mathematics with sympy"
      ]
    },
    {
      "cell_type": "code",
      "metadata": {
        "collapsed": true,
        "id": "hI6x_rREAnGw"
      },
      "source": [
        "# import sympy library and initialize latex printing\n",
        "import sympy as sp\n",
        "#sp.init_printing()\n",
        "#sp.init_printing(use_latex='matplotlib')\n",
        "sp.init_printing(use_latex='mathjax')"
      ],
      "execution_count": null,
      "outputs": []
    },
    {
      "cell_type": "code",
      "metadata": {
        "collapsed": true,
        "id": "J516_8-jAnGw"
      },
      "source": [
        "# add a symbolic character\n",
        "x = sp.Symbol('x')"
      ],
      "execution_count": null,
      "outputs": []
    },
    {
      "cell_type": "code",
      "metadata": {
        "id": "JSQw4qYaAnGx",
        "outputId": "7389bc74-e5b2-45bc-8ca5-d5b98f713e90"
      },
      "source": [
        "sp.sqrt(x**2)"
      ],
      "execution_count": null,
      "outputs": [
        {
          "data": {
            "text/latex": [
              "$$\\sqrt{x^{2}}$$"
            ],
            "text/plain": [
              "   ____\n",
              "  ╱  2 \n",
              "╲╱  x  "
            ]
          },
          "execution_count": 94,
          "metadata": {},
          "output_type": "execute_result"
        }
      ]
    },
    {
      "cell_type": "code",
      "metadata": {
        "id": "cLaY5JMQAnGx",
        "outputId": "93398fd0-e5c5-464b-942a-d8edf92c35c6"
      },
      "source": [
        "r = sp.Rational(11, 13)\n",
        "r"
      ],
      "execution_count": null,
      "outputs": [
        {
          "data": {
            "text/latex": [
              "$$\\frac{11}{13}$$"
            ],
            "text/plain": [
              "11\n",
              "──\n",
              "13"
            ]
          },
          "execution_count": 95,
          "metadata": {},
          "output_type": "execute_result"
        }
      ]
    },
    {
      "cell_type": "code",
      "metadata": {
        "id": "lC_jwh3wAnGx",
        "outputId": "52074ac8-0b7b-4aaa-aeb8-25305975acb0"
      },
      "source": [
        "float(r)"
      ],
      "execution_count": null,
      "outputs": [
        {
          "data": {
            "text/latex": [
              "$$0.8461538461538461$$"
            ],
            "text/plain": [
              "0.8461538461538461"
            ]
          },
          "execution_count": 96,
          "metadata": {},
          "output_type": "execute_result"
        }
      ]
    },
    {
      "cell_type": "code",
      "metadata": {
        "id": "L3gOSRAAAnGx",
        "outputId": "0a942b5f-9bb6-413b-a78d-50e23050e391"
      },
      "source": [
        "f = sp.Function('f')\n",
        "f"
      ],
      "execution_count": null,
      "outputs": [
        {
          "data": {
            "text/plain": [
              "f"
            ]
          },
          "execution_count": 97,
          "metadata": {},
          "output_type": "execute_result"
        }
      ]
    },
    {
      "cell_type": "code",
      "metadata": {
        "id": "tW1oVgDDAnGx",
        "outputId": "be58bf74-086b-4b7f-e0e1-685193883f03"
      },
      "source": [
        "f(x)"
      ],
      "execution_count": null,
      "outputs": [
        {
          "data": {
            "text/latex": [
              "$$f{\\left (x \\right )}$$"
            ],
            "text/plain": [
              "f(x)"
            ]
          },
          "execution_count": 98,
          "metadata": {},
          "output_type": "execute_result"
        }
      ]
    },
    {
      "cell_type": "code",
      "metadata": {
        "id": "vD-Nju5zAnGx",
        "outputId": "8d1313fc-3cef-4e71-9f67-79aeea74bbcc"
      },
      "source": [
        "h = sp.Lambda(x,x**2)\n",
        "h"
      ],
      "execution_count": null,
      "outputs": [
        {
          "data": {
            "text/latex": [
              "$$\\left( x \\mapsto x^{2} \\right)$$"
            ],
            "text/plain": [
              "     2\n",
              "x ↦ x "
            ]
          },
          "execution_count": 99,
          "metadata": {},
          "output_type": "execute_result"
        }
      ]
    },
    {
      "cell_type": "code",
      "metadata": {
        "id": "KcEVollqAnGx",
        "outputId": "1a537b15-9b40-4fbb-fde5-01f0ad52090e"
      },
      "source": [
        "w = 2*(x**2-x)-x*(x+1)\n",
        "w"
      ],
      "execution_count": null,
      "outputs": [
        {
          "data": {
            "text/latex": [
              "$$2 x^{2} - x \\left(x + 1\\right) - 2 x$$"
            ],
            "text/plain": [
              "   2                  \n",
              "2⋅x  - x⋅(x + 1) - 2⋅x"
            ]
          },
          "execution_count": 100,
          "metadata": {},
          "output_type": "execute_result"
        }
      ]
    },
    {
      "cell_type": "code",
      "metadata": {
        "id": "Kl3ZcyV3AnGy",
        "outputId": "d008a2cc-edcc-464e-8e5a-e99712d8aceb"
      },
      "source": [
        "w.args"
      ],
      "execution_count": null,
      "outputs": [
        {
          "data": {
            "text/latex": [
              "$$\\left ( - 2 x, \\quad 2 x^{2}, \\quad - x \\left(x + 1\\right)\\right )$$"
            ],
            "text/plain": [
              "⎛         2            ⎞\n",
              "⎝-2⋅x, 2⋅x , -x⋅(x + 1)⎠"
            ]
          },
          "execution_count": 101,
          "metadata": {},
          "output_type": "execute_result"
        }
      ]
    },
    {
      "cell_type": "code",
      "metadata": {
        "id": "0fBC2QCUAnGy",
        "outputId": "8de53ceb-dc73-461b-a8ab-810412f5c6a7"
      },
      "source": [
        "sp.simplify(w)"
      ],
      "execution_count": null,
      "outputs": [
        {
          "data": {
            "text/latex": [
              "$$x \\left(x - 3\\right)$$"
            ],
            "text/plain": [
              "x⋅(x - 3)"
            ]
          },
          "execution_count": 102,
          "metadata": {},
          "output_type": "execute_result"
        }
      ]
    },
    {
      "cell_type": "code",
      "metadata": {
        "id": "zjthbKzgAnGy",
        "outputId": "9a49c457-9b52-4f56-feaf-500d5b8a960e"
      },
      "source": [
        "sp.factor(x**2-1)"
      ],
      "execution_count": null,
      "outputs": [
        {
          "data": {
            "text/latex": [
              "$$\\left(x - 1\\right) \\left(x + 1\\right)$$"
            ],
            "text/plain": [
              "(x - 1)⋅(x + 1)"
            ]
          },
          "execution_count": 103,
          "metadata": {},
          "output_type": "execute_result"
        }
      ]
    },
    {
      "cell_type": "code",
      "metadata": {
        "id": "Y3F6Oud7AnGy",
        "outputId": "cc7f4668-92e4-434d-cdf3-d15d4ff5f144"
      },
      "source": [
        "#partial fractions\n",
        "y = 1/(x**2+3*x+2)\n",
        "y"
      ],
      "execution_count": null,
      "outputs": [
        {
          "data": {
            "text/latex": [
              "$$\\frac{1}{x^{2} + 3 x + 2}$$"
            ],
            "text/plain": [
              "     1      \n",
              "────────────\n",
              " 2          \n",
              "x  + 3⋅x + 2"
            ]
          },
          "execution_count": 104,
          "metadata": {},
          "output_type": "execute_result"
        }
      ]
    },
    {
      "cell_type": "code",
      "metadata": {
        "id": "oug3GpKDAnGy",
        "outputId": "bdd2efcc-0138-43eb-8e2e-8a7e3f05e9e7"
      },
      "source": [
        "sp.apart(y,x)"
      ],
      "execution_count": null,
      "outputs": [
        {
          "data": {
            "text/latex": [
              "$$- \\frac{1}{x + 2} + \\frac{1}{x + 1}$$"
            ],
            "text/plain": [
              "    1       1  \n",
              "- ───── + ─────\n",
              "  x + 2   x + 1"
            ]
          },
          "execution_count": 105,
          "metadata": {},
          "output_type": "execute_result"
        }
      ]
    },
    {
      "cell_type": "code",
      "metadata": {
        "id": "fBPH0FFJAnGy",
        "outputId": "196d7d6a-47a9-4497-c696-fa512758d9c3"
      },
      "source": [
        "f = sp.Function('f')(x)\n",
        "sp.diff(f,x)"
      ],
      "execution_count": null,
      "outputs": [
        {
          "data": {
            "text/latex": [
              "$$\\frac{d}{d x} f{\\left (x \\right )}$$"
            ],
            "text/plain": [
              "d       \n",
              "──(f(x))\n",
              "dx      "
            ]
          },
          "execution_count": 106,
          "metadata": {},
          "output_type": "execute_result"
        }
      ]
    },
    {
      "cell_type": "code",
      "metadata": {
        "id": "Jl5aG_J8AnGz",
        "outputId": "9f6d07f8-3f14-4a54-bdeb-8199e28a100d"
      },
      "source": [
        "y = sp.Symbol('y')\n",
        "g = sp.Function('g')(x,y)\n",
        "g.diff(x,y)"
      ],
      "execution_count": null,
      "outputs": [
        {
          "data": {
            "text/latex": [
              "$$\\frac{\\partial^{2}}{\\partial x\\partial y}  g{\\left (x,y \\right )}$$"
            ],
            "text/plain": [
              "   2          \n",
              "  ∂           \n",
              "─────(g(x, y))\n",
              "∂y ∂x         "
            ]
          },
          "execution_count": 107,
          "metadata": {},
          "output_type": "execute_result"
        }
      ]
    },
    {
      "cell_type": "code",
      "metadata": {
        "id": "19OZ04EmAnGz",
        "outputId": "ad47531e-776d-4318-97bd-ab84cb35b193"
      },
      "source": [
        "# if ipython is to be used as a calculator initialize with \n",
        "from sympy import init_session\n",
        "init_session() "
      ],
      "execution_count": null,
      "outputs": [
        {
          "name": "stdout",
          "output_type": "stream",
          "text": [
            "IPython console for SymPy 1.0 (Python 3.5.2-64-bit) (ground types: python)\n",
            "\n",
            "These commands were executed:\n",
            ">>> from __future__ import division\n",
            ">>> from sympy import *\n",
            ">>> x, y, z, t = symbols('x y z t')\n",
            ">>> k, m, n = symbols('k m n', integer=True)\n",
            ">>> f, g, h = symbols('f g h', cls=Function)\n",
            ">>> init_printing()\n",
            "\n",
            "Documentation can be found at http://docs.sympy.org/1.0/\n"
          ]
        }
      ]
    },
    {
      "cell_type": "code",
      "metadata": {
        "collapsed": true,
        "id": "fM60o2euAnGz"
      },
      "source": [
        "from sympy import oo, Function, dsolve, Eq, Derivative, sin,cos,symbols\n",
        "from sympy.abc import x\n",
        "import sympy as sp\n",
        "import numpy as np\n",
        "import matplotlib.pyplot as mp\n",
        "get_ipython().magic('matplotlib inline')\n",
        "# this will print output as unicode"
      ],
      "execution_count": null,
      "outputs": []
    },
    {
      "cell_type": "code",
      "metadata": {
        "id": "Ogn28hlWAnGz",
        "outputId": "0212e99e-a7eb-4766-a688-cc2930cace59"
      },
      "source": [
        "# assign a sympy variable\n",
        "x = sp.var('x')\n",
        "x"
      ],
      "execution_count": null,
      "outputs": [
        {
          "data": {
            "image/png": "[encoded data removed]",
            "text/latex": [
              "$$x$$"
            ],
            "text/plain": [
              "x"
            ]
          },
          "execution_count": 112,
          "metadata": {},
          "output_type": "execute_result"
        }
      ]
    },
    {
      "cell_type": "code",
      "metadata": {
        "id": "zsxEj3DOAnGz",
        "outputId": "3157a51e-cf4b-45fa-bd84-2d4167a53126"
      },
      "source": [
        "#assign a function \n",
        "f =  sp.sin(6*x)*sp.exp(-x)\n",
        "f"
      ],
      "execution_count": null,
      "outputs": [
        {
          "data": {
            "image/png": "[encoded data removed]",
            "text/latex": [
              "$$e^{- x} \\sin{\\left (6 x \\right )}$$"
            ],
            "text/plain": [
              " -x         \n",
              "ℯ  ⋅sin(6⋅x)"
            ]
          },
          "execution_count": 113,
          "metadata": {},
          "output_type": "execute_result"
        }
      ]
    },
    {
      "cell_type": "code",
      "metadata": {
        "id": "USdP2xF8AnGz",
        "outputId": "a64e859e-1b97-44a0-9176-b73388c810d1"
      },
      "source": [
        "f.subs(x,3)"
      ],
      "execution_count": null,
      "outputs": [
        {
          "data": {
            "image/png": "[encoded data removed]",
            "text/latex": [
              "$$\\frac{1}{e^{3}} \\sin{\\left (18 \\right )}$$"
            ],
            "text/plain": [
              " -3        \n",
              "ℯ  ⋅sin(18)"
            ]
          },
          "execution_count": 114,
          "metadata": {},
          "output_type": "execute_result"
        }
      ]
    },
    {
      "cell_type": "code",
      "metadata": {
        "id": "KE6f9tVnAnG0",
        "outputId": "af23b644-8150-46d1-89be-98c8b0f0ee8d"
      },
      "source": [
        "float(f.subs(x,3))"
      ],
      "execution_count": null,
      "outputs": [
        {
          "data": {
            "image/png": "[encoded data removed]",
            "text/latex": [
              "$$-0.037389453398415345$$"
            ],
            "text/plain": [
              "-0.037389453398415345"
            ]
          },
          "execution_count": 115,
          "metadata": {},
          "output_type": "execute_result"
        }
      ]
    },
    {
      "cell_type": "code",
      "metadata": {
        "id": "99lPYKJ7AnG0",
        "outputId": "8e60ae2a-c7e7-4a55-ed38-38b1f08d0ddd"
      },
      "source": [
        "sp.plot(f,(x,-5,5))"
      ],
      "execution_count": null,
      "outputs": [
        {
          "data": {
            "image/png": "[encoded data removed]",
            "text/plain": [
              "<matplotlib.figure.Figure at 0xada26a0>"
            ]
          },
          "metadata": {},
          "output_type": "display_data"
        },
        {
          "data": {
            "text/plain": [
              "<sympy.plotting.plot.Plot at 0xada2b00>"
            ]
          },
          "execution_count": 116,
          "metadata": {},
          "output_type": "execute_result"
        }
      ]
    },
    {
      "cell_type": "code",
      "metadata": {
        "id": "h7RJCE_NAnG0",
        "outputId": "1dbe91ea-f692-4a89-820a-6814004c9405"
      },
      "source": [
        "# a onetime pretty print\n",
        "sp.pprint(f)"
      ],
      "execution_count": null,
      "outputs": [
        {
          "name": "stdout",
          "output_type": "stream",
          "text": [
            " -x         \n",
            "ℯ  ⋅sin(6⋅x)\n"
          ]
        }
      ]
    },
    {
      "cell_type": "code",
      "metadata": {
        "id": "57XWXsR8AnG0",
        "outputId": "c288df51-03da-4b6a-861e-41b1c69bedf6"
      },
      "source": [
        "#or we can print the latex rendering\n",
        "sp.latex(f)"
      ],
      "execution_count": null,
      "outputs": [
        {
          "data": {
            "text/plain": [
              "'e^{- x} \\\\sin{\\\\left (6 x \\\\right )}'"
            ]
          },
          "execution_count": 118,
          "metadata": {},
          "output_type": "execute_result"
        }
      ]
    },
    {
      "cell_type": "code",
      "metadata": {
        "id": "bJ7UuC6GAnG0",
        "outputId": "4c180fc9-6c52-42fa-daf8-c4f58fb6e872"
      },
      "source": [
        "# first derivative\n",
        "df = f.diff()\n",
        "df"
      ],
      "execution_count": null,
      "outputs": [
        {
          "data": {
            "image/png": "[encoded data removed]",
            "text/latex": [
              "$$- e^{- x} \\sin{\\left (6 x \\right )} + 6 e^{- x} \\cos{\\left (6 x \\right )}$$"
            ],
            "text/plain": [
              "   -x               -x         \n",
              "- ℯ  ⋅sin(6⋅x) + 6⋅ℯ  ⋅cos(6⋅x)"
            ]
          },
          "execution_count": 119,
          "metadata": {},
          "output_type": "execute_result"
        }
      ]
    },
    {
      "cell_type": "code",
      "metadata": {
        "id": "3aC0DCb5AnG0",
        "outputId": "8b7437c9-1a1c-4891-82fd-a841c6d852d8"
      },
      "source": [
        "# differentaite f'' wrt x\n",
        "sp.diff(f,x,1)"
      ],
      "execution_count": null,
      "outputs": [
        {
          "data": {
            "image/png": "[encoded data removed]",
            "text/latex": [
              "$$- e^{- x} \\sin{\\left (6 x \\right )} + 6 e^{- x} \\cos{\\left (6 x \\right )}$$"
            ],
            "text/plain": [
              "   -x               -x         \n",
              "- ℯ  ⋅sin(6⋅x) + 6⋅ℯ  ⋅cos(6⋅x)"
            ]
          },
          "execution_count": 120,
          "metadata": {},
          "output_type": "execute_result"
        }
      ]
    },
    {
      "cell_type": "code",
      "metadata": {
        "id": "u2FUkORNAnG0",
        "outputId": "7394cc7a-d830-4b3b-9e70-85b33ac5bc67"
      },
      "source": [
        "# substitute x with pi\n",
        "f.subs(x,np.pi)"
      ],
      "execution_count": null,
      "outputs": [
        {
          "data": {
            "image/png": "[encoded data removed]",
            "text/latex": [
              "$$-3.17530720082064 \\cdot 10^{-17}$$"
            ],
            "text/plain": [
              "-3.17530720082064e-17"
            ]
          },
          "execution_count": 121,
          "metadata": {},
          "output_type": "execute_result"
        }
      ]
    },
    {
      "cell_type": "code",
      "metadata": {
        "collapsed": true,
        "id": "Df3TAnZhAnG1"
      },
      "source": [
        "#%% Numeric Computation from the documentation\n",
        "from sympy.abc import x"
      ],
      "execution_count": null,
      "outputs": []
    },
    {
      "cell_type": "code",
      "metadata": {
        "id": "mD7hQWYlAnG1",
        "outputId": "4cd2967b-2d82-4429-f87a-e5f2959d0830"
      },
      "source": [
        "# lambdify using the math module, 10^2 faster than subs\n",
        "expr = sp.sin(x)/x\n",
        "f = sp.lambdify(x,expr)\n",
        "f(3.14)"
      ],
      "execution_count": null,
      "outputs": [
        {
          "data": {
            "image/png": "[encoded data removed]",
            "text/latex": [
              "$$0.0005072143046136395$$"
            ],
            "text/plain": [
              "0.0005072143046136395"
            ]
          },
          "execution_count": 123,
          "metadata": {},
          "output_type": "execute_result"
        }
      ]
    },
    {
      "cell_type": "code",
      "metadata": {
        "id": "PMcnBqgaAnG1",
        "outputId": "59a2278a-2571-4032-ea91-5c2bc107316d"
      },
      "source": [
        "# lambdify using numpy\n",
        "f = sp.lambdify(x,expr, \"numpy\")\n",
        "f(np.linspace(1,3.14,20))"
      ],
      "execution_count": null,
      "outputs": [
        {
          "data": {
            "text/plain": [
              "array([  8.41470985e-01,   8.06076119e-01,   7.67912588e-01,\n",
              "         7.27262596e-01,   6.84424864e-01,   6.39711977e-01,\n",
              "         5.93447624e-01,   5.45963742e-01,   4.97597617e-01,\n",
              "         4.48688937e-01,   3.99576866e-01,   3.50597122e-01,\n",
              "         3.02079129e-01,   2.54343238e-01,   2.07698064e-01,\n",
              "         1.62437944e-01,   1.18840569e-01,   7.71647744e-02,\n",
              "         3.76485431e-02,   5.07214305e-04])"
            ]
          },
          "execution_count": 124,
          "metadata": {},
          "output_type": "execute_result"
        }
      ]
    },
    {
      "cell_type": "markdown",
      "metadata": {
        "id": "cKU7xXE_AnG1"
      },
      "source": [
        "## Signal Processing"
      ]
    },
    {
      "cell_type": "code",
      "metadata": {
        "id": "cBDZaiwBAnG1",
        "outputId": "0015fa0b-ed4e-43d1-8230-06b0f418b903"
      },
      "source": [
        "\n",
        "## Signal Processing\n",
        "\n",
        "\n",
        "import numpy as np\n",
        "from scipy import fftpack\n",
        "import matplotlib.pyplot as plt\n",
        "get_ipython().magic('matplotlib inline') # inline plotting\n",
        "width = 2.0\n",
        "freq = 0.5\n",
        "t = np.linspace(-10, 10, 101) # linearly space time array\n",
        "g = np.exp(-np.abs(t)/width)*np.sin(2.0 * np.pi * freq * t)\n",
        "dt = t[1]-t[0] # increment between times in time array\n",
        "G = fftpack.fft(g) # FFT of g\n",
        "f = fftpack.fftfreq(g.size, d=dt) # frequenies f[i] of g[i]\n",
        "f = fftpack.fftshift(f) # shift frequencies from min to max\n",
        "G = fftpack.fftshift(G) # shift G order to coorespond to f\n",
        "fig = plt.figure(1, figsize=(8,6), frameon=False)\n",
        "ax1 = fig.add_subplot(211)\n",
        "ax1.plot(t, g)\n",
        "ax1.set_xlabel('t')\n",
        "ax1.set_ylabel('g(t)')\n",
        "ax2 = fig.add_subplot(212)\n",
        "ax2.plot(f, np.real(G), color='dodgerblue', label='real part')\n",
        "ax2.plot(f, np.imag(G), color='coral', label='imaginary part')\n",
        "ax2.legend()\n",
        "ax2.set_xlabel('f')\n",
        "ax2.set_ylabel('G(f)')\n",
        "plt.show()"
      ],
      "execution_count": null,
      "outputs": [
        {
          "data": {
            "image/png": "[encoded data removed]",
            "text/plain": [
              "<matplotlib.figure.Figure at 0x185837bb278>"
            ]
          },
          "metadata": {},
          "output_type": "display_data"
        }
      ]
    },
    {
      "cell_type": "code",
      "metadata": {
        "id": "rYdm1pF6AnG1",
        "outputId": "97c0f973-ac89-41c8-9871-40c5d536292c"
      },
      "source": [
        "from pylab import *\n",
        "from scipy import fft\n",
        "get_ipython().magic('matplotlib inline') # inline plotting\n",
        "N = 2**9\n",
        "F = 25\n",
        "t = arange(N)/float(N)\n",
        "x = cos(2*pi*t*F) + rand(len(t))*3\n",
        "subplot(2,1,1)\n",
        "plot(t,x)\n",
        "ylabel('x []')\n",
        "xlabel('t [seconds]')\n",
        "title('A cosine wave')\n",
        "grid()\n",
        "\n",
        "subplot(2,1,2)\n",
        "f = t*N\n",
        "xf = fft(x)\n",
        "plot(f,abs(xf))\n",
        "title('Fourier transform of a cosine wave')\n",
        "xlabel('xf []')\n",
        "ylabel('xf []')\n",
        "xlim([0,N])\n",
        "grid()\n",
        "show()\n",
        "\n",
        "# note the spike at 25 hz and 512-25"
      ],
      "execution_count": null,
      "outputs": [
        {
          "data": {
            "image/png": "[encoded data removed]",
            "text/plain": [
              "<matplotlib.figure.Figure at 0x194781cf048>"
            ]
          },
          "metadata": {},
          "output_type": "display_data"
        }
      ]
    },
    {
      "cell_type": "markdown",
      "metadata": {
        "id": "Kzc_RsEYAnG2"
      },
      "source": [
        "## Differential Equations"
      ]
    },
    {
      "cell_type": "code",
      "metadata": {
        "collapsed": true,
        "id": "jNxEEIl4AnG2"
      },
      "source": [
        "# see here for example scripts\n",
        "# C:\\Users\\Neal\\Anaconda3\\Lib\\site-packages\\sympy\\mpmath\\tests\n",
        "from sympy import Function, dsolve, Eq, Derivative, sin,cos,symbols\n",
        "from sympy.abc import x\n",
        "import numpy as np\n",
        "import sympy as sp\n",
        "import matplotlib.pyplot as mp\n",
        "import matplotlib.pyplot as plt"
      ],
      "execution_count": null,
      "outputs": []
    },
    {
      "cell_type": "code",
      "metadata": {
        "id": "lPIMEwg5AnG2",
        "outputId": "0922c721-0e0b-4f06-a509-339914e7a4f1"
      },
      "source": [
        "f = Function('f')\n",
        "deq = dsolve(Derivative(f(x), x,x) + 9*f(x), f(x))\n",
        "deq"
      ],
      "execution_count": null,
      "outputs": [
        {
          "data": {
            "image/png": "[encoded data removed]",
            "text/latex": [
              "$$f{\\left (x \\right )} = C_{1} \\sin{\\left (3 x \\right )} + C_{2} \\cos{\\left (3 x \\right )}$$"
            ],
            "text/plain": [
              "f(x) = C₁⋅sin(3⋅x) + C₂⋅cos(3⋅x)"
            ]
          },
          "execution_count": 46,
          "metadata": {},
          "output_type": "execute_result"
        }
      ]
    },
    {
      "cell_type": "code",
      "metadata": {
        "id": "qeSHl-MWAnG2",
        "outputId": "234e9f3b-4b96-4972-859e-7f6d575e85a2"
      },
      "source": [
        "diffeq1_sym = deq.args[1]\n",
        "diffeq1_sym"
      ],
      "execution_count": null,
      "outputs": [
        {
          "data": {
            "image/png": "[encoded data removed]",
            "text/latex": [
              "$$C_{1} \\sin{\\left (3 x \\right )} + C_{2} \\cos{\\left (3 x \\right )}$$"
            ],
            "text/plain": [
              "C₁⋅sin(3⋅x) + C₂⋅cos(3⋅x)"
            ]
          },
          "execution_count": 47,
          "metadata": {},
          "output_type": "execute_result"
        }
      ]
    },
    {
      "cell_type": "code",
      "metadata": {
        "id": "g8jkonn5AnG2",
        "outputId": "228bf135-2ba8-484b-f064-143df89f92a1"
      },
      "source": [
        "diffeq1 = diffeq1_sym.subs({'C1':1, 'C2':0.5})\n",
        "diffeq1"
      ],
      "execution_count": null,
      "outputs": [
        {
          "data": {
            "image/png": "[encoded data removed]",
            "text/latex": [
              "$$\\sin{\\left (3 x \\right )} + 0.5 \\cos{\\left (3 x \\right )}$$"
            ],
            "text/plain": [
              "sin(3⋅x) + 0.5⋅cos(3⋅x)"
            ]
          },
          "execution_count": 48,
          "metadata": {},
          "output_type": "execute_result"
        }
      ]
    },
    {
      "cell_type": "code",
      "metadata": {
        "id": "CyY_9X_VAnG3",
        "outputId": "1a17f147-4f3b-49e7-f6c7-a5ae4aaa28d7"
      },
      "source": [
        "diffeq1_f = sp.lambdify(x,diffeq1, \"numpy\")\n",
        "diffeq1_f"
      ],
      "execution_count": null,
      "outputs": [
        {
          "data": {
            "text/plain": [
              "<function numpy.<lambda>>"
            ]
          },
          "execution_count": 49,
          "metadata": {},
          "output_type": "execute_result"
        }
      ]
    },
    {
      "cell_type": "code",
      "metadata": {
        "id": "eix8HaZVAnG3",
        "outputId": "a7ec473a-d58f-4b7b-f931-26ce448b55e9"
      },
      "source": [
        "diffeq1arr = diffeq1_f(np.linspace(1,3.14,20))\n",
        "diffeq1arr"
      ],
      "execution_count": null,
      "outputs": [
        {
          "data": {
            "text/plain": [
              "array([-0.35387624, -0.68544104, -0.93948885, -1.08728921, -1.11212728,\n",
              "       -1.0111941 , -0.79590429, -0.49060511, -0.12982305,  0.24564078,\n",
              "        0.59332492,  0.87390954,  1.05566313,  1.11803104,  1.05396004,\n",
              "        0.87069598,  0.5889643 ,  0.24062625, -0.1349244 , -0.49521635])"
            ]
          },
          "execution_count": 50,
          "metadata": {},
          "output_type": "execute_result"
        }
      ]
    },
    {
      "cell_type": "code",
      "metadata": {
        "id": "-1HScjxUAnG3",
        "outputId": "99a2fa9f-6d14-43f3-ffb8-281535a83f51"
      },
      "source": [
        "# numpy plot\n",
        "plt.plot(diffeq1_f(np.linspace(-10,10,2000)));\n",
        "plt.title('plot of the numpy array');"
      ],
      "execution_count": null,
      "outputs": [
        {
          "data": {
            "image/png": "[encoded data removed]",
            "text/plain": [
              "<matplotlib.figure.Figure at 0x1947838aac8>"
            ]
          },
          "metadata": {},
          "output_type": "display_data"
        }
      ]
    },
    {
      "cell_type": "code",
      "metadata": {
        "id": "QuEx6g34AnG3",
        "outputId": "2916f61b-3054-49b8-972c-5e3c58b8a524"
      },
      "source": [
        "# sympy plot\n",
        "sp.plot(diffeq1, title='plot of the sympy function');"
      ],
      "execution_count": null,
      "outputs": [
        {
          "data": {
            "image/png": "[encoded data removed]",
            "text/plain": [
              "<matplotlib.figure.Figure at 0x19478367518>"
            ]
          },
          "metadata": {},
          "output_type": "display_data"
        }
      ]
    },
    {
      "cell_type": "code",
      "metadata": {
        "collapsed": true,
        "id": "5usYpsF6AnG3"
      },
      "source": [
        ""
      ],
      "execution_count": null,
      "outputs": []
    },
    {
      "cell_type": "markdown",
      "metadata": {
        "collapsed": true,
        "id": "4dnUdZ5_AnG3"
      },
      "source": [
        "## Differential Equations Quiver plot"
      ]
    },
    {
      "cell_type": "code",
      "metadata": {
        "id": "vvsaaqwgAnG4",
        "outputId": "6652f6cb-3049-402e-9097-8edf47a4f1e9"
      },
      "source": [
        "# quiver plot\n",
        "f=lambda x: [x[0]**2 - 2*x[0] - x[1] + 0.5, x[0]**2 + 4*x[1]**2 - 4]\n",
        "x,y=np.mgrid[-0.5:2.5:24j,-0.5:2.5:24j]\n",
        "U,V=f([x,y])\n",
        "plt.quiver(x,y,U,V,color='r', \\\n",
        "         linewidths=(0.2,), edgecolors=('k'), \\\n",
        "         headaxislength=15)\n",
        "plt.show()"
      ],
      "execution_count": null,
      "outputs": [
        {
          "data": {
            "image/png": "[encoded data removed]",
            "text/plain": [
              "<matplotlib.figure.Figure at 0x19476c0dbe0>"
            ]
          },
          "metadata": {},
          "output_type": "display_data"
        }
      ]
    },
    {
      "cell_type": "code",
      "metadata": {
        "collapsed": true,
        "id": "kSG-sElvAnG4"
      },
      "source": [
        "plot"
      ],
      "execution_count": null,
      "outputs": []
    }
  ]
}