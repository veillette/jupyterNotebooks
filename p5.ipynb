{
  "nbformat": 4,
  "nbformat_minor": 0,
  "metadata": {
    "colab": {
      "name": "khan js p5.ipynb",
      "provenance": [],
      "collapsed_sections": [
        "jiR3IyqE-Gs6",
        "Xeb9qpx_vUQw"
      ],
      "include_colab_link": true
    },
    "kernelspec": {
      "name": "python3",
      "display_name": "Python 3"
    }
  },
  "cells": [
    {
      "cell_type": "markdown",
      "metadata": {
        "id": "view-in-github",
        "colab_type": "text"
      },
      "source": [
        "<a href=\"https://colab.research.google.com/github/veillette/jupyterNotebooks/blob/master/p5.ipynb\" target=\"_parent\"><img src=\"https://colab.research.google.com/assets/colab-badge.svg\" alt=\"Open In Colab\"/></a>"
      ]
    },
    {
      "cell_type": "markdown",
      "metadata": {
        "id": "_S1Bt7W6imS0"
      },
      "source": [
        " [Intro to JS: Drawing and Animation](https://www.khanacademy.org/computing/computer-programming/programming)"
      ]
    },
    {
      "cell_type": "code",
      "metadata": {
        "id": "Ildc37rHihEF"
      },
      "source": [
        "from IPython.display import HTML, SVG\n",
        "from IPython.core.magic import register_cell_magic"
      ],
      "execution_count": 1,
      "outputs": []
    },
    {
      "cell_type": "markdown",
      "metadata": {
        "id": "jiR3IyqE-Gs6"
      },
      "source": [
        "## JS"
      ]
    },
    {
      "cell_type": "code",
      "metadata": {
        "id": "XglEKxFni-KV",
        "outputId": "359ec4ba-e475-4aea-b0f0-e1826a6ef757",
        "colab": {
          "base_uri": "https://localhost:8080/",
          "height": 64
        }
      },
      "source": [
        "HTML('''\n",
        "<h2>Hello</h2>\n",
        "''')"
      ],
      "execution_count": 2,
      "outputs": [
        {
          "output_type": "execute_result",
          "data": {
            "text/html": [
              "\n",
              "<h2>Hello</h2>\n"
            ],
            "text/plain": [
              "<IPython.core.display.HTML object>"
            ]
          },
          "metadata": {
            "tags": []
          },
          "execution_count": 2
        }
      ]
    },
    {
      "cell_type": "code",
      "metadata": {
        "id": "sg1HbcuvkbG1"
      },
      "source": [
        "def js(src):\n",
        "  return HTML(f\"\"\"\n",
        "<div class='chart'></div>\n",
        "<!-- script src=\"https://d3js.org/d3.v5.min.js\"></script -->\n",
        "<script src=\"https://cdnjs.cloudflare.com/ajax/libs/processing.js/1.6.6/processing.js\"></script>\n",
        "<script>\n",
        "{src}\n",
        "</script>\n",
        "\"\"\")"
      ],
      "execution_count": 3,
      "outputs": []
    },
    {
      "cell_type": "code",
      "metadata": {
        "id": "oqEj2RSxk9at",
        "outputId": "f04b0297-85f7-42cc-a1bb-57f4153b09a2",
        "colab": {
          "base_uri": "https://localhost:8080/",
          "height": 34
        }
      },
      "source": [
        "js('''\n",
        "document.querySelector('.chart').innerHTML = 'Bye';\n",
        "''')"
      ],
      "execution_count": null,
      "outputs": [
        {
          "output_type": "execute_result",
          "data": {
            "text/html": [
              "\n",
              "<div class='chart'></div>\n",
              "<!-- script src=\"https://d3js.org/d3.v5.min.js\"></script -->\n",
              "<script src=\"https://cdnjs.cloudflare.com/ajax/libs/processing.js/1.6.6/processing.js\"></script>\n",
              "<script>\n",
              "\n",
              "document.querySelector('.chart').innerHTML = 'Bye';\n",
              "\n",
              "</script>\n"
            ],
            "text/plain": [
              "<IPython.core.display.HTML object>"
            ]
          },
          "metadata": {
            "tags": []
          },
          "execution_count": 34
        }
      ]
    },
    {
      "cell_type": "markdown",
      "metadata": {
        "id": "Xeb9qpx_vUQw"
      },
      "source": [
        "## AnimeJS\n",
        "ลอง search net แล้ว พบว่า anime.js ดูน่าสนใจกว่าตัวอื่น\n",
        "\n",
        "ตัวอย่าง [codepen](https://codepen.io/juliangarnier/pen/BzQoXg)"
      ]
    },
    {
      "cell_type": "code",
      "metadata": {
        "id": "VqKpVso8rD8K",
        "outputId": "07ca3bd3-9082-44a2-d9e0-7bf30a8e113f",
        "colab": {
          "base_uri": "https://localhost:8080/",
          "height": 105
        }
      },
      "source": [
        "HTML(\"\"\"\n",
        "<style>\n",
        "article div {\n",
        "  width: 2rem;\n",
        "  height: 2rem;\n",
        "  margin: .5rem;\n",
        "}\n",
        ".green {\n",
        "  background-color: green;\n",
        "}\n",
        ".blue {\n",
        "  background-color: blue;\n",
        "}\n",
        "</style>\n",
        "\n",
        "<section>\n",
        "  <article>\n",
        "    <div class=\"blue\"></div>\n",
        "    <div class=\"green\"></div>\n",
        "  </article>\n",
        "</section>\n",
        "\n",
        "<script src=\"https://cdnjs.cloudflare.com/ajax/libs/animejs/2.2.0/anime.js\"></script>\n",
        "<script>\n",
        "\n",
        "  var myAnimation = anime({\n",
        "    targets: ['.blue', '.green'],\n",
        "    translateX: '13rem',\n",
        "    rotate: 180,\n",
        "    borderRadius: '8px',\n",
        "    duration: 5000,\n",
        "    loop: false\n",
        "  });\n",
        "\n",
        "</script>\n",
        "\"\"\")   # ทำงานได้ละ  ค่อยยังชั่ว"
      ],
      "execution_count": 4,
      "outputs": [
        {
          "output_type": "execute_result",
          "data": {
            "text/html": [
              "\n",
              "<style>\n",
              "article div {\n",
              "  width: 2rem;\n",
              "  height: 2rem;\n",
              "  margin: .5rem;\n",
              "}\n",
              ".green {\n",
              "  background-color: green;\n",
              "}\n",
              ".blue {\n",
              "  background-color: blue;\n",
              "}\n",
              "</style>\n",
              "\n",
              "<section>\n",
              "  <article>\n",
              "    <div class=\"blue\"></div>\n",
              "    <div class=\"green\"></div>\n",
              "  </article>\n",
              "</section>\n",
              "\n",
              "<script src=\"https://cdnjs.cloudflare.com/ajax/libs/animejs/2.2.0/anime.js\"></script>\n",
              "<script>\n",
              "\n",
              "  var myAnimation = anime({\n",
              "    targets: ['.blue', '.green'],\n",
              "    translateX: '13rem',\n",
              "    rotate: 180,\n",
              "    borderRadius: '8px',\n",
              "    duration: 5000,\n",
              "    loop: false\n",
              "  });\n",
              "\n",
              "</script>\n"
            ],
            "text/plain": [
              "<IPython.core.display.HTML object>"
            ]
          },
          "metadata": {
            "tags": []
          },
          "execution_count": 4
        }
      ]
    },
    {
      "cell_type": "markdown",
      "metadata": {
        "id": "RBdSAStJ9UeT"
      },
      "source": [
        "# P5.js"
      ]
    },
    {
      "cell_type": "markdown",
      "metadata": {
        "id": "a6H0oeycDesJ"
      },
      "source": [
        "การแปลง code จาก processing มาเป็น p5 [transition](https://github.com/processing/p5.js/wiki/Processing-transition)"
      ]
    },
    {
      "cell_type": "code",
      "metadata": {
        "id": "iV_rwynHpGAM",
        "outputId": "3c2ca73a-738d-4136-9cae-f3b504d420e8",
        "colab": {
          "base_uri": "https://localhost:8080/",
          "height": 121
        }
      },
      "source": [
        "# เช็คจาก processing เขาเปลี่ยนไปใช้ p5.js แทน\n",
        "HTML('''\n",
        "<script src=\"https://cdnjs.cloudflare.com/ajax/libs/p5.js/0.6.0/p5.js\"></script>\n",
        "<script>\n",
        "new p5();\n",
        "\n",
        "ellipse(50, 50, 80, 80);\n",
        "\n",
        "</script>\n",
        "''')  # ทำไมไม่เวิร์ค   เจอละ ต้องสร้าง new p5()  ตาม github.com/processing/p5.js/wiki/p5.js-overview"
      ],
      "execution_count": 7,
      "outputs": [
        {
          "output_type": "execute_result",
          "data": {
            "text/html": [
              "\n",
              "<script src=\"https://cdnjs.cloudflare.com/ajax/libs/p5.js/0.6.0/p5.js\"></script>\n",
              "<script>\n",
              "new p5();\n",
              "\n",
              "ellipse(50, 50, 80, 80);\n",
              "\n",
              "</script>\n"
            ],
            "text/plain": [
              "<IPython.core.display.HTML object>"
            ]
          },
          "metadata": {
            "tags": []
          },
          "execution_count": 7
        }
      ]
    },
    {
      "cell_type": "code",
      "metadata": {
        "id": "JeGu9lPl5s7e"
      },
      "source": [
        "# เอาไว้เรียกง่ายๆ\n",
        "@register_cell_magic\n",
        "def ps(line, src):\n",
        "  return HTML(f\"\"\"\n",
        "  <script src=\"https://cdnjs.cloudflare.com/ajax/libs/p5.js/0.6.0/p5.js\"></script>\n",
        "  <script>\n",
        "  new p5();\n",
        "  {src.replace(\" #\", \" //\")}  // allow python-style comment\n",
        "  </script>\n",
        "  \"\"\")"
      ],
      "execution_count": 9,
      "outputs": []
    },
    {
      "cell_type": "code",
      "metadata": {
        "id": "G2RvKFeh9t_T",
        "outputId": "c8866699-6ec8-4312-a0e7-248acfe37ed7",
        "colab": {
          "base_uri": "https://localhost:8080/"
        }
      },
      "source": [
        "%%ps\n",
        "ellipse(50, 50, 80, 80)"
      ],
      "execution_count": 8,
      "outputs": [
        {
          "output_type": "stream",
          "text": [
            "UsageError: Cell magic `%%ps` not found.\n"
          ],
          "name": "stderr"
        }
      ]
    },
    {
      "cell_type": "code",
      "metadata": {
        "id": "WWx4ZXRrBeap",
        "outputId": "2f3d2e55-de55-4f95-c350-8247ef4457e7",
        "colab": {
          "base_uri": "https://localhost:8080/",
          "height": 217
        }
      },
      "source": [
        "%%ps\n",
        "createCanvas(200, 200)\n",
        "ellipse(50, 50, 80, 80)  # circle\n",
        "rect(50, 50, 80, 80)\n",
        "line(50, 50, 80, 80)"
      ],
      "execution_count": null,
      "outputs": [
        {
          "output_type": "execute_result",
          "data": {
            "text/html": [
              "\n",
              "  <script src=\"https://cdnjs.cloudflare.com/ajax/libs/p5.js/0.6.0/p5.js\"></script>\n",
              "  <script>\n",
              "  new p5();\n",
              "  createCanvas(200, 200)\n",
              "ellipse(50, 50, 80, 80)  // circle\n",
              "rect(50, 50, 80, 80)\n",
              "line(50, 50, 80, 80)  // allow python-style comment\n",
              "  </script>\n",
              "  "
            ],
            "text/plain": [
              "<IPython.core.display.HTML object>"
            ]
          },
          "metadata": {
            "tags": []
          },
          "execution_count": 13
        }
      ]
    },
    {
      "cell_type": "code",
      "metadata": {
        "id": "85HqwBVPEerZ"
      },
      "source": [
        ""
      ],
      "execution_count": null,
      "outputs": []
    }
  ]
}