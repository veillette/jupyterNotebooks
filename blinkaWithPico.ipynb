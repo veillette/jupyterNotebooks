{
 "cells": [
  {
   "cell_type": "code",
   "execution_count": 25,
   "id": "743fc80d",
   "metadata": {
    "tags": []
   },
   "outputs": [],
   "source": [
    "import os\n",
    "os.environ['BLINKA_U2IF'] = '1'"
   ]
  },
  {
   "cell_type": "code",
   "execution_count": 26,
   "id": "8baa0ab0",
   "metadata": {
    "tags": []
   },
   "outputs": [
    {
     "name": "stdout",
     "output_type": "stream",
     "text": [
      "Requirement already satisfied: hidapi in c:\\users\\veillettem\\appdata\\local\\anaconda3\\lib\\site-packages (0.14.0)\n",
      "Requirement already satisfied: setuptools>=19.0 in c:\\users\\veillettem\\appdata\\local\\anaconda3\\lib\\site-packages (from hidapi) (68.0.0)\n"
     ]
    }
   ],
   "source": [
    "!pip install hidapi"
   ]
  },
  {
   "cell_type": "code",
   "execution_count": 27,
   "id": "9bcf377c",
   "metadata": {
    "tags": []
   },
   "outputs": [
    {
     "name": "stdout",
     "output_type": "stream",
     "text": [
      "Requirement already satisfied: adafruit-blinka in c:\\users\\veillettem\\appdata\\local\\anaconda3\\lib\\site-packages (8.22.4)\n",
      "Requirement already satisfied: adafruit-platformdetect in c:\\users\\veillettem\\appdata\\local\\anaconda3\\lib\\site-packages (3.52.3)\n",
      "Requirement already satisfied: Adafruit-PureIO>=1.1.7 in c:\\users\\veillettem\\appdata\\local\\anaconda3\\lib\\site-packages (from adafruit-blinka) (1.1.11)\n",
      "Requirement already satisfied: pyftdi>=0.40.0 in c:\\users\\veillettem\\appdata\\local\\anaconda3\\lib\\site-packages (from adafruit-blinka) (0.55.0)\n",
      "Requirement already satisfied: adafruit-circuitpython-typing in c:\\users\\veillettem\\appdata\\local\\anaconda3\\lib\\site-packages (from adafruit-blinka) (1.9.4)\n",
      "Requirement already satisfied: pyusb!=1.2.0,>=1.0.0 in c:\\users\\veillettem\\appdata\\local\\anaconda3\\lib\\site-packages (from pyftdi>=0.40.0->adafruit-blinka) (1.2.1)\n",
      "Requirement already satisfied: pyserial>=3.0 in c:\\users\\veillettem\\appdata\\local\\anaconda3\\lib\\site-packages (from pyftdi>=0.40.0->adafruit-blinka) (3.5)\n",
      "Requirement already satisfied: adafruit-circuitpython-busdevice in c:\\users\\veillettem\\appdata\\local\\anaconda3\\lib\\site-packages (from adafruit-circuitpython-typing->adafruit-blinka) (5.2.6)\n",
      "Requirement already satisfied: adafruit-circuitpython-requests in c:\\users\\veillettem\\appdata\\local\\anaconda3\\lib\\site-packages (from adafruit-circuitpython-typing->adafruit-blinka) (2.0.2)\n",
      "Requirement already satisfied: typing-extensions~=4.0 in c:\\users\\veillettem\\appdata\\local\\anaconda3\\lib\\site-packages (from adafruit-circuitpython-typing->adafruit-blinka) (4.7.1)\n"
     ]
    }
   ],
   "source": [
    "!pip install --upgrade adafruit-blinka adafruit-platformdetect"
   ]
  },
  {
   "cell_type": "code",
   "execution_count": 32,
   "id": "a8e66cae-831c-42d5-a9d4-d8efeaf161b5",
   "metadata": {
    "tags": []
   },
   "outputs": [
    {
     "data": {
      "text/plain": [
       "[<serial.tools.list_ports_common.ListPortInfo at 0x238a8c2fad0>,\n",
       " <serial.tools.list_ports_common.ListPortInfo at 0x238a8c2f2d0>]"
      ]
     },
     "execution_count": 32,
     "metadata": {},
     "output_type": "execute_result"
    }
   ],
   "source": [
    "import serial.tools.list_ports as lp\n",
    "lp.comports()"
   ]
  },
  {
   "cell_type": "code",
   "execution_count": 30,
   "id": "f3c926eb",
   "metadata": {
    "tags": []
   },
   "outputs": [
    {
     "name": "stdout",
     "output_type": "stream",
     "text": [
      "{'path': b'\\\\\\\\?\\\\HID#Vid_044E&Pid_1212&Col01&Col02#7&36d0ed68&0&0001#{4d1e55b2-f16f-11cf-88cb-001111000030}\\\\KBD', 'vendor_id': 1102, 'product_id': 4626, 'serial_number': '', 'release_number': 46873, 'manufacturer_string': '', 'product_string': '', 'usage_page': 1, 'usage': 6, 'interface_number': -1}\n",
      "{'path': b'\\\\\\\\?\\\\HID#INTC816&Col01#3&dc5eada&0&0000#{4d1e55b2-f16f-11cf-88cb-001111000030}', 'vendor_id': 32903, 'product_id': 2590, 'serial_number': '', 'release_number': 512, 'manufacturer_string': '', 'product_string': '', 'usage_page': 1, 'usage': 12, 'interface_number': -1}\n",
      "{'path': b'\\\\\\\\?\\\\HID#ConvertedDevice&Col02#5&2c48e802&0&0001#{4d1e55b2-f16f-11cf-88cb-001111000030}', 'vendor_id': 1118, 'product_id': 0, 'serial_number': '', 'release_number': 0, 'manufacturer_string': '', 'product_string': '', 'usage_page': 12, 'usage': 1, 'interface_number': -1}\n",
      "{'path': b'\\\\\\\\?\\\\HID#ConvertedDevice&Col03#5&2c48e802&0&0002#{4d1e55b2-f16f-11cf-88cb-001111000030}', 'vendor_id': 1118, 'product_id': 0, 'serial_number': '', 'release_number': 0, 'manufacturer_string': '', 'product_string': '', 'usage_page': 1, 'usage': 128, 'interface_number': -1}\n",
      "{'path': b'\\\\\\\\?\\\\HID#INTC816&Col02#3&dc5eada&0&0001#{4d1e55b2-f16f-11cf-88cb-001111000030}', 'vendor_id': 32903, 'product_id': 2590, 'serial_number': '', 'release_number': 512, 'manufacturer_string': '', 'product_string': '', 'usage_page': 1, 'usage': 13, 'interface_number': -1}\n",
      "{'path': b'\\\\\\\\?\\\\HID#ConvertedDevice&Col01#5&2c48e802&0&0000#{4d1e55b2-f16f-11cf-88cb-001111000030}\\\\KBD', 'vendor_id': 1118, 'product_id': 0, 'serial_number': '', 'release_number': 0, 'manufacturer_string': '', 'product_string': '', 'usage_page': 1, 'usage': 6, 'interface_number': -1}\n",
      "{'path': b'\\\\\\\\?\\\\HID#Vid_044E&Pid_1212&Col01&Col01#7&36d0ed68&0&0000#{4d1e55b2-f16f-11cf-88cb-001111000030}', 'vendor_id': 1102, 'product_id': 4626, 'serial_number': '', 'release_number': 46873, 'manufacturer_string': '', 'product_string': '', 'usage_page': 1, 'usage': 2, 'interface_number': -1}\n",
      "{'path': b'\\\\\\\\?\\\\HID#VID_046D&PID_C52B&MI_00#7&3b7f53a6&0&0000#{4d1e55b2-f16f-11cf-88cb-001111000030}\\\\KBD', 'vendor_id': 1133, 'product_id': 50475, 'serial_number': '', 'release_number': 4611, 'manufacturer_string': 'Logitech', 'product_string': 'USB Receiver', 'usage_page': 1, 'usage': 6, 'interface_number': 0}\n",
      "{'path': b'\\\\\\\\?\\\\HID#VID_046D&PID_C52B&MI_01&Col01#7&17a815e4&0&0000#{4d1e55b2-f16f-11cf-88cb-001111000030}', 'vendor_id': 1133, 'product_id': 50475, 'serial_number': '', 'release_number': 4611, 'manufacturer_string': 'Logitech', 'product_string': 'USB Receiver', 'usage_page': 1, 'usage': 2, 'interface_number': 1}\n",
      "{'path': b'\\\\\\\\?\\\\HID#VID_046D&PID_C52B&MI_01&Col02#7&17a815e4&0&0001#{4d1e55b2-f16f-11cf-88cb-001111000030}', 'vendor_id': 1133, 'product_id': 50475, 'serial_number': '', 'release_number': 4611, 'manufacturer_string': 'Logitech', 'product_string': 'USB Receiver', 'usage_page': 12, 'usage': 1, 'interface_number': 1}\n",
      "{'path': b'\\\\\\\\?\\\\HID#VID_046D&PID_C52B&MI_01&Col03#7&17a815e4&0&0002#{4d1e55b2-f16f-11cf-88cb-001111000030}', 'vendor_id': 1133, 'product_id': 50475, 'serial_number': '', 'release_number': 4611, 'manufacturer_string': 'Logitech', 'product_string': 'USB Receiver', 'usage_page': 1, 'usage': 128, 'interface_number': 1}\n",
      "{'path': b'\\\\\\\\?\\\\HID#DELL0816&Col01#5&20b50fff&0&0000#{4d1e55b2-f16f-11cf-88cb-001111000030}', 'vendor_id': 1102, 'product_id': 4639, 'serial_number': '9999', 'release_number': 560, 'manufacturer_string': 'Microsoft', 'product_string': 'HIDI2C Device', 'usage_page': 1, 'usage': 2, 'interface_number': -1}\n",
      "{'path': b'\\\\\\\\?\\\\HID#VID_046D&PID_C52B&MI_01&Col04#7&17a815e4&0&0003#{4d1e55b2-f16f-11cf-88cb-001111000030}', 'vendor_id': 1133, 'product_id': 50475, 'serial_number': '', 'release_number': 4611, 'manufacturer_string': 'Logitech', 'product_string': 'USB Receiver', 'usage_page': 65468, 'usage': 136, 'interface_number': 1}\n",
      "{'path': b'\\\\\\\\?\\\\HID#DELL0816&Col02#5&20b50fff&0&0001#{4d1e55b2-f16f-11cf-88cb-001111000030}', 'vendor_id': 1102, 'product_id': 4639, 'serial_number': '9999', 'release_number': 560, 'manufacturer_string': 'Microsoft', 'product_string': 'HIDI2C Device', 'usage_page': 13, 'usage': 5, 'interface_number': -1}\n",
      "{'path': b'\\\\\\\\?\\\\HID#DELL0816&Col03#5&20b50fff&0&0002#{4d1e55b2-f16f-11cf-88cb-001111000030}', 'vendor_id': 1102, 'product_id': 4639, 'serial_number': '9999', 'release_number': 560, 'manufacturer_string': 'Microsoft', 'product_string': 'HIDI2C Device', 'usage_page': 65281, 'usage': 1, 'interface_number': -1}\n",
      "{'path': b'\\\\\\\\?\\\\HID#DELL0816&Col04#5&20b50fff&0&0003#{4d1e55b2-f16f-11cf-88cb-001111000030}', 'vendor_id': 1102, 'product_id': 4639, 'serial_number': '9999', 'release_number': 560, 'manufacturer_string': 'Microsoft', 'product_string': 'HIDI2C Device', 'usage_page': 65282, 'usage': 1, 'interface_number': -1}\n",
      "{'path': b'\\\\\\\\?\\\\HID#VID_046D&PID_C52B&MI_02&Col01#7&2f6ba229&0&0000#{4d1e55b2-f16f-11cf-88cb-001111000030}', 'vendor_id': 1133, 'product_id': 50475, 'serial_number': '', 'release_number': 4611, 'manufacturer_string': 'Logitech', 'product_string': 'USB Receiver', 'usage_page': 65280, 'usage': 1, 'interface_number': 2}\n",
      "{'path': b'\\\\\\\\?\\\\HID#DELL0816&Col05#5&20b50fff&0&0004#{4d1e55b2-f16f-11cf-88cb-001111000030}', 'vendor_id': 1102, 'product_id': 4639, 'serial_number': '9999', 'release_number': 560, 'manufacturer_string': 'Microsoft', 'product_string': 'HIDI2C Device', 'usage_page': 13, 'usage': 14, 'interface_number': -1}\n",
      "{'path': b'\\\\\\\\?\\\\HID#VID_046D&PID_C52B&MI_02&Col02#7&2f6ba229&0&0001#{4d1e55b2-f16f-11cf-88cb-001111000030}', 'vendor_id': 1133, 'product_id': 50475, 'serial_number': '', 'release_number': 4611, 'manufacturer_string': 'Logitech', 'product_string': 'USB Receiver', 'usage_page': 65280, 'usage': 2, 'interface_number': 2}\n",
      "{'path': b'\\\\\\\\?\\\\HID#VID_046D&PID_C52B&MI_02&Col03#7&2f6ba229&0&0002#{4d1e55b2-f16f-11cf-88cb-001111000030}', 'vendor_id': 1133, 'product_id': 50475, 'serial_number': '', 'release_number': 4611, 'manufacturer_string': 'Logitech', 'product_string': 'USB Receiver', 'usage_page': 65280, 'usage': 4, 'interface_number': 2}\n",
      "{'path': b'\\\\\\\\?\\\\HID#VID_CAFE&PID_4005&MI_02#8&3875d16&0&0000#{4d1e55b2-f16f-11cf-88cb-001111000030}', 'vendor_id': 51966, 'product_id': 16389, 'serial_number': '0xE66038B7138F3D38', 'release_number': 256, 'manufacturer_string': 'Pico', 'product_string': 'HID Command channel', 'usage_page': 65280, 'usage': 1, 'interface_number': 2}\n"
     ]
    }
   ],
   "source": [
    "import hid\n",
    "devices = hid.enumerate()\n",
    "for device in devices:\n",
    "    print(device)"
   ]
  },
  {
   "cell_type": "code",
   "execution_count": 31,
   "id": "0d8821d5",
   "metadata": {
    "tags": []
   },
   "outputs": [],
   "source": [
    "device = hid.device()\n",
    "device.open(51966, 16389)"
   ]
  },
  {
   "cell_type": "code",
   "execution_count": 33,
   "id": "c7f67523",
   "metadata": {
    "tags": []
   },
   "outputs": [],
   "source": [
    "import time\n",
    "import analogio"
   ]
  },
  {
   "cell_type": "code",
   "execution_count": 34,
   "id": "cd78bac2",
   "metadata": {
    "tags": []
   },
   "outputs": [],
   "source": [
    "import board"
   ]
  },
  {
   "cell_type": "code",
   "execution_count": 35,
   "id": "343ffdc6-de31-4bda-9dc8-2dbb5c506d01",
   "metadata": {
    "tags": []
   },
   "outputs": [
    {
     "data": {
      "text/plain": [
       "['ADC0',\n",
       " 'ADC1',\n",
       " 'GP0',\n",
       " 'GP1',\n",
       " 'GP10',\n",
       " 'GP11',\n",
       " 'GP12',\n",
       " 'GP13',\n",
       " 'GP14',\n",
       " 'GP15',\n",
       " 'GP16',\n",
       " 'GP17',\n",
       " 'GP18',\n",
       " 'GP19',\n",
       " 'GP2',\n",
       " 'GP20',\n",
       " 'GP21',\n",
       " 'GP22',\n",
       " 'GP26',\n",
       " 'GP27',\n",
       " 'GP28',\n",
       " 'GP3',\n",
       " 'GP4',\n",
       " 'GP5',\n",
       " 'GP6',\n",
       " 'GP7',\n",
       " 'GP8',\n",
       " 'GP9',\n",
       " 'I2C',\n",
       " 'MISO',\n",
       " 'MISO0',\n",
       " 'MISO1',\n",
       " 'MOSI',\n",
       " 'MOSI0',\n",
       " 'MOSI1',\n",
       " 'SCK',\n",
       " 'SCK0',\n",
       " 'SCK1',\n",
       " 'SCL',\n",
       " 'SCL0',\n",
       " 'SCL1',\n",
       " 'SCLK',\n",
       " 'SCLK0',\n",
       " 'SCLK1',\n",
       " 'SDA',\n",
       " 'SDA0',\n",
       " 'SDA1',\n",
       " 'SPI',\n",
       " '__blinka__',\n",
       " '__builtins__',\n",
       " '__cached__',\n",
       " '__doc__',\n",
       " '__file__',\n",
       " '__loader__',\n",
       " '__name__',\n",
       " '__package__',\n",
       " '__repo__',\n",
       " '__spec__',\n",
       " '__version__',\n",
       " 'ap_board',\n",
       " 'board_id',\n",
       " 'detector',\n",
       " 'pin',\n",
       " 'sys']"
      ]
     },
     "execution_count": 35,
     "metadata": {},
     "output_type": "execute_result"
    }
   ],
   "source": [
    "dir(board)"
   ]
  },
  {
   "cell_type": "code",
   "execution_count": 18,
   "id": "5c63b43a-607c-4506-ac62-a04bfbef181a",
   "metadata": {
    "tags": []
   },
   "outputs": [],
   "source": [
    "knob = analogio.AnalogIn(board.ADC0)\n",
    "filename = \"example.txt\"  # "
   ]
  },
  {
   "cell_type": "code",
   "execution_count": 19,
   "id": "ce24b2f5-2266-4a1e-aece-d26af4013d63",
   "metadata": {
    "tags": []
   },
   "outputs": [],
   "source": [
    "def get_voltage(raw):\n",
    "    return (raw * 3.3) / 65536"
   ]
  },
  {
   "cell_type": "code",
   "execution_count": 20,
   "id": "f96b0c80-4d83-4217-bb95-4c589c35386f",
   "metadata": {
    "tags": []
   },
   "outputs": [],
   "source": [
    "file = open(filename, \"w\", encoding=\"UTF-8\")\n",
    "    \n",
    "for i in range( 0, 5 ):\n",
    "    raw = knob.value\n",
    "    volts = get_voltage(raw)\n",
    "    result = \"raw = {:5d} volts = {:5.2f} \\n\".format(raw, volts)\n",
    "    file.write(result)\n",
    "    time.sleep(0.5)\n",
    "       \n",
    "file.close()"
   ]
  },
  {
   "cell_type": "code",
   "execution_count": 13,
   "id": "1ec4997b",
   "metadata": {
    "tags": []
   },
   "outputs": [],
   "source": [
    "import numpy as np"
   ]
  },
  {
   "cell_type": "code",
   "execution_count": 21,
   "id": "5f7488d4-7807-4f38-b6a4-0fe9fc475648",
   "metadata": {
    "tags": []
   },
   "outputs": [],
   "source": [
    "xs=[]\n",
    "ys=[]\n",
    "\n",
    "for i in range( 0, 5 ):\n",
    "    raw = knob.value\n",
    "    y=get_voltage(raw)\n",
    "    x=i\n",
    "    xs.append(x)\n",
    "    ys.append(y)\n",
    "    time.sleep(0.5)"
   ]
  },
  {
   "cell_type": "code",
   "execution_count": 24,
   "id": "5a7d206c-8668-46f1-968a-61c9f5062356",
   "metadata": {
    "tags": []
   },
   "outputs": [
    {
     "data": {
      "image/png": "[encoded data removed]",
      "text/plain": [
       "<Figure size 640x480 with 1 Axes>"
      ]
     },
     "metadata": {},
     "output_type": "display_data"
    },
    {
     "data": {
      "text/plain": [
       "<Figure size 640x480 with 0 Axes>"
      ]
     },
     "metadata": {},
     "output_type": "display_data"
    }
   ],
   "source": [
    "import matplotlib.pyplot as plt\n",
    "\n",
    "# Create a Plot\n",
    "plt.plot(xs, ys)\n",
    "\n",
    "# Customize the Plot\n",
    "plt.xlabel('X-axis label')\n",
    "plt.ylabel('Y-axis label')\n",
    "plt.title('Simple Line Plot')\n",
    "\n",
    "# Display the Plot\n",
    "plt.show()\n",
    "# OR\n",
    "plt.savefig('plot.png')  # Save the plot to a file"
   ]
  },
  {
   "cell_type": "code",
   "execution_count": null,
   "id": "622fc39f-78dd-4de1-8553-6aafc5d30221",
   "metadata": {},
   "outputs": [],
   "source": []
  }
 ],
 "metadata": {
  "kernelspec": {
   "display_name": "Python 3 (ipykernel)",
   "language": "python",
   "name": "python3"
  },
  "language_info": {
   "codemirror_mode": {
    "name": "ipython",
    "version": 3
   },
   "file_extension": ".py",
   "mimetype": "text/x-python",
   "name": "python",
   "nbconvert_exporter": "python",
   "pygments_lexer": "ipython3",
   "version": "3.11.4"
  }
 },
 "nbformat": 4,
 "nbformat_minor": 5
}
