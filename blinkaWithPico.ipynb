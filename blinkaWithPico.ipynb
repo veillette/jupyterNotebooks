{
 "cells": [
  {
   "cell_type": "code",
   "execution_count": 28,
   "id": "743fc80d",
   "metadata": {
    "tags": []
   },
   "outputs": [],
   "source": [
    "import os\n",
    "\n",
    "# Set the 'BLINKA_U2IF' environment variable to '1'\n",
    "# This environment variable is used by circuitPython.\n",
    "os.environ['BLINKA_U2IF'] = '1'"
   ]
  },
  {
   "cell_type": "code",
   "execution_count": 69,
   "id": "9bcf377c",
   "metadata": {
    "tags": []
   },
   "outputs": [],
   "source": [
    "# One may need to install some packages\n",
    "\n",
    "#!pip install hidapi pyserial\n",
    "#!pip install --upgrade adafruit-blinka adafruit-platformdetect"
   ]
  },
  {
   "cell_type": "code",
   "execution_count": 71,
   "id": "f3c926eb",
   "metadata": {
    "tags": []
   },
   "outputs": [
    {
     "name": "stdout",
     "output_type": "stream",
     "text": [
      "  1102 4626\n",
      "  32903 2590\n",
      "  1118 0\n",
      "  1118 0\n",
      "  32903 2590\n",
      "  1118 0\n",
      "  1102 4626\n",
      "Logitech USB Receiver 1133 50475\n",
      "Logitech USB Receiver 1133 50475\n",
      "Logitech USB Receiver 1133 50475\n",
      "Logitech USB Receiver 1133 50475\n",
      "Microsoft HIDI2C Device 1102 4639\n",
      "Logitech USB Receiver 1133 50475\n",
      "Microsoft HIDI2C Device 1102 4639\n",
      "Microsoft HIDI2C Device 1102 4639\n",
      "Microsoft HIDI2C Device 1102 4639\n",
      "Logitech USB Receiver 1133 50475\n",
      "Microsoft HIDI2C Device 1102 4639\n",
      "Logitech USB Receiver 1133 50475\n",
      "Logitech USB Receiver 1133 50475\n",
      "Adafruit HID Command channel 9114 241\n"
     ]
    }
   ],
   "source": [
    "# Import the 'hid' module from hidapi, which provides access to Human Interface Device (HID) devices.\n",
    "import hid\n",
    "\n",
    "# Enumerate and retrieve a list of available HID devices.\n",
    "devices = hid.enumerate()\n",
    "\n",
    "# Uncomment the line below if you want to see the full 'devices' list.\n",
    "# print(devices)\n",
    "\n",
    "# Loop through each HID device in the list and extract information.\n",
    "for device in devices:\n",
    "    # Extract information about the device, such as manufacturer, product, vendor ID, and product ID.\n",
    "    manufacturer_string, product_string, vendor_id, product_id = device[\"manufacturer_string\"], device[\"product_string\"], device['vendor_id'], device['product_id']\n",
    "    \n",
    "    # Print the extracted information for each device.\n",
    "    print(manufacturer_string, product_string, vendor_id, product_id)"
   ]
  },
  {
   "cell_type": "markdown",
   "id": "6a24bc23",
   "metadata": {},
   "source": [
    " # Open HID device from Adafruit or Pico using the vendor ID and product ID."
   ]
  },
  {
   "cell_type": "code",
   "execution_count": 34,
   "id": "0d8821d5",
   "metadata": {
    "tags": []
   },
   "outputs": [
    {
     "name": "stdout",
     "output_type": "stream",
     "text": [
      "Microcontroller device opened:Adafruit\n"
     ]
    }
   ],
   "source": [
    "# Enumerate and retrieve a list of available HID devices.\n",
    "devices = hid.enumerate()\n",
    "\n",
    "# Uncomment the line below if you want to see the full 'devices' list.\n",
    "# print(devices)\n",
    "\n",
    "# Loop through each HID device in the list and extract information.\n",
    "for device in devices:\n",
    "    # Extract information about the device, such as manufacturer, product, vendor ID, and product ID.\n",
    "    manufacturer_string, product_string, vendor_id, product_id = device[\"manufacturer_string\"], device[\"product_string\"], device['vendor_id'], device['product_id']\n",
    "    \n",
    "    # Check if the manufacturer is \"Adafruit\" or \"Pico\" (for specific devices).\n",
    "    if (manufacturer_string == \"Adafruit\" or manufacturer_string == \"Pico\"):\n",
    "        \n",
    "        # Create an HID device object and open it using the vendor ID and product ID.\n",
    "        h = hid.device()\n",
    "        h.open(vendor_id, product_id)\n",
    "        \n",
    "        # Print a message indicating that the Microcontroller device is opened.\n",
    "        print(f\"Microcontroller device opened: {manufacturer_string}\")"
   ]
  },
  {
   "cell_type": "code",
   "execution_count": 36,
   "id": "cd78bac2",
   "metadata": {
    "tags": []
   },
   "outputs": [],
   "source": [
    "# We can now open the board\n",
    "# If this import fails, the device has not been opened properly\n",
    "import board"
   ]
  },
  {
   "cell_type": "code",
   "execution_count": 90,
   "id": "343ffdc6-de31-4bda-9dc8-2dbb5c506d01",
   "metadata": {
    "tags": []
   },
   "outputs": [
    {
     "data": {
      "text/plain": [
       "['A0',\n",
       " 'A1',\n",
       " 'A2',\n",
       " 'D0',\n",
       " 'D1',\n",
       " 'D10',\n",
       " 'D11',\n",
       " 'D12',\n",
       " 'D13',\n",
       " 'D24',\n",
       " 'D25',\n",
       " 'D4',\n",
       " 'D5',\n",
       " 'D6',\n",
       " 'D9',\n",
       " 'I2C',\n",
       " 'MISO',\n",
       " 'MOSI',\n",
       " 'NEOPIXEL',\n",
       " 'SCK',\n",
       " 'SCL',\n",
       " 'SCLK',\n",
       " 'SDA',\n",
       " 'SPI',\n",
       " '__blinka__',\n",
       " '__builtins__',\n",
       " '__cached__',\n",
       " '__doc__',\n",
       " '__file__',\n",
       " '__loader__',\n",
       " '__name__',\n",
       " '__package__',\n",
       " '__repo__',\n",
       " '__spec__',\n",
       " '__version__',\n",
       " 'ap_board',\n",
       " 'board_id',\n",
       " 'detector',\n",
       " 'pin',\n",
       " 'sys']"
      ]
     },
     "execution_count": 90,
     "metadata": {},
     "output_type": "execute_result"
    }
   ],
   "source": [
    "# Display the various pins of the board. The pins will vary from one board to another\n",
    "\n",
    "dir(board)"
   ]
  },
  {
   "cell_type": "markdown",
   "id": "01bc203e",
   "metadata": {},
   "source": [
    "## Import some libraries for microcontroller"
   ]
  },
  {
   "cell_type": "code",
   "execution_count": 89,
   "id": "c7f67523",
   "metadata": {
    "tags": []
   },
   "outputs": [],
   "source": [
    "import time\n",
    "\n",
    "# Analog Input/Output\n",
    "import analogio\n",
    "\n",
    "# Digital Input/Output\n",
    "import digitalio\n",
    "\n",
    "# I2C and SPI Communication\n",
    "import busio\n",
    "import adafruit_bus_device\n"
   ]
  },
  {
   "cell_type": "markdown",
   "id": "7cf9dfd7",
   "metadata": {},
   "source": [
    "### Example of how to save data and plot using microcontroller"
   ]
  },
  {
   "cell_type": "code",
   "execution_count": 43,
   "id": "5c63b43a-607c-4506-ac62-a04bfbef181a",
   "metadata": {
    "tags": []
   },
   "outputs": [],
   "source": [
    "# define a know that correspond the the analog in on A0 pin\n",
    "knob = analogio.AnalogIn(board.A0)"
   ]
  },
  {
   "cell_type": "code",
   "execution_count": 68,
   "id": "ce24b2f5-2266-4a1e-aece-d26af4013d63",
   "metadata": {
    "tags": []
   },
   "outputs": [],
   "source": [
    "def get_voltage(raw):\n",
    "    \"\"\"\n",
    "    Calculate the voltage from raw ADC (Analog-to-Digital Converter) data, assuming a 16-bit resolution.\n",
    "\n",
    "    Args:\n",
    "        raw (int): The raw ADC data value, ranging from 0 to 65535 (16 bits).\n",
    "\n",
    "    Returns:\n",
    "        float: The calculated voltage in volts, based on the 16-bit resolution.\n",
    "    \"\"\"\n",
    "    return (raw * 3.3) / 65535"
   ]
  },
  {
   "cell_type": "code",
   "execution_count": 61,
   "id": "5cefbd82",
   "metadata": {},
   "outputs": [],
   "source": [
    "def get_voltage_with_delay(raw, sleep_time = 0.1):\n",
    "    time.sleep(sleep_time)\n",
    "    return get_voltage(raw)"
   ]
  },
  {
   "cell_type": "markdown",
   "id": "84a8f2ba",
   "metadata": {},
   "source": [
    "### Save data to a file"
   ]
  },
  {
   "cell_type": "code",
   "execution_count": 67,
   "id": "f96b0c80-4d83-4217-bb95-4c589c35386f",
   "metadata": {
    "tags": []
   },
   "outputs": [],
   "source": [
    "filename = \"example.txt\"\n",
    "\n",
    "# Define the time delay between measurements\n",
    "timeDelay = 0.1\n",
    "\n",
    "# Define the number of measurements to take\n",
    "N = 100\n",
    "\n",
    "# Open the file for writing with UTF-8 encoding\n",
    "file = open(filename, \"w\", encoding=\"UTF-8\")\n",
    "\n",
    "# Loop for N measurements\n",
    "for i in range(N):\n",
    "    # Get the raw data from the knob\n",
    "    raw = knob.value\n",
    "    \n",
    "    # Calculate the voltage using the get_voltage function\n",
    "    volts = get_voltage(raw)\n",
    "    \n",
    "    # Format the result as a string\n",
    "    result = \"raw = {:5d} volts = {:5.2f} \\n\".format(raw, volts)\n",
    "    \n",
    "    # Write the result to the file\n",
    "    file.write(result)\n",
    "    \n",
    "    # Sleep for the specified time delay\n",
    "    time.sleep(timeDelay)\n",
    "\n",
    "# Close the file when finished\n",
    "file.close()"
   ]
  },
  {
   "cell_type": "markdown",
   "id": "953a6c09",
   "metadata": {},
   "source": [
    "### Plot data onto a scatter plot"
   ]
  },
  {
   "cell_type": "code",
   "execution_count": 72,
   "id": "4b069d56",
   "metadata": {},
   "outputs": [],
   "source": [
    "# We can make the code more concise and readable by using list comprehensions and the enumerate function\n",
    "# we get N values for the x and y\n",
    "timeDelay=0.1\n",
    "N=100\n",
    "x = [i*timeDelay for i in range(N)]\n",
    "y = [get_voltage_with_delay(knob.value, timeDelay) for _ in t]"
   ]
  },
  {
   "cell_type": "code",
   "execution_count": 73,
   "id": "5a7d206c-8668-46f1-968a-61c9f5062356",
   "metadata": {
    "tags": []
   },
   "outputs": [
    {
     "data": {
      "image/png": "[encoded data removed]",
      "text/plain": [
       "<Figure size 640x480 with 1 Axes>"
      ]
     },
     "metadata": {},
     "output_type": "display_data"
    },
    {
     "data": {
      "text/plain": [
       "<Figure size 640x480 with 0 Axes>"
      ]
     },
     "metadata": {},
     "output_type": "display_data"
    }
   ],
   "source": [
    "import matplotlib.pyplot as plt\n",
    "\n",
    "# Create a Plot\n",
    "plt.plot(x, y)\n",
    "\n",
    "# Customize the Plot\n",
    "plt.xlabel('Time (s)')\n",
    "plt.ylabel('Knob voltage (V)')\n",
    "plt.title('My Plot')\n",
    "\n",
    "# Display the Plot\n",
    "plt.show()\n",
    "# OR\n",
    "plt.savefig('Voltage_vs_time.png')  # Save the plot to a file"
   ]
  }
 ],
 "metadata": {
  "kernelspec": {
   "display_name": "Python 3 (ipykernel)",
   "language": "python",
   "name": "python3"
  },
  "language_info": {
   "codemirror_mode": {
    "name": "ipython",
    "version": 3
   },
   "file_extension": ".py",
   "mimetype": "text/x-python",
   "name": "python",
   "nbconvert_exporter": "python",
   "pygments_lexer": "ipython3",
   "version": "3.11.4"
  }
 },
 "nbformat": 4,
 "nbformat_minor": 5
}
