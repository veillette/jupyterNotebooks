{
 "cells": [
  {
   "cell_type": "markdown",
   "id": "34708bd8",
   "metadata": {},
   "source": [
    "## Difference Measurements and Statistical Analysis"
   ]
  },
  {
   "cell_type": "markdown",
   "id": "3b54025f",
   "metadata": {},
   "source": [
    "Performing a t-test for difference measurements based on Geiger counter measurements is a statistical method used to assess whether there is a significant difference between two sets of data, typically representing two different conditions or groups. In this case, Geiger counter measurements are used to quantify radiation levels in two different scenarios, and we want to determine if there is a statistically significant difference between them. Here's a step-by-step guide on how to perform such a t-test:\n",
    "\n",
    "**Collect Data**: Begin by collecting data using the Geiger counter in the two scenarios you want to compare. For example, you might want to measure radiation levels in two different locations or at two different times. Ensure that you have a sufficient sample size for each group to make the results statistically meaningful.\n",
    "\n",
    "**Hypothesis Formulation**: Establish a null hypothesis (H0) and an alternative hypothesis (Ha). In this context, the null hypothesis might be that there is no significant difference in radiation levels between the two scenarios, while the alternative hypothesis would suggest that there is a significant difference. Formulate these hypotheses based on your research question.\n",
    "\n",
    "**Conduct the t-test**: To perform the t-test, you can use statistical software, calculators. The most common types of t-tests for difference measurements are the independent two-sample t-test. Calculate the t-statistic using your data and compare it to the critical value from the t-distribution or calculate the p-value.\n",
    "\n",
    "**Interpret Results**: After performing the t-test, interpret the results. If the p-value is less than your chosen significance level (typically 0.01), you can reject the null hypothesis and conclude that there is a statistically significant difference in radiation levels between the two scenarios. Conversely, if the p-value is greater than the significance level, you fail to reject the null hypothesis, indicating that there is insufficient evidence to suggest a significant difference.\n"
   ]
  },
  {
   "cell_type": "markdown",
   "id": "b220e3a3",
   "metadata": {},
   "source": [
    "## Details\n",
    "\n",
    "For the purpose of thsi lab you will need to calculate the mean (average) and standard deviation for each data set.\n",
    "\n",
    "- Calculate the T-Statistic:\n",
    "\n",
    "The formula for the t-statistic in an independent two-sample t-test is:\n",
    "\n",
    "$$t = \\frac{\\mu_1 - \\mu_2}{\\sqrt{ \\frac{\\sigma_1^2}{N_1} + \\frac{\\sigma_2^2}{N_2} }} $$\n",
    "\n",
    "$\\mu_1$ and $\\mu_2$ are the sample means for the two sets of data.\n",
    "\n",
    "$\\sigma_1$ and $\\sigma_2$ are the sample standard deviations for the sets of data.\n",
    "\n",
    "$N_1$ and $N_2$ are the sample sizes for the two sets of data.\n",
    "\n",
    "- Determine Degrees of Freedom:\n",
    "\n",
    "For the ordinary two-sample t test, Degrees of freedom ($df$) is computed as the total sample size (both groups) minus two.  \n",
    "$$df = N_1 + N_2 – 2$$. \n",
    "The $df$ for the unequal variance t test is computed by a complicated formula that takes into account the discrepancy between the two standard deviations. If the two samples have identical standard deviations, the $df$ test will be identical to the $df$ for the standard t test (formula above)\n",
    "\n",
    "$$df = \\frac{ \\left(\\frac{\\sigma_1^2}{N_1}+\\frac{\\sigma_2^2}{N_2} \\right)^2}{\n",
    "\\frac{\\sigma_1^4}{N_1^2 (N_1-1)}+\\frac{\\sigma_2^4}{N_2^2 (N_2-1)} \n",
    "} $$. \n",
    "\n",
    "\n",
    "\n",
    "- Find Critical Value or Calculate P-Value:\n",
    "\n",
    "Using the t-distribution table or a statistical calculator, find the critical t-value for your chosen significance level (commonly 0.01). Alternatively, you can calculate the p-value associated with the t-statistic.\n",
    "\n",
    "- Make a Decision:\n",
    "\n",
    "If the absolute value of the t-statistic is greater than the critical t-value (or if the p-value is less than your chosen significance level), you can reject the null hypothesis.\n",
    "If the t-statistic is not greater than the critical t-value (or the p-value is greater than your chosen significance level), you fail to reject the null hypothesis.\n",
    "\n",
    "-  Interpret Results:\n",
    "\n",
    "If you reject the null hypothesis, conclude that there is a statistically significant difference in radiation levels between the two sets of data.\n",
    "If you fail to reject the null hypothesis, there is insufficient evidence to suggest a significant difference in radiation levels."
   ]
  },
  {
   "cell_type": "code",
   "execution_count": 4,
   "id": "bb855b6e",
   "metadata": {},
   "outputs": [
    {
     "name": "stdout",
     "output_type": "stream",
     "text": [
      "T-statistic: -4.379738509717699\n",
      "P-value: 0.0003613013062951915\n",
      "Reject the null hypothesis\n"
     ]
    }
   ],
   "source": [
    "import numpy as np\n",
    "from scipy import stats\n",
    " \n",
    "# Observations for counts per sec, sample 1\n",
    "sample_1 = [12.5, 11.2, 13.1, 10.8, 11.9, 10.5, 12.4, 12.9, 11.7, 13.2]\n",
    " \n",
    "# Observations for counts per sec, sample 2\n",
    "sample_2 = [14.3, 13.1, 15.2, 12.7, 13.9, 13.5, 14.1, 12.8, 13.7, 15.5]\n",
    " \n",
    "# Perform the two independent samples t-test\n",
    "t_statistic, p_value = stats.ttest_ind(sample_1, sample_2)\n",
    " \n",
    "# Print the results\n",
    "print(\"T-statistic:\", t_statistic)\n",
    "print(\"P-value:\", p_value)\n",
    " \n",
    "# Set significance level (α)\n",
    "alpha = 0.01\n",
    " \n",
    "# Compare the p-value with the significance level\n",
    "if p_value < alpha:\n",
    "    print(\"Reject the null hypothesis\")\n",
    "else:\n",
    "    print(\"Fail to reject the null hypothesis\")"
   ]
  },
  {
   "cell_type": "code",
   "execution_count": null,
   "id": "eedacf36",
   "metadata": {},
   "outputs": [],
   "source": []
  }
 ],
 "metadata": {
  "kernelspec": {
   "display_name": "Python 3 (ipykernel)",
   "language": "python",
   "name": "python3"
  },
  "language_info": {
   "codemirror_mode": {
    "name": "ipython",
    "version": 3
   },
   "file_extension": ".py",
   "mimetype": "text/x-python",
   "name": "python",
   "nbconvert_exporter": "python",
   "pygments_lexer": "ipython3",
   "version": "3.11.4"
  }
 },
 "nbformat": 4,
 "nbformat_minor": 5
}
