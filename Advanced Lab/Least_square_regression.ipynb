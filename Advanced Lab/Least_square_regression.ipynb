{
  "cells": [
    {
      "cell_type": "markdown",
      "metadata": {
        "id": "view-in-github",
        "colab_type": "text"
      },
      "source": [
        "<a href=\"https://colab.research.google.com/github/veillette/jupyterNotebooks/blob/main/Advanced%20Lab/Least_square_regression.ipynb\" target=\"_parent\"><img src=\"https://colab.research.google.com/assets/colab-badge.svg\" alt=\"Open In Colab\"/></a>"
      ]
    },
    {
      "cell_type": "markdown",
      "id": "d1b53590",
      "metadata": {
        "id": "d1b53590"
      },
      "source": [
        "# Least Squares Regression\n",
        "\n",
        "The least squares method is a mathematical technique for best line fitting.\n",
        "It minimizes the sum of the squared differences between the observed and predicted values of the dependent variable.\n",
        "\n",
        "Mathematically, the least square method aims to find the parameters $\\theta$ that minimize the sum of squared residuals (errors):\n",
        "\n",
        "$$ \\min_\\theta \\sum_{i=1}^{N} \\left( \\frac{ y_i - f(x_i,\\theta)}{\\sigma_i} \\right)^2 $$\n",
        "\n",
        "Here, $N$ is the number of data points, $(x_i,y_i \\pm \\sigma_i)$ are the  observed data points with their uncertainties, $f(x_i,\\theta)$ is the model function with parameters $\\theta$, and the objective is to find the best $\\theta$ that minimizes this sum of squared residuals."
      ]
    },
    {
      "cell_type": "code",
      "execution_count": 16,
      "id": "7fe8369f",
      "metadata": {
        "scrolled": true,
        "id": "7fe8369f",
        "outputId": "ebc87cb1-76e1-4e6f-e191-23cc0115bd65",
        "colab": {
          "base_uri": "https://localhost:8080/",
          "height": 424
        }
      },
      "outputs": [
        {
          "output_type": "display_data",
          "data": {
            "text/plain": [
              "<IPython.core.display.HTML object>"
            ],
            "text/html": [
              "\n",
              "<iframe src=\"https://phet.colorado.edu/sims/html/curve-fitting/latest/curve-fitting_all.html\"\n",
              "width=\"600\" height=\"400\" scrolling=\"no\" allowfullscreen></iframe>\n"
            ]
          },
          "metadata": {}
        }
      ],
      "source": [
        "from IPython.display import HTML\n",
        "\n",
        "# URL of curve fitting simulation\n",
        "url =\"https://phet.colorado.edu/sims/html/curve-fitting/latest/curve-fitting_all.html\"\n",
        "\n",
        "phet_embed_code = f\"\"\"\n",
        "<iframe src=\"{url}\"\n",
        "width=\"600\" height=\"400\" scrolling=\"no\" allowfullscreen></iframe>\n",
        "\"\"\"\n",
        "\n",
        "# Display the PhET simulation\n",
        "display(HTML(phet_embed_code))"
      ]
    },
    {
      "cell_type": "code",
      "execution_count": 17,
      "id": "faccf422",
      "metadata": {
        "id": "faccf422"
      },
      "outputs": [],
      "source": [
        "# import numpy as np\n",
        "import numpy as np\n",
        "\n",
        "# Import non-linear least squares to fit a function, f, to data.\n",
        "from scipy.optimize import curve_fit\n",
        "\n",
        "# Library to plot data\n",
        "import matplotlib.pyplot as plt"
      ]
    },
    {
      "cell_type": "code",
      "execution_count": 23,
      "id": "e5f6dd96",
      "metadata": {
        "id": "e5f6dd96"
      },
      "outputs": [],
      "source": [
        "# Define the exponentially decaying function that will be used for the least square regression.\n",
        "# Note the order of the parameters in the function. The optimized values from the curve fit will be in the same order as defined in this function\n",
        "def exp_decay(x, a, b, c):\n",
        "    return a * np.exp(-b * x) + c"
      ]
    },
    {
      "cell_type": "code",
      "execution_count": 19,
      "id": "283eb6e5",
      "metadata": {
        "id": "283eb6e5"
      },
      "outputs": [],
      "source": [
        "# Sample data\n",
        "x = np.array([1, 2, 3, 4, 5])\n",
        "y = np.array([10, 7, 4, 2, 1])\n",
        "sigma = np.array([0.4, 0.5, 0.2, 0.3, 0.6])  # Specify the sigma values (in absolute values)"
      ]
    },
    {
      "cell_type": "markdown",
      "source": [
        "In the following section of the code, a weighted least squares fit is executed using the curve_fit function.\n",
        " This function fits a mathematical model (in this case, exp_decay) to a set of data points (x and y) while considering the uncertainties\n",
        "  in the data points specified by the sigma parameter.\n",
        "  \n",
        "  Weighted least squares is particularly useful when dealing with data that has varying levels of uncertainty.\n",
        "  The params variable will store the optimized parameters of the fitted model, while covariance will contain the covariance matrix,\n",
        "  which provides information about the uncertainties in these parameters.\n",
        "\n",
        "##Extracting Optimized Parameters\n",
        "\n",
        "After the weighted least squares fit is performed, the code extracts the optimized parameters from the params variable. In this context, a_opt, b_opt, and c_opt represent the optimized parameters of the exp_decay model. These parameters represent the best-fit values that make the model most closely match the provided data points.\n",
        "\n",
        "To assess the reliability of the optimized parameters, we can calculate the standard deviation of each parameter. The standard deviations (a_std_dev, b_std_dev, and c_std_dev) are computed using the square root of the diagonal elements of the covariance matrix (covariance). These standard deviations provide insights into how much uncertainty or variability exists in the optimized parameter estimates, which is crucial for understanding the precision of the fitted model and its ability to describe the underlying data."
      ],
      "metadata": {
        "id": "60lO_w2Oy4he"
      },
      "id": "60lO_w2Oy4he"
    },
    {
      "cell_type": "code",
      "execution_count": 20,
      "id": "e745e903",
      "metadata": {
        "id": "e745e903"
      },
      "outputs": [],
      "source": [
        "# Perform the weighted least squares fit\n",
        "params, covariance = curve_fit(exp_decay, x, y, sigma=sigma, absolute_sigma=True)\n",
        "\n",
        "# Extract the optimized parameters\n",
        "a_opt, b_opt, c_opt = params\n",
        "\n",
        "# Calculate the standard deviation of the parameters\n",
        "a_std_dev, b_std_dev, c_std_dev = np.sqrt(np.diag(covariance))"
      ]
    },
    {
      "cell_type": "code",
      "execution_count": 21,
      "id": "061a1ecf",
      "metadata": {
        "id": "061a1ecf",
        "outputId": "0bb41cf3-5b4d-4c58-efac-f8ccf6efb7bd",
        "colab": {
          "base_uri": "https://localhost:8080/"
        }
      },
      "outputs": [
        {
          "output_type": "stream",
          "name": "stdout",
          "text": [
            "Optimized parameters:\n",
            "a = 18.21149082811296 ± 1.9508266738023665\n",
            "b = 0.2970291170573071 ± 0.09402973793385196\n",
            "c = -3.4429753540819816 ± 2.7247546379935166\n"
          ]
        }
      ],
      "source": [
        "# Display the optimized parameters and their standard deviations\n",
        "print(\"Optimized parameters:\")\n",
        "print(f\"a = {a_opt} ± {a_std_dev}\")\n",
        "print(f\"b = {b_opt} ± {b_std_dev}\")\n",
        "print(f\"c = {c_opt} ± {c_std_dev}\")"
      ]
    },
    {
      "cell_type": "markdown",
      "source": [
        "# Plotting\n",
        "\n",
        "In the following section, we plot the Data with errors bars. In addition, the trendline of the least square regression is added to the graph."
      ],
      "metadata": {
        "id": "XNH0fC3QzUdz"
      },
      "id": "XNH0fC3QzUdz"
    },
    {
      "cell_type": "code",
      "source": [
        "# Plot the original data and the fitted curve\n",
        "plt.errorbar(x, y, yerr=sigma, fmt='o', label='Data with Error Bars')\n",
        "x_fit = np.linspace(0, max(x), 100)\n",
        "y_fit = exp_decay(x_fit, a_opt, b_opt, c_opt)\n",
        "plt.plot(x_fit, y_fit, 'r-', label='Fitted Curve')\n",
        "plt.xlabel('x')\n",
        "plt.ylabel('y')\n",
        "plt.legend()\n",
        "plt.show()"
      ],
      "metadata": {
        "id": "nlBKCe_zzU0_",
        "outputId": "935501bd-c1f1-445f-86f5-e90993d26d7b",
        "colab": {
          "base_uri": "https://localhost:8080/",
          "height": 449
        }
      },
      "id": "nlBKCe_zzU0_",
      "execution_count": 22,
      "outputs": [
        {
          "output_type": "display_data",
          "data": {
            "text/plain": [
              "<Figure size 640x480 with 1 Axes>"
            ],
            "image/png": "[encoded data removed]"
          },
          "metadata": {}
        }
      ]
    },
    {
      "cell_type": "markdown",
      "source": [],
      "metadata": {
        "id": "Q4BhQYUSyQ9S"
      },
      "id": "Q4BhQYUSyQ9S"
    },
    {
      "cell_type": "code",
      "execution_count": 22,
      "id": "b0a0ed03",
      "metadata": {
        "id": "b0a0ed03"
      },
      "outputs": [],
      "source": []
    }
  ],
  "metadata": {
    "kernelspec": {
      "display_name": "Python 3 (ipykernel)",
      "language": "python",
      "name": "python3"
    },
    "language_info": {
      "codemirror_mode": {
        "name": "ipython",
        "version": 3
      },
      "file_extension": ".py",
      "mimetype": "text/x-python",
      "name": "python",
      "nbconvert_exporter": "python",
      "pygments_lexer": "ipython3",
      "version": "3.11.4"
    },
    "colab": {
      "provenance": [],
      "include_colab_link": true
    }
  },
  "nbformat": 4,
  "nbformat_minor": 5
}