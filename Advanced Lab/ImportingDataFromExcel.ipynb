{
  "nbformat": 4,
  "nbformat_minor": 0,
  "metadata": {
    "colab": {
      "private_outputs": true,
      "provenance": [],
      "authorship_tag": "ABX9TyM7VvwR3eVU/9cfRgO21QXL",
      "include_colab_link": true
    },
    "kernelspec": {
      "name": "python3",
      "display_name": "Python 3"
    },
    "language_info": {
      "name": "python"
    }
  },
  "cells": [
    {
      "cell_type": "markdown",
      "metadata": {
        "id": "view-in-github",
        "colab_type": "text"
      },
      "source": [
        "<a href=\"https://colab.research.google.com/github/veillette/jupyterNotebooks/blob/main/Advanced%20Lab/ImportingDataFromExcel.ipynb\" target=\"_parent\"><img src=\"https://colab.research.google.com/assets/colab-badge.svg\" alt=\"Open In Colab\"/></a>"
      ]
    },
    {
      "cell_type": "markdown",
      "source": [
        "# Example of How to Import Excel data in Jupyter"
      ],
      "metadata": {
        "id": "Kwu-fw9itafI"
      }
    },
    {
      "cell_type": "markdown",
      "source": [
        "## Note on how to import files in Google Colab vs. a local directory:\n",
        "\n",
        "When working in Google Colab, you can access files that have been uploaded to the Colab environment for the current session. These files are typically stored in the '/content/' directory.\n",
        "Example:\n",
        "```\n",
        "file_path_colab = '/content/your_file.csv'\n",
        "df_colab = pd.read_csv(file_path_colab)\n",
        "```\n",
        "\n",
        "Alternatively, you can mount your Google Drive and access files stored there.  You would first need to mount your drive using:\n",
        "```\n",
        "from google.colab import drive\n",
        "drive.mount('/content/drive')\n",
        "```\n",
        "# Example (assuming the file is in the root of your Drive):\n",
        "```\n",
        "file_path_drive = '/content/drive/My Drive/your_file.csv'\n",
        "df_drive = pd.read_csv(file_path_drive)\n",
        "```\n",
        "When working with Python locally on your computer, you would use the full path to the file on your computer's file system.\n",
        "Example (Windows):\n",
        "```\n",
        "file_path_local_windows = 'C:\\\\Users\\\\YourUsername\\\\Documents\\\\your_file.csv'\n",
        "df_local_windows = pd.read_csv(file_path_local_windows)\n",
        "````\n",
        "\n",
        "# Example (macOS/Linux):\n",
        "```\n",
        "file_path_local_linux = '/home/yourusername/Documents/your_file.csv'\n",
        "df_local_linux = pd.read_csv(file_path_local_linux)\n",
        "```\n",
        "\n",
        "The key difference is the file path you use. In Colab, you're accessing files within the Colab environment's file system (or mounted drives), whereas locally you're accessing files on your computer's native file system."
      ],
      "metadata": {
        "id": "pctHY8ruhtJQ"
      }
    },
    {
      "cell_type": "code",
      "execution_count": null,
      "metadata": {
        "id": "qRvP8ZTXmvZo"
      },
      "outputs": [],
      "source": [
        "import pandas as pd\n",
        "import numpy as np"
      ]
    },
    {
      "cell_type": "markdown",
      "source": [
        "Use the pd.read_excel() function to read the Excel file:"
      ],
      "metadata": {
        "id": "647S4dG9m9T5"
      }
    },
    {
      "cell_type": "code",
      "source": [
        "# The path and filename of the excel spreadsheet\n",
        "excel_full_path = '/content/sampleData.xlsx'\n",
        "\n",
        "df = pd.read_excel(excel_full_path)\n"
      ],
      "metadata": {
        "id": "EuOCbJcnm6Vv"
      },
      "execution_count": null,
      "outputs": []
    },
    {
      "cell_type": "markdown",
      "source": [
        "Let's do a sanity check. Let's display the entire content of the DataFrame df. The iloc[:,:] part is used for integer-location based indexing. The first colon : indicates that you want to select all rows, and the second colon : indicates that you want to select all columns. So, df.iloc[:,:] effectively selects and displays every element in the DataFrame."
      ],
      "metadata": {
        "id": "pKmgc91biYEP"
      }
    },
    {
      "cell_type": "code",
      "source": [
        "df.iloc[:,:]"
      ],
      "metadata": {
        "id": "a2gIc08FnC24"
      },
      "execution_count": null,
      "outputs": []
    },
    {
      "cell_type": "code",
      "source": [
        "## convert to some simple arrays\n",
        "\n",
        "unpackedArray = df.values\n",
        "print(unpackedArray)"
      ],
      "metadata": {
        "id": "exjBrIkCsUAy"
      },
      "execution_count": null,
      "outputs": []
    },
    {
      "cell_type": "markdown",
      "source": [
        "# Access the x and y columns from the DataFrame:\n",
        "\n",
        "This code extracts the first and second columns from the unpackedArray and assigns them to the variables X and Y respectively.\n",
        "\n",
        "unpackedArray[:,0] selects all rows (:) and the first column (0) of the unpackedArray.\n",
        "unpackedArray[:,1] selects all rows (:) and the second column (1) of the unpackedArray.\n",
        "This is a common way to separate data into independent (X) and dependent (Y) variables for analysis or plotting.\n"
      ],
      "metadata": {
        "id": "VwjbGKpmnDsg"
      }
    },
    {
      "cell_type": "code",
      "source": [
        "X = unpackedArray[:,0]\n",
        "Y = unpackedArray[:,1]"
      ],
      "metadata": {
        "id": "JCdh-JMhnJzL"
      },
      "execution_count": null,
      "outputs": []
    },
    {
      "cell_type": "markdown",
      "source": [
        "At this point, our work is done and the data has been extracted from the file. We can treat it as a regular python array (list)"
      ],
      "metadata": {
        "id": "8zZrSnhfizEL"
      }
    },
    {
      "cell_type": "code",
      "source": [
        "import matplotlib.pyplot as plt\n",
        "\n",
        "plt.plot(X,Y, 'o',label='raw data')\n",
        "plt.title(r'$My special plot$')\n",
        "\n",
        "# You can add text anywhere on the plot\n",
        "plt.text(2,3,r'$\\sqrt{3}$')\n",
        "# Add x and y axes labels\n",
        "plt.xlabel('time (s)')\n",
        "plt.ylabel('velocity (m/s)')\n",
        "\n",
        "# Show the plot\n",
        "plt.show()"
      ],
      "metadata": {
        "id": "Mb0SKwGErShx"
      },
      "execution_count": null,
      "outputs": []
    },
    {
      "cell_type": "code",
      "source": [],
      "metadata": {
        "id": "-hoNk_JcraLM"
      },
      "execution_count": null,
      "outputs": []
    },
    {
      "cell_type": "code",
      "metadata": {
        "id": "84cd572b"
      },
      "source": [],
      "execution_count": null,
      "outputs": []
    }
  ]
}