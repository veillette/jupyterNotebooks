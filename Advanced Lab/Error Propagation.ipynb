{
  "cells": [
    {
      "cell_type": "markdown",
      "metadata": {
        "id": "view-in-github",
        "colab_type": "text"
      },
      "source": [
        "<a href=\"https://colab.research.google.com/github/veillette/jupyterNotebooks/blob/main/Advanced%20Lab/Error%20Propagation.ipynb\" target=\"_parent\"><img src=\"https://colab.research.google.com/assets/colab-badge.svg\" alt=\"Open In Colab\"/></a>"
      ]
    },
    {
      "cell_type": "markdown",
      "id": "dcdecde3",
      "metadata": {
        "id": "dcdecde3"
      },
      "source": [
        "# Error propagation\n",
        "### Function that performs error propagation for any function of multiple variables"
      ]
    },
    {
      "cell_type": "markdown",
      "id": "267ab4d8",
      "metadata": {
        "id": "267ab4d8"
      },
      "source": [
        "In this general method:\n",
        "\n",
        "- You define the error_propagation function, which takes the function to be evaluated (func), a list of variables (variables), and a list of their associated uncertainties (uncertainties).\n",
        "\n",
        "- Inside the function, it calculates the function value (func_value) and then computes the squared partial derivatives with respect to each variable.\n",
        "\n",
        "- The total uncertainty is calculated as the square root of the sum of the squared partial derivatives.\n",
        "\n",
        "- The function returns both the function value and the total uncertainty.\n",
        "\n",
        "- You can use this error_propagation function with any function that takes multiple variables and their uncertainties to calculate the propagated uncertainty for the function's output."
      ]
    },
    {
      "cell_type": "code",
      "execution_count": null,
      "id": "de9e6638",
      "metadata": {
        "id": "de9e6638"
      },
      "outputs": [],
      "source": [
        "import numpy as np\n",
        "\n",
        "def error_propagation(func, variables, uncertainties):\n",
        "    # Calculate the function value\n",
        "    func_value = func(*variables)\n",
        "\n",
        "    # Calculate the squared partial derivatives\n",
        "    squared_partial_derivatives = []\n",
        "    for i in range(len(variables)):\n",
        "        perturbed_vars = variables.copy()\n",
        "        perturbed_vars[i] += uncertainties[i]\n",
        "        partial_derivative = (func(*perturbed_vars) - func_value) / uncertainties[i]\n",
        "        squared_partial_derivatives.append(partial_derivative**2)\n",
        "\n",
        "    # Calculate the total uncertainty\n",
        "    total_uncertainty = np.sqrt(sum(squared_partial_derivatives))\n",
        "\n",
        "    return func_value, total_uncertainty"
      ]
    },
    {
      "cell_type": "code",
      "execution_count": null,
      "id": "cb266ca7",
      "metadata": {
        "id": "cb266ca7"
      },
      "outputs": [],
      "source": [
        "# Example usage:\n",
        "# Define a function that takes two variables\n",
        "def example_function(x, y):\n",
        "    return x**2 * y\n",
        "\n",
        "# Define the values and uncertainties (in absolute values) for the variables\n",
        "variables = [2.0, 3.0]\n",
        "uncertainties = [0.1, 0.2]\n",
        "\n",
        "# Perform error propagation\n",
        "result, error = error_propagation(example_function, variables, uncertainties)\n",
        "\n",
        "# Print the result and total uncertainty\n",
        "print(f\"Result = {result}\")\n",
        "print(f\"Total Uncertainty = {error}\")"
      ]
    }
  ],
  "metadata": {
    "kernelspec": {
      "display_name": "Python 3 (ipykernel)",
      "language": "python",
      "name": "python3"
    },
    "language_info": {
      "codemirror_mode": {
        "name": "ipython",
        "version": 3
      },
      "file_extension": ".py",
      "mimetype": "text/x-python",
      "name": "python",
      "nbconvert_exporter": "python",
      "pygments_lexer": "ipython3",
      "version": "3.11.4"
    },
    "colab": {
      "provenance": [],
      "include_colab_link": true
    }
  },
  "nbformat": 4,
  "nbformat_minor": 5
}