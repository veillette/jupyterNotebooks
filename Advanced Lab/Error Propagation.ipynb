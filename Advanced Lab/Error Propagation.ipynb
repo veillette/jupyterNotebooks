{
  "cells": [
    {
      "cell_type": "markdown",
      "metadata": {
        "id": "view-in-github",
        "colab_type": "text"
      },
      "source": [
        "<a href=\"https://colab.research.google.com/github/veillette/jupyterNotebooks/blob/main/Advanced%20Lab/Error%20Propagation.ipynb\" target=\"_parent\"><img src=\"https://colab.research.google.com/assets/colab-badge.svg\" alt=\"Open In Colab\"/></a>"
      ]
    },
    {
      "cell_type": "markdown",
      "id": "dcdecde3",
      "metadata": {
        "id": "dcdecde3"
      },
      "source": [
        "# Error propagation\n",
        "### Function that performs error propagation for any function of multiple variables"
      ]
    },
    {
      "cell_type": "markdown",
      "id": "267ab4d8",
      "metadata": {
        "id": "267ab4d8"
      },
      "source": [
        "In this general method:\n",
        "\n",
        "- You define the error_propagation function, which takes the function to be evaluated (func), a list of variables (variables), and a list of their associated uncertainties (uncertainties).\n",
        "\n",
        "- Inside the function, it calculates the function value (func_value) and then computes the squared partial derivatives with respect to each variable.\n",
        "\n",
        "- The total uncertainty is calculated as the square root of the sum of the squared partial derivatives times the uncertainties.\n",
        "\n",
        "- The function returns both the function value and the total uncertainty.\n",
        "\n",
        "- You can use this error_propagation function with any function that takes multiple variables and their uncertainties to calculate the propagated uncertainty for the function's output."
      ]
    },
    {
      "cell_type": "code",
      "execution_count": 34,
      "id": "de9e6638",
      "metadata": {
        "id": "de9e6638"
      },
      "outputs": [],
      "source": [
        "import numpy as np\n",
        "\n",
        "def error_propagation(func, variables, uncertainties):\n",
        "    # Calculate the function value\n",
        "    func_value = func(*variables)\n",
        "\n",
        "    # Calculate the squared partial derivatives\n",
        "    squared_partial_derivatives_times_square_uncertainties = []\n",
        "    for i in range(len(variables)):\n",
        "        perturbed_vars = variables.copy()\n",
        "        perturbed_vars[i] += uncertainties[i]\n",
        "        partial_derivative = (func(*perturbed_vars) - func_value) / uncertainties[i]\n",
        "        squared_partial_derivatives_times_square_uncertainties.append(partial_derivative**2*uncertainties[i]**2)\n",
        "\n",
        "    # Calculate the total uncertainty\n",
        "    total_uncertainty = np.sqrt(sum(squared_partial_derivatives_times_square_uncertainties))\n",
        "\n",
        "    return func_value, total_uncertainty"
      ]
    },
    {
      "cell_type": "markdown",
      "source": [
        "The code above uses a function value $$f(x_1,x_2,x_3, \\cdots)$$.\n",
        "For each variable, it calculates the squared partial derivative:\n",
        "\n",
        "  -It creates a copy of the variables and perturbs one variable by its uncertainty.\n",
        "  -It calculates the partial derivative using the finite difference method:\n",
        "    $$ \\frac{\\partial f}{\\partial x_i} \\approx \\frac{f(x_1, \\ldots, x_i + \\delta x_i, \\ldots, x_n) - f(x_1, \\ldots, x_n)}{\\delta x_i} $$\n",
        "  -It squares the partial derivative and stores it in a list.\n",
        "\n",
        "\n",
        " Finally, it calculates the total uncertainty using the formula:\n",
        "$$ \\sigma_f = \\sqrt{\\sum_{i=1}^n \\left(\\frac{\\partial f}{\\partial x_i}\\right)^2 \\sigma_{x_i}^2} $$\n",
        "where $\\sigma_f$ is the total uncertainty, $\\frac{\\partial f}{\\partial x_i}$ are the partial derivatives, and $\\sigma_{x_i}$ are the individual uncertainties.\n",
        "\n",
        "The function returns both the function value and the total uncertainty."
      ],
      "metadata": {
        "id": "3E22dZI0VuR9"
      },
      "id": "3E22dZI0VuR9"
    },
    {
      "cell_type": "markdown",
      "source": [
        "# Example\n",
        "\n",
        "This code demonstrates **error propagation** techniques for calculating the surface area of a cylinder when the input measurements have associated uncertainties.\n",
        "\n",
        "We're calculating the total surface area of a cylinder (including both circular ends):\n",
        "\n",
        "```\n",
        "Surface Area = 2πr² + 2πrh\n",
        "```\n",
        "\n",
        "Where:\n",
        "- `r` = radius of the cylinder\n",
        "- `h` = height of the cylinder\n",
        "- The first term `2πr²` represents the area of both circular ends\n",
        "- The second term `2πrh` represents the curved surface area\n",
        "\n",
        "\n",
        "Real experimental measurements always have uncertainties. Here:\n",
        "- Radius: 3.0 ± 0.05 m\n",
        "- Height: 10.0 ± 0.1 m\n",
        "\n",
        "Results are formatted to one decimal place, which is appropriate given the precision of the input uncertainties.\n"
      ],
      "metadata": {
        "id": "a9km0Kt2RC9v"
      },
      "id": "a9km0Kt2RC9v"
    },
    {
      "cell_type": "code",
      "execution_count": 38,
      "id": "cb266ca7",
      "metadata": {
        "id": "cb266ca7",
        "colab": {
          "base_uri": "https://localhost:8080/"
        },
        "outputId": "7701e247-10c3-4269-f7d5-1d120c1791e9"
      },
      "outputs": [
        {
          "output_type": "stream",
          "name": "stdout",
          "text": [
            "Cylinder Surface Area = 245.0 m^2\n",
            "Cylinder Surface Area Uncertainty = 5.4 m^2\n"
          ]
        }
      ],
      "source": [
        "# Example usage:\n",
        "# Define a function that calculates the surface area of a cylinder (including top and bottom)\n",
        "# Surface Area = 2 * pi * r^2 + 2 * pi * r * h\n",
        "def cylinder_surface_area(radius, height):\n",
        "    return 2 * np.pi * radius**2 + 2 * np.pi * radius * height\n",
        "\n",
        "# Define the measured values and their uncertainties for radius and height\n",
        "radius_value = 3.0  # in meters\n",
        "radius_uncertainty = 0.05 # in meters\n",
        "height_value = 10.0 # in meters\n",
        "height_uncertainty = 0.1 # in meters\n",
        "\n",
        "# Combine values and uncertainties into single arrays\n",
        "variables_cylinder = [radius_value, height_value]\n",
        "uncertainties_cylinder = [radius_uncertainty, height_uncertainty]\n",
        "\n",
        "# Perform error propagation\n",
        "area_result, area_error = error_propagation(cylinder_surface_area, variables_cylinder, uncertainties_cylinder)\n",
        "\n",
        "# Print the result and total uncertainty\n",
        "print(f\"Cylinder Surface Area = {area_result:.1f} m^2\")\n",
        "print(f\"Cylinder Surface Area Uncertainty = {area_error:.1f} m^2\")"
      ]
    },
    {
      "cell_type": "code",
      "source": [
        "# Example usage:\n",
        "# Define a function that finds the half life, knowing the decay rate\n",
        "def half_life( decayRate):\n",
        "    return np.log(2)/decayRate\n",
        "\n",
        "# Define the values and uncertainties (in absolute values) for the variables\n",
        "lambda_value = [0.0045]\n",
        "lambda_uncertainty = [0.00003]\n",
        "\n",
        "# Perform error propagation\n",
        "result, error = error_propagation(half_life, lambda_value, lambda_uncertainty)\n",
        "\n",
        "# Print the result and total uncertainty\n",
        "print(f\"half-Life = {result:.1f} s ± {error:.1f} s\")"
      ],
      "metadata": {
        "colab": {
          "base_uri": "https://localhost:8080/"
        },
        "id": "8CqZbYJt90gV",
        "outputId": "54a24028-c49f-4a5e-e1fa-b6765331b7c7"
      },
      "id": "8CqZbYJt90gV",
      "execution_count": 44,
      "outputs": [
        {
          "output_type": "stream",
          "name": "stdout",
          "text": [
            "half-Life = 154.0 s ± 1.0 s\n"
          ]
        }
      ]
    },
    {
      "cell_type": "code",
      "metadata": {
        "colab": {
          "base_uri": "https://localhost:8080/"
        },
        "id": "deed86d1",
        "outputId": "f2239969-eb3f-4342-b4cc-dc6283b1c21f"
      },
      "source": [
        "# Example usage:\n",
        "# Define a function that calculates the volume of a sphere\n",
        "def sphere_volume(radius):\n",
        "    return (4/3) * np.pi * radius**3\n",
        "\n",
        "# Define the value and uncertainty for the radius\n",
        "radius_value = [5.0]\n",
        "radius_uncertainty = [0.1]\n",
        "\n",
        "# Perform error propagation\n",
        "volume_result, volume_error = error_propagation(sphere_volume, radius_value, radius_uncertainty)\n",
        "\n",
        "# Print the result and total uncertainty\n",
        "print(f\"Sphere Volume = {volume_result:.1f}\")\n",
        "print(f\"Sphere Volume Uncertainty = {volume_error:.1f}\")"
      ],
      "id": "deed86d1",
      "execution_count": 45,
      "outputs": [
        {
          "output_type": "stream",
          "name": "stdout",
          "text": [
            "Sphere Volume = 523.6\n",
            "Sphere Volume Uncertainty = 32.0\n"
          ]
        }
      ]
    },
    {
      "cell_type": "code",
      "metadata": {
        "colab": {
          "base_uri": "https://localhost:8080/"
        },
        "id": "56bcc2f2",
        "outputId": "b265466d-3fea-4c10-fa57-43abf55fe2df"
      },
      "source": [
        "# Example usage:\n",
        "# Define a function to calculate g from distance and time of fall (assuming initial velocity is 0)\n",
        "# d = 0.5 * g * t^2  =>  g = 2 * d / t^2\n",
        "def calculate_g(distance, time):\n",
        "    return 2 * distance / (time**2)\n",
        "\n",
        "# Define the measured values and their uncertainties for distance and time\n",
        "# Saye the distance was 2.0m \\pm 0.01m and the time was 0.63s \\pm 0.02s\n",
        "# Combine values and uncertainties into single arrays\n",
        "variables_g = [2.0, 0.63]  # [distance in meters, time in seconds]\n",
        "uncertainties_g = [0.01, 0.02] # [uncertainty in distance, uncertainty in time]\n",
        "\n",
        "# Perform error propagation\n",
        "g_result, g_error = error_propagation(calculate_g, variables_g, uncertainties_g)\n",
        "\n",
        "# Print the result and total uncertainty\n",
        "print(f\"Value of g = {g_result:.2f} m/s^2\")\n",
        "print(f\"Uncertainty in g = {g_error:.2f} m/s^2\")"
      ],
      "id": "56bcc2f2",
      "execution_count": 46,
      "outputs": [
        {
          "output_type": "stream",
          "name": "stdout",
          "text": [
            "Value of g = 10.08 m/s^2\n",
            "Uncertainty in g = 0.61 m/s^2\n"
          ]
        }
      ]
    }
  ],
  "metadata": {
    "kernelspec": {
      "display_name": "Python 3 (ipykernel)",
      "language": "python",
      "name": "python3"
    },
    "language_info": {
      "codemirror_mode": {
        "name": "ipython",
        "version": 3
      },
      "file_extension": ".py",
      "mimetype": "text/x-python",
      "name": "python",
      "nbconvert_exporter": "python",
      "pygments_lexer": "ipython3",
      "version": "3.11.4"
    },
    "colab": {
      "provenance": [],
      "include_colab_link": true
    }
  },
  "nbformat": 4,
  "nbformat_minor": 5
}