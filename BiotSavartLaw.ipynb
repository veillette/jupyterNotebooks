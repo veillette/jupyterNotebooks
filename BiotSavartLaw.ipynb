{
  "nbformat": 4,
  "nbformat_minor": 0,
  "metadata": {
    "colab": {
      "name": "BiotSavartLaw.ipynb",
      "private_outputs": true,
      "provenance": [],
      "collapsed_sections": [],
      "authorship_tag": "ABX9TyP0EcLLGI/cY81GmMGQ1P52",
      "include_colab_link": true
    },
    "kernelspec": {
      "name": "python3",
      "display_name": "Python 3"
    },
    "language_info": {
      "name": "python"
    }
  },
  "cells": [
    {
      "cell_type": "markdown",
      "metadata": {
        "id": "view-in-github",
        "colab_type": "text"
      },
      "source": [
        "<a href=\"https://colab.research.google.com/github/veillette/jupyterNotebooks/blob/master/BiotSavartLaw.ipynb\" target=\"_parent\"><img src=\"https://colab.research.google.com/assets/colab-badge.svg\" alt=\"Open In Colab\"/></a>"
      ]
    },
    {
      "cell_type": "markdown",
      "metadata": {
        "id": "iztsGQM1QQkk"
      },
      "source": [
        "# Plotting Magnetic field due to a moving point charge"
      ]
    },
    {
      "cell_type": "markdown",
      "metadata": {
        "id": "AYpJNS0C7jZO"
      },
      "source": [
        "The magnetic field of a moving charged particle is given by the Biot-Savart law:\n",
        "$$\\vec{B} =\\frac{\\mu_0}{4\\pi}  \\frac{q \\vec{v} \\times \\vec{r}}{|\\vec{r}|^2} $$\n",
        "\n",
        "where \n",
        "$$ \\frac{\\mu_0}{4\\pi}  = 1\\times 10^{-7} \\frac{\\textrm{T} \\cdot \\textrm{m}}{\\textrm{A}} $$"
      ]
    },
    {
      "cell_type": "code",
      "metadata": {
        "id": "4tEBlRKc7kAu"
      },
      "source": [
        "import matplotlib.pyplot as plt\n",
        "import numpy as np"
      ],
      "execution_count": null,
      "outputs": []
    },
    {
      "cell_type": "code",
      "metadata": {
        "id": "egiIqJWo77Oj"
      },
      "source": [
        "# test drive to create a mesh to draw a contour plot\n",
        "\n",
        "x=np.arange(-5,5,0.1)\n",
        "y=np.arange(-5,5,0.1)\n",
        "\n",
        "xx,yy = np.meshgrid(x,y,sparse=True)\n",
        "z=np.sin( (xx-1)**2+yy**2)/((xx-1)**2+yy**2)\n",
        "h =plt.contourf(x,y,z)\n",
        "plt.axis('scaled')\n",
        "plt.show()"
      ],
      "execution_count": null,
      "outputs": []
    },
    {
      "cell_type": "code",
      "metadata": {
        "id": "d80eke7eGMR7"
      },
      "source": [
        ""
      ],
      "execution_count": null,
      "outputs": []
    },
    {
      "cell_type": "markdown",
      "metadata": {
        "id": "ZASE8FcBHdUg"
      },
      "source": [
        "Create a vector field and a mesh"
      ]
    },
    {
      "cell_type": "code",
      "metadata": {
        "id": "-Ss4ACulGuzu"
      },
      "source": [
        "c=1e-7\n",
        "q=1.6e-19\n",
        "\n",
        "# assume particle is propagating along z direction\n",
        "v=np.array([0,0,1])\n"
      ],
      "execution_count": null,
      "outputs": []
    },
    {
      "cell_type": "code",
      "metadata": {
        "id": "xjfLdV1bHkAa"
      },
      "source": [
        "xr=np.arange(-0.8,1,0.1)\n",
        "yr=np.arange(-0.8,1,0.1)\n",
        "zr=np.arange(-0.8,1,0.5)"
      ],
      "execution_count": null,
      "outputs": []
    },
    {
      "cell_type": "code",
      "metadata": {
        "id": "kB3w0EjvH01k"
      },
      "source": [
        "#create a mesh\n",
        "x,y,z,=np.meshgrid(xr,yr,zr)"
      ],
      "execution_count": null,
      "outputs": []
    },
    {
      "cell_type": "code",
      "metadata": {
        "id": "yyXHyx6aH-Jc"
      },
      "source": [
        "rsquare=x**2+y**2+z**2\n",
        "vx,vy,vz= v"
      ],
      "execution_count": null,
      "outputs": []
    },
    {
      "cell_type": "markdown",
      "metadata": {
        "id": "4LRaPNrAL8B3"
      },
      "source": [
        "The magnetic field of a moving charged particle is given by the Biot-Savart law:\n",
        "$$\\vec{B} =c  \\frac{q \\vec{v} \\times \\vec{r}}{|\\vec{r}|^2} $$\n",
        "where $$c = 10^{-7} \\text{T}\\cdot \\text{m}/\\text{A}$$\n",
        "\n",
        "or\n",
        "\n",
        "$$ B_x = c q( v_y z -v_z y)/(x^2+y^2+z^2) $$ \n",
        "etc\n"
      ]
    },
    {
      "cell_type": "code",
      "metadata": {
        "id": "xTCfULuVIJNk"
      },
      "source": [
        "# components of the magnetic field\n",
        "Bx = c*q*(vy*z-vz*y)/rsquare\n",
        "By = c*q*(vz*x-vx*z)/rsquare\n",
        "Bz = c*q*(vx*y-vy*x)/rsquare"
      ],
      "execution_count": null,
      "outputs": []
    },
    {
      "cell_type": "code",
      "metadata": {
        "id": "Hcfb3jiPIYm3"
      },
      "source": [
        "## Magnetic field as a vector\n",
        "B=np.array([Bx,By,Bz])"
      ],
      "execution_count": null,
      "outputs": []
    },
    {
      "cell_type": "code",
      "metadata": {
        "id": "T4aePjZWPXg2"
      },
      "source": [
        ""
      ],
      "execution_count": null,
      "outputs": []
    },
    {
      "cell_type": "code",
      "metadata": {
        "id": "d5LJQXqbJ2LQ"
      },
      "source": [
        "ax=plt.figure().add_subplot(projection='3d')\n",
        "ax.quiver(x,y,z,Bx,By,Bz,length=0.1, normalize=True)\n",
        "plt.show()"
      ],
      "execution_count": null,
      "outputs": []
    },
    {
      "cell_type": "code",
      "metadata": {
        "id": "bz4Ei6zCKI0X"
      },
      "source": [
        ""
      ],
      "execution_count": null,
      "outputs": []
    }
  ]
}