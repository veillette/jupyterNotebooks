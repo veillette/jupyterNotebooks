{
  "nbformat": 4,
  "nbformat_minor": 0,
  "metadata": {
    "colab": {
      "name": "01 Exercises.ipynb",
      "version": "0.3.2",
      "provenance": [],
      "include_colab_link": true
    },
    "kernelspec": {
      "name": "python36",
      "display_name": "Python 3.6",
      "language": "python"
    }
  },
  "cells": [
    {
      "cell_type": "markdown",
      "metadata": {
        "id": "view-in-github",
        "colab_type": "text"
      },
      "source": [
        "<a href=\"https://colab.research.google.com/github/veillette/jupyterNotebooks/blob/master/Intro%20Physics%20I%20with%20Calculus/Exercises/01%20Exercises.ipynb\" target=\"_parent\"><img src=\"https://colab.research.google.com/assets/colab-badge.svg\" alt=\"Open In Colab\"/></a>"
      ]
    },
    {
      "metadata": {
        "id": "EcykQt46NfT3",
        "colab_type": "text"
      },
      "cell_type": "markdown",
      "source": [
        "## Exercise 01.1\n",
        "\n",
        "Degrees Fahrenheit ($T_F$) are converted to degrees Celsius ($T_c$) using the formula:\n",
        "\n",
        "$$\n",
        "T_c = 5(T_f - 32)/9\n",
        "$$\n",
        "\n",
        "Write a program to convert 78 degrees Fahrenheit to degrees Celsius and print the result.\n",
        "Write your program such that you can easily change the temperature in Fahrenheit that you are converting from.\n",
        "\n",
        "Use the variable name `T_c` for the temperature in degrees Celsius."
      ]
    },
    {
      "metadata": {
        "deletable": false,
        "nbgrader": {
          "checksum": "9aad06999d15d78fbcee70dcbca838c7",
          "grade": false,
          "grade_id": "cell-ca2d6af7fabf2918",
          "locked": false,
          "schema_version": 1,
          "solution": true
        },
        "trusted": true,
        "id": "co1884LyNfT7",
        "colab_type": "code",
        "colab": {}
      },
      "cell_type": "code",
      "source": [
        "T_f = 78\n",
        "# YOUR CODE HERE\n",
        "raise NotImplementedError()"
      ],
      "execution_count": 0,
      "outputs": []
    },
    {
      "metadata": {
        "deletable": false,
        "editable": false,
        "nbgrader": {
          "checksum": "298ddee2ca0d1dd09bc995505dac5c63",
          "grade": true,
          "grade_id": "cell-a7542313c8cdf4ed",
          "locked": true,
          "points": 0,
          "schema_version": 1,
          "solution": false
        },
        "trusted": true,
        "id": "LD-QLfMuNfT_",
        "colab_type": "code",
        "colab": {}
      },
      "cell_type": "code",
      "source": [
        "assert round(T_c - 25.55555555555555, 10) == 0.0"
      ],
      "execution_count": 0,
      "outputs": []
    },
    {
      "metadata": {
        "id": "HDfHJ4Z-NfUC",
        "colab_type": "text"
      },
      "cell_type": "markdown",
      "source": [
        "## Exercise 01.2\n",
        "\n",
        "Working with NASA, you have been tasked with developing a tool that predicts the trajectory of orbitals. A component is to compute the speed of objects in free fall for a range of scenarios.\n",
        "\n",
        "The impact speed of an object depends on the height on the launched object, the initial velocity and the acceleration due to gravity. \n",
        "Write a program that computes the impact speed, with variables for:\n",
        "\n",
        "1. Height (meter)\n",
        "1. Initial Velocity (meter/second)\n",
        "1. Acceleration (meter/second$^2$)\n",
        "\n",
        "Test your program with a height of 10m, upward velocity of 5m/s, and an acceleration due to gravity of 9.8 m/s$^2$.\n",
        "Use the variable name `impactSpeed` for the speed upon impact."
      ]
    },
    {
      "metadata": {
        "deletable": false,
        "nbgrader": {
          "checksum": "c26b7adb39cb9665b26873573b1f0a6c",
          "grade": false,
          "grade_id": "cell-aaab53918bb9627d",
          "locked": false,
          "schema_version": 1,
          "solution": true
        },
        "trusted": true,
        "id": "jJuVgqjeNfUC",
        "colab_type": "code",
        "colab": {}
      },
      "cell_type": "code",
      "source": [
        "# Assign data to variables\n",
        "acceleration = 9.8 \n",
        "\n",
        "# YOUR CODE HERE\n",
        "raise NotImplementedError()"
      ],
      "execution_count": 0,
      "outputs": []
    },
    {
      "metadata": {
        "trusted": true,
        "id": "ldwWMbnPNfUF",
        "colab_type": "code",
        "colab": {}
      },
      "cell_type": "code",
      "source": [
        "assert round(impactSpeed - 14.866, 2) == 0.0"
      ],
      "execution_count": 0,
      "outputs": []
    }
  ]
}