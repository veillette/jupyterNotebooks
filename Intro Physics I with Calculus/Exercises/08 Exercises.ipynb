{
  "nbformat": 4,
  "nbformat_minor": 0,
  "metadata": {
    "colab": {
      "name": "08 Exercises.ipynb",
      "version": "0.3.2",
      "provenance": []
    },
    "kernelspec": {
      "display_name": "Python 3",
      "language": "python",
      "name": "python3"
    }
  },
  "cells": [
    {
      "metadata": {
        "deletable": false,
        "editable": false,
        "nbgrader": {
          "checksum": "75c425aff1f0a436daf36404c8ba2ab1",
          "grade": false,
          "grade_id": "cell-ea6c1e4c217d0584",
          "locked": true,
          "schema_version": 1,
          "solution": false
        },
        "id": "ikHPpcqgrGOl",
        "colab_type": "text"
      },
      "cell_type": "markdown",
      "source": [
        "Import the NumPy and Matplotlib modules:"
      ]
    },
    {
      "metadata": {
        "deletable": false,
        "editable": false,
        "nbgrader": {
          "checksum": "59eda70eb0da3f712de94d757423e124",
          "grade": false,
          "grade_id": "cell-851f16f7d1f512b6",
          "locked": true,
          "schema_version": 1,
          "solution": false
        },
        "id": "57W3j-fDrGOm",
        "colab_type": "code",
        "colab": {}
      },
      "cell_type": "code",
      "source": [
        "%matplotlib inline\n",
        "import numpy as np\n",
        "import matplotlib.pyplot as plt"
      ],
      "execution_count": 0,
      "outputs": []
    },
    {
      "metadata": {
        "deletable": false,
        "editable": false,
        "nbgrader": {
          "checksum": "8acb2d08e3646dfeb083bc19f1ad7e50",
          "grade": false,
          "grade_id": "cell-2ae2b1794b3463d5",
          "locked": true,
          "schema_version": 1,
          "solution": false
        },
        "id": "-cSc9e7YrGOr",
        "colab_type": "text"
      },
      "cell_type": "markdown",
      "source": [
        "## Exercise 08.1 (function plotting)\n",
        "\n",
        "Consider the function \n",
        "$$\n",
        "f(x) = e^{x/10} \\sin(\\omega_{1}x)\\cos(\\omega_{0}x)\n",
        "$$\n",
        "from $x = -4\\pi$ to $x = 4\\pi$."
      ]
    },
    {
      "metadata": {
        "deletable": false,
        "editable": false,
        "nbgrader": {
          "checksum": "829dcc103249f5c46c67dd8738848e0e",
          "grade": false,
          "grade_id": "cell-7bbadc15f57cb62e",
          "locked": true,
          "schema_version": 1,
          "solution": false
        },
        "id": "s-7Fsc_trGOs",
        "colab_type": "text"
      },
      "cell_type": "markdown",
      "source": [
        "(1) Plot the function when $\\omega_{0} = \\omega_{1} = 1$. Label the axes."
      ]
    },
    {
      "metadata": {
        "deletable": false,
        "nbgrader": {
          "checksum": "dda339af9d9ff1200c6e690cc736346e",
          "grade": false,
          "grade_id": "cell-c220b6560241ee82",
          "locked": false,
          "schema_version": 1,
          "solution": true
        },
        "id": "Vx6PsXRirGOt",
        "colab_type": "code",
        "colab": {
          "base_uri": "https://localhost:8080/",
          "height": 197
        },
        "outputId": "176348e3-bbeb-40b3-ff3b-4ec60388f2e1"
      },
      "cell_type": "code",
      "source": [
        "num_points = 100\n",
        "x = np.linspace(-4*np.pi, 4*np.pi, num=num_points)\n",
        "\n",
        "f = np.exp(x/10)*np.sin(x)*np.cos(x)\n",
        "# YOUR CODE HERE\n",
        "raise NotImplementedError()"
      ],
      "execution_count": 3,
      "outputs": [
        {
          "output_type": "error",
          "ename": "NotImplementedError",
          "evalue": "ignored",
          "traceback": [
            "\u001b[0;31m---------------------------------------------------------------------------\u001b[0m",
            "\u001b[0;31mNotImplementedError\u001b[0m                       Traceback (most recent call last)",
            "\u001b[0;32m<ipython-input-3-87aa99f4fd94>\u001b[0m in \u001b[0;36m<module>\u001b[0;34m()\u001b[0m\n\u001b[1;32m      4\u001b[0m \u001b[0mf\u001b[0m \u001b[0;34m=\u001b[0m \u001b[0mnp\u001b[0m\u001b[0;34m.\u001b[0m\u001b[0mexp\u001b[0m\u001b[0;34m(\u001b[0m\u001b[0mx\u001b[0m\u001b[0;34m/\u001b[0m\u001b[0;36m10\u001b[0m\u001b[0;34m)\u001b[0m\u001b[0;34m*\u001b[0m\u001b[0mnp\u001b[0m\u001b[0;34m.\u001b[0m\u001b[0msin\u001b[0m\u001b[0;34m(\u001b[0m\u001b[0mx\u001b[0m\u001b[0;34m)\u001b[0m\u001b[0;34m*\u001b[0m\u001b[0mnp\u001b[0m\u001b[0;34m.\u001b[0m\u001b[0mcos\u001b[0m\u001b[0;34m(\u001b[0m\u001b[0mx\u001b[0m\u001b[0;34m)\u001b[0m\u001b[0;34m\u001b[0m\u001b[0;34m\u001b[0m\u001b[0m\n\u001b[1;32m      5\u001b[0m \u001b[0;31m# YOUR CODE HERE\u001b[0m\u001b[0;34m\u001b[0m\u001b[0;34m\u001b[0m\u001b[0;34m\u001b[0m\u001b[0m\n\u001b[0;32m----> 6\u001b[0;31m \u001b[0;32mraise\u001b[0m \u001b[0mNotImplementedError\u001b[0m\u001b[0;34m(\u001b[0m\u001b[0;34m)\u001b[0m\u001b[0;34m\u001b[0m\u001b[0;34m\u001b[0m\u001b[0m\n\u001b[0m",
            "\u001b[0;31mNotImplementedError\u001b[0m: "
          ]
        }
      ]
    },
    {
      "metadata": {
        "deletable": false,
        "editable": false,
        "nbgrader": {
          "checksum": "9d299345f06033e8be689ce7feebea37",
          "grade": false,
          "grade_id": "cell-e4170686d6779807",
          "locked": true,
          "schema_version": 1,
          "solution": false
        },
        "id": "wA-S36-trGOx",
        "colab_type": "text"
      },
      "cell_type": "markdown",
      "source": [
        "(2) Create an interactive plot with sliders for $\\omega_{0}$ and $\\omega_{1}$, varying from 0 to 2."
      ]
    },
    {
      "metadata": {
        "deletable": false,
        "nbgrader": {
          "checksum": "88d66aece0257fe1f0965921fcfc3580",
          "grade": false,
          "grade_id": "cell-e6df2ed12d41ffa1",
          "locked": false,
          "schema_version": 1,
          "solution": true
        },
        "id": "8sK2IWo-rGOz",
        "colab_type": "code",
        "colab": {}
      },
      "cell_type": "code",
      "source": [
        "from ipywidgets import *\n",
        "\n",
        "# YOUR CODE HERE\n",
        "raise NotImplementedError()"
      ],
      "execution_count": 0,
      "outputs": []
    },
    {
      "metadata": {
        "deletable": false,
        "editable": false,
        "nbgrader": {
          "checksum": "94ca85f38721a3face01aecf8f91dedd",
          "grade": false,
          "grade_id": "cell-8fa19840a1969ff6",
          "locked": true,
          "schema_version": 1,
          "solution": false
        },
        "id": "lsIUv6KbrGO2",
        "colab_type": "text"
      },
      "cell_type": "markdown",
      "source": [
        "## Exercise 08.2 (multiple function plotting)\n",
        "\n",
        "Plot the function \n",
        "\n",
        "$$\n",
        "f(x)  = \\frac{\\sin(x)}{x}\n",
        "$$\n",
        "\n",
        "from $x = -6\\pi$ to $x = 6\\pi$. Think carefully about which $x$ values you use when \n",
        "$x$ is close to zero.\n",
        "  \n",
        "Add to the above plot the graph of $1/ \\left| x \\right|$, and limit the range of the $y$ axis to 1 using\n",
        "`plt.ylim`. (Hint: use `np.abs(x)` to return the absolute values of each \n",
        "component of a NumPy array `x`.)"
      ]
    },
    {
      "metadata": {
        "deletable": false,
        "nbgrader": {
          "checksum": "e530357e82442e9fcb34698e9ddd5460",
          "grade": false,
          "grade_id": "cell-4a1bc264d6e1a525",
          "locked": false,
          "schema_version": 1,
          "solution": true
        },
        "id": "bk5R9ovyrGO2",
        "colab_type": "code",
        "colab": {}
      },
      "cell_type": "code",
      "source": [
        "# YOUR CODE HERE\n",
        "raise NotImplementedError()"
      ],
      "execution_count": 0,
      "outputs": []
    }
  ]
}