{
  "nbformat": 4,
  "nbformat_minor": 0,
  "metadata": {
    "colab": {
      "name": "12 Exercises.ipynb",
      "version": "0.3.2",
      "provenance": []
    },
    "kernelspec": {
      "display_name": "Python 3",
      "language": "python",
      "name": "python3"
    }
  },
  "cells": [
    {
      "metadata": {
        "id": "anNVSudl0snx",
        "colab_type": "text"
      },
      "cell_type": "markdown",
      "source": [
        "## Exercise 12.1\n",
        "\n",
        "Create a class to represent vectors of arbitrary length and which is initialised with a list of values, e.g.:\n",
        "```python\n",
        "x = MyVector([0, 2, 4])\n",
        "```\n",
        "\n",
        "Equip the class with methods that:\n",
        "\n",
        "1. Return the length of the vector (use name `size`)\n",
        "2. Compute the norm of the vector $\\sqrt{x \\cdot x}$ (use name `norm`)\n",
        "3. Compute the dot product of the vector with another vector (use name `dot`)\n",
        "\n",
        "Test your implementation using two vectors of length 3. To help you get started, a skeleton of the class is provided below. Don't forget to use `self` where necessary."
      ]
    },
    {
      "metadata": {
        "id": "h_0WK7wD0sny",
        "colab_type": "code",
        "colab": {}
      },
      "cell_type": "code",
      "source": [
        "class MyVector:\n",
        "    \"\"\"A vector object that can return its size and norm, and can compute the dot product \n",
        "    with another vector  \"\"\"\n",
        "    \n",
        "    def __init__(self, x):\n",
        "        self.x = x\n",
        "        \n",
        "    # Return length of vector\n",
        "    def size(self):\n",
        "        # Add your code here\n",
        "        pass  # This can be removed once the body is added\n",
        "    \n",
        "    # This allows access by index, e.g. y[2]\n",
        "    def __getitem__(self, index):\n",
        "        return self.x[index]\n",
        "\n",
        "    # Return norm of vector\n",
        "    def norm(self):\n",
        "        # Add your code here\n",
        "        pass  # This can be removed once the body is added\n",
        "    \n",
        "    # Return dot product of vector with another vector\n",
        "    def dot(self, other):\n",
        "        # Add your code here\n",
        "        pass  # This can be removed once the body is added"
      ],
      "execution_count": 0,
      "outputs": []
    },
    {
      "metadata": {
        "id": "x9qc9CYt0sn3",
        "colab_type": "text"
      },
      "cell_type": "markdown",
      "source": [
        "### Solution"
      ]
    },
    {
      "metadata": {
        "deletable": false,
        "nbgrader": {
          "checksum": "713c9493be9ec9fc9aca8f6f8f39c121",
          "grade": false,
          "grade_id": "cell-ff4d6cba19bb1b8e",
          "locked": false,
          "schema_version": 1,
          "solution": true
        },
        "id": "GTjJU5n10sn4",
        "colab_type": "code",
        "colab": {}
      },
      "cell_type": "code",
      "source": [
        "import math  # Use this to get the sqrt\n",
        "\n",
        "class MyVector:\n",
        "    \"\"\"A vector object that can return its size and norm, and can compute the dot product \n",
        "    with another vector  \"\"\"\n",
        "\n",
        "    def __init__(self, x):\n",
        "        self.x = x\n",
        "\n",
        "    # YOUR CODE HERE\n",
        "    raise NotImplementedError()"
      ],
      "execution_count": 0,
      "outputs": []
    },
    {
      "metadata": {
        "deletable": false,
        "editable": false,
        "nbgrader": {
          "checksum": "1ed85d56501ddc8dc87d5784a25a3580",
          "grade": true,
          "grade_id": "cell-b601b5cc8cf8ab44",
          "locked": true,
          "points": 0,
          "schema_version": 1,
          "solution": false
        },
        "id": "mkKO7WNq0sn8",
        "colab_type": "code",
        "colab": {}
      },
      "cell_type": "code",
      "source": [
        "# Create two vectors\n",
        "u = MyVector([1, 1, 2])\n",
        "v = MyVector([2, 1, 1])\n",
        "\n",
        "assert u.size() == 3\n",
        "assert round(u.norm() - 2.449489742783178) == 0.0\n",
        "assert round(u.dot(v) - 5.0, 10) == 0.0 "
      ],
      "execution_count": 0,
      "outputs": []
    }
  ]
}