{
  "nbformat": 4,
  "nbformat_minor": 0,
  "metadata": {
    "colab": {
      "name": "05 Exercises.ipynb",
      "version": "0.3.2",
      "provenance": []
    },
    "kernelspec": {
      "display_name": "Python 3",
      "language": "python",
      "name": "python3"
    }
  },
  "cells": [
    {
      "metadata": {
        "deletable": false,
        "editable": false,
        "nbgrader": {
          "checksum": "78bec42b97a384da1258851020c6e40a",
          "grade": false,
          "grade_id": "cell-430d835796356075",
          "locked": true,
          "schema_version": 1,
          "solution": false
        },
        "id": "_2P17oMJUszO",
        "colab_type": "text"
      },
      "cell_type": "markdown",
      "source": [
        "## Exercise 05.1 (random numbers)\n",
        "\n",
        "- Using the '`randint`' function from the '`random`' module (https://docs.python.org/3/library/random.html#random.randint), \n",
        "  develop a function `dice_roll` that emulates the roll of a dice with $n$ sides.\n",
        "\n",
        "- For $n=6$, devise and implement a test to check that it is a fair dice."
      ]
    },
    {
      "metadata": {
        "deletable": false,
        "editable": false,
        "nbgrader": {
          "checksum": "61e2a56d004d8d8ae67a9fcdfd923411",
          "grade": false,
          "grade_id": "cell-12092bd5f2adea76",
          "locked": true,
          "schema_version": 1,
          "solution": false
        },
        "id": "HD5JnGBhUszR",
        "colab_type": "text"
      },
      "cell_type": "markdown",
      "source": [
        "#### (a) Dice roll code:"
      ]
    },
    {
      "metadata": {
        "deletable": false,
        "nbgrader": {
          "checksum": "4bf12682ccd10675634d0e03f8d9e03f",
          "grade": false,
          "grade_id": "cell-70a83466894475ee",
          "locked": false,
          "schema_version": 1,
          "solution": true
        },
        "id": "mb-qDu23UszT",
        "colab_type": "code",
        "colab": {}
      },
      "cell_type": "code",
      "source": [
        "import random\n",
        "\n",
        "# YOUR CODE HERE\n",
        "raise NotImplementedError()"
      ],
      "execution_count": 0,
      "outputs": []
    },
    {
      "metadata": {
        "deletable": false,
        "editable": false,
        "nbgrader": {
          "checksum": "cc96b22a27a50764737999a68f55cee7",
          "grade": true,
          "grade_id": "cell-0970743b0c035f78",
          "locked": true,
          "points": 0,
          "schema_version": 1,
          "solution": false
        },
        "id": "5RimTkHcUszX",
        "colab_type": "code",
        "colab": {}
      },
      "cell_type": "code",
      "source": [
        "for n in range(1, 20):\n",
        "    for j in range(100):\n",
        "        value = dice_roll(n) \n",
        "        assert value >= 1 and value <= n"
      ],
      "execution_count": 0,
      "outputs": []
    },
    {
      "metadata": {
        "deletable": false,
        "editable": false,
        "nbgrader": {
          "checksum": "d5b750f62a69a71bfde95d5766edb830",
          "grade": false,
          "grade_id": "cell-8fd8c957cbce8e91",
          "locked": true,
          "schema_version": 1,
          "solution": false
        },
        "id": "vJbpn3k9UszZ",
        "colab_type": "text"
      },
      "cell_type": "markdown",
      "source": [
        "#### (b) Test for fairness"
      ]
    },
    {
      "metadata": {
        "deletable": false,
        "nbgrader": {
          "checksum": "3efa13bd797422d747fe0f35cd3668d5",
          "grade": true,
          "grade_id": "cell-0826760c62c21bff",
          "locked": false,
          "points": 0,
          "schema_version": 1,
          "solution": true
        },
        "id": "VHMja4rYUszb",
        "colab_type": "code",
        "colab": {}
      },
      "cell_type": "code",
      "source": [
        "# YOUR CODE HERE\n",
        "raise NotImplementedError()"
      ],
      "execution_count": 0,
      "outputs": []
    }
  ]
}