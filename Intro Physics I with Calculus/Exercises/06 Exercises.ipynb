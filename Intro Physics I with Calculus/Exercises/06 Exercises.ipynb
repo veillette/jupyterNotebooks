{
  "nbformat": 4,
  "nbformat_minor": 0,
  "metadata": {
    "colab": {
      "name": "06 Exercises.ipynb",
      "version": "0.3.2",
      "provenance": []
    },
    "kernelspec": {
      "display_name": "Python 3",
      "language": "python",
      "name": "python3"
    }
  },
  "cells": [
    {
      "metadata": {
        "deletable": false,
        "editable": false,
        "nbgrader": {
          "checksum": "8969a6543eebd1c7db89a71bb75e61ee",
          "grade": false,
          "grade_id": "cell-7b3313f25bceb7a2",
          "locked": true,
          "schema_version": 1,
          "solution": false
        },
        "id": "okCMDm12Dcqn",
        "colab_type": "text"
      },
      "cell_type": "markdown",
      "source": [
        "## Exercise 06.1 (selecting and passing data structures)\n",
        "\n",
        "The task in Exercise 04 for computing the area of a triangle involved a function with six arguments ($x$ and $y$ components of each vertex). With six arguments, the likelihood of a user passing arguments in the wrong order is high. \n",
        "\n",
        "Use an appropriate data structure, e.g. a `list`, `tuple`, `dict`, etc,  to develop a new version of the function with a simpler interface (the interface is the arguments that are passed to the function). Add appropriate checks inside your function to validate the input data."
      ]
    },
    {
      "metadata": {
        "deletable": false,
        "nbgrader": {
          "checksum": "93c53f411edb621595bc865f6c79cbaf",
          "grade": false,
          "grade_id": "cell-50c4566d7bcbffaf",
          "locked": false,
          "schema_version": 1,
          "solution": true
        },
        "id": "hMHgnRLfDcqq",
        "colab_type": "code",
        "colab": {}
      },
      "cell_type": "code",
      "source": [
        "# YOUR CODE HERE\n",
        "raise NotImplementedError()"
      ],
      "execution_count": 0,
      "outputs": []
    },
    {
      "metadata": {
        "deletable": false,
        "editable": false,
        "nbgrader": {
          "checksum": "538793e1776653182d193a7700588461",
          "grade": false,
          "grade_id": "cell-5065052af9989fdf",
          "locked": true,
          "schema_version": 1,
          "solution": false
        },
        "id": "PXakieJzDcqu",
        "colab_type": "text"
      },
      "cell_type": "markdown",
      "source": [
        "## Exercise 06.2 (selecting data structures)\n",
        "\n",
        "For a simple (non-intersecting) polygon with $n$ vertices, $(x_0, y_0)$, $(x_1, y_1)$, . . , $(x_{n-1}, y_{n-1})$, the area $A$ is given by\n",
        "$$\n",
        "A = \\left| \\frac{1}{2} \\sum_{i=0}^{n-1} \\left(x_{i} y _{i+1} - x_{i+1} y_{i} \\right) \\right|\n",
        "$$\n",
        "and where $(x_n, y_n) = (x_0, y_0)$. The vertices should be ordered as you move around the polygon.\n",
        "\n",
        "Write a function that computes the area of a simple polygon with an arbitrary number of vertices. Test your function for some simple shapes. Pay careful attention to the range of any loops."
      ]
    },
    {
      "metadata": {
        "deletable": false,
        "nbgrader": {
          "checksum": "3c6fe94718310475d875ec60534199eb",
          "grade": false,
          "grade_id": "cell-4b5a619405787746",
          "locked": false,
          "schema_version": 1,
          "solution": true
        },
        "id": "j8Y3_pmoDcqw",
        "colab_type": "code",
        "colab": {}
      },
      "cell_type": "code",
      "source": [
        "# YOUR CODE HERE\n",
        "raise NotImplementedError()"
      ],
      "execution_count": 0,
      "outputs": []
    },
    {
      "metadata": {
        "deletable": false,
        "editable": false,
        "nbgrader": {
          "checksum": "31a71dcd54f996f2f798df30114b9faf",
          "grade": false,
          "grade_id": "cell-ced99a38c7bbe7a0",
          "locked": true,
          "schema_version": 1,
          "solution": false
        },
        "id": "NWP5emOPDcqy",
        "colab_type": "text"
      },
      "cell_type": "markdown",
      "source": [
        "## Exercise 06.3 (indexing)\n",
        "\n",
        "Write a function that uses list indexing to add two vectors of arbitrary length, and returns the new vector. Include a check that the vector sizes match, and print a warning message if there is a size mismatch. The more error information you provide, the easier it would be for someone using your function to debug their code.\n",
        "\n",
        "Add some tests of your code.\n",
        "\n",
        "#### Hint: You can create a list of zeros of length `n` by\n",
        "\n",
        "    z = [0]*n\n",
        "    \n",
        "#### Optional (advanced) \n",
        "\n",
        "Try writing a one-line version of this operation using list comprehension and the built-in function [`zip`](https://docs.python.org/3/library/functions.html#zip)."
      ]
    },
    {
      "metadata": {
        "deletable": false,
        "nbgrader": {
          "checksum": "66ea7d534bb1cbabf82dbcbb69e4dd02",
          "grade": false,
          "grade_id": "cell-47daca03f7a96b62",
          "locked": false,
          "schema_version": 1,
          "solution": true
        },
        "id": "V2u4AhOrDcqz",
        "colab_type": "code",
        "colab": {}
      },
      "cell_type": "code",
      "source": [
        "def sum_vector(x, y):\n",
        "    \"Return sum of two vectors\"\n",
        "    # YOUR CODE HERE\n",
        "    raise NotImplementedError()"
      ],
      "execution_count": 0,
      "outputs": []
    },
    {
      "metadata": {
        "deletable": false,
        "editable": false,
        "nbgrader": {
          "checksum": "9b3d802cdb7440be47952667335f5cc7",
          "grade": true,
          "grade_id": "cell-95f5819810d2b2c7",
          "locked": true,
          "points": 0,
          "schema_version": 1,
          "solution": false
        },
        "id": "w_oqGYg3Dcq2",
        "colab_type": "code",
        "colab": {}
      },
      "cell_type": "code",
      "source": [
        "a = [0, 4.3, -5, 7]\n",
        "b = [-2, 7, -15, 1]\n",
        "c = sum_vector(a, b)\n",
        "assert c == [-2, 11.3, -20, 8]"
      ],
      "execution_count": 0,
      "outputs": []
    },
    {
      "metadata": {
        "id": "C5JMPjJ5Dcq5",
        "colab_type": "text"
      },
      "cell_type": "markdown",
      "source": [
        "### Extension: list comprehension"
      ]
    },
    {
      "metadata": {
        "deletable": false,
        "nbgrader": {
          "checksum": "3ace0d343b7871c30f7776e20669bf3e",
          "grade": true,
          "grade_id": "cell-c182b3f0d8952692",
          "locked": false,
          "points": 0,
          "schema_version": 1,
          "solution": true
        },
        "id": "dOXp31ZoDcq6",
        "colab_type": "code",
        "colab": {}
      },
      "cell_type": "code",
      "source": [
        "# YOUR CODE HERE\n",
        "raise NotImplementedError()"
      ],
      "execution_count": 0,
      "outputs": []
    }
  ]
}