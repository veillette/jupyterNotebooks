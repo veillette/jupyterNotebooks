{
  "nbformat": 4,
  "nbformat_minor": 0,
  "metadata": {
    "colab": {
      "name": "02 Control statements.ipynb",
      "version": "0.3.2",
      "provenance": []
    },
    "kernelspec": {
      "name": "python36",
      "display_name": "Python 3.6",
      "language": "python"
    }
  },
  "cells": [
    {
      "metadata": {
        "id": "jDDPOt7pOWK3",
        "colab_type": "text"
      },
      "cell_type": "markdown",
      "source": [
        "# Introduction\n",
        "\n",
        "Control statements allow a program to change what it does depending on input or other data.\n",
        "Typical flows in a computer program involve structures like:\n",
        "\n",
        "- if 'X' do task 'A', else if 'Y' do task 'B'\n",
        "- perform the task 'A' 'N' times\n",
        "- perform the task 'B' until 'X' is true\n",
        "\n",
        "These flows are implemented using what are called 'control statements'. They are also known as branching - the path a program follows depends on the input data. Control statements are a major part of all non-trivial computer programs.\n",
        "\n",
        "\n",
        "## Objectives\n",
        "\n",
        "- Introduce Boolean types\n",
        "- Introduce comparison operators\n",
        "- Learn to use control statements\n",
        "\n",
        "\n",
        "## Example of a control statement in pseudo code\n",
        "\n",
        "An electric window opener, attached to a rain sensor and a temperature \n",
        "gauge, might be controlled by the following program:\n",
        "\n",
        "    if raining:  # If raining, close the window\n",
        "        close_window()\n",
        "    else if temperature > 26:  # If the temperature is over 26 deg, open window\n",
        "        open_window()\n",
        "    else if temperature < 19:  # If the temperature is below 19 deg, close window\n",
        "        close_window()\n",
        "    else:  # Otherwise, do nothing and leave window as it is\n",
        "        pass\n",
        "\n",
        "It is easy to imagine the program being made more sophisticated using the time of the day and the day of the week, or being attached to a smoke alarm.\n",
        "\n",
        "We will look at different types of control statements, but first we need to introduce boolean types and comparison operators."
      ]
    },
    {
      "metadata": {
        "id": "jRxcxQKCOWK6",
        "colab_type": "text"
      },
      "cell_type": "markdown",
      "source": [
        "# Booleans\n",
        "\n",
        "Before starting with control statements, we need to introduce booleans.\n",
        "A Boolean is a type of variable that can take on one of two values - true or false."
      ]
    },
    {
      "metadata": {
        "trusted": true,
        "id": "zafOWclnOWK7",
        "colab_type": "code",
        "colab": {},
        "outputId": "3b305581-bf6b-4eb5-b665-a62f98622ff8"
      },
      "cell_type": "code",
      "source": [
        "a = True\n",
        "print(a)\n",
        "\n",
        "a = False\n",
        "print(a)"
      ],
      "execution_count": 0,
      "outputs": [
        {
          "output_type": "stream",
          "text": [
            "True\n",
            "False\n"
          ],
          "name": "stdout"
        }
      ]
    },
    {
      "metadata": {
        "id": "JVrAQIZmOWLB",
        "colab_type": "text"
      },
      "cell_type": "markdown",
      "source": [
        "Booleans are used extensively in control statements."
      ]
    },
    {
      "metadata": {
        "id": "zvaiE6t3OWLC",
        "colab_type": "text"
      },
      "cell_type": "markdown",
      "source": [
        "# Comparison operators\n",
        "\n",
        "We often want to check in a program how two variables are related to each other, for example if one is less than the other, or if two variables are equal. We do this with 'comparison operators', such as `<`, `<=`, `>`, `>=` and `==`. \n",
        "\n",
        "Below is an example checking if a number `a` is less than or greater than a number `b`:"
      ]
    },
    {
      "metadata": {
        "trusted": true,
        "id": "ss71UWbFOWLD",
        "colab_type": "code",
        "colab": {},
        "outputId": "6ae07fbc-e6cd-43bc-dac3-78fb73146b74"
      },
      "cell_type": "code",
      "source": [
        "a = 10.0\n",
        "b = 9.9\n",
        "print(a < b)\n",
        "print(a > b)"
      ],
      "execution_count": 0,
      "outputs": [
        {
          "output_type": "stream",
          "text": [
            "False\n",
            "True\n"
          ],
          "name": "stdout"
        }
      ]
    },
    {
      "metadata": {
        "id": "yHlhmjsdOWLH",
        "colab_type": "text"
      },
      "cell_type": "markdown",
      "source": [
        "Equality is checked using '`==`', and '`!=`' is used to test if two variables are not equal. Below are some examples to read through."
      ]
    },
    {
      "metadata": {
        "trusted": true,
        "id": "z4_nwsdzOWLH",
        "colab_type": "code",
        "colab": {},
        "outputId": "057ac382-aa69-4117-ed6f-5ef8904882eb"
      },
      "cell_type": "code",
      "source": [
        "a = 14\n",
        "b = -9\n",
        "c = 14\n",
        "\n",
        "# Check if a is equal to b \n",
        "print(\"Is a equal to b?\")\n",
        "print(a == b)\n",
        "\n",
        "# Check if a is equal to c \n",
        "print(\"Is a equal to c?\")\n",
        "print(a == c)\n",
        "\n",
        "# Check if a is not equal to c \n",
        "print(\"Is a not equal to c?\")\n",
        "print(a != c)\n",
        "\n",
        "# Check if a is less than or equal to b \n",
        "print(\"Is a less than or equal to b?\")\n",
        "print(a <= b)\n",
        "\n",
        "# Check if a is less than or equal to c \n",
        "print(\"Is a less than or equal to c?\")\n",
        "print(a <= c)\n",
        "\n",
        "# Check if two colors are the same\n",
        "color0 = 'blue'\n",
        "color1 = 'green'\n",
        "print(\"Is colour0 the same as color1?\")\n",
        "print(color0 == color1)"
      ],
      "execution_count": 0,
      "outputs": [
        {
          "output_type": "stream",
          "text": [
            "Is a equal to b?\n",
            "False\n",
            "Is a equal to c?\n",
            "True\n",
            "Is a not equal to c?\n",
            "False\n",
            "Is a less than or equal to b?\n",
            "False\n",
            "Is a less than or equal to c?\n",
            "True\n",
            "Is colour0 the same as colour1?\n",
            "False\n"
          ],
          "name": "stdout"
        }
      ]
    },
    {
      "metadata": {
        "id": "2VxJdFlzOWLM",
        "colab_type": "text"
      },
      "cell_type": "markdown",
      "source": [
        "# Boolean operators\n",
        "\n",
        "In the above we have only used one comparison at a time. Boolean operators allow us to 'string' together multiple checks using the operators '`and`', '`or`' and '`not`'.\n",
        "The operators '`and`' and '`or`' take a boolean on either side, and the code\n",
        "```python\n",
        "X and Y\n",
        "```\n",
        "will evaluate to `True` if `X` *and* `Y` are both true, and otherwise will evaluate to `False`. The code\n",
        "```python\n",
        "X or Y\n",
        "```\n",
        "will evaluate to `True` if `X` *or* `Y` is true, and otherwise will evaluate to `False`.\n",
        "Here are some examples:"
      ]
    },
    {
      "metadata": {
        "trusted": true,
        "id": "ueKecAZ2OWLN",
        "colab_type": "code",
        "colab": {},
        "outputId": "5c32858d-1b5c-4def-c5be-abea85ea1936"
      },
      "cell_type": "code",
      "source": [
        "# If 10 < 9 (false) and 15 < 20 (true) -> false\n",
        "print(10 < 9 and 15 < 20)"
      ],
      "execution_count": 0,
      "outputs": [
        {
          "output_type": "stream",
          "text": [
            "False\n"
          ],
          "name": "stdout"
        }
      ]
    },
    {
      "metadata": {
        "trusted": true,
        "id": "Hn5avM3SOWLQ",
        "colab_type": "code",
        "colab": {},
        "outputId": "4e478746-03d2-49ad-fa10-627f4c530e5c"
      },
      "cell_type": "code",
      "source": [
        "# Check if 10 < 9 (false) or 15 < 20 (true) -> true\n",
        "print(10 < 9 or 15 < 20)"
      ],
      "execution_count": 0,
      "outputs": [
        {
          "output_type": "stream",
          "text": [
            "True\n"
          ],
          "name": "stdout"
        }
      ]
    },
    {
      "metadata": {
        "id": "3oCj8821OWLU",
        "colab_type": "text"
      },
      "cell_type": "markdown",
      "source": [
        "The meaning of the statement becomes clear if read it left-to-right.\n",
        "\n",
        "Below is a very simple example that, given the current time of day reports \n",
        "\n",
        "- true if it is lunch time; and \n",
        "- true if we are outside of working hours."
      ]
    },
    {
      "metadata": {
        "trusted": true,
        "id": "tByaVeBQOWLU",
        "colab_type": "code",
        "colab": {},
        "outputId": "0f889257-c5a5-459e-9e4a-9976d95b98ac"
      },
      "cell_type": "code",
      "source": [
        "time = 13.05  # The current time\n",
        "\n",
        "work_starts = 8.00  # Start of working day \n",
        "work_ends = 17.00  # End of working day\n",
        "\n",
        "lunch_starts = 13.00  # Start of lunchtime\n",
        "lunch_ends = 14.00  # End of lunchtime\n",
        "\n",
        "# Check if it's lunch time\n",
        "print(\"Is it lunchtime?\")\n",
        "is_lunchtime = time >= lunch_starts and time < lunch_ends\n",
        "print(is_lunchtime)\n",
        "\n",
        "# Check if we're outside of working hours\n",
        "print(\"Are we outside of working hours?\")\n",
        "outside_working_hours = time < work_starts or time >= work_ends\n",
        "print(outside_working_hours)"
      ],
      "execution_count": 0,
      "outputs": [
        {
          "output_type": "stream",
          "text": [
            "Is it lunchtime?\n",
            "True\n",
            "Are we outside of working hours?\n",
            "False\n"
          ],
          "name": "stdout"
        }
      ]
    },
    {
      "metadata": {
        "id": "1iLNp2dUOWLa",
        "colab_type": "text"
      },
      "cell_type": "markdown",
      "source": [
        "Note that the comparison operators (`>=`, `<=`, `<` and `>`) are evaluated before the Boolean operators (`and`, `or`).\n",
        "\n",
        "In Python, the '`not`' operator negates a statement, e.g.:"
      ]
    },
    {
      "metadata": {
        "trusted": true,
        "id": "CVJ23IglOWLb",
        "colab_type": "code",
        "colab": {},
        "outputId": "4574ea93-f21b-4b8c-a1de-0d6f957da647"
      },
      "cell_type": "code",
      "source": [
        "# Is 12 *not* less than 7 -> true\n",
        "a = 12\n",
        "b = 7\n",
        "print(not a < b)"
      ],
      "execution_count": 0,
      "outputs": [
        {
          "output_type": "stream",
          "text": [
            "True\n"
          ],
          "name": "stdout"
        }
      ]
    },
    {
      "metadata": {
        "id": "IwIpl9dzOWLe",
        "colab_type": "text"
      },
      "cell_type": "markdown",
      "source": [
        "Only use '`not`' when it makes a program easy to read. For example,"
      ]
    },
    {
      "metadata": {
        "trusted": true,
        "id": "Bxq9iFTmOWLf",
        "colab_type": "code",
        "colab": {},
        "outputId": "23508de1-ae62-4732-eca9-e9bc40a0138a"
      },
      "cell_type": "code",
      "source": [
        "print(not 12 == 7)"
      ],
      "execution_count": 0,
      "outputs": [
        {
          "output_type": "stream",
          "text": [
            "True\n"
          ],
          "name": "stdout"
        }
      ]
    },
    {
      "metadata": {
        "id": "ESOhIM9xOWLi",
        "colab_type": "text"
      },
      "cell_type": "markdown",
      "source": [
        "is not good practice. Better is"
      ]
    },
    {
      "metadata": {
        "trusted": true,
        "id": "ptbBrPaxOWLj",
        "colab_type": "code",
        "colab": {},
        "outputId": "dc60cb8c-0f21-4003-f652-f5e9a1263e5a"
      },
      "cell_type": "code",
      "source": [
        "print(12 != 7)"
      ],
      "execution_count": 0,
      "outputs": [
        {
          "output_type": "stream",
          "text": [
            "True\n"
          ],
          "name": "stdout"
        }
      ]
    },
    {
      "metadata": {
        "id": "NhQWi_TXOWLr",
        "colab_type": "text"
      },
      "cell_type": "markdown",
      "source": [
        "## Multiple comparison operators\n",
        "\n",
        "The examples so far use at most two comparison operators. In some cases we might want to perform more checks. We can control the order of evaluation using brackets. For example, if we want to check if a number is strictly between 100 and 200, or between 10 and 50:"
      ]
    },
    {
      "metadata": {
        "trusted": true,
        "id": "6d7PoHNZOWLt",
        "colab_type": "code",
        "colab": {},
        "outputId": "2d68c909-ae11-46fb-9035-247e2c88100b"
      },
      "cell_type": "code",
      "source": [
        "value = 150.5\n",
        "print ((value > 100 and value < 200) or (value > 10 and value < 50)) "
      ],
      "execution_count": 0,
      "outputs": [
        {
          "output_type": "stream",
          "text": [
            "True\n"
          ],
          "name": "stdout"
        }
      ]
    },
    {
      "metadata": {
        "id": "ZzcgglauOWLy",
        "colab_type": "text"
      },
      "cell_type": "markdown",
      "source": [
        "The two checks in the brackets are evaluated first (each evaluates to `True` or `False`), and then the '`or`' checks if one of the two is true."
      ]
    },
    {
      "metadata": {
        "id": "dWbOfybFOWLz",
        "colab_type": "text"
      },
      "cell_type": "markdown",
      "source": [
        "# Control statements\n",
        "\n",
        "Now that we've covered comparison, we are ready to look at control statements. These are a central part of computing. Here is a control statement in pseudo code:\n",
        "\n",
        "    if A is true\n",
        "        Perform task X (only)\n",
        "    else if B is true\n",
        "        Perform task Y (only)\n",
        "    else   \n",
        "        Perform task Z (only)\n",
        "\n",
        "The above is an 'if' statement. Another type of control statement is\n",
        "\n",
        "    do task X 10 times\n",
        "    \n",
        "We make this concrete below with some examples."
      ]
    },
    {
      "metadata": {
        "id": "uvUwJ7N-OWLz",
        "colab_type": "text"
      },
      "cell_type": "markdown",
      "source": [
        "## `if` statements\n",
        "\n",
        "Below is a simple example that demonstrates the Python syntax for an if-else control statement. \n",
        "For a value assigned to a variable `x`, the program prints a message and modifies `x`.\n",
        "The message and the modification of `x` depend on the initial value of `x`:"
      ]
    },
    {
      "metadata": {
        "trusted": true,
        "id": "J99nHEbLOWL0",
        "colab_type": "code",
        "colab": {},
        "outputId": "972383ff-4428-4e18-92b9-2350387019d9"
      },
      "cell_type": "code",
      "source": [
        "x = -10.0  # Initial x value\n",
        "\n",
        "if x > 0.0:  \n",
        "    print('Initial x is greater than zero')\n",
        "    x -= 20.0\n",
        "elif x < 0.0:  \n",
        "    print('Initial x is less than zero')\n",
        "    x += 21.0\n",
        "else: \n",
        "    print('Initial x is not less than zero and not greater than zero, therefore it must be zero')\n",
        "    x *= 2.5\n",
        "\n",
        "# Print new x value\n",
        "print(\"New x value:\", x)"
      ],
      "execution_count": 0,
      "outputs": [
        {
          "output_type": "stream",
          "text": [
            "Initial x is less than zero\n",
            "New x value: 11.0\n"
          ],
          "name": "stdout"
        }
      ]
    },
    {
      "metadata": {
        "id": "Na2Ch6EwOWL3",
        "colab_type": "text"
      },
      "cell_type": "markdown",
      "source": [
        "Try changing the value of `x` and re-running the cell to see the different paths the code can follow."
      ]
    },
    {
      "metadata": {
        "id": "iIQnzJ5WOWL4",
        "colab_type": "text"
      },
      "cell_type": "markdown",
      "source": [
        "We now dissect the control statement example. The control statement begins with an `if`, followed by the expression to check, followed by '`:`'\n",
        "```python\n",
        "if x > 0.0:\n",
        "```\n",
        "Below that is a block of code, indented by four spaces, that is executed if the check (`x > 0.0`) is true:\n",
        "````python\n",
        "    print('Initial x is greater than zero')\n",
        "    x -= 20.0\n",
        "````\n",
        "and in which case the program will then move beyond the end of the control statement. If the check evaluates to false, then the `elif` (else if) check  \n",
        "```python\n",
        "elif x < 0.0:\n",
        "    print('Initial x is less than zero')\n",
        "    x += 21.0\n",
        "```      \n",
        "is performed, and if true '`print('x is less than zero')`' is executed and the control block is exited. The code following the `else` statement is executed\n",
        "```python\n",
        "else:\n",
        "    print('Initial x is not less than zero and not greater than zero, therefore it must be zero')\n",
        "```\n",
        "if none of the preceding statements were true."
      ]
    },
    {
      "metadata": {
        "id": "ubpw2DmMOWL5",
        "colab_type": "text"
      },
      "cell_type": "markdown",
      "source": [
        "### Example: currency trading\n",
        "\n",
        "A currency trader makes a commission by selling US dollars to travellers at a rate below the market rate. The mark-down multiplier they apply is show below.  \n",
        "\n",
        "|Amount (GBP)                                |reduction on market rate |\n",
        "|--------------------------------------------|-------------------------|\n",
        "| Less than $100$                            | 0.9                     |   \n",
        "| From $100$ and less than $1 000$           | 0.925                   |   \n",
        "| From $1 000$ and less than $10 000$        | 0.95                    |   \n",
        "| From $10 000$ and less than $100 000$      | 0.97                    |   \n",
        "| Over $100 000$                             | 0.98                    |   \n",
        "\n",
        "The currency trader incurs extra costs for handling cash over electronic transactions, so for cash transactions they retain an extra 10% after conversion. \n",
        "\n",
        "At the current market rate 1 GBP is 1.33153 USD."
      ]
    },
    {
      "metadata": {
        "trusted": true,
        "id": "0XAv0ZItOWL6",
        "colab_type": "code",
        "colab": {},
        "outputId": "0c042885-389e-46b9-ecb3-39c2a04a1b60"
      },
      "cell_type": "code",
      "source": [
        "GBP  = 15600.05  # The amount in GBP to be changed into USD\n",
        "cash = True  # True if selling cash, otherwise False\n",
        "\n",
        "market_rate = 1.33153  # 1 GBP is worth this many dollars at the market rate\n",
        "\n",
        "# Apply the appropriate reduction depending on the amount being sold\n",
        "if GBP < 100:\n",
        "    USD = 0.9*market_rate*GBP\n",
        "elif GBP < 1000:  \n",
        "    USD = 0.925*market_rate*GBP\n",
        "elif GBP < 10000:\n",
        "    USD = 0.95*market_rate*GBP\n",
        "elif GBP < 100000:\n",
        "    USD = 0.97*market_rate*GBP\n",
        "else:\n",
        "    USD = 0.98*market_rate*GBP\n",
        "\n",
        "if cash:\n",
        "    USD *= 0.9  # recall that this is shorthand for USD = 0.9*USD \n",
        "    \n",
        "print(\"Amount in GBP sold:\", GBP)\n",
        "print(\"Amount in USD purchased:\", USD)\n",
        "print(\"Effective rate:\", USD/GBP)"
      ],
      "execution_count": 0,
      "outputs": [
        {
          "output_type": "stream",
          "text": [
            "Amount in GBP sold: 15600.05\n",
            "Amount in USD purchased: 18133.898885284503\n",
            "Effective rate: 1.1624256900000003\n"
          ],
          "name": "stdout"
        }
      ]
    },
    {
      "metadata": {
        "id": "ePkf8Q4rOWL9",
        "colab_type": "text"
      },
      "cell_type": "markdown",
      "source": [
        "## `for` loops\n",
        "\n",
        "A `for` loop is a block that repeats an operation a specified number of times (loops). The concept is rich, but we start with the simplest and most common usage:"
      ]
    },
    {
      "metadata": {
        "trusted": true,
        "id": "hETPwbbMOWL-",
        "colab_type": "code",
        "colab": {},
        "outputId": "cbbca360-8666-46d8-a57a-90b2129da743"
      },
      "cell_type": "code",
      "source": [
        "for n in range(4):\n",
        "    print(\"----\")\n",
        "    print(n, n**2)"
      ],
      "execution_count": 0,
      "outputs": [
        {
          "output_type": "stream",
          "text": [
            "----\n",
            "0 0\n",
            "----\n",
            "1 1\n",
            "----\n",
            "2 4\n",
            "----\n",
            "3 9\n"
          ],
          "name": "stdout"
        }
      ]
    },
    {
      "metadata": {
        "id": "KtNPsLDYOWMB",
        "colab_type": "text"
      },
      "cell_type": "markdown",
      "source": [
        "The above executes 4 loops, over the integers 0, 1, 2 and 3. The statement \n",
        "```python\n",
        "for n in range(4):\n",
        "```\n",
        "says that we want to loop over four integers, and by default it starts from zero\n",
        "(see https://docs.python.org/3/library/stdtypes.html#range for the documentation for `range`). \n",
        "The value of `n` is incremented in each loop iteration. The code we want to execute inside the loop is indented four spaces: \n",
        "```python\n",
        "    print(\"----\")\n",
        "    print(n, n**2)\n",
        "```\n",
        "The loop starts from zero and does not include 4 - `range(4)` is a shortcut for `range(0, 4)`. We can change the starting value if we need to:"
      ]
    },
    {
      "metadata": {
        "trusted": true,
        "id": "_dGCI-JMOWMC",
        "colab_type": "code",
        "colab": {},
        "outputId": "adc6462f-e7f0-40a2-9943-17ba44cbf529"
      },
      "cell_type": "code",
      "source": [
        "for i in range(-2, 3):\n",
        "    print(i)"
      ],
      "execution_count": 0,
      "outputs": [
        {
          "output_type": "stream",
          "text": [
            "-2\n",
            "-1\n",
            "0\n",
            "1\n",
            "2\n"
          ],
          "name": "stdout"
        }
      ]
    },
    {
      "metadata": {
        "id": "AMGCxOIJOWMF",
        "colab_type": "text"
      },
      "cell_type": "markdown",
      "source": [
        "The loop starts at -2, but does not include 3. If we want to step by three rather than one:"
      ]
    },
    {
      "metadata": {
        "trusted": true,
        "id": "m5jgWboFOWMG",
        "colab_type": "code",
        "colab": {},
        "outputId": "d0dec2c0-cf1d-4cc8-ac60-a093d8d9988c"
      },
      "cell_type": "code",
      "source": [
        "for n in range(0, 10, 3):\n",
        "    print(n)"
      ],
      "execution_count": 0,
      "outputs": [
        {
          "output_type": "stream",
          "text": [
            "0\n",
            "3\n",
            "6\n",
            "9\n"
          ],
          "name": "stdout"
        }
      ]
    },
    {
      "metadata": {
        "id": "SCH732G9OWMJ",
        "colab_type": "text"
      },
      "cell_type": "markdown",
      "source": [
        "### Example: conversion table from degrees Fahrenheit to degrees Celsius\n",
        "\n",
        "We can use a `for` loop to create a conversion table from degrees Fahrenheit ($T_F$) to degrees Celsius ($T_c$), using the formula:\n",
        "\n",
        "$$\n",
        "T_c = 5(T_f - 32)/9\n",
        "$$\n",
        "\n",
        "Computing the conversion from -100 F to 200 F in steps of 20 F (not including 200 F):"
      ]
    },
    {
      "metadata": {
        "trusted": true,
        "id": "16pahYzdOWMK",
        "colab_type": "code",
        "colab": {},
        "outputId": "13335827-fac5-4af3-be33-1e93d7c71e09"
      },
      "cell_type": "code",
      "source": [
        "print(\"T_f,    T_c\")\n",
        "for Tf in range(-100, 200, 20):\n",
        "    print(Tf, (Tf - 32)*5/9)"
      ],
      "execution_count": 0,
      "outputs": [
        {
          "output_type": "stream",
          "text": [
            "T_f,    T_c\n",
            "-100 -73.33333333333333\n",
            "-80 -62.22222222222222\n",
            "-60 -51.111111111111114\n",
            "-40 -40.0\n",
            "-20 -28.88888888888889\n",
            "0 -17.77777777777778\n",
            "20 -6.666666666666667\n",
            "40 4.444444444444445\n",
            "60 15.555555555555555\n",
            "80 26.666666666666668\n",
            "100 37.77777777777778\n",
            "120 48.888888888888886\n",
            "140 60.0\n",
            "160 71.11111111111111\n",
            "180 82.22222222222223\n"
          ],
          "name": "stdout"
        }
      ]
    },
    {
      "metadata": {
        "id": "6M9HQoEuOWMM",
        "colab_type": "text"
      },
      "cell_type": "markdown",
      "source": [
        "## `while` loops\n",
        "\n",
        "We have seen that `for` loops perform an operation a specified number of times. A `while` loop performs a task while a specified statement is true. For example:"
      ]
    },
    {
      "metadata": {
        "trusted": true,
        "id": "s1V7UQbBOWMO",
        "colab_type": "code",
        "colab": {},
        "outputId": "333a005b-2db0-4e55-e77b-62b33d767ca0"
      },
      "cell_type": "code",
      "source": [
        "print(\"Start of while statement\")\n",
        "x = -2\n",
        "while x < 5:\n",
        "    print(x)\n",
        "    x += 1  # Increment x\n",
        "print(\"End of while statement\")"
      ],
      "execution_count": 0,
      "outputs": [
        {
          "output_type": "stream",
          "text": [
            "Start of while statement\n",
            "-2\n",
            "-1\n",
            "0\n",
            "1\n",
            "2\n",
            "3\n",
            "4\n",
            "End of while statement\n"
          ],
          "name": "stdout"
        }
      ]
    },
    {
      "metadata": {
        "id": "6x9DnatoOWMR",
        "colab_type": "text"
      },
      "cell_type": "markdown",
      "source": [
        "The body of the `while` statement, which follows the `while` statement and is indented four spaces, is executed and repeated until `x < 5` is `False`.\n",
        "\n",
        "It can be quite easy to crash your computer using a `while` loop. E.g.,\n",
        "```python\n",
        "x = -2\n",
        "while x < 5:\n",
        "    print(x)\n",
        "```\n",
        "will continue indefinitely since `x < 5 == False`  will never be satisfied. This is known as an *infinite loop*. It is usually good practice to add checks to avoid getting stuck in an infinite loop, e.g. specify a maximum number of permitted loops.\n",
        "\n",
        "The above example could have been implemented using a `for` loop and a `for` loop would be preferred in this case. The following is an example of where a `while` is appropriate:"
      ]
    },
    {
      "metadata": {
        "trusted": true,
        "id": "xEI1Fz8SOWMS",
        "colab_type": "code",
        "colab": {},
        "outputId": "d159bf1b-4ed9-4f43-a5fa-0a4c94598fd7"
      },
      "cell_type": "code",
      "source": [
        "x = 0.9\n",
        "while x > 0.001:\n",
        "    # Square x (we could have used the shorthand x *= x)\n",
        "    x = x*x\n",
        "    print(x)"
      ],
      "execution_count": 0,
      "outputs": [
        {
          "output_type": "stream",
          "text": [
            "0.81\n",
            "0.6561000000000001\n",
            "0.43046721000000016\n",
            "0.18530201888518424\n",
            "0.03433683820292518\n",
            "0.001179018457773862\n",
            "1.390084523771456e-06\n"
          ],
          "name": "stdout"
        }
      ]
    },
    {
      "metadata": {
        "id": "Ys4TZ1F5OWMU",
        "colab_type": "text"
      },
      "cell_type": "markdown",
      "source": [
        "since we might not know beforehand how many steps are required before `x > 0.001` becomes false. \n",
        "\n",
        "If $x \\ge 1$, the above would lead to an infinite loop. To make a code robust, it would be good practice to check that $x < 1$ before entering the `while` loop."
      ]
    },
    {
      "metadata": {
        "id": "xc_R8H21OWMX",
        "colab_type": "text"
      },
      "cell_type": "markdown",
      "source": [
        "## `break`, `continue` and `pass`\n",
        "\n",
        "### `break`\n",
        "\n",
        "Sometimes we want to break out of a `for` or `while` loop. Maybe in a `for` loop we can check if something is true, and then exit the loop prematurely, e.g."
      ]
    },
    {
      "metadata": {
        "trusted": true,
        "id": "v_Mqs_RDOWMX",
        "colab_type": "code",
        "colab": {},
        "outputId": "ca64fe55-0647-4c99-96c7-8507c42e518f"
      },
      "cell_type": "code",
      "source": [
        "for x in range(10):\n",
        "    print(x)\n",
        "    if x == 5:\n",
        "        print(\"Time to break out\")\n",
        "        break"
      ],
      "execution_count": 0,
      "outputs": [
        {
          "output_type": "stream",
          "text": [
            "0\n",
            "1\n",
            "2\n",
            "3\n",
            "4\n",
            "5\n",
            "Time to break out\n"
          ],
          "name": "stdout"
        }
      ]
    },
    {
      "metadata": {
        "id": "7aLIKsD5OWMd",
        "colab_type": "text"
      },
      "cell_type": "markdown",
      "source": [
        "Below is a program for finding prime numbers that uses a `break` statement. Take some time to understand what it does. It might be helpful to add some print statements to understand the flow."
      ]
    },
    {
      "metadata": {
        "trusted": true,
        "id": "hUSrv-fdOWMe",
        "colab_type": "code",
        "colab": {},
        "outputId": "5d8ae35c-5ce0-4677-ac26-ae74b32a8ef4"
      },
      "cell_type": "code",
      "source": [
        "N = 50  # Check numbers up 50 for primes (excludes 50)\n",
        "\n",
        "# Loop over all numbers from 2 to 50 (excluding 50)\n",
        "for n in range(2, N):\n",
        "\n",
        "    # Assume that n is prime\n",
        "    n_is_prime = True\n",
        "\n",
        "    # Check if n can be divided by m, where m ranges from 2 to n (excluding n)\n",
        "    for m in range(2, n):\n",
        "         if n % m == 0:  # This is true if the remainder for n/m is equal to zero\n",
        "            # We've found that n is divisable by m, so it can't be a prime number. \n",
        "            # No need to check for more values of m, so set n_is_prime = False and\n",
        "            # exit the 'm' loop.\n",
        "            n_is_prime = False\n",
        "            break\n",
        "\n",
        "    #  If n is prime, print to screen        \n",
        "    if n_is_prime:\n",
        "        print(n)"
      ],
      "execution_count": 0,
      "outputs": [
        {
          "output_type": "stream",
          "text": [
            "2\n",
            "3\n",
            "5\n",
            "7\n",
            "11\n",
            "13\n",
            "17\n",
            "19\n",
            "23\n",
            "29\n",
            "31\n",
            "37\n",
            "41\n",
            "43\n",
            "47\n"
          ],
          "name": "stdout"
        }
      ]
    },
    {
      "metadata": {
        "id": "iHLVgj8COWMg",
        "colab_type": "text"
      },
      "cell_type": "markdown",
      "source": [
        "Try modifying the code for finding prime numbers such that it finds the first $N$ prime numbers (since you do not know how many numbers you need to check to find $N$ primes, use a `while` loop)."
      ]
    },
    {
      "metadata": {
        "id": "p_s6wsolOWMg",
        "colab_type": "text"
      },
      "cell_type": "markdown",
      "source": [
        "### `continue`\n",
        "\n",
        "Sometimes we want to go prematurely to the next iteration in a loop, skipping the remaining code.\n",
        "For this we use `continue`. Here is an example that loops over 20 numbers (0 to 19) and checks if the number is divisible by 4. If it is divisible by 4 it prints a message before moving to the next value. If it is not divisible by 4 it advances the loop. "
      ]
    },
    {
      "metadata": {
        "trusted": true,
        "id": "yDTSTPuXOWMh",
        "colab_type": "code",
        "colab": {},
        "outputId": "ea9679ef-dd05-40ec-b3e1-5e957f2c626d"
      },
      "cell_type": "code",
      "source": [
        "for j in range(20):\n",
        "    if j % 4 == 0:  # Check remained of j/4\n",
        "        continue  # jump to next iteration over j\n",
        "    print(\"Number is not divisible by 4:\", j)"
      ],
      "execution_count": 0,
      "outputs": [
        {
          "output_type": "stream",
          "text": [
            "Number is not divisible by 4: 1\n",
            "Number is not divisible by 4: 2\n",
            "Number is not divisible by 4: 3\n",
            "Number is not divisible by 4: 5\n",
            "Number is not divisible by 4: 6\n",
            "Number is not divisible by 4: 7\n",
            "Number is not divisible by 4: 9\n",
            "Number is not divisible by 4: 10\n",
            "Number is not divisible by 4: 11\n",
            "Number is not divisible by 4: 13\n",
            "Number is not divisible by 4: 14\n",
            "Number is not divisible by 4: 15\n",
            "Number is not divisible by 4: 17\n",
            "Number is not divisible by 4: 18\n",
            "Number is not divisible by 4: 19\n"
          ],
          "name": "stdout"
        }
      ]
    },
    {
      "metadata": {
        "id": "gttwmxyLOWMk",
        "colab_type": "text"
      },
      "cell_type": "markdown",
      "source": [
        "### `pass`\n",
        "\n",
        "Sometimes we need a statement that does nothing. It is often used during development where syntactically some code is required but which you have not yet written. For example:  "
      ]
    },
    {
      "metadata": {
        "trusted": true,
        "id": "KZY7hwSKOWMl",
        "colab_type": "code",
        "colab": {},
        "outputId": "c04e7ec8-0188-474f-f1b2-150f67e6acfd"
      },
      "cell_type": "code",
      "source": [
        "for x in range(10):\n",
        "    if x < 5:\n",
        "        # TODO: implement handling of x < 5 when other cases finished \n",
        "        pass\n",
        "    elif x < 9:\n",
        "        print(x*x)\n",
        "    else:\n",
        "        print(x)"
      ],
      "execution_count": 0,
      "outputs": [
        {
          "output_type": "stream",
          "text": [
            "25\n",
            "36\n",
            "49\n",
            "64\n",
            "9\n"
          ],
          "name": "stdout"
        }
      ]
    },
    {
      "metadata": {
        "id": "m9nsB5KVOWMo",
        "colab_type": "text"
      },
      "cell_type": "markdown",
      "source": [
        "It can also help readability. Maybe in a program there is nothing to be done, but someone reading the code might reasonably think that something should be done and suspect a bug. Using `pass` says to the reader that it was the programmer's intention that nothing should be done."
      ]
    },
    {
      "metadata": {
        "id": "sJIFXHnKOWMo",
        "colab_type": "text"
      },
      "cell_type": "markdown",
      "source": [
        "## Infinite loops: cause and guarding against\n",
        "\n",
        "A common bug, especially when using `while` statements, is the [infinite loop](https://en.wikipedia.org/wiki/Infinite_loop). This is when a loop is entered but never terminates (exits).\n",
        "Infinite loops can render a system unresponsive, sometimes requiring a shutdown to restore function.\n",
        "\n",
        "It is good practice, espeically when learning, to add guards against infinite loops. For example, "
      ]
    },
    {
      "metadata": {
        "trusted": true,
        "id": "RZK-86wMOWMp",
        "colab_type": "code",
        "colab": {},
        "outputId": "fcf0e8a6-b16f-4bd9-d671-47f49aa54be9"
      },
      "cell_type": "code",
      "source": [
        "x = 0.0\n",
        "\n",
        "counter = 0\n",
        "while x < 0.05:\n",
        "\n",
        "    # Guard against infinite loop\n",
        "    counter += 1\n",
        "    if counter > 2000:\n",
        "        print(\"Loop count exceeded 2000. Exiting\")\n",
        "        break"
      ],
      "execution_count": 0,
      "outputs": [
        {
          "output_type": "stream",
          "text": [
            "Loop count exceeded 2000. Exiting\n"
          ],
          "name": "stdout"
        }
      ]
    },
    {
      "metadata": {
        "id": "zG02ObDQOWMr",
        "colab_type": "text"
      },
      "cell_type": "markdown",
      "source": [
        "# Exercises\n",
        "\n",
        "Complete now the [02 Exercises](Exercises/02%20Exercises.ipynb) notebook."
      ]
    }
  ]
}