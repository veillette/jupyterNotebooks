{
  "nbformat": 4,
  "nbformat_minor": 0,
  "metadata": {
    "colab": {
      "name": "05 Library functions.ipynb",
      "version": "0.3.2",
      "provenance": []
    },
    "kernelspec": {
      "name": "python3",
      "display_name": "Python 3",
      "language": "python"
    }
  },
  "cells": [
    {
      "metadata": {
        "id": "F1ZQShx4SCpR",
        "colab_type": "text"
      },
      "cell_type": "markdown",
      "source": [
        "# Introduction\n",
        "\n",
        "A feature of modern programming languages is an extensive library of standard functions. This means that we can make use of standard, well-tested and optimised functions\n",
        "for performing common tasks rather than writing our own. This makes our programs shorter and of higher quality, and in most cases faster.\n",
        "\n",
        "\n",
        "\n",
        "## Objectives\n",
        "\n",
        "- Introduce use of standard library functions\n",
        "- Importing and using modules\n",
        "- Introduction to namespaces\n",
        "- Print formatting of floats"
      ]
    },
    {
      "metadata": {
        "id": "EYtMAombSCpU",
        "colab_type": "text"
      },
      "cell_type": "markdown",
      "source": [
        "# The standard library\n",
        "\n",
        "You have already used some standard library types and functions. In previous activities we have used built-in types like `string` and `float`, and the function `abs` for absolute value. We have made use of the standard library function `print` to display to the screen.\n",
        "\n",
        "Python has a large standard library. To organise it, most functionality is arranged into 'modules', with each module providing a range of related functions. Before you program a function, check if there is a library function that can perform the task. The Python standard library is documented at https://docs.python.org/3/library/.\n",
        "Search engines are a good way to find library functions, e.g. entering \"Is there a Python function to compute the hyperbolic tangent of a complex number\" into a search engine will take you to the function `cmath.tanh`."
      ]
    },
    {
      "metadata": {
        "id": "BN-sy2p-SCpU",
        "colab_type": "text"
      },
      "cell_type": "markdown",
      "source": [
        "# Other libraries\n",
        "\n",
        "The standard library tools are general purpose and will be available in any Python environment.\n",
        "Specialised tools are usually made available in other libraries (modules). There is a huge range of Python libraries available for specialised problems. We have already used some parts\n",
        "of NumPy (http://www.numpy.org/), which is a specialised library for numerical computation. \n",
        "It provides much the same functionality as MATLAB. \n",
        "\n",
        "The simplest way to install a non-standard library is using the command `pip`. From the command line, the library NumPy is installed using:\n",
        "\n",
        "    pip install numpy\n",
        "    \n",
        "and from inside a Jupyter notebook use:\n",
        "\n",
        "    !pip install numpy\n",
        "\n",
        "NumPy is so commonly used it is probably already installed on computers you will be using.\n",
        "You will see `pip` being used in some later notebooks to install special-purpose tools.\n",
        "\n",
        "When developing programs outside of learning exercises,\n",
        "if there is a no standard library module for a problem you are trying to solve, \n",
        "search online for a module before implementing your own."
      ]
    },
    {
      "metadata": {
        "id": "lg5as_X9SCpV",
        "colab_type": "text"
      },
      "cell_type": "markdown",
      "source": [
        "# Using library functions: `math` example\n",
        "\n",
        "To use a function from a module we need to make it available in our program. \n",
        "This is called 'importing'. We have done this in previous notebooks with the `math` module, but without explanation. The process is explained below.\n",
        "\n",
        "The `math` module (https://docs.python.org/3/library/math.html) provides a wide range of mathematical functions. For example, to compute the square root of a number, we do:"
      ]
    },
    {
      "metadata": {
        "trusted": true,
        "id": "XDaq-Lf1SCpW",
        "colab_type": "code",
        "colab": {},
        "outputId": "a235682b-3747-4a88-cdac-01155d9aec0d"
      },
      "cell_type": "code",
      "source": [
        "import math\n",
        "\n",
        "x = 2.0\n",
        "x = math.sqrt(x)\n",
        "print(x)"
      ],
      "execution_count": 0,
      "outputs": [
        {
          "output_type": "stream",
          "text": [
            "1.4142135623730951\n"
          ],
          "name": "stdout"
        }
      ]
    },
    {
      "metadata": {
        "id": "6VjxqPRDSCpd",
        "colab_type": "text"
      },
      "cell_type": "markdown",
      "source": [
        "Dissecting the above code block, the line \n",
        "```python\n",
        "import math \n",
        "```\n",
        "makes the math module available in our program. It is good style to put all `import` statements at the top of a file (or at the top of a cell when using a Jupyter notebook). \n",
        "\n",
        "The function call\n",
        "```python\n",
        "x = math.sqrt(x)\n",
        "```    \n",
        "says 'use the `sqrt` function from the `math` module to compute the square root'.\n",
        "\n",
        "By prefixing `sqrt` with `math`, we are using a *namespace* (which in this case is `math`).\n",
        "This makes clear precisely which `sqrt` function we want to use - there could be more than one `sqrt` function available.\n",
        "\n",
        "> *Namespaces:* The prefix '`math`' indicates which '`sqrt`' function we want to use. This\n",
        "might seem pedantic, but in practice there are often different algorithms for performing the same or similar  operation. They might vary in speed and accuracy. In some applications we might need an accurate (but slow)  method for computing the square root, while for other applications we might need speed with a compromise on accuracy. But, if two functions have the same name and are not distinguished by a name space, we have a *name clash*.\n",
        "\n",
        "> In a large program, two developers might choose the same name for two functions that perform similar but slightly different tasks. If these functions are in different modules, there will be no name clash since the module name provides a 'namespace'  - a prefix that provides a distinction between the two functions. Namespaces are extremely helpful for multi-author programs. A weakness of older languages, like C and Fortran, is that they do not support namespaces. Most modern languages do support namespaces.  \n",
        "\n",
        "We can import specific functions from a module, e.g. importing only the `sqrt` function:"
      ]
    },
    {
      "metadata": {
        "trusted": true,
        "id": "k_2JVLfpSCpe",
        "colab_type": "code",
        "colab": {},
        "outputId": "f5e8369f-eba6-4688-ae9f-834eab327ef8"
      },
      "cell_type": "code",
      "source": [
        "from math import sqrt\n",
        "\n",
        "x = 2.0\n",
        "x = sqrt(x)\n",
        "print(x)"
      ],
      "execution_count": 0,
      "outputs": [
        {
          "output_type": "stream",
          "text": [
            "1.4142135623730951\n"
          ],
          "name": "stdout"
        }
      ]
    },
    {
      "metadata": {
        "id": "nAwboT5zSCph",
        "colab_type": "text"
      },
      "cell_type": "markdown",
      "source": [
        "This way, we are importing (making available) only the `sqrt` function from the `math` module (the `math` module has a large number of functions).\n",
        "\n",
        "We can even choose to re-name functions that we import:"
      ]
    },
    {
      "metadata": {
        "trusted": true,
        "id": "O5gmZ-wQSCpj",
        "colab_type": "code",
        "colab": {},
        "outputId": "8191b331-740a-4b81-8915-4089090af90a"
      },
      "cell_type": "code",
      "source": [
        "from math import sqrt as some_math_function \n",
        "\n",
        "x = 2.0\n",
        "x = some_math_function(x)\n",
        "print(x)"
      ],
      "execution_count": 0,
      "outputs": [
        {
          "output_type": "stream",
          "text": [
            "1.4142135623730951\n"
          ],
          "name": "stdout"
        }
      ]
    },
    {
      "metadata": {
        "id": "LEmGU5HWSCpm",
        "colab_type": "text"
      },
      "cell_type": "markdown",
      "source": [
        "Renaming functions at import can be helpful to keep code short, and we will see below it can be useful for switching between different functions.\n",
        "However the above choice of name is very poor practice - the name '`some_math_function`' is not descriptive.\n",
        "Below is a more sensible example."
      ]
    },
    {
      "metadata": {
        "id": "H0YJIez7SCpn",
        "colab_type": "text"
      },
      "cell_type": "markdown",
      "source": [
        "Say we program a function that computes the roots of a quadratic function using the quadratic formula:"
      ]
    },
    {
      "metadata": {
        "trusted": true,
        "id": "d5G6rbgDSCpo",
        "colab_type": "code",
        "colab": {},
        "outputId": "fdfe9499-0a7d-41ad-8d42-2318d658358f"
      },
      "cell_type": "code",
      "source": [
        "from math import sqrt as square_root\n",
        "\n",
        "def compute_roots(a, b, c):\n",
        "    \"Compute roots of the polynomial f(x) = ax^2 + bx + c\"\n",
        "    \n",
        "    root0 = (-b + square_root(b*b - 4*a*c))/(2*a)\n",
        "    root1 = (-b - square_root(b*b - 4*a*c))/(2*a)\n",
        "    \n",
        "    return root0, root1\n",
        "\n",
        "# Compute roots of f = 4x^2 + 10x + 1\n",
        "root0, root1 = compute_roots(4, 10, 1)\n",
        "print(root0, root1)"
      ],
      "execution_count": 0,
      "outputs": [
        {
          "output_type": "stream",
          "text": [
            "-0.10435607626104004 -2.3956439237389597\n"
          ],
          "name": "stdout"
        }
      ]
    },
    {
      "metadata": {
        "id": "wtmSU7YUSCps",
        "colab_type": "text"
      },
      "cell_type": "markdown",
      "source": [
        "The above is fine as long as the polynomial has real roots. However, the function `math.sqrt` \n",
        "will give an error (technically, it will 'raise an exception') if a negative argument is passed to it. This is to stop naive programmers from making silly mistakes.\n",
        "\n",
        "We do know about complex numbers, so we want to compute complex roots. The Python module `cmath` provides functions for complex numbers. If we were to use `cmath.sqrt` to compute the square root, our function would support complex roots. We do this by importing the `cmath.sqrt` functions as `square_root`:"
      ]
    },
    {
      "metadata": {
        "trusted": true,
        "id": "zHQF740tSCpt",
        "colab_type": "code",
        "colab": {},
        "outputId": "f1b677fd-d788-42c4-d77f-af78ac3a3011"
      },
      "cell_type": "code",
      "source": [
        "# Use the function from cmath as square_root to compute the square root\n",
        "# (this will replace the previously imported sqrt function)\n",
        "from cmath import sqrt as square_root\n",
        "\n",
        "# Compute roots (roots will be complex in this case)\n",
        "root0, root1 = compute_roots(40, 10, 1)\n",
        "print(root0, root1)\n",
        "\n",
        "# Compute roots (roots will be real in this case, but cmath.sqrt always returns a complex type)\n",
        "root0, root1 = compute_roots(4, 10, 1)\n",
        "print(root0, root1)"
      ],
      "execution_count": 0,
      "outputs": [
        {
          "output_type": "stream",
          "text": [
            "(-0.125+0.09682458365518543j) (-0.125-0.09682458365518543j)\n",
            "(-0.10435607626104004+0j) (-2.3956439237389597+0j)\n"
          ],
          "name": "stdout"
        }
      ]
    },
    {
      "metadata": {
        "id": "8uJOcvEmSCpx",
        "colab_type": "text"
      },
      "cell_type": "markdown",
      "source": [
        "The function now works for all cases because `square_root` is now using `cmath.sqrt`. Note that `cmath.sqrt` always returns a complex number type, even when the complex part is zero."
      ]
    },
    {
      "metadata": {
        "id": "rAwPMeqTSCpy",
        "colab_type": "text"
      },
      "cell_type": "markdown",
      "source": [
        "# String functions and string formatting\n",
        "\n",
        "A standard function that we have used since the beginning is '`print`'. This function turns arguments into a string and displays the string to the screen. So far, we have only printed simple variables and relied mostly on the default conversions to a string for printing to the screen (the exception was printing the floating point representation of 0.1, where we needed to specify the number of significant digits to see the inexact representation in binary)."
      ]
    },
    {
      "metadata": {
        "id": "DcmceeLjSCpz",
        "colab_type": "text"
      },
      "cell_type": "markdown",
      "source": [
        "## Formatting\n",
        "\n",
        "We can control how strings are formatted and displayed. Below is an example of inserting a string variable and a number variable into a string of characters:"
      ]
    },
    {
      "metadata": {
        "trusted": true,
        "id": "GFYIbYQBSCp0",
        "colab_type": "code",
        "colab": {},
        "outputId": "d7efedcc-60b8-4136-c08a-876bf92abcd1"
      },
      "cell_type": "code",
      "source": [
        "# Format a string with name and age\n",
        "name = \"Amber\"\n",
        "age = 19\n",
        "text_string = \"My name is {} and I am {} years old.\".format(name, age)\n",
        "\n",
        "# Print to screen \n",
        "print(text_string)\n",
        "\n",
        "# Short-cut for printing without assignment\n",
        "name = \"Ashley\"\n",
        "age = 21\n",
        "print(\"My name is {} and I am {} years old.\".format(name, age))"
      ],
      "execution_count": 0,
      "outputs": [
        {
          "output_type": "stream",
          "text": [
            "My name is Amber and I am 19 years old.\n",
            "My name is Ashley and I am 21 years old.\n"
          ],
          "name": "stdout"
        }
      ]
    },
    {
      "metadata": {
        "id": "sDKR_abZSCp3",
        "colab_type": "text"
      },
      "cell_type": "markdown",
      "source": [
        "For floating-point numbers, we often want to control the formatting, and in particular the number of significant figures displayed. Using the display of $\\pi$ as an example: "
      ]
    },
    {
      "metadata": {
        "trusted": true,
        "id": "vt8apWI9SCp4",
        "colab_type": "code",
        "colab": {},
        "outputId": "af1eaf6e-1133-4ef8-e40a-0c15537f359b"
      },
      "cell_type": "code",
      "source": [
        "# Import math module to get access to math.pi\n",
        "import math\n",
        "\n",
        "# Default formatting\n",
        "print(\"The value of π using the default formatting is: {}\".format(math.pi))\n",
        "\n",
        "# Control number of significant figures in formatting\n",
        "print(\"The value of π to 5 significant figures is: {:.5}\".format(math.pi))\n",
        "print(\"The value of π to 8 significant figures is: {:.8}\".format(math.pi))\n",
        "print(\"The value of π to 20 significant figures and using scientific notation is: {:.20e}\".format(math.pi))"
      ],
      "execution_count": 0,
      "outputs": [
        {
          "output_type": "stream",
          "text": [
            "The value of π using the default formatting is: 3.141592653589793\n",
            "The value of π to 5 significant figures is: 3.1416\n",
            "The value of π to 8 significant figures is: 3.1415927\n",
            "The value of π to 20 significant figures and using scientific notation is: 3.14159265358979311600e+00\n"
          ],
          "name": "stdout"
        }
      ]
    },
    {
      "metadata": {
        "id": "zN8w6z25SCp8",
        "colab_type": "text"
      },
      "cell_type": "markdown",
      "source": [
        "There are many more ways in which float formatting can be controlled - search online if you want to format a float in a particular way.  "
      ]
    },
    {
      "metadata": {
        "id": "_2Wl1YP6SCqj",
        "colab_type": "text"
      },
      "cell_type": "markdown",
      "source": [
        "# Exercises\n",
        "\n",
        "Complete now the [05 Exercises](Exercises/05%20Exercises.ipynb) notebook."
      ]
    }
  ]
}